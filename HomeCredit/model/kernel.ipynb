{
 "cells": [
  {
   "cell_type": "markdown",
   "metadata": {},
   "source": [
    "https://www.kaggle.com/shivamb/homecreditrisk-extensive-eda-baseline-0-772"
   ]
  },
  {
   "cell_type": "markdown",
   "metadata": {
    "_cell_guid": "2c165ea5-9c16-4765-8f70-4643940c927c",
    "_uuid": "81e16db53fe23d7f531511f996eb6624984d980f"
   },
   "source": [
    "# Home Credit Default Risk - Exploration + Baseline Model\n",
    "\n",
    "Many people struggle to get loans due to insufficient or non-existent credit histories. And, unfortunately, this population is often taken advantage of by untrustworthy lenders. Home Credit strives to broaden financial inclusion for the unbanked population by providing a positive and safe borrowing experience. In order to make sure this underserved population has a positive loan experience, Home Credit makes use of a variety of alternative data--including telco and transactional information--to predict their clients' repayment abilities.\n",
    "\n",
    "While Home Credit is currently using various statistical and machine learning methods to make these predictions, they're challenging Kagglers to help them unlock the full potential of their data. Doing so will ensure that clients capable of repayment are not rejected and that loans are given with a principal, maturity, and repayment calendar that will empower their clients to be successful.\n",
    "\n",
    "This is a simple notebook on exploration and baseline model of home credit default risk data \n",
    "\n",
    "**Contents**   \n",
    "[1. Dataset Preparation](#1)    \n",
    "[2. Exploration - Applications Train](#2)  \n",
    "&nbsp;&nbsp;&nbsp;&nbsp; [2.1 Snapshot - Application Train](#2.1)    \n",
    "&nbsp;&nbsp;&nbsp;&nbsp; [2.2 Distribution of Target Variable](#2.2)    \n",
    "&nbsp;&nbsp;&nbsp;&nbsp; [2.3 Applicant's Gender Type](#2.3)    \n",
    "&nbsp;&nbsp;&nbsp;&nbsp; [2.4 Family Status of Applicants who takes the loan](#2.4)  \n",
    "&nbsp;&nbsp;&nbsp;&nbsp; [2.5 Does applicants own Real Estate or Car](#2.5)    \n",
    "&nbsp;&nbsp;&nbsp;&nbsp; [2.6 Suite Type and Income Type of Applicants](#2.6)   \n",
    "&nbsp;&nbsp;&nbsp;&nbsp; [2.7 Applicants Contract Type](#2.7)   \n",
    "&nbsp;&nbsp;&nbsp;&nbsp; [2.8 Education Type and Occupation Type](#2.8)   \n",
    "&nbsp;&nbsp;&nbsp;&nbsp; [2.9 Organization Type and Occupation Type](#2.9)   \n",
    "&nbsp;&nbsp;&nbsp;&nbsp; [2.10 Walls Material, Foundation and House Type](#2.10)   \n",
    "&nbsp;&nbsp;&nbsp;&nbsp; [2.11 Amount Credit Distribution](#2.11)    \n",
    "&nbsp;&nbsp;&nbsp;&nbsp; [2.12 Amount Annuity Distribution - Distribution](#2.12)  \n",
    "&nbsp;&nbsp;&nbsp;&nbsp; [2.13 Amount Goods Price - Distribution](#2.13)   \n",
    "&nbsp;&nbsp;&nbsp;&nbsp; [2.14 Amount Region Population Relative](#2.14)    \n",
    "&nbsp;&nbsp;&nbsp;&nbsp; [2.15 Days Birth - Distribution](#2.15)   \n",
    "&nbsp;&nbsp;&nbsp;&nbsp; [2.16 Days Employed - Distribution](#2.16)    \n",
    "&nbsp;&nbsp;&nbsp;&nbsp; [2.17 Distribution of Num Days Registration](#2.17)  \n",
    "&nbsp;&nbsp;&nbsp;&nbsp; [2.18 Applicants Number of Family Members](#2.18)  \n",
    "&nbsp;&nbsp;&nbsp;&nbsp; [2.19 Applicants Number of Children](#2.19)  \n",
    "[3. Exploration - Bureau Data](#3)  \n",
    "&nbsp;&nbsp;&nbsp;&nbsp; [3.1 Snapshot - Bureau Data](#3)    \n",
    "[4. Exploration - Bureau Balance Data](#4)  \n",
    "&nbsp;&nbsp;&nbsp;&nbsp; [4.1 Snapshot - Bureau Balance Data](#3)     \n",
    "[5. Exploration - Credit Card Balance Data](#5)   \n",
    "&nbsp;&nbsp;&nbsp;&nbsp; [5.1 Snapshot - Credit Card Balance Data](#3)   \n",
    "[6. Exploration - POS Cash Balance Data](#6)   \n",
    "&nbsp;&nbsp;&nbsp;&nbsp; [6.1 Snapshot - POS Cash Balance Data](#3)   \n",
    "[7. Exploration - Previous Application Data](#7)   \n",
    "&nbsp;&nbsp;&nbsp;&nbsp; [7.1 Snapshot - Previous Application Data](#7.1)  \n",
    "&nbsp;&nbsp;&nbsp;&nbsp; [7.2 Contract Status Distribution - Previous Applications](#7.2)  \n",
    "&nbsp;&nbsp;&nbsp;&nbsp; [7.3 Suite Type Distribution - Previous Application](#7.3)    \n",
    "&nbsp;&nbsp;&nbsp;&nbsp; [7.4 Client Type Distribution  - Previous Application](#7.4)    \n",
    "&nbsp;&nbsp;&nbsp;&nbsp; [7.5 Channel Type Distribution - Previous Applications](#7.5)  \n",
    "[8. Exploration - Installation Payments](#8)  \n",
    "&nbsp;&nbsp;&nbsp;&nbsp; [8.1 Snapshot of Installation Payments](#3)  \n",
    "[9. Baseline Model](#9)  \n",
    "&nbsp;&nbsp;&nbsp;&nbsp; [9.1 Dataset Preparation](#9.1)  \n",
    "&nbsp;&nbsp;&nbsp;&nbsp; [9.2 Handelling Categorical Features](#9.2)     \n",
    "&nbsp;&nbsp;&nbsp;&nbsp; [9.3 Create Flat Dataset](#9.3)     \n",
    "&nbsp;&nbsp;&nbsp;&nbsp; [9.4 Validation Sets Preparation](#9.4)    \n",
    "&nbsp;&nbsp;&nbsp;&nbsp; [9.5 Model Fitting](#9.5)    \n",
    "&nbsp;&nbsp;&nbsp;&nbsp; [9.6 Feature Importance](#9.6)    \n",
    "&nbsp;&nbsp;&nbsp;&nbsp; [9.7 Prediction](#9.7)   \n",
    "\n",
    "\n",
    "\n",
    "## <a id=\"1\">1. Dataset Preparation </a>"
   ]
  },
  {
   "cell_type": "code",
   "execution_count": 1,
   "metadata": {
    "_cell_guid": "38416409-89e8-431a-a206-0f78136ac8f2",
    "_kg_hide-input": true,
    "_uuid": "51ee747ada40a7cdfb800dfb02046bc353e5ec66"
   },
   "outputs": [
    {
     "data": {
      "text/html": [
       "<script>requirejs.config({paths: { 'plotly': ['https://cdn.plot.ly/plotly-latest.min']},});if(!window.Plotly) {{require(['plotly'],function(plotly) {window.Plotly=plotly;});}}</script>"
      ],
      "text/vnd.plotly.v1+html": [
       "<script>requirejs.config({paths: { 'plotly': ['https://cdn.plot.ly/plotly-latest.min']},});if(!window.Plotly) {{require(['plotly'],function(plotly) {window.Plotly=plotly;});}}</script>"
      ]
     },
     "metadata": {},
     "output_type": "display_data"
    }
   ],
   "source": [
    "from plotly.offline import init_notebook_mode, iplot\n",
    "from wordcloud import WordCloud\n",
    "import plotly.graph_objs as go\n",
    "import matplotlib.pyplot as plt\n",
    "import plotly.plotly as py\n",
    "from plotly import tools\n",
    "from datetime import date\n",
    "import pandas as pd\n",
    "import numpy as np \n",
    "import seaborn as sns\n",
    "import random \n",
    "import warnings\n",
    "warnings.filterwarnings(\"ignore\")\n",
    "init_notebook_mode(connected=True)\n",
    "\n",
    "path = \"../input/\"\n",
    "\n",
    "def bar_hor(df, col, title, color, w=None, h=None, lm=0, limit=100, return_trace=False, rev=False, xlb = False):\n",
    "    cnt_srs = df[col].value_counts()\n",
    "    yy = cnt_srs.head(limit).index[::-1] \n",
    "    xx = cnt_srs.head(limit).values[::-1] \n",
    "    if rev:\n",
    "        yy = cnt_srs.tail(limit).index[::-1] \n",
    "        xx = cnt_srs.tail(limit).values[::-1] \n",
    "    if xlb:\n",
    "        trace = go.Bar(y=xlb, x=xx, orientation = 'h', marker=dict(color=color))\n",
    "    else:\n",
    "        trace = go.Bar(y=yy, x=xx, orientation = 'h', marker=dict(color=color))\n",
    "    if return_trace:\n",
    "        return trace \n",
    "    layout = dict(title=title, margin=dict(l=lm), width=w, height=h)\n",
    "    data = [trace]\n",
    "    fig = go.Figure(data=data, layout=layout)\n",
    "    iplot(fig)\n",
    "\n",
    "def bar_hor_noagg(x, y, title, color, w=None, h=None, lm=0, limit=100, rt=False):\n",
    "    trace = go.Bar(y=x, x=y, orientation = 'h', marker=dict(color=color))\n",
    "    if rt:\n",
    "        return trace\n",
    "    layout = dict(title=title, margin=dict(l=lm), width=w, height=h)\n",
    "    data = [trace]\n",
    "    fig = go.Figure(data=data, layout=layout)\n",
    "    iplot(fig)\n",
    "\n",
    "\n",
    "def bar_ver_noagg(x, y, title, color, w=None, h=None, lm=0, rt = False):\n",
    "    trace = go.Bar(y=y, x=x, marker=dict(color=color))\n",
    "    if rt:\n",
    "        return trace\n",
    "    layout = dict(title=title, margin=dict(l=lm), width=w, height=h)\n",
    "    data = [trace]\n",
    "    fig = go.Figure(data=data, layout=layout)\n",
    "    iplot(fig)\n",
    "    \n",
    "def gp(col, title):\n",
    "    df1 = app_train[app_train[\"TARGET\"] == 1]\n",
    "    df0 = app_train[app_train[\"TARGET\"] == 0]\n",
    "    a1 = df1[col].value_counts()\n",
    "    b1 = df0[col].value_counts()\n",
    "    \n",
    "    total = dict(app_train[col].value_counts())\n",
    "    x0 = a1.index\n",
    "    x1 = b1.index\n",
    "    \n",
    "    y0 = [float(x)*100 / total[x0[i]] for i,x in enumerate(a1.values)]\n",
    "    y1 = [float(x)*100 / total[x1[i]] for i,x in enumerate(b1.values)]\n",
    "\n",
    "    trace1 = go.Bar(x=a1.index, y=y0, name='Target : 1', marker=dict(color=\"#96D38C\"))\n",
    "    trace2 = go.Bar(x=b1.index, y=y1, name='Target : 0', marker=dict(color=\"#FEBFB3\"))\n",
    "    return trace1, trace2 "
   ]
  },
  {
   "cell_type": "markdown",
   "metadata": {
    "_cell_guid": "c156fe19-e526-404c-b1e2-3d04f103ae87",
    "_uuid": "156bb2d13eb08c1d800307265994060bfc35cde1"
   },
   "source": [
    "## <a href=\"2\">2. Exploration of Applications Data </a>\n",
    "\n",
    "### <a href=\"2.1\">2.1 Snapshot of Application Train</a>\n",
    "\n",
    "Application data consists of static data for all applications and every row represents one loan."
   ]
  },
  {
   "cell_type": "code",
   "execution_count": 2,
   "metadata": {
    "_cell_guid": "eb163c92-0997-412e-a351-c954e6c20338",
    "_kg_hide-input": true,
    "_uuid": "c95dcf079aa5b11cec71fdf6f443d01b51218fb4"
   },
   "outputs": [
    {
     "data": {
      "text/html": [
       "<div>\n",
       "<style scoped>\n",
       "    .dataframe tbody tr th:only-of-type {\n",
       "        vertical-align: middle;\n",
       "    }\n",
       "\n",
       "    .dataframe tbody tr th {\n",
       "        vertical-align: top;\n",
       "    }\n",
       "\n",
       "    .dataframe thead th {\n",
       "        text-align: right;\n",
       "    }\n",
       "</style>\n",
       "<table border=\"1\" class=\"dataframe\">\n",
       "  <thead>\n",
       "    <tr style=\"text-align: right;\">\n",
       "      <th></th>\n",
       "      <th>SK_ID_CURR</th>\n",
       "      <th>TARGET</th>\n",
       "      <th>NAME_CONTRACT_TYPE</th>\n",
       "      <th>CODE_GENDER</th>\n",
       "      <th>FLAG_OWN_CAR</th>\n",
       "      <th>FLAG_OWN_REALTY</th>\n",
       "      <th>CNT_CHILDREN</th>\n",
       "      <th>AMT_INCOME_TOTAL</th>\n",
       "      <th>AMT_CREDIT</th>\n",
       "      <th>AMT_ANNUITY</th>\n",
       "      <th>...</th>\n",
       "      <th>FLAG_DOCUMENT_18</th>\n",
       "      <th>FLAG_DOCUMENT_19</th>\n",
       "      <th>FLAG_DOCUMENT_20</th>\n",
       "      <th>FLAG_DOCUMENT_21</th>\n",
       "      <th>AMT_REQ_CREDIT_BUREAU_HOUR</th>\n",
       "      <th>AMT_REQ_CREDIT_BUREAU_DAY</th>\n",
       "      <th>AMT_REQ_CREDIT_BUREAU_WEEK</th>\n",
       "      <th>AMT_REQ_CREDIT_BUREAU_MON</th>\n",
       "      <th>AMT_REQ_CREDIT_BUREAU_QRT</th>\n",
       "      <th>AMT_REQ_CREDIT_BUREAU_YEAR</th>\n",
       "    </tr>\n",
       "  </thead>\n",
       "  <tbody>\n",
       "    <tr>\n",
       "      <th>0</th>\n",
       "      <td>100002</td>\n",
       "      <td>1</td>\n",
       "      <td>Cash loans</td>\n",
       "      <td>M</td>\n",
       "      <td>N</td>\n",
       "      <td>Y</td>\n",
       "      <td>0</td>\n",
       "      <td>202500.0</td>\n",
       "      <td>406597.5</td>\n",
       "      <td>24700.5</td>\n",
       "      <td>...</td>\n",
       "      <td>0</td>\n",
       "      <td>0</td>\n",
       "      <td>0</td>\n",
       "      <td>0</td>\n",
       "      <td>0.0</td>\n",
       "      <td>0.0</td>\n",
       "      <td>0.0</td>\n",
       "      <td>0.0</td>\n",
       "      <td>0.0</td>\n",
       "      <td>1.0</td>\n",
       "    </tr>\n",
       "    <tr>\n",
       "      <th>1</th>\n",
       "      <td>100003</td>\n",
       "      <td>0</td>\n",
       "      <td>Cash loans</td>\n",
       "      <td>F</td>\n",
       "      <td>N</td>\n",
       "      <td>N</td>\n",
       "      <td>0</td>\n",
       "      <td>270000.0</td>\n",
       "      <td>1293502.5</td>\n",
       "      <td>35698.5</td>\n",
       "      <td>...</td>\n",
       "      <td>0</td>\n",
       "      <td>0</td>\n",
       "      <td>0</td>\n",
       "      <td>0</td>\n",
       "      <td>0.0</td>\n",
       "      <td>0.0</td>\n",
       "      <td>0.0</td>\n",
       "      <td>0.0</td>\n",
       "      <td>0.0</td>\n",
       "      <td>0.0</td>\n",
       "    </tr>\n",
       "    <tr>\n",
       "      <th>2</th>\n",
       "      <td>100004</td>\n",
       "      <td>0</td>\n",
       "      <td>Revolving loans</td>\n",
       "      <td>M</td>\n",
       "      <td>Y</td>\n",
       "      <td>Y</td>\n",
       "      <td>0</td>\n",
       "      <td>67500.0</td>\n",
       "      <td>135000.0</td>\n",
       "      <td>6750.0</td>\n",
       "      <td>...</td>\n",
       "      <td>0</td>\n",
       "      <td>0</td>\n",
       "      <td>0</td>\n",
       "      <td>0</td>\n",
       "      <td>0.0</td>\n",
       "      <td>0.0</td>\n",
       "      <td>0.0</td>\n",
       "      <td>0.0</td>\n",
       "      <td>0.0</td>\n",
       "      <td>0.0</td>\n",
       "    </tr>\n",
       "    <tr>\n",
       "      <th>3</th>\n",
       "      <td>100006</td>\n",
       "      <td>0</td>\n",
       "      <td>Cash loans</td>\n",
       "      <td>F</td>\n",
       "      <td>N</td>\n",
       "      <td>Y</td>\n",
       "      <td>0</td>\n",
       "      <td>135000.0</td>\n",
       "      <td>312682.5</td>\n",
       "      <td>29686.5</td>\n",
       "      <td>...</td>\n",
       "      <td>0</td>\n",
       "      <td>0</td>\n",
       "      <td>0</td>\n",
       "      <td>0</td>\n",
       "      <td>NaN</td>\n",
       "      <td>NaN</td>\n",
       "      <td>NaN</td>\n",
       "      <td>NaN</td>\n",
       "      <td>NaN</td>\n",
       "      <td>NaN</td>\n",
       "    </tr>\n",
       "    <tr>\n",
       "      <th>4</th>\n",
       "      <td>100007</td>\n",
       "      <td>0</td>\n",
       "      <td>Cash loans</td>\n",
       "      <td>M</td>\n",
       "      <td>N</td>\n",
       "      <td>Y</td>\n",
       "      <td>0</td>\n",
       "      <td>121500.0</td>\n",
       "      <td>513000.0</td>\n",
       "      <td>21865.5</td>\n",
       "      <td>...</td>\n",
       "      <td>0</td>\n",
       "      <td>0</td>\n",
       "      <td>0</td>\n",
       "      <td>0</td>\n",
       "      <td>0.0</td>\n",
       "      <td>0.0</td>\n",
       "      <td>0.0</td>\n",
       "      <td>0.0</td>\n",
       "      <td>0.0</td>\n",
       "      <td>0.0</td>\n",
       "    </tr>\n",
       "  </tbody>\n",
       "</table>\n",
       "<p>5 rows × 122 columns</p>\n",
       "</div>"
      ],
      "text/plain": [
       "   SK_ID_CURR  TARGET NAME_CONTRACT_TYPE CODE_GENDER FLAG_OWN_CAR  \\\n",
       "0      100002       1         Cash loans           M            N   \n",
       "1      100003       0         Cash loans           F            N   \n",
       "2      100004       0    Revolving loans           M            Y   \n",
       "3      100006       0         Cash loans           F            N   \n",
       "4      100007       0         Cash loans           M            N   \n",
       "\n",
       "  FLAG_OWN_REALTY  CNT_CHILDREN  AMT_INCOME_TOTAL  AMT_CREDIT  AMT_ANNUITY  \\\n",
       "0               Y             0          202500.0    406597.5      24700.5   \n",
       "1               N             0          270000.0   1293502.5      35698.5   \n",
       "2               Y             0           67500.0    135000.0       6750.0   \n",
       "3               Y             0          135000.0    312682.5      29686.5   \n",
       "4               Y             0          121500.0    513000.0      21865.5   \n",
       "\n",
       "              ...              FLAG_DOCUMENT_18 FLAG_DOCUMENT_19  \\\n",
       "0             ...                             0                0   \n",
       "1             ...                             0                0   \n",
       "2             ...                             0                0   \n",
       "3             ...                             0                0   \n",
       "4             ...                             0                0   \n",
       "\n",
       "  FLAG_DOCUMENT_20 FLAG_DOCUMENT_21 AMT_REQ_CREDIT_BUREAU_HOUR  \\\n",
       "0                0                0                        0.0   \n",
       "1                0                0                        0.0   \n",
       "2                0                0                        0.0   \n",
       "3                0                0                        NaN   \n",
       "4                0                0                        0.0   \n",
       "\n",
       "  AMT_REQ_CREDIT_BUREAU_DAY  AMT_REQ_CREDIT_BUREAU_WEEK  \\\n",
       "0                       0.0                         0.0   \n",
       "1                       0.0                         0.0   \n",
       "2                       0.0                         0.0   \n",
       "3                       NaN                         NaN   \n",
       "4                       0.0                         0.0   \n",
       "\n",
       "   AMT_REQ_CREDIT_BUREAU_MON  AMT_REQ_CREDIT_BUREAU_QRT  \\\n",
       "0                        0.0                        0.0   \n",
       "1                        0.0                        0.0   \n",
       "2                        0.0                        0.0   \n",
       "3                        NaN                        NaN   \n",
       "4                        0.0                        0.0   \n",
       "\n",
       "   AMT_REQ_CREDIT_BUREAU_YEAR  \n",
       "0                         1.0  \n",
       "1                         0.0  \n",
       "2                         0.0  \n",
       "3                         NaN  \n",
       "4                         0.0  \n",
       "\n",
       "[5 rows x 122 columns]"
      ]
     },
     "execution_count": 2,
     "metadata": {},
     "output_type": "execute_result"
    }
   ],
   "source": [
    "app_train = pd.read_csv(path + \"application_train.csv\")\n",
    "app_train.head()"
   ]
  },
  {
   "cell_type": "markdown",
   "metadata": {
    "_cell_guid": "9bf8c10b-badd-4189-bcfb-a110774ac101",
    "_uuid": "5e5162264f6388b141ece6c9045f893e49ee17d6"
   },
   "source": [
    "> There are total 307,511 rows which contains the information of loans and there are 122 variables. \n",
    "\n",
    "> The target variable defines if the client had payment difficulties meaning he/she had late payment more than X days on at least one of the first Y installments of the loan. Such case is marked as 1 while other all other cases as 0.\n",
    "\n",
    "### <a href=\"2.2\">2.2 Distribution of Target Variable </a>\n",
    "\n",
    "The target variable defines weather the loan was repayed or not. Let us look at what is the distribution of loan repayment in the training dataset. "
   ]
  },
  {
   "cell_type": "code",
   "execution_count": 3,
   "metadata": {
    "_cell_guid": "5d0d7438-35db-4da1-937f-fcd7cfcc0d2e",
    "_kg_hide-input": true,
    "_uuid": "aa165b85c9d4d5d990ce4510df8e78d378b545a1"
   },
   "outputs": [
    {
     "data": {
      "application/vnd.plotly.v1+json": {
       "data": [
        {
         "marker": {
          "color": [
           "#44ff54",
           "#ff4444"
          ]
         },
         "orientation": "h",
         "type": "bar",
         "uid": "2ba4fb06-959c-11e8-9902-343dc4786be4",
         "x": [
          24825,
          282686
         ],
         "y": [
          "Target : 1",
          "Target : 0"
         ]
        }
       ],
       "layout": {
        "height": 350,
        "margin": {
         "l": 200
        },
        "title": "Distribution of Target Variable",
        "width": 600
       }
      },
      "text/html": [
       "<div id=\"67c2c335-56eb-4036-afe3-598cf619dd24\" style=\"height: 350px; width: 600px;\" class=\"plotly-graph-div\"></div><script type=\"text/javascript\">require([\"plotly\"], function(Plotly) { window.PLOTLYENV=window.PLOTLYENV || {};window.PLOTLYENV.BASE_URL=\"https://plot.ly\";\n",
       "        Plotly.plot(\n",
       "            '67c2c335-56eb-4036-afe3-598cf619dd24',\n",
       "            [{\"marker\": {\"color\": [\"#44ff54\", \"#ff4444\"]}, \"orientation\": \"h\", \"x\": [24825.0, 282686.0], \"y\": [\"Target : 1\", \"Target : 0\"], \"type\": \"bar\", \"uid\": \"2ba4fb06-959c-11e8-9902-343dc4786be4\"}],\n",
       "            {\"height\": 350, \"margin\": {\"l\": 200}, \"title\": \"Distribution of Target Variable\", \"width\": 600},\n",
       "            {\"showLink\": true, \"linkText\": \"Export to plot.ly\"}\n",
       "        ).then(function () {return Plotly.addFrames('67c2c335-56eb-4036-afe3-598cf619dd24',{});}).then(function(){Plotly.animate('67c2c335-56eb-4036-afe3-598cf619dd24');})\n",
       "        });</script>"
      ],
      "text/vnd.plotly.v1+html": [
       "<div id=\"67c2c335-56eb-4036-afe3-598cf619dd24\" style=\"height: 350px; width: 600px;\" class=\"plotly-graph-div\"></div><script type=\"text/javascript\">require([\"plotly\"], function(Plotly) { window.PLOTLYENV=window.PLOTLYENV || {};window.PLOTLYENV.BASE_URL=\"https://plot.ly\";\n",
       "        Plotly.plot(\n",
       "            '67c2c335-56eb-4036-afe3-598cf619dd24',\n",
       "            [{\"marker\": {\"color\": [\"#44ff54\", \"#ff4444\"]}, \"orientation\": \"h\", \"x\": [24825.0, 282686.0], \"y\": [\"Target : 1\", \"Target : 0\"], \"type\": \"bar\", \"uid\": \"2ba4fb06-959c-11e8-9902-343dc4786be4\"}],\n",
       "            {\"height\": 350, \"margin\": {\"l\": 200}, \"title\": \"Distribution of Target Variable\", \"width\": 600},\n",
       "            {\"showLink\": true, \"linkText\": \"Export to plot.ly\"}\n",
       "        ).then(function () {return Plotly.addFrames('67c2c335-56eb-4036-afe3-598cf619dd24',{});}).then(function(){Plotly.animate('67c2c335-56eb-4036-afe3-598cf619dd24');})\n",
       "        });</script>"
      ]
     },
     "metadata": {},
     "output_type": "display_data"
    }
   ],
   "source": [
    "# Target Variable Distribution \n",
    "bar_hor(app_train, \"TARGET\", \"Distribution of Target Variable\" , [\"#44ff54\", '#ff4444'], h=350, w=600, lm=200, xlb = ['Target : 1','Target : 0'])"
   ]
  },
  {
   "cell_type": "markdown",
   "metadata": {
    "_cell_guid": "44d9c548-9c20-4bcd-8405-75acf0d3551d",
    "_uuid": "9c1628bd75bee880b7ef2feb61907ff25059cc53"
   },
   "source": [
    "> The target variable is slightly imbalance with the majority of loans has the target equals to 0 which indicates that individuals did not had any problems in paying installments in given time. There are about 91% loans which is equal to about 282K with target = 0, While only 9% of the total loans (about 24K applicants) in this dataset involved the applicants having problems in repaying the loan / making installments.  \n",
    "\n",
    "### <a href=\"2.3\">2.3 Gender Type of Applicants </a>"
   ]
  },
  {
   "cell_type": "code",
   "execution_count": 4,
   "metadata": {
    "_cell_guid": "442df618-0d36-4575-8802-9e6db878abe9",
    "_kg_hide-input": true,
    "_uuid": "c5e85db5cdb92d5c662e2e43f88954acef42eb4a"
   },
   "outputs": [
    {
     "data": {
      "application/vnd.plotly.v1+json": {
       "data": [
        {
         "marker": {
          "color": "#f975ae"
         },
         "orientation": "h",
         "type": "bar",
         "uid": "2bfd397a-959c-11e8-b8ca-343dc4786be4",
         "x": [
          4,
          105059,
          202448
         ],
         "xaxis": "x",
         "y": [
          "XNA",
          "M",
          "F"
         ],
         "yaxis": "y"
        },
        {
         "marker": {
          "color": "#96D38C"
         },
         "name": "Target : 1",
         "type": "bar",
         "uid": "2bfd397b-959c-11e8-abb6-343dc4786be4",
         "x": [
          "F",
          "M"
         ],
         "xaxis": "x2",
         "y": [
          6.999328222555915,
          10.141920254333279
         ],
         "yaxis": "y2"
        },
        {
         "marker": {
          "color": "#FEBFB3"
         },
         "name": "Target : 0",
         "type": "bar",
         "uid": "2bfd397c-959c-11e8-b6e0-343dc4786be4",
         "x": [
          "F",
          "M",
          "XNA"
         ],
         "xaxis": "x3",
         "y": [
          93.00067177744408,
          89.85807974566671,
          100
         ],
         "yaxis": "y3"
        }
       ],
       "layout": {
        "annotations": [
         {
          "font": {
           "size": 16
          },
          "showarrow": false,
          "text": "Gender Distribution",
          "x": 0.14444444444444446,
          "xanchor": "center",
          "xref": "paper",
          "y": 1,
          "yanchor": "bottom",
          "yref": "paper"
         },
         {
          "font": {
           "size": 16
          },
          "showarrow": false,
          "text": "Gender, Target=1",
          "x": 0.5,
          "xanchor": "center",
          "xref": "paper",
          "y": 1,
          "yanchor": "bottom",
          "yref": "paper"
         },
         {
          "font": {
           "size": 16
          },
          "showarrow": false,
          "text": "Gender, Target=0",
          "x": 0.8555555555555556,
          "xanchor": "center",
          "xref": "paper",
          "y": 1,
          "yanchor": "bottom",
          "yref": "paper"
         }
        ],
        "height": 350,
        "margin": {
         "l": 50
        },
        "showlegend": false,
        "xaxis": {
         "anchor": "y",
         "domain": [
          0,
          0.2888888888888889
         ]
        },
        "xaxis2": {
         "anchor": "y2",
         "domain": [
          0.35555555555555557,
          0.6444444444444445
         ]
        },
        "xaxis3": {
         "anchor": "y3",
         "domain": [
          0.7111111111111111,
          1
         ]
        },
        "yaxis": {
         "anchor": "x",
         "domain": [
          0,
          1
         ]
        },
        "yaxis2": {
         "anchor": "x2",
         "domain": [
          0,
          1
         ]
        },
        "yaxis3": {
         "anchor": "x3",
         "domain": [
          0,
          1
         ]
        }
       }
      },
      "text/html": [
       "<div id=\"b9ac2a4a-ebd4-4ea1-9c4e-b66a3709e1be\" style=\"height: 350px; width: 100%;\" class=\"plotly-graph-div\"></div><script type=\"text/javascript\">require([\"plotly\"], function(Plotly) { window.PLOTLYENV=window.PLOTLYENV || {};window.PLOTLYENV.BASE_URL=\"https://plot.ly\";\n",
       "        Plotly.plot(\n",
       "            'b9ac2a4a-ebd4-4ea1-9c4e-b66a3709e1be',\n",
       "            [{\"marker\": {\"color\": \"#f975ae\"}, \"orientation\": \"h\", \"x\": [4.0, 105059.0, 202448.0], \"y\": [\"XNA\", \"M\", \"F\"], \"type\": \"bar\", \"uid\": \"2bfd397a-959c-11e8-b8ca-343dc4786be4\", \"xaxis\": \"x\", \"yaxis\": \"y\"}, {\"marker\": {\"color\": \"#96D38C\"}, \"name\": \"Target : 1\", \"x\": [\"F\", \"M\"], \"y\": [6.999328222555915, 10.141920254333279], \"type\": \"bar\", \"uid\": \"2bfd397b-959c-11e8-abb6-343dc4786be4\", \"xaxis\": \"x2\", \"yaxis\": \"y2\"}, {\"marker\": {\"color\": \"#FEBFB3\"}, \"name\": \"Target : 0\", \"x\": [\"F\", \"M\", \"XNA\"], \"y\": [93.00067177744408, 89.85807974566671, 100.0], \"type\": \"bar\", \"uid\": \"2bfd397c-959c-11e8-b6e0-343dc4786be4\", \"xaxis\": \"x3\", \"yaxis\": \"y3\"}],\n",
       "            {\"annotations\": [{\"font\": {\"size\": 16}, \"showarrow\": false, \"text\": \"Gender Distribution\", \"x\": 0.14444444444444446, \"xanchor\": \"center\", \"xref\": \"paper\", \"y\": 1.0, \"yanchor\": \"bottom\", \"yref\": \"paper\"}, {\"font\": {\"size\": 16}, \"showarrow\": false, \"text\": \"Gender, Target=1\", \"x\": 0.5, \"xanchor\": \"center\", \"xref\": \"paper\", \"y\": 1.0, \"yanchor\": \"bottom\", \"yref\": \"paper\"}, {\"font\": {\"size\": 16}, \"showarrow\": false, \"text\": \"Gender, Target=0\", \"x\": 0.8555555555555556, \"xanchor\": \"center\", \"xref\": \"paper\", \"y\": 1.0, \"yanchor\": \"bottom\", \"yref\": \"paper\"}], \"xaxis\": {\"anchor\": \"y\", \"domain\": [0.0, 0.2888888888888889]}, \"yaxis\": {\"anchor\": \"x\", \"domain\": [0.0, 1.0]}, \"xaxis2\": {\"anchor\": \"y2\", \"domain\": [0.35555555555555557, 0.6444444444444445]}, \"yaxis2\": {\"anchor\": \"x2\", \"domain\": [0.0, 1.0]}, \"xaxis3\": {\"anchor\": \"y3\", \"domain\": [0.7111111111111111, 1.0]}, \"yaxis3\": {\"anchor\": \"x3\", \"domain\": [0.0, 1.0]}, \"margin\": {\"l\": 50}, \"height\": 350, \"showlegend\": false},\n",
       "            {\"showLink\": true, \"linkText\": \"Export to plot.ly\"}\n",
       "        ).then(function () {return Plotly.addFrames('b9ac2a4a-ebd4-4ea1-9c4e-b66a3709e1be',{});}).then(function(){Plotly.animate('b9ac2a4a-ebd4-4ea1-9c4e-b66a3709e1be');})\n",
       "        });</script>"
      ],
      "text/vnd.plotly.v1+html": [
       "<div id=\"b9ac2a4a-ebd4-4ea1-9c4e-b66a3709e1be\" style=\"height: 350px; width: 100%;\" class=\"plotly-graph-div\"></div><script type=\"text/javascript\">require([\"plotly\"], function(Plotly) { window.PLOTLYENV=window.PLOTLYENV || {};window.PLOTLYENV.BASE_URL=\"https://plot.ly\";\n",
       "        Plotly.plot(\n",
       "            'b9ac2a4a-ebd4-4ea1-9c4e-b66a3709e1be',\n",
       "            [{\"marker\": {\"color\": \"#f975ae\"}, \"orientation\": \"h\", \"x\": [4.0, 105059.0, 202448.0], \"y\": [\"XNA\", \"M\", \"F\"], \"type\": \"bar\", \"uid\": \"2bfd397a-959c-11e8-b8ca-343dc4786be4\", \"xaxis\": \"x\", \"yaxis\": \"y\"}, {\"marker\": {\"color\": \"#96D38C\"}, \"name\": \"Target : 1\", \"x\": [\"F\", \"M\"], \"y\": [6.999328222555915, 10.141920254333279], \"type\": \"bar\", \"uid\": \"2bfd397b-959c-11e8-abb6-343dc4786be4\", \"xaxis\": \"x2\", \"yaxis\": \"y2\"}, {\"marker\": {\"color\": \"#FEBFB3\"}, \"name\": \"Target : 0\", \"x\": [\"F\", \"M\", \"XNA\"], \"y\": [93.00067177744408, 89.85807974566671, 100.0], \"type\": \"bar\", \"uid\": \"2bfd397c-959c-11e8-b6e0-343dc4786be4\", \"xaxis\": \"x3\", \"yaxis\": \"y3\"}],\n",
       "            {\"annotations\": [{\"font\": {\"size\": 16}, \"showarrow\": false, \"text\": \"Gender Distribution\", \"x\": 0.14444444444444446, \"xanchor\": \"center\", \"xref\": \"paper\", \"y\": 1.0, \"yanchor\": \"bottom\", \"yref\": \"paper\"}, {\"font\": {\"size\": 16}, \"showarrow\": false, \"text\": \"Gender, Target=1\", \"x\": 0.5, \"xanchor\": \"center\", \"xref\": \"paper\", \"y\": 1.0, \"yanchor\": \"bottom\", \"yref\": \"paper\"}, {\"font\": {\"size\": 16}, \"showarrow\": false, \"text\": \"Gender, Target=0\", \"x\": 0.8555555555555556, \"xanchor\": \"center\", \"xref\": \"paper\", \"y\": 1.0, \"yanchor\": \"bottom\", \"yref\": \"paper\"}], \"xaxis\": {\"anchor\": \"y\", \"domain\": [0.0, 0.2888888888888889]}, \"yaxis\": {\"anchor\": \"x\", \"domain\": [0.0, 1.0]}, \"xaxis2\": {\"anchor\": \"y2\", \"domain\": [0.35555555555555557, 0.6444444444444445]}, \"yaxis2\": {\"anchor\": \"x2\", \"domain\": [0.0, 1.0]}, \"xaxis3\": {\"anchor\": \"y3\", \"domain\": [0.7111111111111111, 1.0]}, \"yaxis3\": {\"anchor\": \"x3\", \"domain\": [0.0, 1.0]}, \"margin\": {\"l\": 50}, \"height\": 350, \"showlegend\": false},\n",
       "            {\"showLink\": true, \"linkText\": \"Export to plot.ly\"}\n",
       "        ).then(function () {return Plotly.addFrames('b9ac2a4a-ebd4-4ea1-9c4e-b66a3709e1be',{});}).then(function(){Plotly.animate('b9ac2a4a-ebd4-4ea1-9c4e-b66a3709e1be');})\n",
       "        });</script>"
      ]
     },
     "metadata": {},
     "output_type": "display_data"
    }
   ],
   "source": [
    "tr0 = bar_hor(app_train, \"CODE_GENDER\", \"Distribution of CODE_GENDER Variable\" ,\"#f975ae\", w=700, lm=100, return_trace= True)\n",
    "tr1, tr2 = gp('CODE_GENDER', 'Distribution of Target with Applicant Gender')\n",
    "\n",
    "fig = tools.make_subplots(rows=1, cols=3, print_grid=False, subplot_titles = [\"Gender Distribution\" , \"Gender, Target=1\" ,\"Gender, Target=0\"])\n",
    "fig.append_trace(tr0, 1, 1);\n",
    "fig.append_trace(tr1, 1, 2);\n",
    "fig.append_trace(tr2, 1, 3);\n",
    "fig['layout'].update(height=350, showlegend=False, margin=dict(l=50));\n",
    "iplot(fig);"
   ]
  },
  {
   "cell_type": "markdown",
   "metadata": {
    "_cell_guid": "96ae684a-03b3-4c72-8d2b-f03749262478",
    "_uuid": "10eb60b32bea62df50a09b8dd17151c8974bfa28"
   },
   "source": [
    "> In the applicant's data women have applied for a larger majority of loans which is almost the double as the men. In total, there are about 202,448 loan applications filed by females in contrast to about 105,059 applications filed by males. However, a larger percentage (about 10% of the total) of men had the problems in paying the loan or making installments within time as compared to women applicants (about 7%). \n",
    "\n",
    "### <a href=\"2.4\">2.4 Family Status of Applicants </a>"
   ]
  },
  {
   "cell_type": "code",
   "execution_count": 5,
   "metadata": {
    "_cell_guid": "252d33aa-3b8c-4ec8-8632-224aa55cee66",
    "_kg_hide-input": true,
    "_uuid": "4c51257cf3a0004b4a9e771a256d1d923ec6a5ce"
   },
   "outputs": [
    {
     "data": {
      "application/vnd.plotly.v1+json": {
       "data": [
        {
         "marker": {
          "color": "#f975ae"
         },
         "orientation": "h",
         "type": "bar",
         "uid": "2c2f46b0-959c-11e8-836f-343dc4786be4",
         "x": [
          2,
          16088,
          19770,
          29775,
          45444,
          196432
         ],
         "xaxis": "x",
         "y": [
          "Unknown",
          "Widow",
          "Separated",
          "Civil marriage",
          "Single / not married",
          "Married"
         ],
         "yaxis": "y"
        },
        {
         "marker": {
          "color": "#96D38C"
         },
         "name": "Target : 1",
         "type": "bar",
         "uid": "2c31a8ec-959c-11e8-bacc-343dc4786be4",
         "x": [
          "Married",
          "Single / not married",
          "Civil marriage",
          "Separated",
          "Widow"
         ],
         "xaxis": "x2",
         "y": [
          7.559868045939562,
          9.80767538068832,
          9.944584382871536,
          8.19423368740516,
          5.824216807558429
         ],
         "yaxis": "y2"
        },
        {
         "marker": {
          "color": "#FEBFB3"
         },
         "name": "Target : 0",
         "type": "bar",
         "uid": "2c31a8ed-959c-11e8-ab55-343dc4786be4",
         "x": [
          "Married",
          "Single / not married",
          "Civil marriage",
          "Separated",
          "Widow",
          "Unknown"
         ],
         "xaxis": "x3",
         "y": [
          92.44013195406043,
          90.19232461931168,
          90.05541561712846,
          91.80576631259484,
          94.17578319244157,
          100
         ],
         "yaxis": "y3"
        }
       ],
       "layout": {
        "annotations": [
         {
          "font": {
           "size": 16
          },
          "showarrow": false,
          "text": "Family Status Distribution",
          "x": 0.14444444444444446,
          "xanchor": "center",
          "xref": "paper",
          "y": 1,
          "yanchor": "bottom",
          "yref": "paper"
         },
         {
          "font": {
           "size": 16
          },
          "showarrow": false,
          "text": "Family Status, Target = 1",
          "x": 0.5,
          "xanchor": "center",
          "xref": "paper",
          "y": 1,
          "yanchor": "bottom",
          "yref": "paper"
         },
         {
          "font": {
           "size": 16
          },
          "showarrow": false,
          "text": "Family Status, Target = 0",
          "x": 0.8555555555555556,
          "xanchor": "center",
          "xref": "paper",
          "y": 1,
          "yanchor": "bottom",
          "yref": "paper"
         }
        ],
        "height": 350,
        "margin": {
         "l": 120
        },
        "showlegend": false,
        "xaxis": {
         "anchor": "y",
         "domain": [
          0,
          0.2888888888888889
         ]
        },
        "xaxis2": {
         "anchor": "y2",
         "domain": [
          0.35555555555555557,
          0.6444444444444445
         ]
        },
        "xaxis3": {
         "anchor": "y3",
         "domain": [
          0.7111111111111111,
          1
         ]
        },
        "yaxis": {
         "anchor": "x",
         "domain": [
          0,
          1
         ]
        },
        "yaxis2": {
         "anchor": "x2",
         "domain": [
          0,
          1
         ]
        },
        "yaxis3": {
         "anchor": "x3",
         "domain": [
          0,
          1
         ]
        }
       }
      },
      "text/html": [
       "<div id=\"a6b55fd3-479d-47ed-98c2-0c3786ad7b07\" style=\"height: 350px; width: 100%;\" class=\"plotly-graph-div\"></div><script type=\"text/javascript\">require([\"plotly\"], function(Plotly) { window.PLOTLYENV=window.PLOTLYENV || {};window.PLOTLYENV.BASE_URL=\"https://plot.ly\";\n",
       "        Plotly.plot(\n",
       "            'a6b55fd3-479d-47ed-98c2-0c3786ad7b07',\n",
       "            [{\"marker\": {\"color\": \"#f975ae\"}, \"orientation\": \"h\", \"x\": [2.0, 16088.0, 19770.0, 29775.0, 45444.0, 196432.0], \"y\": [\"Unknown\", \"Widow\", \"Separated\", \"Civil marriage\", \"Single / not married\", \"Married\"], \"type\": \"bar\", \"uid\": \"2c2f46b0-959c-11e8-836f-343dc4786be4\", \"xaxis\": \"x\", \"yaxis\": \"y\"}, {\"marker\": {\"color\": \"#96D38C\"}, \"name\": \"Target : 1\", \"x\": [\"Married\", \"Single / not married\", \"Civil marriage\", \"Separated\", \"Widow\"], \"y\": [7.559868045939562, 9.80767538068832, 9.944584382871536, 8.19423368740516, 5.824216807558429], \"type\": \"bar\", \"uid\": \"2c31a8ec-959c-11e8-bacc-343dc4786be4\", \"xaxis\": \"x2\", \"yaxis\": \"y2\"}, {\"marker\": {\"color\": \"#FEBFB3\"}, \"name\": \"Target : 0\", \"x\": [\"Married\", \"Single / not married\", \"Civil marriage\", \"Separated\", \"Widow\", \"Unknown\"], \"y\": [92.44013195406043, 90.19232461931168, 90.05541561712846, 91.80576631259484, 94.17578319244157, 100.0], \"type\": \"bar\", \"uid\": \"2c31a8ed-959c-11e8-ab55-343dc4786be4\", \"xaxis\": \"x3\", \"yaxis\": \"y3\"}],\n",
       "            {\"annotations\": [{\"font\": {\"size\": 16}, \"showarrow\": false, \"text\": \"Family Status Distribution\", \"x\": 0.14444444444444446, \"xanchor\": \"center\", \"xref\": \"paper\", \"y\": 1.0, \"yanchor\": \"bottom\", \"yref\": \"paper\"}, {\"font\": {\"size\": 16}, \"showarrow\": false, \"text\": \"Family Status, Target = 1\", \"x\": 0.5, \"xanchor\": \"center\", \"xref\": \"paper\", \"y\": 1.0, \"yanchor\": \"bottom\", \"yref\": \"paper\"}, {\"font\": {\"size\": 16}, \"showarrow\": false, \"text\": \"Family Status, Target = 0\", \"x\": 0.8555555555555556, \"xanchor\": \"center\", \"xref\": \"paper\", \"y\": 1.0, \"yanchor\": \"bottom\", \"yref\": \"paper\"}], \"xaxis\": {\"anchor\": \"y\", \"domain\": [0.0, 0.2888888888888889]}, \"yaxis\": {\"anchor\": \"x\", \"domain\": [0.0, 1.0]}, \"xaxis2\": {\"anchor\": \"y2\", \"domain\": [0.35555555555555557, 0.6444444444444445]}, \"yaxis2\": {\"anchor\": \"x2\", \"domain\": [0.0, 1.0]}, \"xaxis3\": {\"anchor\": \"y3\", \"domain\": [0.7111111111111111, 1.0]}, \"yaxis3\": {\"anchor\": \"x3\", \"domain\": [0.0, 1.0]}, \"margin\": {\"l\": 120}, \"height\": 350, \"showlegend\": false},\n",
       "            {\"showLink\": true, \"linkText\": \"Export to plot.ly\"}\n",
       "        ).then(function () {return Plotly.addFrames('a6b55fd3-479d-47ed-98c2-0c3786ad7b07',{});}).then(function(){Plotly.animate('a6b55fd3-479d-47ed-98c2-0c3786ad7b07');})\n",
       "        });</script>"
      ],
      "text/vnd.plotly.v1+html": [
       "<div id=\"a6b55fd3-479d-47ed-98c2-0c3786ad7b07\" style=\"height: 350px; width: 100%;\" class=\"plotly-graph-div\"></div><script type=\"text/javascript\">require([\"plotly\"], function(Plotly) { window.PLOTLYENV=window.PLOTLYENV || {};window.PLOTLYENV.BASE_URL=\"https://plot.ly\";\n",
       "        Plotly.plot(\n",
       "            'a6b55fd3-479d-47ed-98c2-0c3786ad7b07',\n",
       "            [{\"marker\": {\"color\": \"#f975ae\"}, \"orientation\": \"h\", \"x\": [2.0, 16088.0, 19770.0, 29775.0, 45444.0, 196432.0], \"y\": [\"Unknown\", \"Widow\", \"Separated\", \"Civil marriage\", \"Single / not married\", \"Married\"], \"type\": \"bar\", \"uid\": \"2c2f46b0-959c-11e8-836f-343dc4786be4\", \"xaxis\": \"x\", \"yaxis\": \"y\"}, {\"marker\": {\"color\": \"#96D38C\"}, \"name\": \"Target : 1\", \"x\": [\"Married\", \"Single / not married\", \"Civil marriage\", \"Separated\", \"Widow\"], \"y\": [7.559868045939562, 9.80767538068832, 9.944584382871536, 8.19423368740516, 5.824216807558429], \"type\": \"bar\", \"uid\": \"2c31a8ec-959c-11e8-bacc-343dc4786be4\", \"xaxis\": \"x2\", \"yaxis\": \"y2\"}, {\"marker\": {\"color\": \"#FEBFB3\"}, \"name\": \"Target : 0\", \"x\": [\"Married\", \"Single / not married\", \"Civil marriage\", \"Separated\", \"Widow\", \"Unknown\"], \"y\": [92.44013195406043, 90.19232461931168, 90.05541561712846, 91.80576631259484, 94.17578319244157, 100.0], \"type\": \"bar\", \"uid\": \"2c31a8ed-959c-11e8-ab55-343dc4786be4\", \"xaxis\": \"x3\", \"yaxis\": \"y3\"}],\n",
       "            {\"annotations\": [{\"font\": {\"size\": 16}, \"showarrow\": false, \"text\": \"Family Status Distribution\", \"x\": 0.14444444444444446, \"xanchor\": \"center\", \"xref\": \"paper\", \"y\": 1.0, \"yanchor\": \"bottom\", \"yref\": \"paper\"}, {\"font\": {\"size\": 16}, \"showarrow\": false, \"text\": \"Family Status, Target = 1\", \"x\": 0.5, \"xanchor\": \"center\", \"xref\": \"paper\", \"y\": 1.0, \"yanchor\": \"bottom\", \"yref\": \"paper\"}, {\"font\": {\"size\": 16}, \"showarrow\": false, \"text\": \"Family Status, Target = 0\", \"x\": 0.8555555555555556, \"xanchor\": \"center\", \"xref\": \"paper\", \"y\": 1.0, \"yanchor\": \"bottom\", \"yref\": \"paper\"}], \"xaxis\": {\"anchor\": \"y\", \"domain\": [0.0, 0.2888888888888889]}, \"yaxis\": {\"anchor\": \"x\", \"domain\": [0.0, 1.0]}, \"xaxis2\": {\"anchor\": \"y2\", \"domain\": [0.35555555555555557, 0.6444444444444445]}, \"yaxis2\": {\"anchor\": \"x2\", \"domain\": [0.0, 1.0]}, \"xaxis3\": {\"anchor\": \"y3\", \"domain\": [0.7111111111111111, 1.0]}, \"yaxis3\": {\"anchor\": \"x3\", \"domain\": [0.0, 1.0]}, \"margin\": {\"l\": 120}, \"height\": 350, \"showlegend\": false},\n",
       "            {\"showLink\": true, \"linkText\": \"Export to plot.ly\"}\n",
       "        ).then(function () {return Plotly.addFrames('a6b55fd3-479d-47ed-98c2-0c3786ad7b07',{});}).then(function(){Plotly.animate('a6b55fd3-479d-47ed-98c2-0c3786ad7b07');})\n",
       "        });</script>"
      ]
     },
     "metadata": {},
     "output_type": "display_data"
    }
   ],
   "source": [
    "tr0 = bar_hor(app_train, \"NAME_FAMILY_STATUS\", \"Distribution of CODE_GENDER Variable\" ,\"#f975ae\", w=700, lm=100, return_trace= True)\n",
    "tr1, tr2 = gp('NAME_FAMILY_STATUS', 'Distribution of Target with Applicant Gender')\n",
    "\n",
    "fig = tools.make_subplots(rows=1, cols=3, print_grid=False, subplot_titles = [\"Family Status Distribution\" , \"Family Status, Target = 1\" ,\"Family Status, Target = 0\"])\n",
    "fig.append_trace(tr0, 1, 1);\n",
    "fig.append_trace(tr1, 1, 2);\n",
    "fig.append_trace(tr2, 1, 3);\n",
    "fig['layout'].update(height=350, showlegend=False, margin=dict(l=120));\n",
    "iplot(fig);"
   ]
  },
  {
   "cell_type": "markdown",
   "metadata": {
    "_cell_guid": "b1b9da54-1677-4d4b-9077-5643e66da284",
    "_uuid": "e29313e46e0914fd8d183a01a95f4c325f597714"
   },
   "source": [
    "> Married people have applied for a larger number of loan applications about 196K, However, people having Civil Marriage has the highest percentage (about 10%) of loan problems and challenges. \n",
    "\n",
    "### <a href=\"2.5\">2.5. Does applicants own Real Estate or Car ?</a>"
   ]
  },
  {
   "cell_type": "code",
   "execution_count": 6,
   "metadata": {
    "_cell_guid": "13575cba-492d-4888-864e-c2faeb88cd17",
    "_kg_hide-input": true,
    "_uuid": "e4346a77344f67b931f1f697fd6bc5225ecb19cc"
   },
   "outputs": [
    {
     "data": {
      "application/vnd.plotly.v1+json": {
       "data": [
        {
         "labels": [
          "Y",
          "N"
         ],
         "marker": {
          "colors": [
           "#96D38C",
           "#FEBFB3"
          ],
          "line": {
           "color": "#fff",
           "width": 2
          }
         },
         "textfont": {
          "size": 12
         },
         "type": "pie",
         "uid": "2c3d93fa-959c-11e8-bbfb-343dc4786be4",
         "values": [
          213312,
          94199
         ]
        }
       ],
       "layout": {
        "height": 400,
        "title": "Applicants Owning Real Estate"
       }
      },
      "text/html": [
       "<div id=\"57d84b9d-3f94-408c-b447-26dd61be8455\" style=\"height: 400px; width: 100%;\" class=\"plotly-graph-div\"></div><script type=\"text/javascript\">require([\"plotly\"], function(Plotly) { window.PLOTLYENV=window.PLOTLYENV || {};window.PLOTLYENV.BASE_URL=\"https://plot.ly\";\n",
       "        Plotly.plot(\n",
       "            '57d84b9d-3f94-408c-b447-26dd61be8455',\n",
       "            [{\"labels\": [\"Y\", \"N\"], \"marker\": {\"colors\": [\"#96D38C\", \"#FEBFB3\"], \"line\": {\"color\": \"#fff\", \"width\": 2}}, \"textfont\": {\"size\": 12}, \"values\": [213312.0, 94199.0], \"type\": \"pie\", \"uid\": \"2c3d93fa-959c-11e8-bbfb-343dc4786be4\"}],\n",
       "            {\"height\": 400, \"title\": \"Applicants Owning Real Estate\"},\n",
       "            {\"showLink\": true, \"linkText\": \"Export to plot.ly\"}\n",
       "        ).then(function () {return Plotly.addFrames('57d84b9d-3f94-408c-b447-26dd61be8455',{});}).then(function(){Plotly.animate('57d84b9d-3f94-408c-b447-26dd61be8455');})\n",
       "        });</script>"
      ],
      "text/vnd.plotly.v1+html": [
       "<div id=\"57d84b9d-3f94-408c-b447-26dd61be8455\" style=\"height: 400px; width: 100%;\" class=\"plotly-graph-div\"></div><script type=\"text/javascript\">require([\"plotly\"], function(Plotly) { window.PLOTLYENV=window.PLOTLYENV || {};window.PLOTLYENV.BASE_URL=\"https://plot.ly\";\n",
       "        Plotly.plot(\n",
       "            '57d84b9d-3f94-408c-b447-26dd61be8455',\n",
       "            [{\"labels\": [\"Y\", \"N\"], \"marker\": {\"colors\": [\"#96D38C\", \"#FEBFB3\"], \"line\": {\"color\": \"#fff\", \"width\": 2}}, \"textfont\": {\"size\": 12}, \"values\": [213312.0, 94199.0], \"type\": \"pie\", \"uid\": \"2c3d93fa-959c-11e8-bbfb-343dc4786be4\"}],\n",
       "            {\"height\": 400, \"title\": \"Applicants Owning Real Estate\"},\n",
       "            {\"showLink\": true, \"linkText\": \"Export to plot.ly\"}\n",
       "        ).then(function () {return Plotly.addFrames('57d84b9d-3f94-408c-b447-26dd61be8455',{});}).then(function(){Plotly.animate('57d84b9d-3f94-408c-b447-26dd61be8455');})\n",
       "        });</script>"
      ]
     },
     "metadata": {},
     "output_type": "display_data"
    },
    {
     "data": {
      "application/vnd.plotly.v1+json": {
       "data": [
        {
         "labels": [
          "N",
          "Y"
         ],
         "marker": {
          "colors": [
           "#FEBFB3",
           "#96D38C"
          ],
          "line": {
           "color": "#fff",
           "width": 2
          }
         },
         "textfont": {
          "size": 12
         },
         "type": "pie",
         "uid": "2c44baae-959c-11e8-83c1-343dc4786be4",
         "values": [
          202924,
          104587
         ]
        }
       ],
       "layout": {
        "height": 400,
        "title": "Applicants Owning Car"
       }
      },
      "text/html": [
       "<div id=\"b8dd8532-c793-4839-bd01-7f196b16f353\" style=\"height: 400px; width: 100%;\" class=\"plotly-graph-div\"></div><script type=\"text/javascript\">require([\"plotly\"], function(Plotly) { window.PLOTLYENV=window.PLOTLYENV || {};window.PLOTLYENV.BASE_URL=\"https://plot.ly\";\n",
       "        Plotly.plot(\n",
       "            'b8dd8532-c793-4839-bd01-7f196b16f353',\n",
       "            [{\"labels\": [\"N\", \"Y\"], \"marker\": {\"colors\": [\"#FEBFB3\", \"#96D38C\"], \"line\": {\"color\": \"#fff\", \"width\": 2}}, \"textfont\": {\"size\": 12}, \"values\": [202924.0, 104587.0], \"type\": \"pie\", \"uid\": \"2c44baae-959c-11e8-83c1-343dc4786be4\"}],\n",
       "            {\"height\": 400, \"title\": \"Applicants Owning Car\"},\n",
       "            {\"showLink\": true, \"linkText\": \"Export to plot.ly\"}\n",
       "        ).then(function () {return Plotly.addFrames('b8dd8532-c793-4839-bd01-7f196b16f353',{});}).then(function(){Plotly.animate('b8dd8532-c793-4839-bd01-7f196b16f353');})\n",
       "        });</script>"
      ],
      "text/vnd.plotly.v1+html": [
       "<div id=\"b8dd8532-c793-4839-bd01-7f196b16f353\" style=\"height: 400px; width: 100%;\" class=\"plotly-graph-div\"></div><script type=\"text/javascript\">require([\"plotly\"], function(Plotly) { window.PLOTLYENV=window.PLOTLYENV || {};window.PLOTLYENV.BASE_URL=\"https://plot.ly\";\n",
       "        Plotly.plot(\n",
       "            'b8dd8532-c793-4839-bd01-7f196b16f353',\n",
       "            [{\"labels\": [\"N\", \"Y\"], \"marker\": {\"colors\": [\"#FEBFB3\", \"#96D38C\"], \"line\": {\"color\": \"#fff\", \"width\": 2}}, \"textfont\": {\"size\": 12}, \"values\": [202924.0, 104587.0], \"type\": \"pie\", \"uid\": \"2c44baae-959c-11e8-83c1-343dc4786be4\"}],\n",
       "            {\"height\": 400, \"title\": \"Applicants Owning Car\"},\n",
       "            {\"showLink\": true, \"linkText\": \"Export to plot.ly\"}\n",
       "        ).then(function () {return Plotly.addFrames('b8dd8532-c793-4839-bd01-7f196b16f353',{});}).then(function(){Plotly.animate('b8dd8532-c793-4839-bd01-7f196b16f353');})\n",
       "        });</script>"
      ]
     },
     "metadata": {},
     "output_type": "display_data"
    },
    {
     "data": {
      "application/vnd.plotly.v1+json": {
       "data": [
        {
         "marker": {
          "color": "#96D38C"
         },
         "name": "Target : 1",
         "type": "bar",
         "uid": "2c910f38-959c-11e8-b8fd-343dc4786be4",
         "x": [
          "Y",
          "N"
         ],
         "xaxis": "x",
         "y": [
          7.961577407740774,
          8.324929139375152
         ],
         "yaxis": "y"
        },
        {
         "marker": {
          "color": "#96D38C"
         },
         "name": "Target : 1",
         "type": "bar",
         "uid": "2c93717e-959c-11e8-9cd0-343dc4786be4",
         "x": [
          "N",
          "Y"
         ],
         "xaxis": "x2",
         "y": [
          8.500226685852832,
          7.243730100299272
         ],
         "yaxis": "y2"
        }
       ],
       "layout": {
        "annotations": [
         {
          "font": {
           "size": 16
          },
          "showarrow": false,
          "text": "% Applicants with RealEstate and Target = 1",
          "x": 0.225,
          "xanchor": "center",
          "xref": "paper",
          "y": 1,
          "yanchor": "bottom",
          "yref": "paper"
         },
         {
          "font": {
           "size": 16
          },
          "showarrow": false,
          "text": "% Applicants with Car and Target = 1",
          "x": 0.775,
          "xanchor": "center",
          "xref": "paper",
          "y": 1,
          "yanchor": "bottom",
          "yref": "paper"
         }
        ],
        "height": 350,
        "margin": {
         "l": 120
        },
        "showlegend": false,
        "xaxis": {
         "anchor": "y",
         "domain": [
          0,
          0.45
         ]
        },
        "xaxis2": {
         "anchor": "y2",
         "domain": [
          0.55,
          1
         ]
        },
        "yaxis": {
         "anchor": "x",
         "domain": [
          0,
          1
         ]
        },
        "yaxis2": {
         "anchor": "x2",
         "domain": [
          0,
          1
         ]
        }
       }
      },
      "text/html": [
       "<div id=\"2dddc447-e419-4535-9625-239911b618e5\" style=\"height: 350px; width: 100%;\" class=\"plotly-graph-div\"></div><script type=\"text/javascript\">require([\"plotly\"], function(Plotly) { window.PLOTLYENV=window.PLOTLYENV || {};window.PLOTLYENV.BASE_URL=\"https://plot.ly\";\n",
       "        Plotly.plot(\n",
       "            '2dddc447-e419-4535-9625-239911b618e5',\n",
       "            [{\"marker\": {\"color\": \"#96D38C\"}, \"name\": \"Target : 1\", \"x\": [\"Y\", \"N\"], \"y\": [7.961577407740774, 8.324929139375152], \"type\": \"bar\", \"uid\": \"2c910f38-959c-11e8-b8fd-343dc4786be4\", \"xaxis\": \"x\", \"yaxis\": \"y\"}, {\"marker\": {\"color\": \"#96D38C\"}, \"name\": \"Target : 1\", \"x\": [\"N\", \"Y\"], \"y\": [8.500226685852832, 7.243730100299272], \"type\": \"bar\", \"uid\": \"2c93717e-959c-11e8-9cd0-343dc4786be4\", \"xaxis\": \"x2\", \"yaxis\": \"y2\"}],\n",
       "            {\"annotations\": [{\"font\": {\"size\": 16}, \"showarrow\": false, \"text\": \"% Applicants with RealEstate and Target = 1\", \"x\": 0.225, \"xanchor\": \"center\", \"xref\": \"paper\", \"y\": 1.0, \"yanchor\": \"bottom\", \"yref\": \"paper\"}, {\"font\": {\"size\": 16}, \"showarrow\": false, \"text\": \"% Applicants with Car and Target = 1\", \"x\": 0.775, \"xanchor\": \"center\", \"xref\": \"paper\", \"y\": 1.0, \"yanchor\": \"bottom\", \"yref\": \"paper\"}], \"xaxis\": {\"anchor\": \"y\", \"domain\": [0.0, 0.45]}, \"yaxis\": {\"anchor\": \"x\", \"domain\": [0.0, 1.0]}, \"xaxis2\": {\"anchor\": \"y2\", \"domain\": [0.55, 1.0]}, \"yaxis2\": {\"anchor\": \"x2\", \"domain\": [0.0, 1.0]}, \"margin\": {\"l\": 120}, \"height\": 350, \"showlegend\": false},\n",
       "            {\"showLink\": true, \"linkText\": \"Export to plot.ly\"}\n",
       "        ).then(function () {return Plotly.addFrames('2dddc447-e419-4535-9625-239911b618e5',{});}).then(function(){Plotly.animate('2dddc447-e419-4535-9625-239911b618e5');})\n",
       "        });</script>"
      ],
      "text/vnd.plotly.v1+html": [
       "<div id=\"2dddc447-e419-4535-9625-239911b618e5\" style=\"height: 350px; width: 100%;\" class=\"plotly-graph-div\"></div><script type=\"text/javascript\">require([\"plotly\"], function(Plotly) { window.PLOTLYENV=window.PLOTLYENV || {};window.PLOTLYENV.BASE_URL=\"https://plot.ly\";\n",
       "        Plotly.plot(\n",
       "            '2dddc447-e419-4535-9625-239911b618e5',\n",
       "            [{\"marker\": {\"color\": \"#96D38C\"}, \"name\": \"Target : 1\", \"x\": [\"Y\", \"N\"], \"y\": [7.961577407740774, 8.324929139375152], \"type\": \"bar\", \"uid\": \"2c910f38-959c-11e8-b8fd-343dc4786be4\", \"xaxis\": \"x\", \"yaxis\": \"y\"}, {\"marker\": {\"color\": \"#96D38C\"}, \"name\": \"Target : 1\", \"x\": [\"N\", \"Y\"], \"y\": [8.500226685852832, 7.243730100299272], \"type\": \"bar\", \"uid\": \"2c93717e-959c-11e8-9cd0-343dc4786be4\", \"xaxis\": \"x2\", \"yaxis\": \"y2\"}],\n",
       "            {\"annotations\": [{\"font\": {\"size\": 16}, \"showarrow\": false, \"text\": \"% Applicants with RealEstate and Target = 1\", \"x\": 0.225, \"xanchor\": \"center\", \"xref\": \"paper\", \"y\": 1.0, \"yanchor\": \"bottom\", \"yref\": \"paper\"}, {\"font\": {\"size\": 16}, \"showarrow\": false, \"text\": \"% Applicants with Car and Target = 1\", \"x\": 0.775, \"xanchor\": \"center\", \"xref\": \"paper\", \"y\": 1.0, \"yanchor\": \"bottom\", \"yref\": \"paper\"}], \"xaxis\": {\"anchor\": \"y\", \"domain\": [0.0, 0.45]}, \"yaxis\": {\"anchor\": \"x\", \"domain\": [0.0, 1.0]}, \"xaxis2\": {\"anchor\": \"y2\", \"domain\": [0.55, 1.0]}, \"yaxis2\": {\"anchor\": \"x2\", \"domain\": [0.0, 1.0]}, \"margin\": {\"l\": 120}, \"height\": 350, \"showlegend\": false},\n",
       "            {\"showLink\": true, \"linkText\": \"Export to plot.ly\"}\n",
       "        ).then(function () {return Plotly.addFrames('2dddc447-e419-4535-9625-239911b618e5',{});}).then(function(){Plotly.animate('2dddc447-e419-4535-9625-239911b618e5');})\n",
       "        });</script>"
      ]
     },
     "metadata": {},
     "output_type": "display_data"
    }
   ],
   "source": [
    "## real estate \n",
    "t = app_train['FLAG_OWN_REALTY'].value_counts()\n",
    "labels = t.index\n",
    "values = t.values\n",
    "colors = ['#96D38C','#FEBFB3']\n",
    "trace = go.Pie(labels=labels, values=values,\n",
    "##               hoverinfo='', textinfo='',\n",
    "               textfont=dict(size=12),\n",
    "               marker=dict(colors=colors,\n",
    "                           line=dict(color='#fff', width=2)))\n",
    "layout = go.Layout(title='Applicants Owning Real Estate', height=400)\n",
    "fig = go.Figure(data=[trace], layout=layout)\n",
    "iplot(fig)\n",
    "\n",
    "\n",
    "t = app_train['FLAG_OWN_CAR'].value_counts()\n",
    "labels = t.index\n",
    "values = t.values\n",
    "colors = ['#FEBFB3','#96D38C']\n",
    "trace = go.Pie(labels=labels, values=values,\n",
    "##               hoverinfo='', textinfo='',\n",
    "               textfont=dict(size=12),\n",
    "               marker=dict(colors=colors,\n",
    "                           line=dict(color='#fff', width=2)))\n",
    "layout = go.Layout(title='Applicants Owning Car', height=400)\n",
    "fig = go.Figure(data=[trace], layout=layout)\n",
    "iplot(fig)\n",
    "\n",
    "\n",
    "tr1, tr2 = gp('FLAG_OWN_REALTY', 'Applicants Owning Real Estate wrt Target Variable')\n",
    "tr3, tr4 = gp('FLAG_OWN_CAR', 'Applicants Owning Car wrt Target Variable')\n",
    "fig = tools.make_subplots(rows=1, cols=2, print_grid=False, \n",
    "                          subplot_titles = [\"% Applicants with RealEstate and Target = 1\", \"% Applicants with Car and Target = 1\"])\n",
    "fig.append_trace(tr1, 1, 1);\n",
    "fig.append_trace(tr3, 1, 2);\n",
    "fig['layout'].update(height=350, showlegend=False, margin=dict(l=120));\n",
    "iplot(fig);"
   ]
  },
  {
   "cell_type": "markdown",
   "metadata": {
    "_cell_guid": "0a1daaef-b843-4f3f-8656-42b9e3036329",
    "_uuid": "0981a3c786e21b7026f2ddd823450d24ff97f8ab"
   },
   "source": [
    "> About 70% of the applicants own Real Estate, while only 34% of applicants own Car who had applied for the loan in the past years. However, a higher percentage of people having payment difficulties was observed with applicants which did not owned Car or which did not owned Real Estate. \n",
    "\n",
    "### <a href=\"2.6\">2.6 Suite Type and Income Type of Applicants </a>"
   ]
  },
  {
   "cell_type": "code",
   "execution_count": 7,
   "metadata": {
    "_cell_guid": "d6ee79a4-de90-4c89-a1ce-61ad3e4fd87e",
    "_kg_hide-input": true,
    "_uuid": "5420e580caf623e6782339566b483b077a57ebca"
   },
   "outputs": [
    {
     "data": {
      "application/vnd.plotly.v1+json": {
       "data": [
        {
         "marker": {
          "color": "#f975ae"
         },
         "orientation": "h",
         "type": "bar",
         "uid": "2cab47ae-959c-11e8-8fdc-343dc4786be4",
         "x": [
          271,
          866,
          1770,
          3267,
          11370,
          40149,
          248526
         ],
         "xaxis": "x",
         "y": [
          "Group of people",
          "Other_A",
          "Other_B",
          "Children",
          "Spouse, partner",
          "Family",
          "Unaccompanied"
         ],
         "yaxis": "y"
        },
        {
         "marker": {
          "color": "#f975ae"
         },
         "orientation": "h",
         "type": "bar",
         "uid": "2cab47af-959c-11e8-850a-343dc4786be4",
         "x": [
          5,
          10,
          18,
          22,
          21703,
          55362,
          71617,
          158774
         ],
         "xaxis": "x2",
         "y": [
          "Maternity leave",
          "Businessman",
          "Student",
          "Unemployed",
          "State servant",
          "Pensioner",
          "Commercial associate",
          "Working"
         ],
         "yaxis": "y2"
        }
       ],
       "layout": {
        "annotations": [
         {
          "font": {
           "size": 16
          },
          "showarrow": false,
          "text": "Applicants Suite Type",
          "x": 0.225,
          "xanchor": "center",
          "xref": "paper",
          "y": 1,
          "yanchor": "bottom",
          "yref": "paper"
         },
         {
          "font": {
           "size": 16
          },
          "showarrow": false,
          "text": "Applicants Income Type",
          "x": 0.775,
          "xanchor": "center",
          "xref": "paper",
          "y": 1,
          "yanchor": "bottom",
          "yref": "paper"
         }
        ],
        "height": 400,
        "margin": {
         "l": 100
        },
        "showlegend": false,
        "xaxis": {
         "anchor": "y",
         "domain": [
          0,
          0.45
         ]
        },
        "xaxis2": {
         "anchor": "y2",
         "domain": [
          0.55,
          1
         ]
        },
        "yaxis": {
         "anchor": "x",
         "domain": [
          0,
          1
         ]
        },
        "yaxis2": {
         "anchor": "x2",
         "domain": [
          0,
          1
         ]
        }
       }
      },
      "text/html": [
       "<div id=\"d84eaf8e-110f-47e7-9fc4-dccd3e5236fc\" style=\"height: 400px; width: 100%;\" class=\"plotly-graph-div\"></div><script type=\"text/javascript\">require([\"plotly\"], function(Plotly) { window.PLOTLYENV=window.PLOTLYENV || {};window.PLOTLYENV.BASE_URL=\"https://plot.ly\";\n",
       "        Plotly.plot(\n",
       "            'd84eaf8e-110f-47e7-9fc4-dccd3e5236fc',\n",
       "            [{\"marker\": {\"color\": \"#f975ae\"}, \"orientation\": \"h\", \"x\": [271.0, 866.0, 1770.0, 3267.0, 11370.0, 40149.0, 248526.0], \"y\": [\"Group of people\", \"Other_A\", \"Other_B\", \"Children\", \"Spouse, partner\", \"Family\", \"Unaccompanied\"], \"type\": \"bar\", \"uid\": \"2cab47ae-959c-11e8-8fdc-343dc4786be4\", \"xaxis\": \"x\", \"yaxis\": \"y\"}, {\"marker\": {\"color\": \"#f975ae\"}, \"orientation\": \"h\", \"x\": [5.0, 10.0, 18.0, 22.0, 21703.0, 55362.0, 71617.0, 158774.0], \"y\": [\"Maternity leave\", \"Businessman\", \"Student\", \"Unemployed\", \"State servant\", \"Pensioner\", \"Commercial associate\", \"Working\"], \"type\": \"bar\", \"uid\": \"2cab47af-959c-11e8-850a-343dc4786be4\", \"xaxis\": \"x2\", \"yaxis\": \"y2\"}],\n",
       "            {\"annotations\": [{\"font\": {\"size\": 16}, \"showarrow\": false, \"text\": \"Applicants Suite Type\", \"x\": 0.225, \"xanchor\": \"center\", \"xref\": \"paper\", \"y\": 1.0, \"yanchor\": \"bottom\", \"yref\": \"paper\"}, {\"font\": {\"size\": 16}, \"showarrow\": false, \"text\": \"Applicants Income Type\", \"x\": 0.775, \"xanchor\": \"center\", \"xref\": \"paper\", \"y\": 1.0, \"yanchor\": \"bottom\", \"yref\": \"paper\"}], \"xaxis\": {\"anchor\": \"y\", \"domain\": [0.0, 0.45]}, \"yaxis\": {\"anchor\": \"x\", \"domain\": [0.0, 1.0]}, \"xaxis2\": {\"anchor\": \"y2\", \"domain\": [0.55, 1.0]}, \"yaxis2\": {\"anchor\": \"x2\", \"domain\": [0.0, 1.0]}, \"margin\": {\"l\": 100}, \"height\": 400, \"showlegend\": false},\n",
       "            {\"showLink\": true, \"linkText\": \"Export to plot.ly\"}\n",
       "        ).then(function () {return Plotly.addFrames('d84eaf8e-110f-47e7-9fc4-dccd3e5236fc',{});}).then(function(){Plotly.animate('d84eaf8e-110f-47e7-9fc4-dccd3e5236fc');})\n",
       "        });</script>"
      ],
      "text/vnd.plotly.v1+html": [
       "<div id=\"d84eaf8e-110f-47e7-9fc4-dccd3e5236fc\" style=\"height: 400px; width: 100%;\" class=\"plotly-graph-div\"></div><script type=\"text/javascript\">require([\"plotly\"], function(Plotly) { window.PLOTLYENV=window.PLOTLYENV || {};window.PLOTLYENV.BASE_URL=\"https://plot.ly\";\n",
       "        Plotly.plot(\n",
       "            'd84eaf8e-110f-47e7-9fc4-dccd3e5236fc',\n",
       "            [{\"marker\": {\"color\": \"#f975ae\"}, \"orientation\": \"h\", \"x\": [271.0, 866.0, 1770.0, 3267.0, 11370.0, 40149.0, 248526.0], \"y\": [\"Group of people\", \"Other_A\", \"Other_B\", \"Children\", \"Spouse, partner\", \"Family\", \"Unaccompanied\"], \"type\": \"bar\", \"uid\": \"2cab47ae-959c-11e8-8fdc-343dc4786be4\", \"xaxis\": \"x\", \"yaxis\": \"y\"}, {\"marker\": {\"color\": \"#f975ae\"}, \"orientation\": \"h\", \"x\": [5.0, 10.0, 18.0, 22.0, 21703.0, 55362.0, 71617.0, 158774.0], \"y\": [\"Maternity leave\", \"Businessman\", \"Student\", \"Unemployed\", \"State servant\", \"Pensioner\", \"Commercial associate\", \"Working\"], \"type\": \"bar\", \"uid\": \"2cab47af-959c-11e8-850a-343dc4786be4\", \"xaxis\": \"x2\", \"yaxis\": \"y2\"}],\n",
       "            {\"annotations\": [{\"font\": {\"size\": 16}, \"showarrow\": false, \"text\": \"Applicants Suite Type\", \"x\": 0.225, \"xanchor\": \"center\", \"xref\": \"paper\", \"y\": 1.0, \"yanchor\": \"bottom\", \"yref\": \"paper\"}, {\"font\": {\"size\": 16}, \"showarrow\": false, \"text\": \"Applicants Income Type\", \"x\": 0.775, \"xanchor\": \"center\", \"xref\": \"paper\", \"y\": 1.0, \"yanchor\": \"bottom\", \"yref\": \"paper\"}], \"xaxis\": {\"anchor\": \"y\", \"domain\": [0.0, 0.45]}, \"yaxis\": {\"anchor\": \"x\", \"domain\": [0.0, 1.0]}, \"xaxis2\": {\"anchor\": \"y2\", \"domain\": [0.55, 1.0]}, \"yaxis2\": {\"anchor\": \"x2\", \"domain\": [0.0, 1.0]}, \"margin\": {\"l\": 100}, \"height\": 400, \"showlegend\": false},\n",
       "            {\"showLink\": true, \"linkText\": \"Export to plot.ly\"}\n",
       "        ).then(function () {return Plotly.addFrames('d84eaf8e-110f-47e7-9fc4-dccd3e5236fc',{});}).then(function(){Plotly.animate('d84eaf8e-110f-47e7-9fc4-dccd3e5236fc');})\n",
       "        });</script>"
      ]
     },
     "metadata": {},
     "output_type": "display_data"
    }
   ],
   "source": [
    "tr0 = bar_hor(app_train, \"NAME_TYPE_SUITE\", \"Distribution of CODE_GENDER Variable\" ,\"#f975ae\", w=700, lm=100, return_trace= True)\n",
    "tr1 = bar_hor(app_train, \"NAME_INCOME_TYPE\", \"Distribution of CODE_GENDER Variable\" ,\"#f975ae\", w=700, lm=100, return_trace= True)\n",
    "\n",
    "fig = tools.make_subplots(rows=1, cols=2, print_grid=False, subplot_titles = ['Applicants Suite Type' , 'Applicants Income Type'])\n",
    "fig.append_trace(tr0, 1, 1);\n",
    "fig.append_trace(tr1, 1, 2);\n",
    "fig['layout'].update(height=400, showlegend=False, margin=dict(l=100));\n",
    "iplot(fig);"
   ]
  },
  {
   "cell_type": "markdown",
   "metadata": {
    "_cell_guid": "cd90a9aa-f9bf-4bf5-a538-ba53f67fb765",
    "_uuid": "6c2ae07141da1dde8f99f8143c2b4dab5bf2be61"
   },
   "source": [
    "> Top 3 Type Suites which applies for loan are the houses which are:  \n",
    "    - Unaccompanined (about 248K applicants) \n",
    "    - Family (about 40K applicants)  \n",
    "    - Spouse, partner (about 11K applicants)    \n",
    "> The income type of people who applies for loan include about 8 categroes, top ones are : \n",
    "    - Working Class (158K)\n",
    "    - Commercial Associate (71K)\n",
    "    - Pensiner (55K)\n",
    "\n",
    "### <a id=\"2.6.1\">2.6.1 How does Target Varies with Suite and Income Type of Applicants </a>"
   ]
  },
  {
   "cell_type": "code",
   "execution_count": 8,
   "metadata": {
    "_cell_guid": "2c1c0b71-d841-4774-9f69-20e0c941c9a7",
    "_kg_hide-input": true,
    "_uuid": "62255e896cd313e4d725ed9e64b77fe57591538f"
   },
   "outputs": [
    {
     "data": {
      "application/vnd.plotly.v1+json": {
       "data": [
        {
         "marker": {
          "color": "#96D38C"
         },
         "name": "Target : 1",
         "type": "bar",
         "uid": "2cd62f68-959c-11e8-8f1e-343dc4786be4",
         "x": [
          "Unaccompanied",
          "Family",
          "Spouse, partner",
          "Children",
          "Other_B",
          "Other_A",
          "Group of people"
         ],
         "xaxis": "x",
         "y": [
          8.183047246565751,
          7.494582679518793,
          7.871591908531222,
          7.376798285889195,
          9.830508474576272,
          8.775981524249422,
          8.487084870848708
         ],
         "yaxis": "y"
        },
        {
         "marker": {
          "color": "#FEBFB3"
         },
         "name": "Target : 0",
         "type": "bar",
         "uid": "2cd62f69-959c-11e8-90d3-343dc4786be4",
         "x": [
          "Unaccompanied",
          "Family",
          "Spouse, partner",
          "Children",
          "Other_B",
          "Other_A",
          "Group of people"
         ],
         "xaxis": "x2",
         "y": [
          91.81695275343425,
          92.50541732048121,
          92.12840809146877,
          92.6232017141108,
          90.16949152542372,
          91.22401847575058,
          91.5129151291513
         ],
         "yaxis": "y2"
        }
       ],
       "layout": {
        "annotations": [
         {
          "font": {
           "size": 16
          },
          "showarrow": false,
          "text": "Applicants Type Suites distribution when Target = 1",
          "x": 0.225,
          "xanchor": "center",
          "xref": "paper",
          "y": 1,
          "yanchor": "bottom",
          "yref": "paper"
         },
         {
          "font": {
           "size": 16
          },
          "showarrow": false,
          "text": "Applicants Type Suites distribution when Target = 0",
          "x": 0.775,
          "xanchor": "center",
          "xref": "paper",
          "y": 1,
          "yanchor": "bottom",
          "yref": "paper"
         }
        ],
        "height": 350,
        "margin": {
         "l": 120
        },
        "showlegend": false,
        "xaxis": {
         "anchor": "y",
         "domain": [
          0,
          0.45
         ]
        },
        "xaxis2": {
         "anchor": "y2",
         "domain": [
          0.55,
          1
         ]
        },
        "yaxis": {
         "anchor": "x",
         "domain": [
          0,
          1
         ]
        },
        "yaxis2": {
         "anchor": "x2",
         "domain": [
          0,
          1
         ]
        }
       }
      },
      "text/html": [
       "<div id=\"cba625ae-2ac6-420a-b860-fac08bc1fbc5\" style=\"height: 350px; width: 100%;\" class=\"plotly-graph-div\"></div><script type=\"text/javascript\">require([\"plotly\"], function(Plotly) { window.PLOTLYENV=window.PLOTLYENV || {};window.PLOTLYENV.BASE_URL=\"https://plot.ly\";\n",
       "        Plotly.plot(\n",
       "            'cba625ae-2ac6-420a-b860-fac08bc1fbc5',\n",
       "            [{\"marker\": {\"color\": \"#96D38C\"}, \"name\": \"Target : 1\", \"x\": [\"Unaccompanied\", \"Family\", \"Spouse, partner\", \"Children\", \"Other_B\", \"Other_A\", \"Group of people\"], \"y\": [8.183047246565751, 7.494582679518793, 7.871591908531222, 7.376798285889195, 9.830508474576272, 8.775981524249422, 8.487084870848708], \"type\": \"bar\", \"uid\": \"2cd62f68-959c-11e8-8f1e-343dc4786be4\", \"xaxis\": \"x\", \"yaxis\": \"y\"}, {\"marker\": {\"color\": \"#FEBFB3\"}, \"name\": \"Target : 0\", \"x\": [\"Unaccompanied\", \"Family\", \"Spouse, partner\", \"Children\", \"Other_B\", \"Other_A\", \"Group of people\"], \"y\": [91.81695275343425, 92.50541732048121, 92.12840809146877, 92.6232017141108, 90.16949152542372, 91.22401847575058, 91.5129151291513], \"type\": \"bar\", \"uid\": \"2cd62f69-959c-11e8-90d3-343dc4786be4\", \"xaxis\": \"x2\", \"yaxis\": \"y2\"}],\n",
       "            {\"annotations\": [{\"font\": {\"size\": 16}, \"showarrow\": false, \"text\": \"Applicants Type Suites distribution when Target = 1\", \"x\": 0.225, \"xanchor\": \"center\", \"xref\": \"paper\", \"y\": 1.0, \"yanchor\": \"bottom\", \"yref\": \"paper\"}, {\"font\": {\"size\": 16}, \"showarrow\": false, \"text\": \"Applicants Type Suites distribution when Target = 0\", \"x\": 0.775, \"xanchor\": \"center\", \"xref\": \"paper\", \"y\": 1.0, \"yanchor\": \"bottom\", \"yref\": \"paper\"}], \"xaxis\": {\"anchor\": \"y\", \"domain\": [0.0, 0.45]}, \"yaxis\": {\"anchor\": \"x\", \"domain\": [0.0, 1.0]}, \"xaxis2\": {\"anchor\": \"y2\", \"domain\": [0.55, 1.0]}, \"yaxis2\": {\"anchor\": \"x2\", \"domain\": [0.0, 1.0]}, \"margin\": {\"l\": 120}, \"height\": 350, \"showlegend\": false},\n",
       "            {\"showLink\": true, \"linkText\": \"Export to plot.ly\"}\n",
       "        ).then(function () {return Plotly.addFrames('cba625ae-2ac6-420a-b860-fac08bc1fbc5',{});}).then(function(){Plotly.animate('cba625ae-2ac6-420a-b860-fac08bc1fbc5');})\n",
       "        });</script>"
      ],
      "text/vnd.plotly.v1+html": [
       "<div id=\"cba625ae-2ac6-420a-b860-fac08bc1fbc5\" style=\"height: 350px; width: 100%;\" class=\"plotly-graph-div\"></div><script type=\"text/javascript\">require([\"plotly\"], function(Plotly) { window.PLOTLYENV=window.PLOTLYENV || {};window.PLOTLYENV.BASE_URL=\"https://plot.ly\";\n",
       "        Plotly.plot(\n",
       "            'cba625ae-2ac6-420a-b860-fac08bc1fbc5',\n",
       "            [{\"marker\": {\"color\": \"#96D38C\"}, \"name\": \"Target : 1\", \"x\": [\"Unaccompanied\", \"Family\", \"Spouse, partner\", \"Children\", \"Other_B\", \"Other_A\", \"Group of people\"], \"y\": [8.183047246565751, 7.494582679518793, 7.871591908531222, 7.376798285889195, 9.830508474576272, 8.775981524249422, 8.487084870848708], \"type\": \"bar\", \"uid\": \"2cd62f68-959c-11e8-8f1e-343dc4786be4\", \"xaxis\": \"x\", \"yaxis\": \"y\"}, {\"marker\": {\"color\": \"#FEBFB3\"}, \"name\": \"Target : 0\", \"x\": [\"Unaccompanied\", \"Family\", \"Spouse, partner\", \"Children\", \"Other_B\", \"Other_A\", \"Group of people\"], \"y\": [91.81695275343425, 92.50541732048121, 92.12840809146877, 92.6232017141108, 90.16949152542372, 91.22401847575058, 91.5129151291513], \"type\": \"bar\", \"uid\": \"2cd62f69-959c-11e8-90d3-343dc4786be4\", \"xaxis\": \"x2\", \"yaxis\": \"y2\"}],\n",
       "            {\"annotations\": [{\"font\": {\"size\": 16}, \"showarrow\": false, \"text\": \"Applicants Type Suites distribution when Target = 1\", \"x\": 0.225, \"xanchor\": \"center\", \"xref\": \"paper\", \"y\": 1.0, \"yanchor\": \"bottom\", \"yref\": \"paper\"}, {\"font\": {\"size\": 16}, \"showarrow\": false, \"text\": \"Applicants Type Suites distribution when Target = 0\", \"x\": 0.775, \"xanchor\": \"center\", \"xref\": \"paper\", \"y\": 1.0, \"yanchor\": \"bottom\", \"yref\": \"paper\"}], \"xaxis\": {\"anchor\": \"y\", \"domain\": [0.0, 0.45]}, \"yaxis\": {\"anchor\": \"x\", \"domain\": [0.0, 1.0]}, \"xaxis2\": {\"anchor\": \"y2\", \"domain\": [0.55, 1.0]}, \"yaxis2\": {\"anchor\": \"x2\", \"domain\": [0.0, 1.0]}, \"margin\": {\"l\": 120}, \"height\": 350, \"showlegend\": false},\n",
       "            {\"showLink\": true, \"linkText\": \"Export to plot.ly\"}\n",
       "        ).then(function () {return Plotly.addFrames('cba625ae-2ac6-420a-b860-fac08bc1fbc5',{});}).then(function(){Plotly.animate('cba625ae-2ac6-420a-b860-fac08bc1fbc5');})\n",
       "        });</script>"
      ]
     },
     "metadata": {},
     "output_type": "display_data"
    },
    {
     "data": {
      "application/vnd.plotly.v1+json": {
       "data": [
        {
         "marker": {
          "color": "#96D38C"
         },
         "name": "Target : 1",
         "type": "bar",
         "uid": "2cfeb4e2-959c-11e8-bb74-343dc4786be4",
         "x": [
          "Working",
          "Commercial associate",
          "Pensioner",
          "State servant",
          "Unemployed",
          "Maternity leave"
         ],
         "xaxis": "x",
         "y": [
          9.588471664126368,
          7.484256531270509,
          5.386366099490625,
          5.754964751416855,
          36.36363636363637,
          40
         ],
         "yaxis": "y"
        },
        {
         "marker": {
          "color": "#FEBFB3"
         },
         "name": "Target : 0",
         "type": "bar",
         "uid": "2cfeb4e3-959c-11e8-9aa6-343dc4786be4",
         "x": [
          "Working",
          "Commercial associate",
          "Pensioner",
          "State servant",
          "Student",
          "Unemployed",
          "Businessman",
          "Maternity leave"
         ],
         "xaxis": "x2",
         "y": [
          90.41152833587363,
          92.5157434687295,
          94.61363390050937,
          94.24503524858315,
          100,
          63.63636363636363,
          100,
          60
         ],
         "yaxis": "y2"
        }
       ],
       "layout": {
        "annotations": [
         {
          "font": {
           "size": 16
          },
          "showarrow": false,
          "text": "Applicants Income Types when Target = 1",
          "x": 0.225,
          "xanchor": "center",
          "xref": "paper",
          "y": 1,
          "yanchor": "bottom",
          "yref": "paper"
         },
         {
          "font": {
           "size": 16
          },
          "showarrow": false,
          "text": "Applicants Income Type When Target = 0",
          "x": 0.775,
          "xanchor": "center",
          "xref": "paper",
          "y": 1,
          "yanchor": "bottom",
          "yref": "paper"
         }
        ],
        "height": 350,
        "margin": {
         "l": 120
        },
        "showlegend": false,
        "xaxis": {
         "anchor": "y",
         "domain": [
          0,
          0.45
         ]
        },
        "xaxis2": {
         "anchor": "y2",
         "domain": [
          0.55,
          1
         ]
        },
        "yaxis": {
         "anchor": "x",
         "domain": [
          0,
          1
         ]
        },
        "yaxis2": {
         "anchor": "x2",
         "domain": [
          0,
          1
         ]
        }
       }
      },
      "text/html": [
       "<div id=\"1d8ec85c-b2dd-4e48-ab15-f6e8a5ae6ca0\" style=\"height: 350px; width: 100%;\" class=\"plotly-graph-div\"></div><script type=\"text/javascript\">require([\"plotly\"], function(Plotly) { window.PLOTLYENV=window.PLOTLYENV || {};window.PLOTLYENV.BASE_URL=\"https://plot.ly\";\n",
       "        Plotly.plot(\n",
       "            '1d8ec85c-b2dd-4e48-ab15-f6e8a5ae6ca0',\n",
       "            [{\"marker\": {\"color\": \"#96D38C\"}, \"name\": \"Target : 1\", \"x\": [\"Working\", \"Commercial associate\", \"Pensioner\", \"State servant\", \"Unemployed\", \"Maternity leave\"], \"y\": [9.588471664126368, 7.484256531270509, 5.386366099490625, 5.754964751416855, 36.36363636363637, 40.0], \"type\": \"bar\", \"uid\": \"2cfeb4e2-959c-11e8-bb74-343dc4786be4\", \"xaxis\": \"x\", \"yaxis\": \"y\"}, {\"marker\": {\"color\": \"#FEBFB3\"}, \"name\": \"Target : 0\", \"x\": [\"Working\", \"Commercial associate\", \"Pensioner\", \"State servant\", \"Student\", \"Unemployed\", \"Businessman\", \"Maternity leave\"], \"y\": [90.41152833587363, 92.5157434687295, 94.61363390050937, 94.24503524858315, 100.0, 63.63636363636363, 100.0, 60.0], \"type\": \"bar\", \"uid\": \"2cfeb4e3-959c-11e8-9aa6-343dc4786be4\", \"xaxis\": \"x2\", \"yaxis\": \"y2\"}],\n",
       "            {\"annotations\": [{\"font\": {\"size\": 16}, \"showarrow\": false, \"text\": \"Applicants Income Types when Target = 1\", \"x\": 0.225, \"xanchor\": \"center\", \"xref\": \"paper\", \"y\": 1.0, \"yanchor\": \"bottom\", \"yref\": \"paper\"}, {\"font\": {\"size\": 16}, \"showarrow\": false, \"text\": \"Applicants Income Type When Target = 0\", \"x\": 0.775, \"xanchor\": \"center\", \"xref\": \"paper\", \"y\": 1.0, \"yanchor\": \"bottom\", \"yref\": \"paper\"}], \"xaxis\": {\"anchor\": \"y\", \"domain\": [0.0, 0.45]}, \"yaxis\": {\"anchor\": \"x\", \"domain\": [0.0, 1.0]}, \"xaxis2\": {\"anchor\": \"y2\", \"domain\": [0.55, 1.0]}, \"yaxis2\": {\"anchor\": \"x2\", \"domain\": [0.0, 1.0]}, \"margin\": {\"l\": 120}, \"height\": 350, \"showlegend\": false},\n",
       "            {\"showLink\": true, \"linkText\": \"Export to plot.ly\"}\n",
       "        ).then(function () {return Plotly.addFrames('1d8ec85c-b2dd-4e48-ab15-f6e8a5ae6ca0',{});}).then(function(){Plotly.animate('1d8ec85c-b2dd-4e48-ab15-f6e8a5ae6ca0');})\n",
       "        });</script>"
      ],
      "text/vnd.plotly.v1+html": [
       "<div id=\"1d8ec85c-b2dd-4e48-ab15-f6e8a5ae6ca0\" style=\"height: 350px; width: 100%;\" class=\"plotly-graph-div\"></div><script type=\"text/javascript\">require([\"plotly\"], function(Plotly) { window.PLOTLYENV=window.PLOTLYENV || {};window.PLOTLYENV.BASE_URL=\"https://plot.ly\";\n",
       "        Plotly.plot(\n",
       "            '1d8ec85c-b2dd-4e48-ab15-f6e8a5ae6ca0',\n",
       "            [{\"marker\": {\"color\": \"#96D38C\"}, \"name\": \"Target : 1\", \"x\": [\"Working\", \"Commercial associate\", \"Pensioner\", \"State servant\", \"Unemployed\", \"Maternity leave\"], \"y\": [9.588471664126368, 7.484256531270509, 5.386366099490625, 5.754964751416855, 36.36363636363637, 40.0], \"type\": \"bar\", \"uid\": \"2cfeb4e2-959c-11e8-bb74-343dc4786be4\", \"xaxis\": \"x\", \"yaxis\": \"y\"}, {\"marker\": {\"color\": \"#FEBFB3\"}, \"name\": \"Target : 0\", \"x\": [\"Working\", \"Commercial associate\", \"Pensioner\", \"State servant\", \"Student\", \"Unemployed\", \"Businessman\", \"Maternity leave\"], \"y\": [90.41152833587363, 92.5157434687295, 94.61363390050937, 94.24503524858315, 100.0, 63.63636363636363, 100.0, 60.0], \"type\": \"bar\", \"uid\": \"2cfeb4e3-959c-11e8-9aa6-343dc4786be4\", \"xaxis\": \"x2\", \"yaxis\": \"y2\"}],\n",
       "            {\"annotations\": [{\"font\": {\"size\": 16}, \"showarrow\": false, \"text\": \"Applicants Income Types when Target = 1\", \"x\": 0.225, \"xanchor\": \"center\", \"xref\": \"paper\", \"y\": 1.0, \"yanchor\": \"bottom\", \"yref\": \"paper\"}, {\"font\": {\"size\": 16}, \"showarrow\": false, \"text\": \"Applicants Income Type When Target = 0\", \"x\": 0.775, \"xanchor\": \"center\", \"xref\": \"paper\", \"y\": 1.0, \"yanchor\": \"bottom\", \"yref\": \"paper\"}], \"xaxis\": {\"anchor\": \"y\", \"domain\": [0.0, 0.45]}, \"yaxis\": {\"anchor\": \"x\", \"domain\": [0.0, 1.0]}, \"xaxis2\": {\"anchor\": \"y2\", \"domain\": [0.55, 1.0]}, \"yaxis2\": {\"anchor\": \"x2\", \"domain\": [0.0, 1.0]}, \"margin\": {\"l\": 120}, \"height\": 350, \"showlegend\": false},\n",
       "            {\"showLink\": true, \"linkText\": \"Export to plot.ly\"}\n",
       "        ).then(function () {return Plotly.addFrames('1d8ec85c-b2dd-4e48-ab15-f6e8a5ae6ca0',{});}).then(function(){Plotly.animate('1d8ec85c-b2dd-4e48-ab15-f6e8a5ae6ca0');})\n",
       "        });</script>"
      ]
     },
     "metadata": {},
     "output_type": "display_data"
    }
   ],
   "source": [
    "tr1, tr2 = gp('NAME_TYPE_SUITE', 'Applicants Type Suites which repayed the loan')\n",
    "fig = tools.make_subplots(rows=1, cols=2, print_grid=False, \n",
    "                          subplot_titles = [\"Applicants Type Suites distribution when Target = 1\", \"Applicants Type Suites distribution when Target = 0\"])\n",
    "fig.append_trace(tr1, 1, 1);\n",
    "fig.append_trace(tr2, 1, 2);\n",
    "fig['layout'].update(height=350, showlegend=False, margin=dict(l=120));\n",
    "iplot(fig);\n",
    "\n",
    "\n",
    "tr1, tr2 = gp('NAME_INCOME_TYPE', 'Applicants Income Types which repayed the loan')\n",
    "fig = tools.make_subplots(rows=1, cols=2, print_grid=False, \n",
    "                          subplot_titles = [\"Applicants Income Types when Target = 1\", \"Applicants Income Type When Target = 0\"])\n",
    "fig.append_trace(tr1, 1, 1);\n",
    "fig.append_trace(tr2, 1, 2);\n",
    "fig['layout'].update(height=350, showlegend=False, margin=dict(l=120));\n",
    "iplot(fig);"
   ]
  },
  {
   "cell_type": "markdown",
   "metadata": {
    "_cell_guid": "b0ca2663-4f35-4294-ab4f-7ef6015cde82",
    "_uuid": "ba88ba077e94ed387d1df8e13665a94beda77fbc"
   },
   "source": [
    "> We see that Applicants having Income Types : Maternity Leaves and UnEmployed has the highest percentage (about 40% and 36% approx) of Target = 1 ie. having more payment problems, while Pensioners have the least (about 5.3%). \n",
    "\n",
    "### <a id=\"2.7\">2.7. Applicant's Contract Type</a>"
   ]
  },
  {
   "cell_type": "code",
   "execution_count": null,
   "metadata": {},
   "outputs": [],
   "source": []
  },
  {
   "cell_type": "code",
   "execution_count": null,
   "metadata": {},
   "outputs": [],
   "source": []
  },
  {
   "cell_type": "code",
   "execution_count": 9,
   "metadata": {
    "_cell_guid": "5b00d571-1a5a-47d9-b0aa-d45dcecf5cb0",
    "_kg_hide-input": true,
    "_uuid": "d48290edfae2f4beb09fd98d605fc43fb1218f6c"
   },
   "outputs": [
    {
     "data": {
      "application/vnd.plotly.v1+json": {
       "data": [
        {
         "labels": [
          "Cash loans",
          "Revolving loans"
         ],
         "marker": {
          "colors": [
           "#FEBFB3",
           "#96D38C"
          ],
          "line": {
           "color": "#fff",
           "width": 2
          }
         },
         "textfont": {
          "size": 12
         },
         "type": "pie",
         "uid": "2d083c88-959c-11e8-9408-343dc4786be4",
         "values": [
          278232,
          29279
         ]
        }
       ],
       "layout": {
        "height": 400,
        "title": "Applicants Contract Type"
       }
      },
      "text/html": [
       "<div id=\"40773e6a-2add-492e-8edf-84102cb0a1a3\" style=\"height: 400px; width: 100%;\" class=\"plotly-graph-div\"></div><script type=\"text/javascript\">require([\"plotly\"], function(Plotly) { window.PLOTLYENV=window.PLOTLYENV || {};window.PLOTLYENV.BASE_URL=\"https://plot.ly\";\n",
       "        Plotly.plot(\n",
       "            '40773e6a-2add-492e-8edf-84102cb0a1a3',\n",
       "            [{\"labels\": [\"Cash loans\", \"Revolving loans\"], \"marker\": {\"colors\": [\"#FEBFB3\", \"#96D38C\"], \"line\": {\"color\": \"#fff\", \"width\": 2}}, \"textfont\": {\"size\": 12}, \"values\": [278232.0, 29279.0], \"type\": \"pie\", \"uid\": \"2d083c88-959c-11e8-9408-343dc4786be4\"}],\n",
       "            {\"height\": 400, \"title\": \"Applicants Contract Type\"},\n",
       "            {\"showLink\": true, \"linkText\": \"Export to plot.ly\"}\n",
       "        ).then(function () {return Plotly.addFrames('40773e6a-2add-492e-8edf-84102cb0a1a3',{});}).then(function(){Plotly.animate('40773e6a-2add-492e-8edf-84102cb0a1a3');})\n",
       "        });</script>"
      ],
      "text/vnd.plotly.v1+html": [
       "<div id=\"40773e6a-2add-492e-8edf-84102cb0a1a3\" style=\"height: 400px; width: 100%;\" class=\"plotly-graph-div\"></div><script type=\"text/javascript\">require([\"plotly\"], function(Plotly) { window.PLOTLYENV=window.PLOTLYENV || {};window.PLOTLYENV.BASE_URL=\"https://plot.ly\";\n",
       "        Plotly.plot(\n",
       "            '40773e6a-2add-492e-8edf-84102cb0a1a3',\n",
       "            [{\"labels\": [\"Cash loans\", \"Revolving loans\"], \"marker\": {\"colors\": [\"#FEBFB3\", \"#96D38C\"], \"line\": {\"color\": \"#fff\", \"width\": 2}}, \"textfont\": {\"size\": 12}, \"values\": [278232.0, 29279.0], \"type\": \"pie\", \"uid\": \"2d083c88-959c-11e8-9408-343dc4786be4\"}],\n",
       "            {\"height\": 400, \"title\": \"Applicants Contract Type\"},\n",
       "            {\"showLink\": true, \"linkText\": \"Export to plot.ly\"}\n",
       "        ).then(function () {return Plotly.addFrames('40773e6a-2add-492e-8edf-84102cb0a1a3',{});}).then(function(){Plotly.animate('40773e6a-2add-492e-8edf-84102cb0a1a3');})\n",
       "        });</script>"
      ]
     },
     "metadata": {},
     "output_type": "display_data"
    }
   ],
   "source": [
    "t = app_train['NAME_CONTRACT_TYPE'].value_counts()\n",
    "labels = t.index\n",
    "values = t.values\n",
    "colors = ['#FEBFB3','#96D38C']\n",
    "trace = go.Pie(labels=labels, values=values,\n",
    "##               hoverinfo='', textinfo='',\n",
    "               textfont=dict(size=12),\n",
    "               marker=dict(colors=colors,\n",
    "                           line=dict(color='#fff', width=2)))\n",
    "layout = go.Layout(title='Applicants Contract Type', height=400)\n",
    "fig = go.Figure(data=[trace], layout=layout)\n",
    "iplot(fig)"
   ]
  },
  {
   "cell_type": "markdown",
   "metadata": {
    "_cell_guid": "10c3308c-ee99-4462-b481-cf7bd33b4396",
    "_uuid": "15842ca1961dfb785669c5b23f4a21bc67a0dc0c"
   },
   "source": [
    "> Cash loans with about 278K loans contributes to a majorty of total lonas in this dataset. Revolving loans has significantly lesser number equal to about 29K as compared to Cash loans. \n",
    "\n",
    "### <a id=\"2.8\">2.8 Education Type and Housing Type </a>"
   ]
  },
  {
   "cell_type": "code",
   "execution_count": 10,
   "metadata": {
    "_cell_guid": "b24015be-5bb1-43e7-ab67-ca6134e5ee04",
    "_kg_hide-input": true,
    "_uuid": "b7902786f27f2d39870aa3bf1a87004608e27d5c"
   },
   "outputs": [
    {
     "data": {
      "application/vnd.plotly.v1+json": {
       "data": [
        {
         "marker": {
          "color": "#f975ae"
         },
         "orientation": "h",
         "type": "bar",
         "uid": "2d1b5c52-959c-11e8-b48b-343dc4786be4",
         "x": [
          164,
          3816,
          10277,
          74863,
          218391
         ],
         "xaxis": "x",
         "y": [
          "Academic degree",
          "Lower secondary",
          "Incomplete higher",
          "Higher education",
          "Secondary / secondary special"
         ],
         "yaxis": "y"
        },
        {
         "marker": {
          "color": "#f975ae"
         },
         "orientation": "h",
         "type": "bar",
         "uid": "2d1b5c53-959c-11e8-8488-343dc4786be4",
         "x": [
          1122,
          2617,
          4881,
          11183,
          14840,
          272868
         ],
         "xaxis": "x2",
         "y": [
          "Co-op apartment",
          "Office apartment",
          "Rented apartment",
          "Municipal apartment",
          "With parents",
          "House / apartment"
         ],
         "yaxis": "y2"
        }
       ],
       "layout": {
        "annotations": [
         {
          "font": {
           "size": 16
          },
          "showarrow": false,
          "text": "Applicants Education Type",
          "x": 0.225,
          "xanchor": "center",
          "xref": "paper",
          "y": 1,
          "yanchor": "bottom",
          "yref": "paper"
         },
         {
          "font": {
           "size": 16
          },
          "showarrow": false,
          "text": "Applicants Housing Type",
          "x": 0.775,
          "xanchor": "center",
          "xref": "paper",
          "y": 1,
          "yanchor": "bottom",
          "yref": "paper"
         }
        ],
        "height": 400,
        "margin": {
         "l": 100
        },
        "showlegend": false,
        "xaxis": {
         "anchor": "y",
         "domain": [
          0,
          0.45
         ]
        },
        "xaxis2": {
         "anchor": "y2",
         "domain": [
          0.55,
          1
         ]
        },
        "yaxis": {
         "anchor": "x",
         "domain": [
          0,
          1
         ]
        },
        "yaxis2": {
         "anchor": "x2",
         "domain": [
          0,
          1
         ]
        }
       }
      },
      "text/html": [
       "<div id=\"b4646bf2-4ccf-4fd3-87a9-70e01f2b4713\" style=\"height: 400px; width: 100%;\" class=\"plotly-graph-div\"></div><script type=\"text/javascript\">require([\"plotly\"], function(Plotly) { window.PLOTLYENV=window.PLOTLYENV || {};window.PLOTLYENV.BASE_URL=\"https://plot.ly\";\n",
       "        Plotly.plot(\n",
       "            'b4646bf2-4ccf-4fd3-87a9-70e01f2b4713',\n",
       "            [{\"marker\": {\"color\": \"#f975ae\"}, \"orientation\": \"h\", \"x\": [164.0, 3816.0, 10277.0, 74863.0, 218391.0], \"y\": [\"Academic degree\", \"Lower secondary\", \"Incomplete higher\", \"Higher education\", \"Secondary / secondary special\"], \"type\": \"bar\", \"uid\": \"2d1b5c52-959c-11e8-b48b-343dc4786be4\", \"xaxis\": \"x\", \"yaxis\": \"y\"}, {\"marker\": {\"color\": \"#f975ae\"}, \"orientation\": \"h\", \"x\": [1122.0, 2617.0, 4881.0, 11183.0, 14840.0, 272868.0], \"y\": [\"Co-op apartment\", \"Office apartment\", \"Rented apartment\", \"Municipal apartment\", \"With parents\", \"House / apartment\"], \"type\": \"bar\", \"uid\": \"2d1b5c53-959c-11e8-8488-343dc4786be4\", \"xaxis\": \"x2\", \"yaxis\": \"y2\"}],\n",
       "            {\"annotations\": [{\"font\": {\"size\": 16}, \"showarrow\": false, \"text\": \"Applicants Education Type\", \"x\": 0.225, \"xanchor\": \"center\", \"xref\": \"paper\", \"y\": 1.0, \"yanchor\": \"bottom\", \"yref\": \"paper\"}, {\"font\": {\"size\": 16}, \"showarrow\": false, \"text\": \"Applicants Housing Type\", \"x\": 0.775, \"xanchor\": \"center\", \"xref\": \"paper\", \"y\": 1.0, \"yanchor\": \"bottom\", \"yref\": \"paper\"}], \"xaxis\": {\"anchor\": \"y\", \"domain\": [0.0, 0.45]}, \"yaxis\": {\"anchor\": \"x\", \"domain\": [0.0, 1.0]}, \"xaxis2\": {\"anchor\": \"y2\", \"domain\": [0.55, 1.0]}, \"yaxis2\": {\"anchor\": \"x2\", \"domain\": [0.0, 1.0]}, \"margin\": {\"l\": 100}, \"height\": 400, \"showlegend\": false},\n",
       "            {\"showLink\": true, \"linkText\": \"Export to plot.ly\"}\n",
       "        ).then(function () {return Plotly.addFrames('b4646bf2-4ccf-4fd3-87a9-70e01f2b4713',{});}).then(function(){Plotly.animate('b4646bf2-4ccf-4fd3-87a9-70e01f2b4713');})\n",
       "        });</script>"
      ],
      "text/vnd.plotly.v1+html": [
       "<div id=\"b4646bf2-4ccf-4fd3-87a9-70e01f2b4713\" style=\"height: 400px; width: 100%;\" class=\"plotly-graph-div\"></div><script type=\"text/javascript\">require([\"plotly\"], function(Plotly) { window.PLOTLYENV=window.PLOTLYENV || {};window.PLOTLYENV.BASE_URL=\"https://plot.ly\";\n",
       "        Plotly.plot(\n",
       "            'b4646bf2-4ccf-4fd3-87a9-70e01f2b4713',\n",
       "            [{\"marker\": {\"color\": \"#f975ae\"}, \"orientation\": \"h\", \"x\": [164.0, 3816.0, 10277.0, 74863.0, 218391.0], \"y\": [\"Academic degree\", \"Lower secondary\", \"Incomplete higher\", \"Higher education\", \"Secondary / secondary special\"], \"type\": \"bar\", \"uid\": \"2d1b5c52-959c-11e8-b48b-343dc4786be4\", \"xaxis\": \"x\", \"yaxis\": \"y\"}, {\"marker\": {\"color\": \"#f975ae\"}, \"orientation\": \"h\", \"x\": [1122.0, 2617.0, 4881.0, 11183.0, 14840.0, 272868.0], \"y\": [\"Co-op apartment\", \"Office apartment\", \"Rented apartment\", \"Municipal apartment\", \"With parents\", \"House / apartment\"], \"type\": \"bar\", \"uid\": \"2d1b5c53-959c-11e8-8488-343dc4786be4\", \"xaxis\": \"x2\", \"yaxis\": \"y2\"}],\n",
       "            {\"annotations\": [{\"font\": {\"size\": 16}, \"showarrow\": false, \"text\": \"Applicants Education Type\", \"x\": 0.225, \"xanchor\": \"center\", \"xref\": \"paper\", \"y\": 1.0, \"yanchor\": \"bottom\", \"yref\": \"paper\"}, {\"font\": {\"size\": 16}, \"showarrow\": false, \"text\": \"Applicants Housing Type\", \"x\": 0.775, \"xanchor\": \"center\", \"xref\": \"paper\", \"y\": 1.0, \"yanchor\": \"bottom\", \"yref\": \"paper\"}], \"xaxis\": {\"anchor\": \"y\", \"domain\": [0.0, 0.45]}, \"yaxis\": {\"anchor\": \"x\", \"domain\": [0.0, 1.0]}, \"xaxis2\": {\"anchor\": \"y2\", \"domain\": [0.55, 1.0]}, \"yaxis2\": {\"anchor\": \"x2\", \"domain\": [0.0, 1.0]}, \"margin\": {\"l\": 100}, \"height\": 400, \"showlegend\": false},\n",
       "            {\"showLink\": true, \"linkText\": \"Export to plot.ly\"}\n",
       "        ).then(function () {return Plotly.addFrames('b4646bf2-4ccf-4fd3-87a9-70e01f2b4713',{});}).then(function(){Plotly.animate('b4646bf2-4ccf-4fd3-87a9-70e01f2b4713');})\n",
       "        });</script>"
      ]
     },
     "metadata": {},
     "output_type": "display_data"
    },
    {
     "data": {
      "application/vnd.plotly.v1+json": {
       "data": [
        {
         "marker": {
          "color": "#96D38C"
         },
         "name": "Target : 1",
         "type": "bar",
         "uid": "2d6540ec-959c-11e8-8fff-343dc4786be4",
         "x": [
          "Secondary / secondary special",
          "Higher education",
          "Incomplete higher",
          "Lower secondary",
          "Academic degree"
         ],
         "xaxis": "x",
         "y": [
          8.939928843221562,
          5.355115344028425,
          8.484966429891992,
          10.927672955974844,
          1.829268292682927
         ],
         "yaxis": "y"
        },
        {
         "marker": {
          "color": "#96D38C"
         },
         "name": "Target : 1",
         "type": "bar",
         "uid": "2d6540ed-959c-11e8-8b5f-343dc4786be4",
         "x": [
          "House / apartment",
          "With parents",
          "Municipal apartment",
          "Rented apartment",
          "Office apartment",
          "Co-op apartment"
         ],
         "xaxis": "x2",
         "y": [
          7.795710746588094,
          11.69811320754717,
          8.53974783153,
          12.313050604384348,
          6.572411157814291,
          7.932263814616756
         ],
         "yaxis": "y2"
        }
       ],
       "layout": {
        "annotations": [
         {
          "font": {
           "size": 16
          },
          "showarrow": false,
          "text": "Applicants Education Types, Target=1",
          "x": 0.225,
          "xanchor": "center",
          "xref": "paper",
          "y": 1,
          "yanchor": "bottom",
          "yref": "paper"
         },
         {
          "font": {
           "size": 16
          },
          "showarrow": false,
          "text": "Applicants Housing Type, Target=1",
          "x": 0.775,
          "xanchor": "center",
          "xref": "paper",
          "y": 1,
          "yanchor": "bottom",
          "yref": "paper"
         }
        ],
        "height": 350,
        "margin": {
         "l": 30
        },
        "showlegend": false,
        "xaxis": {
         "anchor": "y",
         "domain": [
          0,
          0.45
         ]
        },
        "xaxis2": {
         "anchor": "y2",
         "domain": [
          0.55,
          1
         ]
        },
        "yaxis": {
         "anchor": "x",
         "domain": [
          0,
          1
         ]
        },
        "yaxis2": {
         "anchor": "x2",
         "domain": [
          0,
          1
         ]
        }
       }
      },
      "text/html": [
       "<div id=\"69c1ce46-64f4-443f-91eb-09d7c38c8b09\" style=\"height: 350px; width: 100%;\" class=\"plotly-graph-div\"></div><script type=\"text/javascript\">require([\"plotly\"], function(Plotly) { window.PLOTLYENV=window.PLOTLYENV || {};window.PLOTLYENV.BASE_URL=\"https://plot.ly\";\n",
       "        Plotly.plot(\n",
       "            '69c1ce46-64f4-443f-91eb-09d7c38c8b09',\n",
       "            [{\"marker\": {\"color\": \"#96D38C\"}, \"name\": \"Target : 1\", \"x\": [\"Secondary / secondary special\", \"Higher education\", \"Incomplete higher\", \"Lower secondary\", \"Academic degree\"], \"y\": [8.939928843221562, 5.355115344028425, 8.484966429891992, 10.927672955974844, 1.829268292682927], \"type\": \"bar\", \"uid\": \"2d6540ec-959c-11e8-8fff-343dc4786be4\", \"xaxis\": \"x\", \"yaxis\": \"y\"}, {\"marker\": {\"color\": \"#96D38C\"}, \"name\": \"Target : 1\", \"x\": [\"House / apartment\", \"With parents\", \"Municipal apartment\", \"Rented apartment\", \"Office apartment\", \"Co-op apartment\"], \"y\": [7.795710746588094, 11.69811320754717, 8.53974783153, 12.313050604384348, 6.572411157814291, 7.932263814616756], \"type\": \"bar\", \"uid\": \"2d6540ed-959c-11e8-8b5f-343dc4786be4\", \"xaxis\": \"x2\", \"yaxis\": \"y2\"}],\n",
       "            {\"annotations\": [{\"font\": {\"size\": 16}, \"showarrow\": false, \"text\": \"Applicants Education Types, Target=1\", \"x\": 0.225, \"xanchor\": \"center\", \"xref\": \"paper\", \"y\": 1.0, \"yanchor\": \"bottom\", \"yref\": \"paper\"}, {\"font\": {\"size\": 16}, \"showarrow\": false, \"text\": \"Applicants Housing Type, Target=1\", \"x\": 0.775, \"xanchor\": \"center\", \"xref\": \"paper\", \"y\": 1.0, \"yanchor\": \"bottom\", \"yref\": \"paper\"}], \"xaxis\": {\"anchor\": \"y\", \"domain\": [0.0, 0.45]}, \"yaxis\": {\"anchor\": \"x\", \"domain\": [0.0, 1.0]}, \"xaxis2\": {\"anchor\": \"y2\", \"domain\": [0.55, 1.0]}, \"yaxis2\": {\"anchor\": \"x2\", \"domain\": [0.0, 1.0]}, \"margin\": {\"l\": 30}, \"height\": 350, \"showlegend\": false},\n",
       "            {\"showLink\": true, \"linkText\": \"Export to plot.ly\"}\n",
       "        ).then(function () {return Plotly.addFrames('69c1ce46-64f4-443f-91eb-09d7c38c8b09',{});}).then(function(){Plotly.animate('69c1ce46-64f4-443f-91eb-09d7c38c8b09');})\n",
       "        });</script>"
      ],
      "text/vnd.plotly.v1+html": [
       "<div id=\"69c1ce46-64f4-443f-91eb-09d7c38c8b09\" style=\"height: 350px; width: 100%;\" class=\"plotly-graph-div\"></div><script type=\"text/javascript\">require([\"plotly\"], function(Plotly) { window.PLOTLYENV=window.PLOTLYENV || {};window.PLOTLYENV.BASE_URL=\"https://plot.ly\";\n",
       "        Plotly.plot(\n",
       "            '69c1ce46-64f4-443f-91eb-09d7c38c8b09',\n",
       "            [{\"marker\": {\"color\": \"#96D38C\"}, \"name\": \"Target : 1\", \"x\": [\"Secondary / secondary special\", \"Higher education\", \"Incomplete higher\", \"Lower secondary\", \"Academic degree\"], \"y\": [8.939928843221562, 5.355115344028425, 8.484966429891992, 10.927672955974844, 1.829268292682927], \"type\": \"bar\", \"uid\": \"2d6540ec-959c-11e8-8fff-343dc4786be4\", \"xaxis\": \"x\", \"yaxis\": \"y\"}, {\"marker\": {\"color\": \"#96D38C\"}, \"name\": \"Target : 1\", \"x\": [\"House / apartment\", \"With parents\", \"Municipal apartment\", \"Rented apartment\", \"Office apartment\", \"Co-op apartment\"], \"y\": [7.795710746588094, 11.69811320754717, 8.53974783153, 12.313050604384348, 6.572411157814291, 7.932263814616756], \"type\": \"bar\", \"uid\": \"2d6540ed-959c-11e8-8b5f-343dc4786be4\", \"xaxis\": \"x2\", \"yaxis\": \"y2\"}],\n",
       "            {\"annotations\": [{\"font\": {\"size\": 16}, \"showarrow\": false, \"text\": \"Applicants Education Types, Target=1\", \"x\": 0.225, \"xanchor\": \"center\", \"xref\": \"paper\", \"y\": 1.0, \"yanchor\": \"bottom\", \"yref\": \"paper\"}, {\"font\": {\"size\": 16}, \"showarrow\": false, \"text\": \"Applicants Housing Type, Target=1\", \"x\": 0.775, \"xanchor\": \"center\", \"xref\": \"paper\", \"y\": 1.0, \"yanchor\": \"bottom\", \"yref\": \"paper\"}], \"xaxis\": {\"anchor\": \"y\", \"domain\": [0.0, 0.45]}, \"yaxis\": {\"anchor\": \"x\", \"domain\": [0.0, 1.0]}, \"xaxis2\": {\"anchor\": \"y2\", \"domain\": [0.55, 1.0]}, \"yaxis2\": {\"anchor\": \"x2\", \"domain\": [0.0, 1.0]}, \"margin\": {\"l\": 30}, \"height\": 350, \"showlegend\": false},\n",
       "            {\"showLink\": true, \"linkText\": \"Export to plot.ly\"}\n",
       "        ).then(function () {return Plotly.addFrames('69c1ce46-64f4-443f-91eb-09d7c38c8b09',{});}).then(function(){Plotly.animate('69c1ce46-64f4-443f-91eb-09d7c38c8b09');})\n",
       "        });</script>"
      ]
     },
     "metadata": {},
     "output_type": "display_data"
    }
   ],
   "source": [
    "tr1 = bar_hor(app_train, \"NAME_EDUCATION_TYPE\", \"Distribution of \" ,\"#f975ae\", w=700, lm=100, return_trace= True)\n",
    "tr2 = bar_hor(app_train, \"NAME_HOUSING_TYPE\", \"Distribution of \" ,\"#f975ae\", w=700, lm=100, return_trace = True)\n",
    "\n",
    "fig = tools.make_subplots(rows=1, cols=2, print_grid=False, subplot_titles = ['Applicants Education Type', 'Applicants Housing Type' ])\n",
    "fig.append_trace(tr1, 1, 1);\n",
    "fig.append_trace(tr2, 1, 2);\n",
    "fig['layout'].update(height=400, showlegend=False, margin=dict(l=100));\n",
    "iplot(fig);\n",
    "\n",
    "\n",
    "tr1, tr2 = gp('NAME_EDUCATION_TYPE', 'Applicants Income Types which repayed the loan')\n",
    "tr3, tr4 = gp('NAME_HOUSING_TYPE', 'Applicants Income Types which repayed the loan')\n",
    "fig = tools.make_subplots(rows=1, cols=2, print_grid=False, \n",
    "                          subplot_titles = [\"Applicants Education Types, Target=1\", \"Applicants Housing Type, Target=1\"])\n",
    "fig.append_trace(tr1, 1, 1);\n",
    "fig.append_trace(tr3, 1, 2);\n",
    "fig['layout'].update(height=350, showlegend=False, margin=dict(l=30));\n",
    "iplot(fig);"
   ]
  },
  {
   "cell_type": "markdown",
   "metadata": {
    "_cell_guid": "1424ad43-b276-476d-94d8-56778cdb11c4",
    "_uuid": "6f00b6ce39f587f08e1fec290e4e077ea1f37247"
   },
   "source": [
    "> A large number of applications (218K) are filed by people having secondary education followed by people with Higher Education with 75K applications. Applicants living in House / apartments has the highest number of loan apllications equal to 272K. While we see that the applicants with Lower Secondary education status has the highest percentage of payment related problems. Also, Applicants living in apartments or living with parents also shows the same trend. "
   ]
  },
  {
   "cell_type": "markdown",
   "metadata": {
    "_cell_guid": "a21046cc-aaec-412e-a48d-3f703719c103",
    "_uuid": "15253e3157f009bf3024ab49119201a688431913"
   },
   "source": [
    "### <a id=\"2.9\">2.9. Which Organization and Occupation Type applies for loan and which repays </a>"
   ]
  },
  {
   "cell_type": "code",
   "execution_count": 11,
   "metadata": {
    "_cell_guid": "d801838f-659a-4a7a-8487-61dcbc9c7b32",
    "_kg_hide-input": true,
    "_uuid": "4da4b17a348dc1077f3e0a1c503dd455b40b3482"
   },
   "outputs": [
    {
     "data": {
      "application/vnd.plotly.v1+json": {
       "data": [
        {
         "marker": {
          "color": "#f975ae"
         },
         "orientation": "h",
         "type": "bar",
         "uid": "2d75ef0c-959c-11e8-87cc-343dc4786be4",
         "x": [
          24,
          49,
          64,
          67,
          85,
          109,
          112,
          201,
          260,
          305,
          317,
          348,
          369,
          379,
          396,
          429,
          458,
          560,
          577,
          597,
          599,
          631,
          877,
          950,
          966,
          1039,
          1187,
          1307,
          1327,
          1575,
          1811,
          1900,
          1974,
          2157,
          2204,
          2341,
          2454,
          2507,
          2634,
          2704,
          2958,
          3247,
          3278,
          3368,
          3492,
          5398,
          5984,
          6721,
          6880,
          7831,
          8893,
          10404,
          10553,
          11193,
          16683,
          38412,
          55374,
          67992
         ],
         "xaxis": "x",
         "y": [
          "Industry: type 8",
          "Trade: type 5",
          "Trade: type 4",
          "Industry: type 13",
          "Religion",
          "Industry: type 10",
          "Industry: type 6",
          "Transport: type 1",
          "Cleaning",
          "Legal Services",
          "Mobile",
          "Trade: type 1",
          "Industry: type 12",
          "Culture",
          "Realtor",
          "Advertising",
          "Industry: type 2",
          "Emergency",
          "Telecom",
          "Insurance",
          "Industry: type 5",
          "Trade: type 6",
          "Industry: type 4",
          "Electricity",
          "Hotel",
          "Industry: type 1",
          "Transport: type 3",
          "Industry: type 7",
          "University",
          "Services",
          "Restaurant",
          "Trade: type 2",
          "Security Ministries",
          "Postal",
          "Transport: type 2",
          "Police",
          "Agriculture",
          "Bank",
          "Military",
          "Industry: type 11",
          "Housing",
          "Security",
          "Industry: type 3",
          "Industry: type 9",
          "Trade: type 3",
          "Transport: type 4",
          "Business Entity Type 1",
          "Construction",
          "Kindergarten",
          "Trade: type 7",
          "School",
          "Government",
          "Business Entity Type 2",
          "Medicine",
          "Other",
          "Self-employed",
          "XNA",
          "Business Entity Type 3"
         ],
         "yaxis": "y"
        },
        {
         "marker": {
          "color": "#f975ae"
         },
         "orientation": "h",
         "type": "bar",
         "uid": "2d75ef0d-959c-11e8-a3c1-343dc4786be4",
         "x": [
          526,
          563,
          751,
          1305,
          1348,
          2093,
          2652,
          4653,
          5946,
          6721,
          8537,
          9813,
          11380,
          18603,
          21371,
          27570,
          32102,
          55186
         ],
         "xaxis": "x2",
         "y": [
          "IT staff",
          "HR staff",
          "Realty agents",
          "Secretaries",
          "Waiters/barmen staff",
          "Low-skill Laborers",
          "Private service staff",
          "Cleaning staff",
          "Cooking staff",
          "Security staff",
          "Medicine staff",
          "Accountants",
          "High skill tech staff",
          "Drivers",
          "Managers",
          "Core staff",
          "Sales staff",
          "Laborers"
         ],
         "yaxis": "y2"
        }
       ],
       "layout": {
        "annotations": [
         {
          "font": {
           "size": 16
          },
          "showarrow": false,
          "text": "Applicants Organization Type",
          "x": 0.225,
          "xanchor": "center",
          "xref": "paper",
          "y": 1,
          "yanchor": "bottom",
          "yref": "paper"
         },
         {
          "font": {
           "size": 16
          },
          "showarrow": false,
          "text": "Applicants Occupation Type",
          "x": 0.775,
          "xanchor": "center",
          "xref": "paper",
          "y": 1,
          "yanchor": "bottom",
          "yref": "paper"
         }
        ],
        "height": 600,
        "margin": {
         "l": 150
        },
        "showlegend": false,
        "xaxis": {
         "anchor": "y",
         "domain": [
          0,
          0.45
         ]
        },
        "xaxis2": {
         "anchor": "y2",
         "domain": [
          0.55,
          1
         ]
        },
        "yaxis": {
         "anchor": "x",
         "domain": [
          0,
          1
         ]
        },
        "yaxis2": {
         "anchor": "x2",
         "domain": [
          0,
          1
         ]
        }
       }
      },
      "text/html": [
       "<div id=\"01c277be-bec1-4ee7-9d1c-85df661a6895\" style=\"height: 600px; width: 100%;\" class=\"plotly-graph-div\"></div><script type=\"text/javascript\">require([\"plotly\"], function(Plotly) { window.PLOTLYENV=window.PLOTLYENV || {};window.PLOTLYENV.BASE_URL=\"https://plot.ly\";\n",
       "        Plotly.plot(\n",
       "            '01c277be-bec1-4ee7-9d1c-85df661a6895',\n",
       "            [{\"marker\": {\"color\": \"#f975ae\"}, \"orientation\": \"h\", \"x\": [24.0, 49.0, 64.0, 67.0, 85.0, 109.0, 112.0, 201.0, 260.0, 305.0, 317.0, 348.0, 369.0, 379.0, 396.0, 429.0, 458.0, 560.0, 577.0, 597.0, 599.0, 631.0, 877.0, 950.0, 966.0, 1039.0, 1187.0, 1307.0, 1327.0, 1575.0, 1811.0, 1900.0, 1974.0, 2157.0, 2204.0, 2341.0, 2454.0, 2507.0, 2634.0, 2704.0, 2958.0, 3247.0, 3278.0, 3368.0, 3492.0, 5398.0, 5984.0, 6721.0, 6880.0, 7831.0, 8893.0, 10404.0, 10553.0, 11193.0, 16683.0, 38412.0, 55374.0, 67992.0], \"y\": [\"Industry: type 8\", \"Trade: type 5\", \"Trade: type 4\", \"Industry: type 13\", \"Religion\", \"Industry: type 10\", \"Industry: type 6\", \"Transport: type 1\", \"Cleaning\", \"Legal Services\", \"Mobile\", \"Trade: type 1\", \"Industry: type 12\", \"Culture\", \"Realtor\", \"Advertising\", \"Industry: type 2\", \"Emergency\", \"Telecom\", \"Insurance\", \"Industry: type 5\", \"Trade: type 6\", \"Industry: type 4\", \"Electricity\", \"Hotel\", \"Industry: type 1\", \"Transport: type 3\", \"Industry: type 7\", \"University\", \"Services\", \"Restaurant\", \"Trade: type 2\", \"Security Ministries\", \"Postal\", \"Transport: type 2\", \"Police\", \"Agriculture\", \"Bank\", \"Military\", \"Industry: type 11\", \"Housing\", \"Security\", \"Industry: type 3\", \"Industry: type 9\", \"Trade: type 3\", \"Transport: type 4\", \"Business Entity Type 1\", \"Construction\", \"Kindergarten\", \"Trade: type 7\", \"School\", \"Government\", \"Business Entity Type 2\", \"Medicine\", \"Other\", \"Self-employed\", \"XNA\", \"Business Entity Type 3\"], \"type\": \"bar\", \"uid\": \"2d75ef0c-959c-11e8-87cc-343dc4786be4\", \"xaxis\": \"x\", \"yaxis\": \"y\"}, {\"marker\": {\"color\": \"#f975ae\"}, \"orientation\": \"h\", \"x\": [526.0, 563.0, 751.0, 1305.0, 1348.0, 2093.0, 2652.0, 4653.0, 5946.0, 6721.0, 8537.0, 9813.0, 11380.0, 18603.0, 21371.0, 27570.0, 32102.0, 55186.0], \"y\": [\"IT staff\", \"HR staff\", \"Realty agents\", \"Secretaries\", \"Waiters/barmen staff\", \"Low-skill Laborers\", \"Private service staff\", \"Cleaning staff\", \"Cooking staff\", \"Security staff\", \"Medicine staff\", \"Accountants\", \"High skill tech staff\", \"Drivers\", \"Managers\", \"Core staff\", \"Sales staff\", \"Laborers\"], \"type\": \"bar\", \"uid\": \"2d75ef0d-959c-11e8-a3c1-343dc4786be4\", \"xaxis\": \"x2\", \"yaxis\": \"y2\"}],\n",
       "            {\"annotations\": [{\"font\": {\"size\": 16}, \"showarrow\": false, \"text\": \"Applicants Organization Type\", \"x\": 0.225, \"xanchor\": \"center\", \"xref\": \"paper\", \"y\": 1.0, \"yanchor\": \"bottom\", \"yref\": \"paper\"}, {\"font\": {\"size\": 16}, \"showarrow\": false, \"text\": \"Applicants Occupation Type\", \"x\": 0.775, \"xanchor\": \"center\", \"xref\": \"paper\", \"y\": 1.0, \"yanchor\": \"bottom\", \"yref\": \"paper\"}], \"xaxis\": {\"anchor\": \"y\", \"domain\": [0.0, 0.45]}, \"yaxis\": {\"anchor\": \"x\", \"domain\": [0.0, 1.0]}, \"xaxis2\": {\"anchor\": \"y2\", \"domain\": [0.55, 1.0]}, \"yaxis2\": {\"anchor\": \"x2\", \"domain\": [0.0, 1.0]}, \"margin\": {\"l\": 150}, \"height\": 600, \"showlegend\": false},\n",
       "            {\"showLink\": true, \"linkText\": \"Export to plot.ly\"}\n",
       "        ).then(function () {return Plotly.addFrames('01c277be-bec1-4ee7-9d1c-85df661a6895',{});}).then(function(){Plotly.animate('01c277be-bec1-4ee7-9d1c-85df661a6895');})\n",
       "        });</script>"
      ],
      "text/vnd.plotly.v1+html": [
       "<div id=\"01c277be-bec1-4ee7-9d1c-85df661a6895\" style=\"height: 600px; width: 100%;\" class=\"plotly-graph-div\"></div><script type=\"text/javascript\">require([\"plotly\"], function(Plotly) { window.PLOTLYENV=window.PLOTLYENV || {};window.PLOTLYENV.BASE_URL=\"https://plot.ly\";\n",
       "        Plotly.plot(\n",
       "            '01c277be-bec1-4ee7-9d1c-85df661a6895',\n",
       "            [{\"marker\": {\"color\": \"#f975ae\"}, \"orientation\": \"h\", \"x\": [24.0, 49.0, 64.0, 67.0, 85.0, 109.0, 112.0, 201.0, 260.0, 305.0, 317.0, 348.0, 369.0, 379.0, 396.0, 429.0, 458.0, 560.0, 577.0, 597.0, 599.0, 631.0, 877.0, 950.0, 966.0, 1039.0, 1187.0, 1307.0, 1327.0, 1575.0, 1811.0, 1900.0, 1974.0, 2157.0, 2204.0, 2341.0, 2454.0, 2507.0, 2634.0, 2704.0, 2958.0, 3247.0, 3278.0, 3368.0, 3492.0, 5398.0, 5984.0, 6721.0, 6880.0, 7831.0, 8893.0, 10404.0, 10553.0, 11193.0, 16683.0, 38412.0, 55374.0, 67992.0], \"y\": [\"Industry: type 8\", \"Trade: type 5\", \"Trade: type 4\", \"Industry: type 13\", \"Religion\", \"Industry: type 10\", \"Industry: type 6\", \"Transport: type 1\", \"Cleaning\", \"Legal Services\", \"Mobile\", \"Trade: type 1\", \"Industry: type 12\", \"Culture\", \"Realtor\", \"Advertising\", \"Industry: type 2\", \"Emergency\", \"Telecom\", \"Insurance\", \"Industry: type 5\", \"Trade: type 6\", \"Industry: type 4\", \"Electricity\", \"Hotel\", \"Industry: type 1\", \"Transport: type 3\", \"Industry: type 7\", \"University\", \"Services\", \"Restaurant\", \"Trade: type 2\", \"Security Ministries\", \"Postal\", \"Transport: type 2\", \"Police\", \"Agriculture\", \"Bank\", \"Military\", \"Industry: type 11\", \"Housing\", \"Security\", \"Industry: type 3\", \"Industry: type 9\", \"Trade: type 3\", \"Transport: type 4\", \"Business Entity Type 1\", \"Construction\", \"Kindergarten\", \"Trade: type 7\", \"School\", \"Government\", \"Business Entity Type 2\", \"Medicine\", \"Other\", \"Self-employed\", \"XNA\", \"Business Entity Type 3\"], \"type\": \"bar\", \"uid\": \"2d75ef0c-959c-11e8-87cc-343dc4786be4\", \"xaxis\": \"x\", \"yaxis\": \"y\"}, {\"marker\": {\"color\": \"#f975ae\"}, \"orientation\": \"h\", \"x\": [526.0, 563.0, 751.0, 1305.0, 1348.0, 2093.0, 2652.0, 4653.0, 5946.0, 6721.0, 8537.0, 9813.0, 11380.0, 18603.0, 21371.0, 27570.0, 32102.0, 55186.0], \"y\": [\"IT staff\", \"HR staff\", \"Realty agents\", \"Secretaries\", \"Waiters/barmen staff\", \"Low-skill Laborers\", \"Private service staff\", \"Cleaning staff\", \"Cooking staff\", \"Security staff\", \"Medicine staff\", \"Accountants\", \"High skill tech staff\", \"Drivers\", \"Managers\", \"Core staff\", \"Sales staff\", \"Laborers\"], \"type\": \"bar\", \"uid\": \"2d75ef0d-959c-11e8-a3c1-343dc4786be4\", \"xaxis\": \"x2\", \"yaxis\": \"y2\"}],\n",
       "            {\"annotations\": [{\"font\": {\"size\": 16}, \"showarrow\": false, \"text\": \"Applicants Organization Type\", \"x\": 0.225, \"xanchor\": \"center\", \"xref\": \"paper\", \"y\": 1.0, \"yanchor\": \"bottom\", \"yref\": \"paper\"}, {\"font\": {\"size\": 16}, \"showarrow\": false, \"text\": \"Applicants Occupation Type\", \"x\": 0.775, \"xanchor\": \"center\", \"xref\": \"paper\", \"y\": 1.0, \"yanchor\": \"bottom\", \"yref\": \"paper\"}], \"xaxis\": {\"anchor\": \"y\", \"domain\": [0.0, 0.45]}, \"yaxis\": {\"anchor\": \"x\", \"domain\": [0.0, 1.0]}, \"xaxis2\": {\"anchor\": \"y2\", \"domain\": [0.55, 1.0]}, \"yaxis2\": {\"anchor\": \"x2\", \"domain\": [0.0, 1.0]}, \"margin\": {\"l\": 150}, \"height\": 600, \"showlegend\": false},\n",
       "            {\"showLink\": true, \"linkText\": \"Export to plot.ly\"}\n",
       "        ).then(function () {return Plotly.addFrames('01c277be-bec1-4ee7-9d1c-85df661a6895',{});}).then(function(){Plotly.animate('01c277be-bec1-4ee7-9d1c-85df661a6895');})\n",
       "        });</script>"
      ]
     },
     "metadata": {},
     "output_type": "display_data"
    }
   ],
   "source": [
    "tr1 = bar_hor(app_train, \"ORGANIZATION_TYPE\", \"Distribution of \" ,\"#f975ae\", w=700, lm=100, return_trace= True)\n",
    "tr2 = bar_hor(app_train, \"OCCUPATION_TYPE\", \"Distribution of \" ,\"#f975ae\", w=700, lm=100, return_trace = True)\n",
    "fig = tools.make_subplots(rows=1, cols=2, print_grid=False, subplot_titles = ['Applicants Organization Type', 'Applicants Occupation Type' ])\n",
    "fig.append_trace(tr1, 1, 1);\n",
    "fig.append_trace(tr2, 1, 2);\n",
    "fig['layout'].update(height=600, showlegend=False, margin=dict(l=150));\n",
    "iplot(fig);"
   ]
  },
  {
   "cell_type": "markdown",
   "metadata": {
    "_cell_guid": "ef6b95af-4ba5-49fc-908c-f779abbf1bf7",
    "_uuid": "a788d09a4297c0ca34f2dfa9f0d4248923c9eb34"
   },
   "source": [
    "> Top Applicant's who applied for loan : Laborers - Approx 55 K, Sales Staff - Approx 32 K, Core staff - Approx 28 K. Entity Type 3 type organizations have filed maximum number of loans equal to approx 67K\n",
    "\n",
    "### <a id=\"2.9.1\">2.9.1 Target Variable with respect to Organization and Occupation Type </a>"
   ]
  },
  {
   "cell_type": "code",
   "execution_count": 12,
   "metadata": {
    "_cell_guid": "3bccf6a4-022e-421a-a01d-873889ba7ef4",
    "_kg_hide-input": true,
    "_uuid": "649f9cdfaacc606bd22cce037de014e59cb8c6eb"
   },
   "outputs": [
    {
     "data": {
      "application/vnd.plotly.v1+json": {
       "data": [
        {
         "marker": {
          "color": "#96D38C"
         },
         "name": "Target : 1",
         "type": "bar",
         "uid": "2dc2439a-959c-11e8-a997-343dc4786be4",
         "x": [
          "Business Entity Type 3",
          "Self-employed",
          "XNA",
          "Other",
          "Business Entity Type 2",
          "Construction",
          "Trade: type 7",
          "Medicine",
          "Government",
          "School",
          "Transport: type 4",
          "Business Entity Type 1",
          "Kindergarten",
          "Trade: type 3",
          "Industry: type 3",
          "Security",
          "Agriculture",
          "Housing",
          "Industry: type 11",
          "Industry: type 9",
          "Restaurant",
          "Transport: type 3",
          "Postal",
          "Transport: type 2",
          "Military",
          "Trade: type 2",
          "Bank",
          "Police",
          "Industry: type 1",
          "Industry: type 7",
          "Services",
          "Security Ministries",
          "Industry: type 4",
          "University",
          "Electricity",
          "Hotel",
          "Telecom",
          "Realtor",
          "Industry: type 5",
          "Emergency",
          "Advertising",
          "Insurance",
          "Industry: type 2",
          "Trade: type 1",
          "Trade: type 6",
          "Mobile",
          "Cleaning",
          "Legal Services",
          "Culture",
          "Industry: type 12",
          "Industry: type 13",
          "Transport: type 1",
          "Industry: type 6",
          "Industry: type 10",
          "Religion",
          "Trade: type 5",
          "Industry: type 8",
          "Trade: type 4"
         ],
         "xaxis": "x",
         "y": [
          9.299623485115896,
          10.173903988336978,
          5.399646043269405,
          7.642510339866931,
          8.528380555292333,
          11.679809552149978,
          9.44962329204444,
          6.584472438130975,
          6.978085351787774,
          5.914764421455077,
          9.28121526491293,
          8.13836898395722,
          7.034883720930233,
          10.337915234822452,
          10.616229408175716,
          9.978441638435479,
          10.472697636511818,
          7.944557133198106,
          8.653846153846153,
          6.680522565320665,
          11.706239646604086,
          15.754001684919967,
          8.437644877144182,
          7.80399274047187,
          5.125284738041002,
          7,
          5.1854806541683285,
          4.997864160615122,
          11.068334937439847,
          8.033664881407804,
          6.603174603174603,
          4.86322188449848,
          10.148232611174459,
          4.898266767143934,
          6.631578947368421,
          6.418219461697722,
          7.625649913344887,
          10.606060606060606,
          6.844741235392321,
          7.142857142857143,
          8.158508158508159,
          5.695142378559464,
          7.205240174672489,
          8.908045977011493,
          4.595879556259905,
          9.14826498422713,
          11.153846153846153,
          7.868852459016393,
          5.54089709762533,
          3.794037940379404,
          13.432835820895523,
          4.477611940298507,
          7.142857142857143,
          6.422018348623853,
          5.882352941176471,
          6.122448979591836,
          12.5,
          3.125
         ],
         "yaxis": "y"
        },
        {
         "marker": {
          "color": "#96D38C"
         },
         "name": "Target : 1",
         "type": "bar",
         "uid": "2dc4a4b4-959c-11e8-b15d-343dc4786be4",
         "x": [
          "Laborers",
          "Sales staff",
          "Drivers",
          "Core staff",
          "Managers",
          "Security staff",
          "High skill tech staff",
          "Cooking staff",
          "Medicine staff",
          "Accountants",
          "Cleaning staff",
          "Low-skill Laborers",
          "Private service staff",
          "Waiters/barmen staff",
          "Secretaries",
          "Realty agents",
          "HR staff",
          "IT staff"
         ],
         "xaxis": "x2",
         "y": [
          10.578769977892945,
          9.63179864182917,
          11.326130194054722,
          6.303953572723976,
          6.214028356183613,
          10.74244904032138,
          6.1599297012302285,
          10.443995963673057,
          6.700245988052009,
          4.830327117089575,
          9.606705351386202,
          17.152412804586717,
          6.5987933634992455,
          11.275964391691394,
          7.049808429118774,
          7.856191744340879,
          6.394316163410302,
          6.4638783269961975
         ],
         "yaxis": "y2"
        }
       ],
       "layout": {
        "annotations": [
         {
          "font": {
           "size": 16
          },
          "showarrow": false,
          "text": "Applicants Organization Types - Repayed",
          "x": 0.225,
          "xanchor": "center",
          "xref": "paper",
          "y": 1,
          "yanchor": "bottom",
          "yref": "paper"
         },
         {
          "font": {
           "size": 16
          },
          "showarrow": false,
          "text": "Applicants Occupation Type - Repayed",
          "x": 0.775,
          "xanchor": "center",
          "xref": "paper",
          "y": 1,
          "yanchor": "bottom",
          "yref": "paper"
         }
        ],
        "height": 350,
        "margin": {
         "l": 120
        },
        "showlegend": false,
        "xaxis": {
         "anchor": "y",
         "domain": [
          0,
          0.45
         ]
        },
        "xaxis2": {
         "anchor": "y2",
         "domain": [
          0.55,
          1
         ]
        },
        "yaxis": {
         "anchor": "x",
         "domain": [
          0,
          1
         ]
        },
        "yaxis2": {
         "anchor": "x2",
         "domain": [
          0,
          1
         ]
        }
       }
      },
      "text/html": [
       "<div id=\"c2b56552-99a3-4164-85cc-797f6d9ab891\" style=\"height: 350px; width: 100%;\" class=\"plotly-graph-div\"></div><script type=\"text/javascript\">require([\"plotly\"], function(Plotly) { window.PLOTLYENV=window.PLOTLYENV || {};window.PLOTLYENV.BASE_URL=\"https://plot.ly\";\n",
       "        Plotly.plot(\n",
       "            'c2b56552-99a3-4164-85cc-797f6d9ab891',\n",
       "            [{\"marker\": {\"color\": \"#96D38C\"}, \"name\": \"Target : 1\", \"x\": [\"Business Entity Type 3\", \"Self-employed\", \"XNA\", \"Other\", \"Business Entity Type 2\", \"Construction\", \"Trade: type 7\", \"Medicine\", \"Government\", \"School\", \"Transport: type 4\", \"Business Entity Type 1\", \"Kindergarten\", \"Trade: type 3\", \"Industry: type 3\", \"Security\", \"Agriculture\", \"Housing\", \"Industry: type 11\", \"Industry: type 9\", \"Restaurant\", \"Transport: type 3\", \"Postal\", \"Transport: type 2\", \"Military\", \"Trade: type 2\", \"Bank\", \"Police\", \"Industry: type 1\", \"Industry: type 7\", \"Services\", \"Security Ministries\", \"Industry: type 4\", \"University\", \"Electricity\", \"Hotel\", \"Telecom\", \"Realtor\", \"Industry: type 5\", \"Emergency\", \"Advertising\", \"Insurance\", \"Industry: type 2\", \"Trade: type 1\", \"Trade: type 6\", \"Mobile\", \"Cleaning\", \"Legal Services\", \"Culture\", \"Industry: type 12\", \"Industry: type 13\", \"Transport: type 1\", \"Industry: type 6\", \"Industry: type 10\", \"Religion\", \"Trade: type 5\", \"Industry: type 8\", \"Trade: type 4\"], \"y\": [9.299623485115896, 10.173903988336978, 5.399646043269405, 7.642510339866931, 8.528380555292333, 11.679809552149978, 9.44962329204444, 6.584472438130975, 6.978085351787774, 5.914764421455077, 9.28121526491293, 8.13836898395722, 7.034883720930233, 10.337915234822452, 10.616229408175716, 9.978441638435479, 10.472697636511818, 7.944557133198106, 8.653846153846153, 6.680522565320665, 11.706239646604086, 15.754001684919967, 8.437644877144182, 7.80399274047187, 5.125284738041002, 7.0, 5.1854806541683285, 4.997864160615122, 11.068334937439847, 8.033664881407804, 6.603174603174603, 4.86322188449848, 10.148232611174459, 4.898266767143934, 6.631578947368421, 6.418219461697722, 7.625649913344887, 10.606060606060606, 6.844741235392321, 7.142857142857143, 8.158508158508159, 5.695142378559464, 7.205240174672489, 8.908045977011493, 4.595879556259905, 9.14826498422713, 11.153846153846153, 7.868852459016393, 5.54089709762533, 3.794037940379404, 13.432835820895523, 4.477611940298507, 7.142857142857143, 6.422018348623853, 5.882352941176471, 6.122448979591836, 12.5, 3.125], \"type\": \"bar\", \"uid\": \"2dc2439a-959c-11e8-a997-343dc4786be4\", \"xaxis\": \"x\", \"yaxis\": \"y\"}, {\"marker\": {\"color\": \"#96D38C\"}, \"name\": \"Target : 1\", \"x\": [\"Laborers\", \"Sales staff\", \"Drivers\", \"Core staff\", \"Managers\", \"Security staff\", \"High skill tech staff\", \"Cooking staff\", \"Medicine staff\", \"Accountants\", \"Cleaning staff\", \"Low-skill Laborers\", \"Private service staff\", \"Waiters/barmen staff\", \"Secretaries\", \"Realty agents\", \"HR staff\", \"IT staff\"], \"y\": [10.578769977892945, 9.63179864182917, 11.326130194054722, 6.303953572723976, 6.214028356183613, 10.74244904032138, 6.1599297012302285, 10.443995963673057, 6.700245988052009, 4.830327117089575, 9.606705351386202, 17.152412804586717, 6.5987933634992455, 11.275964391691394, 7.049808429118774, 7.856191744340879, 6.394316163410302, 6.4638783269961975], \"type\": \"bar\", \"uid\": \"2dc4a4b4-959c-11e8-b15d-343dc4786be4\", \"xaxis\": \"x2\", \"yaxis\": \"y2\"}],\n",
       "            {\"annotations\": [{\"font\": {\"size\": 16}, \"showarrow\": false, \"text\": \"Applicants Organization Types - Repayed\", \"x\": 0.225, \"xanchor\": \"center\", \"xref\": \"paper\", \"y\": 1.0, \"yanchor\": \"bottom\", \"yref\": \"paper\"}, {\"font\": {\"size\": 16}, \"showarrow\": false, \"text\": \"Applicants Occupation Type - Repayed\", \"x\": 0.775, \"xanchor\": \"center\", \"xref\": \"paper\", \"y\": 1.0, \"yanchor\": \"bottom\", \"yref\": \"paper\"}], \"xaxis\": {\"anchor\": \"y\", \"domain\": [0.0, 0.45]}, \"yaxis\": {\"anchor\": \"x\", \"domain\": [0.0, 1.0]}, \"xaxis2\": {\"anchor\": \"y2\", \"domain\": [0.55, 1.0]}, \"yaxis2\": {\"anchor\": \"x2\", \"domain\": [0.0, 1.0]}, \"margin\": {\"l\": 120}, \"height\": 350, \"showlegend\": false},\n",
       "            {\"showLink\": true, \"linkText\": \"Export to plot.ly\"}\n",
       "        ).then(function () {return Plotly.addFrames('c2b56552-99a3-4164-85cc-797f6d9ab891',{});}).then(function(){Plotly.animate('c2b56552-99a3-4164-85cc-797f6d9ab891');})\n",
       "        });</script>"
      ],
      "text/vnd.plotly.v1+html": [
       "<div id=\"c2b56552-99a3-4164-85cc-797f6d9ab891\" style=\"height: 350px; width: 100%;\" class=\"plotly-graph-div\"></div><script type=\"text/javascript\">require([\"plotly\"], function(Plotly) { window.PLOTLYENV=window.PLOTLYENV || {};window.PLOTLYENV.BASE_URL=\"https://plot.ly\";\n",
       "        Plotly.plot(\n",
       "            'c2b56552-99a3-4164-85cc-797f6d9ab891',\n",
       "            [{\"marker\": {\"color\": \"#96D38C\"}, \"name\": \"Target : 1\", \"x\": [\"Business Entity Type 3\", \"Self-employed\", \"XNA\", \"Other\", \"Business Entity Type 2\", \"Construction\", \"Trade: type 7\", \"Medicine\", \"Government\", \"School\", \"Transport: type 4\", \"Business Entity Type 1\", \"Kindergarten\", \"Trade: type 3\", \"Industry: type 3\", \"Security\", \"Agriculture\", \"Housing\", \"Industry: type 11\", \"Industry: type 9\", \"Restaurant\", \"Transport: type 3\", \"Postal\", \"Transport: type 2\", \"Military\", \"Trade: type 2\", \"Bank\", \"Police\", \"Industry: type 1\", \"Industry: type 7\", \"Services\", \"Security Ministries\", \"Industry: type 4\", \"University\", \"Electricity\", \"Hotel\", \"Telecom\", \"Realtor\", \"Industry: type 5\", \"Emergency\", \"Advertising\", \"Insurance\", \"Industry: type 2\", \"Trade: type 1\", \"Trade: type 6\", \"Mobile\", \"Cleaning\", \"Legal Services\", \"Culture\", \"Industry: type 12\", \"Industry: type 13\", \"Transport: type 1\", \"Industry: type 6\", \"Industry: type 10\", \"Religion\", \"Trade: type 5\", \"Industry: type 8\", \"Trade: type 4\"], \"y\": [9.299623485115896, 10.173903988336978, 5.399646043269405, 7.642510339866931, 8.528380555292333, 11.679809552149978, 9.44962329204444, 6.584472438130975, 6.978085351787774, 5.914764421455077, 9.28121526491293, 8.13836898395722, 7.034883720930233, 10.337915234822452, 10.616229408175716, 9.978441638435479, 10.472697636511818, 7.944557133198106, 8.653846153846153, 6.680522565320665, 11.706239646604086, 15.754001684919967, 8.437644877144182, 7.80399274047187, 5.125284738041002, 7.0, 5.1854806541683285, 4.997864160615122, 11.068334937439847, 8.033664881407804, 6.603174603174603, 4.86322188449848, 10.148232611174459, 4.898266767143934, 6.631578947368421, 6.418219461697722, 7.625649913344887, 10.606060606060606, 6.844741235392321, 7.142857142857143, 8.158508158508159, 5.695142378559464, 7.205240174672489, 8.908045977011493, 4.595879556259905, 9.14826498422713, 11.153846153846153, 7.868852459016393, 5.54089709762533, 3.794037940379404, 13.432835820895523, 4.477611940298507, 7.142857142857143, 6.422018348623853, 5.882352941176471, 6.122448979591836, 12.5, 3.125], \"type\": \"bar\", \"uid\": \"2dc2439a-959c-11e8-a997-343dc4786be4\", \"xaxis\": \"x\", \"yaxis\": \"y\"}, {\"marker\": {\"color\": \"#96D38C\"}, \"name\": \"Target : 1\", \"x\": [\"Laborers\", \"Sales staff\", \"Drivers\", \"Core staff\", \"Managers\", \"Security staff\", \"High skill tech staff\", \"Cooking staff\", \"Medicine staff\", \"Accountants\", \"Cleaning staff\", \"Low-skill Laborers\", \"Private service staff\", \"Waiters/barmen staff\", \"Secretaries\", \"Realty agents\", \"HR staff\", \"IT staff\"], \"y\": [10.578769977892945, 9.63179864182917, 11.326130194054722, 6.303953572723976, 6.214028356183613, 10.74244904032138, 6.1599297012302285, 10.443995963673057, 6.700245988052009, 4.830327117089575, 9.606705351386202, 17.152412804586717, 6.5987933634992455, 11.275964391691394, 7.049808429118774, 7.856191744340879, 6.394316163410302, 6.4638783269961975], \"type\": \"bar\", \"uid\": \"2dc4a4b4-959c-11e8-b15d-343dc4786be4\", \"xaxis\": \"x2\", \"yaxis\": \"y2\"}],\n",
       "            {\"annotations\": [{\"font\": {\"size\": 16}, \"showarrow\": false, \"text\": \"Applicants Organization Types - Repayed\", \"x\": 0.225, \"xanchor\": \"center\", \"xref\": \"paper\", \"y\": 1.0, \"yanchor\": \"bottom\", \"yref\": \"paper\"}, {\"font\": {\"size\": 16}, \"showarrow\": false, \"text\": \"Applicants Occupation Type - Repayed\", \"x\": 0.775, \"xanchor\": \"center\", \"xref\": \"paper\", \"y\": 1.0, \"yanchor\": \"bottom\", \"yref\": \"paper\"}], \"xaxis\": {\"anchor\": \"y\", \"domain\": [0.0, 0.45]}, \"yaxis\": {\"anchor\": \"x\", \"domain\": [0.0, 1.0]}, \"xaxis2\": {\"anchor\": \"y2\", \"domain\": [0.55, 1.0]}, \"yaxis2\": {\"anchor\": \"x2\", \"domain\": [0.0, 1.0]}, \"margin\": {\"l\": 120}, \"height\": 350, \"showlegend\": false},\n",
       "            {\"showLink\": true, \"linkText\": \"Export to plot.ly\"}\n",
       "        ).then(function () {return Plotly.addFrames('c2b56552-99a3-4164-85cc-797f6d9ab891',{});}).then(function(){Plotly.animate('c2b56552-99a3-4164-85cc-797f6d9ab891');})\n",
       "        });</script>"
      ]
     },
     "metadata": {},
     "output_type": "display_data"
    }
   ],
   "source": [
    "tr1, tr2 = gp('ORGANIZATION_TYPE', 'Applicants Income Types which repayed the loan')\n",
    "tr3, tr4 = gp('OCCUPATION_TYPE', 'Applicants Income Types which repayed the loan')\n",
    "fig = tools.make_subplots(rows=1, cols=2, print_grid=False, \n",
    "                          subplot_titles = [\"Applicants Organization Types - Repayed\", \"Applicants Occupation Type - Repayed\"])\n",
    "fig.append_trace(tr1, 1, 1);\n",
    "fig.append_trace(tr3, 1, 2);\n",
    "fig['layout'].update(height=350, showlegend=False, margin=dict(l=120));\n",
    "iplot(fig);"
   ]
  },
  {
   "cell_type": "markdown",
   "metadata": {
    "_cell_guid": "944c588e-66b5-4e58-b168-1bb81988e98a",
    "_uuid": "01b48f6d2e0ea1e282dee78cf0eaf04769bfe692"
   },
   "source": [
    "### <a id=\"2.10\">2.10 Walls Material, Foundation, and House Type </a>"
   ]
  },
  {
   "cell_type": "code",
   "execution_count": 13,
   "metadata": {
    "_cell_guid": "d8b29f65-422d-4e08-955b-e530f9fcaa98",
    "_kg_hide-input": true,
    "_uuid": "d4ddc9b411765359a5c5364e9db02517fa80f05d"
   },
   "outputs": [
    {
     "data": {
      "application/vnd.plotly.v1+json": {
       "data": [
        {
         "marker": {
          "color": "#a4c5f9"
         },
         "orientation": "h",
         "type": "bar",
         "uid": "2dd7b78c-959c-11e8-a0c9-343dc4786be4",
         "x": [
          1212,
          1499,
          150503
         ],
         "xaxis": "x",
         "y": [
          "terraced house",
          "specific housing",
          "block of flats"
         ],
         "yaxis": "y"
        },
        {
         "marker": {
          "color": "#a4c5f9"
         },
         "orientation": "h",
         "type": "bar",
         "uid": "2dd7b78d-959c-11e8-8412-343dc4786be4",
         "x": [
          1625,
          1779,
          2296,
          5362,
          9253,
          64815,
          66040
         ],
         "xaxis": "x2",
         "y": [
          "Others",
          "Monolithic",
          "Mixed",
          "Wooden",
          "Block",
          "Stone, brick",
          "Panel"
         ],
         "yaxis": "y2"
        }
       ],
       "layout": {
        "annotations": [
         {
          "font": {
           "size": 16
          },
          "showarrow": false,
          "text": "House Type",
          "x": 0.225,
          "xanchor": "center",
          "xref": "paper",
          "y": 1,
          "yanchor": "bottom",
          "yref": "paper"
         },
         {
          "font": {
           "size": 16
          },
          "showarrow": false,
          "text": "Walls Material",
          "x": 0.775,
          "xanchor": "center",
          "xref": "paper",
          "y": 1,
          "yanchor": "bottom",
          "yref": "paper"
         }
        ],
        "height": 400,
        "margin": {
         "l": 100
        },
        "showlegend": false,
        "xaxis": {
         "anchor": "y",
         "domain": [
          0,
          0.45
         ]
        },
        "xaxis2": {
         "anchor": "y2",
         "domain": [
          0.55,
          1
         ]
        },
        "yaxis": {
         "anchor": "x",
         "domain": [
          0,
          1
         ]
        },
        "yaxis2": {
         "anchor": "x2",
         "domain": [
          0,
          1
         ]
        }
       }
      },
      "text/html": [
       "<div id=\"9f13823b-20cb-44a4-9eff-ee6524c279e0\" style=\"height: 400px; width: 100%;\" class=\"plotly-graph-div\"></div><script type=\"text/javascript\">require([\"plotly\"], function(Plotly) { window.PLOTLYENV=window.PLOTLYENV || {};window.PLOTLYENV.BASE_URL=\"https://plot.ly\";\n",
       "        Plotly.plot(\n",
       "            '9f13823b-20cb-44a4-9eff-ee6524c279e0',\n",
       "            [{\"marker\": {\"color\": \"#a4c5f9\"}, \"orientation\": \"h\", \"x\": [1212.0, 1499.0, 150503.0], \"y\": [\"terraced house\", \"specific housing\", \"block of flats\"], \"type\": \"bar\", \"uid\": \"2dd7b78c-959c-11e8-a0c9-343dc4786be4\", \"xaxis\": \"x\", \"yaxis\": \"y\"}, {\"marker\": {\"color\": \"#a4c5f9\"}, \"orientation\": \"h\", \"x\": [1625.0, 1779.0, 2296.0, 5362.0, 9253.0, 64815.0, 66040.0], \"y\": [\"Others\", \"Monolithic\", \"Mixed\", \"Wooden\", \"Block\", \"Stone, brick\", \"Panel\"], \"type\": \"bar\", \"uid\": \"2dd7b78d-959c-11e8-8412-343dc4786be4\", \"xaxis\": \"x2\", \"yaxis\": \"y2\"}],\n",
       "            {\"annotations\": [{\"font\": {\"size\": 16}, \"showarrow\": false, \"text\": \"House Type\", \"x\": 0.225, \"xanchor\": \"center\", \"xref\": \"paper\", \"y\": 1.0, \"yanchor\": \"bottom\", \"yref\": \"paper\"}, {\"font\": {\"size\": 16}, \"showarrow\": false, \"text\": \"Walls Material\", \"x\": 0.775, \"xanchor\": \"center\", \"xref\": \"paper\", \"y\": 1.0, \"yanchor\": \"bottom\", \"yref\": \"paper\"}], \"xaxis\": {\"anchor\": \"y\", \"domain\": [0.0, 0.45]}, \"yaxis\": {\"anchor\": \"x\", \"domain\": [0.0, 1.0]}, \"xaxis2\": {\"anchor\": \"y2\", \"domain\": [0.55, 1.0]}, \"yaxis2\": {\"anchor\": \"x2\", \"domain\": [0.0, 1.0]}, \"margin\": {\"l\": 100}, \"height\": 400, \"showlegend\": false},\n",
       "            {\"showLink\": true, \"linkText\": \"Export to plot.ly\"}\n",
       "        ).then(function () {return Plotly.addFrames('9f13823b-20cb-44a4-9eff-ee6524c279e0',{});}).then(function(){Plotly.animate('9f13823b-20cb-44a4-9eff-ee6524c279e0');})\n",
       "        });</script>"
      ],
      "text/vnd.plotly.v1+html": [
       "<div id=\"9f13823b-20cb-44a4-9eff-ee6524c279e0\" style=\"height: 400px; width: 100%;\" class=\"plotly-graph-div\"></div><script type=\"text/javascript\">require([\"plotly\"], function(Plotly) { window.PLOTLYENV=window.PLOTLYENV || {};window.PLOTLYENV.BASE_URL=\"https://plot.ly\";\n",
       "        Plotly.plot(\n",
       "            '9f13823b-20cb-44a4-9eff-ee6524c279e0',\n",
       "            [{\"marker\": {\"color\": \"#a4c5f9\"}, \"orientation\": \"h\", \"x\": [1212.0, 1499.0, 150503.0], \"y\": [\"terraced house\", \"specific housing\", \"block of flats\"], \"type\": \"bar\", \"uid\": \"2dd7b78c-959c-11e8-a0c9-343dc4786be4\", \"xaxis\": \"x\", \"yaxis\": \"y\"}, {\"marker\": {\"color\": \"#a4c5f9\"}, \"orientation\": \"h\", \"x\": [1625.0, 1779.0, 2296.0, 5362.0, 9253.0, 64815.0, 66040.0], \"y\": [\"Others\", \"Monolithic\", \"Mixed\", \"Wooden\", \"Block\", \"Stone, brick\", \"Panel\"], \"type\": \"bar\", \"uid\": \"2dd7b78d-959c-11e8-8412-343dc4786be4\", \"xaxis\": \"x2\", \"yaxis\": \"y2\"}],\n",
       "            {\"annotations\": [{\"font\": {\"size\": 16}, \"showarrow\": false, \"text\": \"House Type\", \"x\": 0.225, \"xanchor\": \"center\", \"xref\": \"paper\", \"y\": 1.0, \"yanchor\": \"bottom\", \"yref\": \"paper\"}, {\"font\": {\"size\": 16}, \"showarrow\": false, \"text\": \"Walls Material\", \"x\": 0.775, \"xanchor\": \"center\", \"xref\": \"paper\", \"y\": 1.0, \"yanchor\": \"bottom\", \"yref\": \"paper\"}], \"xaxis\": {\"anchor\": \"y\", \"domain\": [0.0, 0.45]}, \"yaxis\": {\"anchor\": \"x\", \"domain\": [0.0, 1.0]}, \"xaxis2\": {\"anchor\": \"y2\", \"domain\": [0.55, 1.0]}, \"yaxis2\": {\"anchor\": \"x2\", \"domain\": [0.0, 1.0]}, \"margin\": {\"l\": 100}, \"height\": 400, \"showlegend\": false},\n",
       "            {\"showLink\": true, \"linkText\": \"Export to plot.ly\"}\n",
       "        ).then(function () {return Plotly.addFrames('9f13823b-20cb-44a4-9eff-ee6524c279e0',{});}).then(function(){Plotly.animate('9f13823b-20cb-44a4-9eff-ee6524c279e0');})\n",
       "        });</script>"
      ]
     },
     "metadata": {},
     "output_type": "display_data"
    }
   ],
   "source": [
    "tr1 = bar_hor(app_train, \"FONDKAPREMONT_MODE\", \"Distribution of FLAG_OWN_REALTY\" ,\"#639af2\", w=700, lm=100, return_trace= True)\n",
    "tr2 = bar_hor(app_train, \"WALLSMATERIAL_MODE\", \"Distribution of FLAG_OWN_CAR\" ,\"#a4c5f9\", w=700, lm=100, return_trace = True)\n",
    "tr1 = bar_hor(app_train, \"HOUSETYPE_MODE\", \"Distribution of FLAG_OWN_CAR\" ,\"#a4c5f9\", w=700, lm=100, return_trace = True)\n",
    "\n",
    "fig = tools.make_subplots(rows=1, cols=2, print_grid=False, subplot_titles = [ 'House Type', 'Walls Material'])\n",
    "fig.append_trace(tr1, 1, 1);\n",
    "fig.append_trace(tr2, 1, 2);\n",
    "# fig.append_trace(tr3, 1, 3);\n",
    "\n",
    "fig['layout'].update(height=400, showlegend=False, margin=dict(l=100));\n",
    "iplot(fig);"
   ]
  },
  {
   "cell_type": "markdown",
   "metadata": {
    "_cell_guid": "d3909701-1f14-4305-8e74-e9157fe7375e",
    "_uuid": "7abc636890de91c57b91c6e2ea09d1943b0cfc78"
   },
   "source": [
    "> - \"Blocks and Flats\" related house types have filed the largest number of loan applications equal to about 150K, rest of the other categories : Specific Housing and Terraced house have less than 1500 applications. Similarly houses having Panel and Stone Brick type walls material have filed the largest applciations close to 120K combined. \n",
    "\n",
    "### <a id=\"2.10.1\">2.10.1 Target Variable with respect to Walls Material, Fondkappremont, House Type </a>"
   ]
  },
  {
   "cell_type": "code",
   "execution_count": 14,
   "metadata": {
    "_cell_guid": "f0cc4749-3a87-48fe-8d60-795139602394",
    "_kg_hide-input": true,
    "_uuid": "76b981c188baf704a6ded05143325a600e24ac81"
   },
   "outputs": [
    {
     "data": {
      "application/vnd.plotly.v1+json": {
       "data": [
        {
         "marker": {
          "color": "#96D38C"
         },
         "name": "Target : 1",
         "type": "bar",
         "uid": "2e2b239e-959c-11e8-8bdb-343dc4786be4",
         "x": [
          "block of flats",
          "specific housing",
          "terraced house"
         ],
         "xaxis": "x",
         "y": [
          6.943383188374982,
          10.140093395597065,
          8.498349834983498
         ],
         "yaxis": "y"
        },
        {
         "marker": {
          "color": "#96D38C"
         },
         "name": "Target : 1",
         "type": "bar",
         "uid": "2e2d872c-959c-11e8-bb2c-343dc4786be4",
         "x": [
          "Stone, brick",
          "Panel",
          "Block",
          "Wooden",
          "Mixed",
          "Others",
          "Monolithic"
         ],
         "xaxis": "x2",
         "y": [
          7.405693126591067,
          6.347668079951545,
          7.024748730141575,
          9.697873927638941,
          7.534843205574913,
          8.307692307692308,
          4.721753794266442
         ],
         "yaxis": "y2"
        }
       ],
       "layout": {
        "annotations": [
         {
          "font": {
           "size": 16
          },
          "showarrow": false,
          "text": "HouseTypes - Repayed",
          "x": 0.225,
          "xanchor": "center",
          "xref": "paper",
          "y": 1,
          "yanchor": "bottom",
          "yref": "paper"
         },
         {
          "font": {
           "size": 16
          },
          "showarrow": false,
          "text": "WallsMaterial - Repayed",
          "x": 0.775,
          "xanchor": "center",
          "xref": "paper",
          "y": 1,
          "yanchor": "bottom",
          "yref": "paper"
         }
        ],
        "height": 350,
        "margin": {
         "l": 120
        },
        "showlegend": false,
        "xaxis": {
         "anchor": "y",
         "domain": [
          0,
          0.45
         ]
        },
        "xaxis2": {
         "anchor": "y2",
         "domain": [
          0.55,
          1
         ]
        },
        "yaxis": {
         "anchor": "x",
         "domain": [
          0,
          1
         ]
        },
        "yaxis2": {
         "anchor": "x2",
         "domain": [
          0,
          1
         ]
        }
       }
      },
      "text/html": [
       "<div id=\"6c7ed744-cc21-4fef-87e9-0983ca35f515\" style=\"height: 350px; width: 100%;\" class=\"plotly-graph-div\"></div><script type=\"text/javascript\">require([\"plotly\"], function(Plotly) { window.PLOTLYENV=window.PLOTLYENV || {};window.PLOTLYENV.BASE_URL=\"https://plot.ly\";\n",
       "        Plotly.plot(\n",
       "            '6c7ed744-cc21-4fef-87e9-0983ca35f515',\n",
       "            [{\"marker\": {\"color\": \"#96D38C\"}, \"name\": \"Target : 1\", \"x\": [\"block of flats\", \"specific housing\", \"terraced house\"], \"y\": [6.943383188374982, 10.140093395597065, 8.498349834983498], \"type\": \"bar\", \"uid\": \"2e2b239e-959c-11e8-8bdb-343dc4786be4\", \"xaxis\": \"x\", \"yaxis\": \"y\"}, {\"marker\": {\"color\": \"#96D38C\"}, \"name\": \"Target : 1\", \"x\": [\"Stone, brick\", \"Panel\", \"Block\", \"Wooden\", \"Mixed\", \"Others\", \"Monolithic\"], \"y\": [7.405693126591067, 6.347668079951545, 7.024748730141575, 9.697873927638941, 7.534843205574913, 8.307692307692308, 4.721753794266442], \"type\": \"bar\", \"uid\": \"2e2d872c-959c-11e8-bb2c-343dc4786be4\", \"xaxis\": \"x2\", \"yaxis\": \"y2\"}],\n",
       "            {\"annotations\": [{\"font\": {\"size\": 16}, \"showarrow\": false, \"text\": \"HouseTypes - Repayed\", \"x\": 0.225, \"xanchor\": \"center\", \"xref\": \"paper\", \"y\": 1.0, \"yanchor\": \"bottom\", \"yref\": \"paper\"}, {\"font\": {\"size\": 16}, \"showarrow\": false, \"text\": \"WallsMaterial - Repayed\", \"x\": 0.775, \"xanchor\": \"center\", \"xref\": \"paper\", \"y\": 1.0, \"yanchor\": \"bottom\", \"yref\": \"paper\"}], \"xaxis\": {\"anchor\": \"y\", \"domain\": [0.0, 0.45]}, \"yaxis\": {\"anchor\": \"x\", \"domain\": [0.0, 1.0]}, \"xaxis2\": {\"anchor\": \"y2\", \"domain\": [0.55, 1.0]}, \"yaxis2\": {\"anchor\": \"x2\", \"domain\": [0.0, 1.0]}, \"margin\": {\"l\": 120}, \"height\": 350, \"showlegend\": false},\n",
       "            {\"showLink\": true, \"linkText\": \"Export to plot.ly\"}\n",
       "        ).then(function () {return Plotly.addFrames('6c7ed744-cc21-4fef-87e9-0983ca35f515',{});}).then(function(){Plotly.animate('6c7ed744-cc21-4fef-87e9-0983ca35f515');})\n",
       "        });</script>"
      ],
      "text/vnd.plotly.v1+html": [
       "<div id=\"6c7ed744-cc21-4fef-87e9-0983ca35f515\" style=\"height: 350px; width: 100%;\" class=\"plotly-graph-div\"></div><script type=\"text/javascript\">require([\"plotly\"], function(Plotly) { window.PLOTLYENV=window.PLOTLYENV || {};window.PLOTLYENV.BASE_URL=\"https://plot.ly\";\n",
       "        Plotly.plot(\n",
       "            '6c7ed744-cc21-4fef-87e9-0983ca35f515',\n",
       "            [{\"marker\": {\"color\": \"#96D38C\"}, \"name\": \"Target : 1\", \"x\": [\"block of flats\", \"specific housing\", \"terraced house\"], \"y\": [6.943383188374982, 10.140093395597065, 8.498349834983498], \"type\": \"bar\", \"uid\": \"2e2b239e-959c-11e8-8bdb-343dc4786be4\", \"xaxis\": \"x\", \"yaxis\": \"y\"}, {\"marker\": {\"color\": \"#96D38C\"}, \"name\": \"Target : 1\", \"x\": [\"Stone, brick\", \"Panel\", \"Block\", \"Wooden\", \"Mixed\", \"Others\", \"Monolithic\"], \"y\": [7.405693126591067, 6.347668079951545, 7.024748730141575, 9.697873927638941, 7.534843205574913, 8.307692307692308, 4.721753794266442], \"type\": \"bar\", \"uid\": \"2e2d872c-959c-11e8-bb2c-343dc4786be4\", \"xaxis\": \"x2\", \"yaxis\": \"y2\"}],\n",
       "            {\"annotations\": [{\"font\": {\"size\": 16}, \"showarrow\": false, \"text\": \"HouseTypes - Repayed\", \"x\": 0.225, \"xanchor\": \"center\", \"xref\": \"paper\", \"y\": 1.0, \"yanchor\": \"bottom\", \"yref\": \"paper\"}, {\"font\": {\"size\": 16}, \"showarrow\": false, \"text\": \"WallsMaterial - Repayed\", \"x\": 0.775, \"xanchor\": \"center\", \"xref\": \"paper\", \"y\": 1.0, \"yanchor\": \"bottom\", \"yref\": \"paper\"}], \"xaxis\": {\"anchor\": \"y\", \"domain\": [0.0, 0.45]}, \"yaxis\": {\"anchor\": \"x\", \"domain\": [0.0, 1.0]}, \"xaxis2\": {\"anchor\": \"y2\", \"domain\": [0.55, 1.0]}, \"yaxis2\": {\"anchor\": \"x2\", \"domain\": [0.0, 1.0]}, \"margin\": {\"l\": 120}, \"height\": 350, \"showlegend\": false},\n",
       "            {\"showLink\": true, \"linkText\": \"Export to plot.ly\"}\n",
       "        ).then(function () {return Plotly.addFrames('6c7ed744-cc21-4fef-87e9-0983ca35f515',{});}).then(function(){Plotly.animate('6c7ed744-cc21-4fef-87e9-0983ca35f515');})\n",
       "        });</script>"
      ]
     },
     "metadata": {},
     "output_type": "display_data"
    }
   ],
   "source": [
    "tr1, tr2 = gp('HOUSETYPE_MODE', 'Applicants Income Types which repayed the loan')\n",
    "tr3, tr4 = gp('WALLSMATERIAL_MODE', 'Applicants Income Types which repayed the loan')\n",
    "fig = tools.make_subplots(rows=1, cols=2, print_grid=False, subplot_titles = [\"HouseTypes - Repayed\", \"WallsMaterial - Repayed\"])\n",
    "fig.append_trace(tr1, 1, 1);\n",
    "fig.append_trace(tr3, 1, 2);\n",
    "fig['layout'].update(height=350, showlegend=False, margin=dict(l=120));\n",
    "iplot(fig);"
   ]
  },
  {
   "cell_type": "markdown",
   "metadata": {
    "_cell_guid": "1816b955-1d3e-4aef-8c05-f17fb3383b2d",
    "_uuid": "722da453c5c4af02b281477c6492c7bb6e2b0e38"
   },
   "source": [
    "### <a id=\"2.11\">2.11. Distribution of Amount Credit </a>"
   ]
  },
  {
   "cell_type": "code",
   "execution_count": 15,
   "metadata": {
    "_cell_guid": "990e5730-12cd-4050-b434-fb89fdb00446",
    "_kg_hide-input": true,
    "_uuid": "b12a764b83e17e73090f54f3c8583a1eb8c9420d"
   },
   "outputs": [
    {
     "data": {
      "image/png": "[encoded data removed]",
      "text/plain": [
       "<Figure size 864x360 with 1 Axes>"
      ]
     },
     "metadata": {},
     "output_type": "display_data"
    }
   ],
   "source": [
    "plt.figure(figsize=(12,5))\n",
    "plt.title(\"Distribution of AMT_CREDIT\")\n",
    "ax = sns.distplot(app_train[\"AMT_CREDIT\"])"
   ]
  },
  {
   "cell_type": "markdown",
   "metadata": {
    "_cell_guid": "28618990-d734-4e60-91f1-b8e9239ba745",
    "_uuid": "7e46488114454dfcfeee443b79c79584e58519be"
   },
   "source": [
    "### <a id=\"2.12\">2.12 Distribution of Amount AMT_ANNUITY </a>"
   ]
  },
  {
   "cell_type": "code",
   "execution_count": 16,
   "metadata": {
    "_cell_guid": "0cded2f2-c56c-45f9-8b3a-960359ec5f47",
    "_kg_hide-input": true,
    "_uuid": "de409db59dc4899075a49438f946480768b77816"
   },
   "outputs": [
    {
     "data": {
      "image/png": "[encoded data removed]",
      "text/plain": [
       "<Figure size 864x360 with 1 Axes>"
      ]
     },
     "metadata": {},
     "output_type": "display_data"
    }
   ],
   "source": [
    "plt.figure(figsize=(12,5))\n",
    "plt.title(\"Distribution of AMT_ANNUITY\")\n",
    "ax = sns.distplot(app_train[\"AMT_ANNUITY\"].dropna())"
   ]
  },
  {
   "cell_type": "markdown",
   "metadata": {
    "_cell_guid": "4e3de61e-e138-42c7-955c-12eff8aa2b91",
    "_uuid": "57fbb75649a1eeb1ce5b9f7b2ac423815321f724"
   },
   "source": [
    "### <a id=\"2.13\">2.13 Distribution of Amount AMT_GOODS_PRICE </a>"
   ]
  },
  {
   "cell_type": "code",
   "execution_count": 17,
   "metadata": {
    "_cell_guid": "ad976051-52ee-4af9-b132-8b7d25712fd2",
    "_kg_hide-input": true,
    "_uuid": "fa776d88b103a82dce34b3c71a07056c20765eaa"
   },
   "outputs": [
    {
     "data": {
      "image/png": "[encoded data removed]",
      "text/plain": [
       "<Figure size 864x360 with 1 Axes>"
      ]
     },
     "metadata": {},
     "output_type": "display_data"
    }
   ],
   "source": [
    "plt.figure(figsize=(12,5))\n",
    "plt.title(\"Distribution of AMT_GOODS_PRICE\")\n",
    "ax = sns.distplot(app_train[\"AMT_GOODS_PRICE\"].dropna())"
   ]
  },
  {
   "cell_type": "markdown",
   "metadata": {
    "_cell_guid": "f2c59771-3d8d-475c-b947-f2e6f1706be3",
    "_uuid": "a39d45f10303bba1e7a0a9dc1d3b022405f33f32"
   },
   "source": [
    "### <a id=\"2.14\">2.14 Distribution of Amount REGION_POPULATION_RELATIVE </a>"
   ]
  },
  {
   "cell_type": "code",
   "execution_count": 18,
   "metadata": {
    "_cell_guid": "1bb22b1a-3356-45d0-b33c-7d7eb93e43c1",
    "_kg_hide-input": true,
    "_uuid": "ca9b9e4234d803b99882fff961dab615e813439a"
   },
   "outputs": [
    {
     "data": {
      "image/png": "[encoded data removed]",
      "text/plain": [
       "<Figure size 864x360 with 1 Axes>"
      ]
     },
     "metadata": {},
     "output_type": "display_data"
    }
   ],
   "source": [
    "plt.figure(figsize=(12,5))\n",
    "plt.title(\"Distribution of REGION_POPULATION_RELATIVE\")\n",
    "ax = sns.distplot(app_train[\"REGION_POPULATION_RELATIVE\"])"
   ]
  },
  {
   "cell_type": "markdown",
   "metadata": {
    "_cell_guid": "ce024235-2643-428d-9611-670065124bd9",
    "_uuid": "98c03a26c8ec63b7ba231b08cbabf3580900390a"
   },
   "source": [
    "### <a id=\"2.15\">2.15 Distribution of Amount DAYS_BIRTH </a>"
   ]
  },
  {
   "cell_type": "code",
   "execution_count": 19,
   "metadata": {
    "_cell_guid": "0d64bdd8-0d58-4545-895c-e55df77e4898",
    "_kg_hide-input": true,
    "_uuid": "05e227cb7f791d0342fef9706c8c8834873651c1"
   },
   "outputs": [
    {
     "data": {
      "image/png": "[encoded data removed]",
      "text/plain": [
       "<Figure size 864x360 with 1 Axes>"
      ]
     },
     "metadata": {},
     "output_type": "display_data"
    }
   ],
   "source": [
    "plt.figure(figsize=(12,5))\n",
    "plt.title(\"Distribution of DAYS_BIRTH\")\n",
    "ax = sns.distplot(app_train[\"DAYS_BIRTH\"])"
   ]
  },
  {
   "cell_type": "markdown",
   "metadata": {
    "_cell_guid": "5b4de0af-1d9c-4a11-853c-1376f08405f9",
    "_uuid": "33132c54442e0fc616de776e67cf07aa5427e94c"
   },
   "source": [
    "### <a id=\"2.16\">2.16 Distribution of Amount DAYS_EMPLOYED </a>"
   ]
  },
  {
   "cell_type": "code",
   "execution_count": 20,
   "metadata": {
    "_cell_guid": "88ab2863-ac1f-49f3-8e20-a1d99c77b806",
    "_kg_hide-input": true,
    "_uuid": "011f46cbf2e15df67b9bc421bce75b26185dd063"
   },
   "outputs": [
    {
     "data": {
      "image/png": "[encoded data removed]",
      "text/plain": [
       "<Figure size 864x360 with 1 Axes>"
      ]
     },
     "metadata": {},
     "output_type": "display_data"
    }
   ],
   "source": [
    "plt.figure(figsize=(12,5))\n",
    "plt.title(\"Distribution of DAYS_EMPLOYED\")\n",
    "ax = sns.distplot(app_train[\"DAYS_EMPLOYED\"])"
   ]
  },
  {
   "cell_type": "markdown",
   "metadata": {
    "_cell_guid": "38f9c744-1cc6-4f73-98eb-e745a92aaa0b",
    "_uuid": "4747eda62b578e2f70fa8041fca9b0bf89189103"
   },
   "source": [
    "### <a id=\"2.17\">2.17 Distribution of Number of Days for Registration</a>"
   ]
  },
  {
   "cell_type": "code",
   "execution_count": 21,
   "metadata": {
    "_cell_guid": "e4945b0c-bea0-4cc9-a886-4d6937a6339f",
    "_kg_hide-input": true,
    "_uuid": "966035af648af94461e7be000edd3d277a6ff0aa"
   },
   "outputs": [
    {
     "data": {
      "image/png": "[encoded data removed]",
      "text/plain": [
       "<Figure size 864x360 with 1 Axes>"
      ]
     },
     "metadata": {},
     "output_type": "display_data"
    }
   ],
   "source": [
    "plt.figure(figsize=(12,5))\n",
    "plt.title(\"Distribution of DAYS_REGISTRATION\")\n",
    "ax = sns.distplot(app_train[\"DAYS_REGISTRATION\"])"
   ]
  },
  {
   "cell_type": "markdown",
   "metadata": {
    "_cell_guid": "741612f7-2edd-496c-9e20-597957fca3af",
    "_uuid": "8e1d531274f1ab7caf5aeea3a9457fc8a1af15dd"
   },
   "source": [
    "### <a id=\"2.18\">2.18 How many Family Members does the applicants has </a>"
   ]
  },
  {
   "cell_type": "code",
   "execution_count": 22,
   "metadata": {
    "_cell_guid": "3fda7238-94db-47ef-ad51-a37c625741e1",
    "_kg_hide-input": true,
    "_uuid": "aff6eef4a480681aed36e3fbfec8d23234a90523"
   },
   "outputs": [
    {
     "data": {
      "image/png": "[encoded data removed]",
      "text/plain": [
       "<Figure size 864x360 with 1 Axes>"
      ]
     },
     "metadata": {},
     "output_type": "display_data"
    }
   ],
   "source": [
    "t = app_train[\"CNT_FAM_MEMBERS\"].value_counts()\n",
    "t1 = pd.DataFrame()\n",
    "t1['x'] = t.index \n",
    "t1['y'] = t.values \n",
    "\n",
    "plt.figure(figsize=(12,5));\n",
    "plt.title(\"Distribution of Applicant's Family Members Count\");\n",
    "ax = sns.barplot(data=t1, x=\"x\", y=\"y\", color=\"#f975ae\");\n",
    "ax.spines['right'].set_visible(False);\n",
    "ax.spines['top'].set_visible(False);\n",
    "\n",
    "ax.set_ylabel('');    \n",
    "ax.set_xlabel('');"
   ]
  },
  {
   "cell_type": "markdown",
   "metadata": {
    "_cell_guid": "f4a5f89f-42fa-4bbb-8b55-9d32016934ec",
    "_uuid": "0fe1bf832102f9a1d6e4160b81b75a0c4443fc79"
   },
   "source": [
    "> Most of the applicants who applied for loan had 2 family members in total\n",
    "\n",
    "### <a id=\"2.19\"> 2.19 How many Children does the applicants have </a>"
   ]
  },
  {
   "cell_type": "code",
   "execution_count": 23,
   "metadata": {
    "_cell_guid": "2ad2aa23-71c3-46ef-850a-76362cee8ac5",
    "_kg_hide-input": true,
    "_uuid": "5ea10b2ddef2f0a392ecb9e61c3caba4a3aeb184"
   },
   "outputs": [
    {
     "data": {
      "image/png": "[encoded data removed]",
      "text/plain": [
       "<Figure size 864x360 with 1 Axes>"
      ]
     },
     "metadata": {},
     "output_type": "display_data"
    }
   ],
   "source": [
    "t = app_train[\"CNT_CHILDREN\"].value_counts()\n",
    "t1 = pd.DataFrame()\n",
    "t1['x'] = t.index \n",
    "t1['y'] = t.values \n",
    "\n",
    "plt.figure(figsize=(12,5));\n",
    "plt.title(\"Distribution of Applicant's Number of Children\");\n",
    "ax = sns.barplot(data=t1, x=\"x\", y=\"y\", color=\"#f975ae\");\n",
    "ax.spines['right'].set_visible(False);\n",
    "ax.spines['top'].set_visible(False);\n",
    "\n",
    "ax.set_ylabel('');    \n",
    "ax.set_xlabel('');"
   ]
  },
  {
   "cell_type": "markdown",
   "metadata": {
    "_cell_guid": "916d65fa-363a-446b-a2e8-9b149689caf2",
    "_uuid": "1b128ab27ea0291424856bf4d612aa85d2ba7a5a"
   },
   "source": [
    "> A large majority of applicants did not had children when they applied for loan\n",
    "\n",
    "## <a id=\"3\">3. Exploration of Bureau Data</a>\n",
    "\n",
    "All client's previous credits provided by other financial institutions that were reported to Credit Bureau (for clients who have a loan in our sample). For every loan in our sample, there are as many rows as number of credits the client had in Credit Bureau before the application date.\n",
    "\n",
    "### <a id=\"3.1\">3.1 Snapshot of Bureau Data</a>"
   ]
  },
  {
   "cell_type": "code",
   "execution_count": 24,
   "metadata": {
    "_cell_guid": "c0de05d8-2a4d-4834-bd1e-daabc8b9610f",
    "_kg_hide-input": true,
    "_uuid": "9529bef2d954adb828c2e35ec2cf89e7ea42c002"
   },
   "outputs": [
    {
     "data": {
      "text/html": [
       "<div>\n",
       "<style scoped>\n",
       "    .dataframe tbody tr th:only-of-type {\n",
       "        vertical-align: middle;\n",
       "    }\n",
       "\n",
       "    .dataframe tbody tr th {\n",
       "        vertical-align: top;\n",
       "    }\n",
       "\n",
       "    .dataframe thead th {\n",
       "        text-align: right;\n",
       "    }\n",
       "</style>\n",
       "<table border=\"1\" class=\"dataframe\">\n",
       "  <thead>\n",
       "    <tr style=\"text-align: right;\">\n",
       "      <th></th>\n",
       "      <th>SK_ID_CURR</th>\n",
       "      <th>SK_ID_BUREAU</th>\n",
       "      <th>CREDIT_ACTIVE</th>\n",
       "      <th>CREDIT_CURRENCY</th>\n",
       "      <th>DAYS_CREDIT</th>\n",
       "      <th>CREDIT_DAY_OVERDUE</th>\n",
       "      <th>DAYS_CREDIT_ENDDATE</th>\n",
       "      <th>DAYS_ENDDATE_FACT</th>\n",
       "      <th>AMT_CREDIT_MAX_OVERDUE</th>\n",
       "      <th>CNT_CREDIT_PROLONG</th>\n",
       "      <th>AMT_CREDIT_SUM</th>\n",
       "      <th>AMT_CREDIT_SUM_DEBT</th>\n",
       "      <th>AMT_CREDIT_SUM_LIMIT</th>\n",
       "      <th>AMT_CREDIT_SUM_OVERDUE</th>\n",
       "      <th>CREDIT_TYPE</th>\n",
       "      <th>DAYS_CREDIT_UPDATE</th>\n",
       "      <th>AMT_ANNUITY</th>\n",
       "    </tr>\n",
       "  </thead>\n",
       "  <tbody>\n",
       "    <tr>\n",
       "      <th>0</th>\n",
       "      <td>215354</td>\n",
       "      <td>5714462</td>\n",
       "      <td>Closed</td>\n",
       "      <td>currency 1</td>\n",
       "      <td>-497</td>\n",
       "      <td>0</td>\n",
       "      <td>-153.0</td>\n",
       "      <td>-153.0</td>\n",
       "      <td>NaN</td>\n",
       "      <td>0</td>\n",
       "      <td>91323.0</td>\n",
       "      <td>0.0</td>\n",
       "      <td>NaN</td>\n",
       "      <td>0.0</td>\n",
       "      <td>Consumer credit</td>\n",
       "      <td>-131</td>\n",
       "      <td>NaN</td>\n",
       "    </tr>\n",
       "    <tr>\n",
       "      <th>1</th>\n",
       "      <td>215354</td>\n",
       "      <td>5714463</td>\n",
       "      <td>Active</td>\n",
       "      <td>currency 1</td>\n",
       "      <td>-208</td>\n",
       "      <td>0</td>\n",
       "      <td>1075.0</td>\n",
       "      <td>NaN</td>\n",
       "      <td>NaN</td>\n",
       "      <td>0</td>\n",
       "      <td>225000.0</td>\n",
       "      <td>171342.0</td>\n",
       "      <td>NaN</td>\n",
       "      <td>0.0</td>\n",
       "      <td>Credit card</td>\n",
       "      <td>-20</td>\n",
       "      <td>NaN</td>\n",
       "    </tr>\n",
       "    <tr>\n",
       "      <th>2</th>\n",
       "      <td>215354</td>\n",
       "      <td>5714464</td>\n",
       "      <td>Active</td>\n",
       "      <td>currency 1</td>\n",
       "      <td>-203</td>\n",
       "      <td>0</td>\n",
       "      <td>528.0</td>\n",
       "      <td>NaN</td>\n",
       "      <td>NaN</td>\n",
       "      <td>0</td>\n",
       "      <td>464323.5</td>\n",
       "      <td>NaN</td>\n",
       "      <td>NaN</td>\n",
       "      <td>0.0</td>\n",
       "      <td>Consumer credit</td>\n",
       "      <td>-16</td>\n",
       "      <td>NaN</td>\n",
       "    </tr>\n",
       "    <tr>\n",
       "      <th>3</th>\n",
       "      <td>215354</td>\n",
       "      <td>5714465</td>\n",
       "      <td>Active</td>\n",
       "      <td>currency 1</td>\n",
       "      <td>-203</td>\n",
       "      <td>0</td>\n",
       "      <td>NaN</td>\n",
       "      <td>NaN</td>\n",
       "      <td>NaN</td>\n",
       "      <td>0</td>\n",
       "      <td>90000.0</td>\n",
       "      <td>NaN</td>\n",
       "      <td>NaN</td>\n",
       "      <td>0.0</td>\n",
       "      <td>Credit card</td>\n",
       "      <td>-16</td>\n",
       "      <td>NaN</td>\n",
       "    </tr>\n",
       "    <tr>\n",
       "      <th>4</th>\n",
       "      <td>215354</td>\n",
       "      <td>5714466</td>\n",
       "      <td>Active</td>\n",
       "      <td>currency 1</td>\n",
       "      <td>-629</td>\n",
       "      <td>0</td>\n",
       "      <td>1197.0</td>\n",
       "      <td>NaN</td>\n",
       "      <td>77674.5</td>\n",
       "      <td>0</td>\n",
       "      <td>2700000.0</td>\n",
       "      <td>NaN</td>\n",
       "      <td>NaN</td>\n",
       "      <td>0.0</td>\n",
       "      <td>Consumer credit</td>\n",
       "      <td>-21</td>\n",
       "      <td>NaN</td>\n",
       "    </tr>\n",
       "  </tbody>\n",
       "</table>\n",
       "</div>"
      ],
      "text/plain": [
       "   SK_ID_CURR  SK_ID_BUREAU CREDIT_ACTIVE CREDIT_CURRENCY  DAYS_CREDIT  \\\n",
       "0      215354       5714462        Closed      currency 1         -497   \n",
       "1      215354       5714463        Active      currency 1         -208   \n",
       "2      215354       5714464        Active      currency 1         -203   \n",
       "3      215354       5714465        Active      currency 1         -203   \n",
       "4      215354       5714466        Active      currency 1         -629   \n",
       "\n",
       "   CREDIT_DAY_OVERDUE  DAYS_CREDIT_ENDDATE  DAYS_ENDDATE_FACT  \\\n",
       "0                   0               -153.0             -153.0   \n",
       "1                   0               1075.0                NaN   \n",
       "2                   0                528.0                NaN   \n",
       "3                   0                  NaN                NaN   \n",
       "4                   0               1197.0                NaN   \n",
       "\n",
       "   AMT_CREDIT_MAX_OVERDUE  CNT_CREDIT_PROLONG  AMT_CREDIT_SUM  \\\n",
       "0                     NaN                   0         91323.0   \n",
       "1                     NaN                   0        225000.0   \n",
       "2                     NaN                   0        464323.5   \n",
       "3                     NaN                   0         90000.0   \n",
       "4                 77674.5                   0       2700000.0   \n",
       "\n",
       "   AMT_CREDIT_SUM_DEBT  AMT_CREDIT_SUM_LIMIT  AMT_CREDIT_SUM_OVERDUE  \\\n",
       "0                  0.0                   NaN                     0.0   \n",
       "1             171342.0                   NaN                     0.0   \n",
       "2                  NaN                   NaN                     0.0   \n",
       "3                  NaN                   NaN                     0.0   \n",
       "4                  NaN                   NaN                     0.0   \n",
       "\n",
       "       CREDIT_TYPE  DAYS_CREDIT_UPDATE  AMT_ANNUITY  \n",
       "0  Consumer credit                -131          NaN  \n",
       "1      Credit card                 -20          NaN  \n",
       "2  Consumer credit                 -16          NaN  \n",
       "3      Credit card                 -16          NaN  \n",
       "4  Consumer credit                 -21          NaN  "
      ]
     },
     "execution_count": 24,
     "metadata": {},
     "output_type": "execute_result"
    }
   ],
   "source": [
    "bureau = pd.read_csv(path + \"bureau.csv\")\n",
    "bureau.head()"
   ]
  },
  {
   "cell_type": "markdown",
   "metadata": {
    "_cell_guid": "abed0e47-f848-4b17-ac4e-d912db58c71d",
    "_uuid": "b50d744e5f0934ebc7965a57f4eecfc5b401e9ce"
   },
   "source": [
    "## <a id=\"4\">4. Exploration of Bureau Balance Data</a>\n",
    "\n",
    "Monthly balances of previous credits in Credit Bureau. This table has one row for each month of history of every previous credit reported to Credit Bureau – i.e the table has (#loans in sample * # of relative previous credits * # of months where we have some history observable for the previous credits) rows.\n",
    "\n",
    "### <a id=\"4.1\">4.1 Snapshot of Bureau Balance Data</a>"
   ]
  },
  {
   "cell_type": "code",
   "execution_count": 25,
   "metadata": {
    "_cell_guid": "c14ec3ef-7db0-4317-b449-0124db8572d8",
    "_kg_hide-input": true,
    "_uuid": "ac67d7d783e9e13f3775ddf803d010e3d664c4f6"
   },
   "outputs": [
    {
     "data": {
      "text/html": [
       "<div>\n",
       "<style scoped>\n",
       "    .dataframe tbody tr th:only-of-type {\n",
       "        vertical-align: middle;\n",
       "    }\n",
       "\n",
       "    .dataframe tbody tr th {\n",
       "        vertical-align: top;\n",
       "    }\n",
       "\n",
       "    .dataframe thead th {\n",
       "        text-align: right;\n",
       "    }\n",
       "</style>\n",
       "<table border=\"1\" class=\"dataframe\">\n",
       "  <thead>\n",
       "    <tr style=\"text-align: right;\">\n",
       "      <th></th>\n",
       "      <th>SK_ID_BUREAU</th>\n",
       "      <th>MONTHS_BALANCE</th>\n",
       "      <th>STATUS</th>\n",
       "    </tr>\n",
       "  </thead>\n",
       "  <tbody>\n",
       "    <tr>\n",
       "      <th>0</th>\n",
       "      <td>5715448</td>\n",
       "      <td>0</td>\n",
       "      <td>C</td>\n",
       "    </tr>\n",
       "    <tr>\n",
       "      <th>1</th>\n",
       "      <td>5715448</td>\n",
       "      <td>-1</td>\n",
       "      <td>C</td>\n",
       "    </tr>\n",
       "    <tr>\n",
       "      <th>2</th>\n",
       "      <td>5715448</td>\n",
       "      <td>-2</td>\n",
       "      <td>C</td>\n",
       "    </tr>\n",
       "    <tr>\n",
       "      <th>3</th>\n",
       "      <td>5715448</td>\n",
       "      <td>-3</td>\n",
       "      <td>C</td>\n",
       "    </tr>\n",
       "    <tr>\n",
       "      <th>4</th>\n",
       "      <td>5715448</td>\n",
       "      <td>-4</td>\n",
       "      <td>C</td>\n",
       "    </tr>\n",
       "  </tbody>\n",
       "</table>\n",
       "</div>"
      ],
      "text/plain": [
       "   SK_ID_BUREAU  MONTHS_BALANCE STATUS\n",
       "0       5715448               0      C\n",
       "1       5715448              -1      C\n",
       "2       5715448              -2      C\n",
       "3       5715448              -3      C\n",
       "4       5715448              -4      C"
      ]
     },
     "execution_count": 25,
     "metadata": {},
     "output_type": "execute_result"
    }
   ],
   "source": [
    "bureau_balance = pd.read_csv(path + \"bureau_balance.csv\")\n",
    "bureau_balance.head()"
   ]
  },
  {
   "cell_type": "markdown",
   "metadata": {
    "_cell_guid": "d552c14d-f574-4392-9706-f4c12db8b549",
    "_uuid": "76f36853e9a9812c5a9ef82fc31d50ef87da1d41"
   },
   "source": [
    "## <a id=\"5\">5. Exploration of Credit Card Balance</a>\n",
    "\n",
    "Monthly balance snapshots of previous credit cards that the applicant has with Home Credit.This table has one row for each month of history of every previous credit in Home Credit (consumer credit and cash loans) related to loans in our sample – i.e. the table has (#loans in sample * # of relative previous credit cards * # of months where we have some history observable for the previous credit card) rows.\n",
    "\n",
    "### <a id=\"5.1\">5.1 Snapshot of Credit Card Balance</a>"
   ]
  },
  {
   "cell_type": "code",
   "execution_count": 26,
   "metadata": {
    "_cell_guid": "0407eeec-c672-4f64-95e4-633893271130",
    "_kg_hide-input": true,
    "_uuid": "89ef3131f2f1a6125b4a0b3df9aef52c1e985039"
   },
   "outputs": [
    {
     "data": {
      "text/html": [
       "<div>\n",
       "<style scoped>\n",
       "    .dataframe tbody tr th:only-of-type {\n",
       "        vertical-align: middle;\n",
       "    }\n",
       "\n",
       "    .dataframe tbody tr th {\n",
       "        vertical-align: top;\n",
       "    }\n",
       "\n",
       "    .dataframe thead th {\n",
       "        text-align: right;\n",
       "    }\n",
       "</style>\n",
       "<table border=\"1\" class=\"dataframe\">\n",
       "  <thead>\n",
       "    <tr style=\"text-align: right;\">\n",
       "      <th></th>\n",
       "      <th>SK_ID_PREV</th>\n",
       "      <th>SK_ID_CURR</th>\n",
       "      <th>MONTHS_BALANCE</th>\n",
       "      <th>AMT_BALANCE</th>\n",
       "      <th>AMT_CREDIT_LIMIT_ACTUAL</th>\n",
       "      <th>AMT_DRAWINGS_ATM_CURRENT</th>\n",
       "      <th>AMT_DRAWINGS_CURRENT</th>\n",
       "      <th>AMT_DRAWINGS_OTHER_CURRENT</th>\n",
       "      <th>AMT_DRAWINGS_POS_CURRENT</th>\n",
       "      <th>AMT_INST_MIN_REGULARITY</th>\n",
       "      <th>...</th>\n",
       "      <th>AMT_RECIVABLE</th>\n",
       "      <th>AMT_TOTAL_RECEIVABLE</th>\n",
       "      <th>CNT_DRAWINGS_ATM_CURRENT</th>\n",
       "      <th>CNT_DRAWINGS_CURRENT</th>\n",
       "      <th>CNT_DRAWINGS_OTHER_CURRENT</th>\n",
       "      <th>CNT_DRAWINGS_POS_CURRENT</th>\n",
       "      <th>CNT_INSTALMENT_MATURE_CUM</th>\n",
       "      <th>NAME_CONTRACT_STATUS</th>\n",
       "      <th>SK_DPD</th>\n",
       "      <th>SK_DPD_DEF</th>\n",
       "    </tr>\n",
       "  </thead>\n",
       "  <tbody>\n",
       "    <tr>\n",
       "      <th>0</th>\n",
       "      <td>2562384</td>\n",
       "      <td>378907</td>\n",
       "      <td>-6</td>\n",
       "      <td>56.970</td>\n",
       "      <td>135000</td>\n",
       "      <td>0.0</td>\n",
       "      <td>877.5</td>\n",
       "      <td>0.0</td>\n",
       "      <td>877.5</td>\n",
       "      <td>1700.325</td>\n",
       "      <td>...</td>\n",
       "      <td>0.000</td>\n",
       "      <td>0.000</td>\n",
       "      <td>0.0</td>\n",
       "      <td>1</td>\n",
       "      <td>0.0</td>\n",
       "      <td>1.0</td>\n",
       "      <td>35.0</td>\n",
       "      <td>Active</td>\n",
       "      <td>0</td>\n",
       "      <td>0</td>\n",
       "    </tr>\n",
       "    <tr>\n",
       "      <th>1</th>\n",
       "      <td>2582071</td>\n",
       "      <td>363914</td>\n",
       "      <td>-1</td>\n",
       "      <td>63975.555</td>\n",
       "      <td>45000</td>\n",
       "      <td>2250.0</td>\n",
       "      <td>2250.0</td>\n",
       "      <td>0.0</td>\n",
       "      <td>0.0</td>\n",
       "      <td>2250.000</td>\n",
       "      <td>...</td>\n",
       "      <td>64875.555</td>\n",
       "      <td>64875.555</td>\n",
       "      <td>1.0</td>\n",
       "      <td>1</td>\n",
       "      <td>0.0</td>\n",
       "      <td>0.0</td>\n",
       "      <td>69.0</td>\n",
       "      <td>Active</td>\n",
       "      <td>0</td>\n",
       "      <td>0</td>\n",
       "    </tr>\n",
       "    <tr>\n",
       "      <th>2</th>\n",
       "      <td>1740877</td>\n",
       "      <td>371185</td>\n",
       "      <td>-7</td>\n",
       "      <td>31815.225</td>\n",
       "      <td>450000</td>\n",
       "      <td>0.0</td>\n",
       "      <td>0.0</td>\n",
       "      <td>0.0</td>\n",
       "      <td>0.0</td>\n",
       "      <td>2250.000</td>\n",
       "      <td>...</td>\n",
       "      <td>31460.085</td>\n",
       "      <td>31460.085</td>\n",
       "      <td>0.0</td>\n",
       "      <td>0</td>\n",
       "      <td>0.0</td>\n",
       "      <td>0.0</td>\n",
       "      <td>30.0</td>\n",
       "      <td>Active</td>\n",
       "      <td>0</td>\n",
       "      <td>0</td>\n",
       "    </tr>\n",
       "    <tr>\n",
       "      <th>3</th>\n",
       "      <td>1389973</td>\n",
       "      <td>337855</td>\n",
       "      <td>-4</td>\n",
       "      <td>236572.110</td>\n",
       "      <td>225000</td>\n",
       "      <td>2250.0</td>\n",
       "      <td>2250.0</td>\n",
       "      <td>0.0</td>\n",
       "      <td>0.0</td>\n",
       "      <td>11795.760</td>\n",
       "      <td>...</td>\n",
       "      <td>233048.970</td>\n",
       "      <td>233048.970</td>\n",
       "      <td>1.0</td>\n",
       "      <td>1</td>\n",
       "      <td>0.0</td>\n",
       "      <td>0.0</td>\n",
       "      <td>10.0</td>\n",
       "      <td>Active</td>\n",
       "      <td>0</td>\n",
       "      <td>0</td>\n",
       "    </tr>\n",
       "    <tr>\n",
       "      <th>4</th>\n",
       "      <td>1891521</td>\n",
       "      <td>126868</td>\n",
       "      <td>-1</td>\n",
       "      <td>453919.455</td>\n",
       "      <td>450000</td>\n",
       "      <td>0.0</td>\n",
       "      <td>11547.0</td>\n",
       "      <td>0.0</td>\n",
       "      <td>11547.0</td>\n",
       "      <td>22924.890</td>\n",
       "      <td>...</td>\n",
       "      <td>453919.455</td>\n",
       "      <td>453919.455</td>\n",
       "      <td>0.0</td>\n",
       "      <td>1</td>\n",
       "      <td>0.0</td>\n",
       "      <td>1.0</td>\n",
       "      <td>101.0</td>\n",
       "      <td>Active</td>\n",
       "      <td>0</td>\n",
       "      <td>0</td>\n",
       "    </tr>\n",
       "  </tbody>\n",
       "</table>\n",
       "<p>5 rows × 23 columns</p>\n",
       "</div>"
      ],
      "text/plain": [
       "   SK_ID_PREV  SK_ID_CURR  MONTHS_BALANCE  AMT_BALANCE  \\\n",
       "0     2562384      378907              -6       56.970   \n",
       "1     2582071      363914              -1    63975.555   \n",
       "2     1740877      371185              -7    31815.225   \n",
       "3     1389973      337855              -4   236572.110   \n",
       "4     1891521      126868              -1   453919.455   \n",
       "\n",
       "   AMT_CREDIT_LIMIT_ACTUAL  AMT_DRAWINGS_ATM_CURRENT  AMT_DRAWINGS_CURRENT  \\\n",
       "0                   135000                       0.0                 877.5   \n",
       "1                    45000                    2250.0                2250.0   \n",
       "2                   450000                       0.0                   0.0   \n",
       "3                   225000                    2250.0                2250.0   \n",
       "4                   450000                       0.0               11547.0   \n",
       "\n",
       "   AMT_DRAWINGS_OTHER_CURRENT  AMT_DRAWINGS_POS_CURRENT  \\\n",
       "0                         0.0                     877.5   \n",
       "1                         0.0                       0.0   \n",
       "2                         0.0                       0.0   \n",
       "3                         0.0                       0.0   \n",
       "4                         0.0                   11547.0   \n",
       "\n",
       "   AMT_INST_MIN_REGULARITY     ...      AMT_RECIVABLE  AMT_TOTAL_RECEIVABLE  \\\n",
       "0                 1700.325     ...              0.000                 0.000   \n",
       "1                 2250.000     ...          64875.555             64875.555   \n",
       "2                 2250.000     ...          31460.085             31460.085   \n",
       "3                11795.760     ...         233048.970            233048.970   \n",
       "4                22924.890     ...         453919.455            453919.455   \n",
       "\n",
       "   CNT_DRAWINGS_ATM_CURRENT  CNT_DRAWINGS_CURRENT  CNT_DRAWINGS_OTHER_CURRENT  \\\n",
       "0                       0.0                     1                         0.0   \n",
       "1                       1.0                     1                         0.0   \n",
       "2                       0.0                     0                         0.0   \n",
       "3                       1.0                     1                         0.0   \n",
       "4                       0.0                     1                         0.0   \n",
       "\n",
       "   CNT_DRAWINGS_POS_CURRENT  CNT_INSTALMENT_MATURE_CUM  NAME_CONTRACT_STATUS  \\\n",
       "0                       1.0                       35.0                Active   \n",
       "1                       0.0                       69.0                Active   \n",
       "2                       0.0                       30.0                Active   \n",
       "3                       0.0                       10.0                Active   \n",
       "4                       1.0                      101.0                Active   \n",
       "\n",
       "   SK_DPD  SK_DPD_DEF  \n",
       "0       0           0  \n",
       "1       0           0  \n",
       "2       0           0  \n",
       "3       0           0  \n",
       "4       0           0  \n",
       "\n",
       "[5 rows x 23 columns]"
      ]
     },
     "execution_count": 26,
     "metadata": {},
     "output_type": "execute_result"
    }
   ],
   "source": [
    "credit_card_balance = pd.read_csv(path + \"credit_card_balance.csv\")\n",
    "credit_card_balance.head()"
   ]
  },
  {
   "cell_type": "markdown",
   "metadata": {
    "_cell_guid": "e437d24d-2db4-4750-998d-5fee2aa0857e",
    "_uuid": "1c083b3fdd9a9f6df7ea762c85f6b87b49479369"
   },
   "source": [
    "## <a id=\"6\">6. Exploration of POS CASH Balance Data</a>\n",
    "\n",
    "Monthly balance snapshots of previous POS (point of sales) and cash loans that the applicant had with Home Credit. This table has one row for each month of history of every previous credit in Home Credit (consumer credit and cash loans) related to loans in our sample – i.e. the table has (#loans in sample * # of relative previous credits * # of months in which we have some history observable for the previous credits) rows.\n",
    "\n",
    "### <a id=\"6.1\">6.1 Snapshot of POS CASH Balance Data</a>"
   ]
  },
  {
   "cell_type": "code",
   "execution_count": 27,
   "metadata": {
    "_cell_guid": "e466a665-ae96-4014-b2e3-d898b9ff1127",
    "_kg_hide-input": true,
    "_uuid": "6a28d16a578c39e441b7c7542b3957c1ffcb9d1c"
   },
   "outputs": [
    {
     "data": {
      "text/html": [
       "<div>\n",
       "<style scoped>\n",
       "    .dataframe tbody tr th:only-of-type {\n",
       "        vertical-align: middle;\n",
       "    }\n",
       "\n",
       "    .dataframe tbody tr th {\n",
       "        vertical-align: top;\n",
       "    }\n",
       "\n",
       "    .dataframe thead th {\n",
       "        text-align: right;\n",
       "    }\n",
       "</style>\n",
       "<table border=\"1\" class=\"dataframe\">\n",
       "  <thead>\n",
       "    <tr style=\"text-align: right;\">\n",
       "      <th></th>\n",
       "      <th>SK_ID_PREV</th>\n",
       "      <th>SK_ID_CURR</th>\n",
       "      <th>MONTHS_BALANCE</th>\n",
       "      <th>CNT_INSTALMENT</th>\n",
       "      <th>CNT_INSTALMENT_FUTURE</th>\n",
       "      <th>NAME_CONTRACT_STATUS</th>\n",
       "      <th>SK_DPD</th>\n",
       "      <th>SK_DPD_DEF</th>\n",
       "    </tr>\n",
       "  </thead>\n",
       "  <tbody>\n",
       "    <tr>\n",
       "      <th>0</th>\n",
       "      <td>1803195</td>\n",
       "      <td>182943</td>\n",
       "      <td>-31</td>\n",
       "      <td>48.0</td>\n",
       "      <td>45.0</td>\n",
       "      <td>Active</td>\n",
       "      <td>0</td>\n",
       "      <td>0</td>\n",
       "    </tr>\n",
       "    <tr>\n",
       "      <th>1</th>\n",
       "      <td>1715348</td>\n",
       "      <td>367990</td>\n",
       "      <td>-33</td>\n",
       "      <td>36.0</td>\n",
       "      <td>35.0</td>\n",
       "      <td>Active</td>\n",
       "      <td>0</td>\n",
       "      <td>0</td>\n",
       "    </tr>\n",
       "    <tr>\n",
       "      <th>2</th>\n",
       "      <td>1784872</td>\n",
       "      <td>397406</td>\n",
       "      <td>-32</td>\n",
       "      <td>12.0</td>\n",
       "      <td>9.0</td>\n",
       "      <td>Active</td>\n",
       "      <td>0</td>\n",
       "      <td>0</td>\n",
       "    </tr>\n",
       "    <tr>\n",
       "      <th>3</th>\n",
       "      <td>1903291</td>\n",
       "      <td>269225</td>\n",
       "      <td>-35</td>\n",
       "      <td>48.0</td>\n",
       "      <td>42.0</td>\n",
       "      <td>Active</td>\n",
       "      <td>0</td>\n",
       "      <td>0</td>\n",
       "    </tr>\n",
       "    <tr>\n",
       "      <th>4</th>\n",
       "      <td>2341044</td>\n",
       "      <td>334279</td>\n",
       "      <td>-35</td>\n",
       "      <td>36.0</td>\n",
       "      <td>35.0</td>\n",
       "      <td>Active</td>\n",
       "      <td>0</td>\n",
       "      <td>0</td>\n",
       "    </tr>\n",
       "  </tbody>\n",
       "</table>\n",
       "</div>"
      ],
      "text/plain": [
       "   SK_ID_PREV  SK_ID_CURR  MONTHS_BALANCE  CNT_INSTALMENT  \\\n",
       "0     1803195      182943             -31            48.0   \n",
       "1     1715348      367990             -33            36.0   \n",
       "2     1784872      397406             -32            12.0   \n",
       "3     1903291      269225             -35            48.0   \n",
       "4     2341044      334279             -35            36.0   \n",
       "\n",
       "   CNT_INSTALMENT_FUTURE NAME_CONTRACT_STATUS  SK_DPD  SK_DPD_DEF  \n",
       "0                   45.0               Active       0           0  \n",
       "1                   35.0               Active       0           0  \n",
       "2                    9.0               Active       0           0  \n",
       "3                   42.0               Active       0           0  \n",
       "4                   35.0               Active       0           0  "
      ]
     },
     "execution_count": 27,
     "metadata": {},
     "output_type": "execute_result"
    }
   ],
   "source": [
    "pcb = pd.read_csv(path + \"POS_CASH_balance.csv\")\n",
    "pcb.head()"
   ]
  },
  {
   "cell_type": "markdown",
   "metadata": {
    "_cell_guid": "5fa69a3c-9e73-4d6e-b3c7-ec0689c75f30",
    "_uuid": "0840360310311a1b4d835cf9f5612b61d39115fe"
   },
   "source": [
    "## <a id=\"7\">7. Exploration of Prev Application</a>\n",
    "\n",
    "### <a id=\"7.1\">7.1 Snapshot of Prev Application</a>"
   ]
  },
  {
   "cell_type": "code",
   "execution_count": 28,
   "metadata": {
    "_cell_guid": "1bb291e8-65f2-43c4-a09d-2a785837a395",
    "_kg_hide-input": true,
    "_uuid": "2e163de1e8b97df7059624eba3b0ad5f3d51fa9b"
   },
   "outputs": [
    {
     "data": {
      "text/html": [
       "<div>\n",
       "<style scoped>\n",
       "    .dataframe tbody tr th:only-of-type {\n",
       "        vertical-align: middle;\n",
       "    }\n",
       "\n",
       "    .dataframe tbody tr th {\n",
       "        vertical-align: top;\n",
       "    }\n",
       "\n",
       "    .dataframe thead th {\n",
       "        text-align: right;\n",
       "    }\n",
       "</style>\n",
       "<table border=\"1\" class=\"dataframe\">\n",
       "  <thead>\n",
       "    <tr style=\"text-align: right;\">\n",
       "      <th></th>\n",
       "      <th>SK_ID_PREV</th>\n",
       "      <th>SK_ID_CURR</th>\n",
       "      <th>NAME_CONTRACT_TYPE</th>\n",
       "      <th>AMT_ANNUITY</th>\n",
       "      <th>AMT_APPLICATION</th>\n",
       "      <th>AMT_CREDIT</th>\n",
       "      <th>AMT_DOWN_PAYMENT</th>\n",
       "      <th>AMT_GOODS_PRICE</th>\n",
       "      <th>WEEKDAY_APPR_PROCESS_START</th>\n",
       "      <th>HOUR_APPR_PROCESS_START</th>\n",
       "      <th>...</th>\n",
       "      <th>NAME_SELLER_INDUSTRY</th>\n",
       "      <th>CNT_PAYMENT</th>\n",
       "      <th>NAME_YIELD_GROUP</th>\n",
       "      <th>PRODUCT_COMBINATION</th>\n",
       "      <th>DAYS_FIRST_DRAWING</th>\n",
       "      <th>DAYS_FIRST_DUE</th>\n",
       "      <th>DAYS_LAST_DUE_1ST_VERSION</th>\n",
       "      <th>DAYS_LAST_DUE</th>\n",
       "      <th>DAYS_TERMINATION</th>\n",
       "      <th>NFLAG_INSURED_ON_APPROVAL</th>\n",
       "    </tr>\n",
       "  </thead>\n",
       "  <tbody>\n",
       "    <tr>\n",
       "      <th>0</th>\n",
       "      <td>2030495</td>\n",
       "      <td>271877</td>\n",
       "      <td>Consumer loans</td>\n",
       "      <td>1730.430</td>\n",
       "      <td>17145.0</td>\n",
       "      <td>17145.0</td>\n",
       "      <td>0.0</td>\n",
       "      <td>17145.0</td>\n",
       "      <td>SATURDAY</td>\n",
       "      <td>15</td>\n",
       "      <td>...</td>\n",
       "      <td>Connectivity</td>\n",
       "      <td>12.0</td>\n",
       "      <td>middle</td>\n",
       "      <td>POS mobile with interest</td>\n",
       "      <td>365243.0</td>\n",
       "      <td>-42.0</td>\n",
       "      <td>300.0</td>\n",
       "      <td>-42.0</td>\n",
       "      <td>-37.0</td>\n",
       "      <td>0.0</td>\n",
       "    </tr>\n",
       "    <tr>\n",
       "      <th>1</th>\n",
       "      <td>2802425</td>\n",
       "      <td>108129</td>\n",
       "      <td>Cash loans</td>\n",
       "      <td>25188.615</td>\n",
       "      <td>607500.0</td>\n",
       "      <td>679671.0</td>\n",
       "      <td>NaN</td>\n",
       "      <td>607500.0</td>\n",
       "      <td>THURSDAY</td>\n",
       "      <td>11</td>\n",
       "      <td>...</td>\n",
       "      <td>XNA</td>\n",
       "      <td>36.0</td>\n",
       "      <td>low_action</td>\n",
       "      <td>Cash X-Sell: low</td>\n",
       "      <td>365243.0</td>\n",
       "      <td>-134.0</td>\n",
       "      <td>916.0</td>\n",
       "      <td>365243.0</td>\n",
       "      <td>365243.0</td>\n",
       "      <td>1.0</td>\n",
       "    </tr>\n",
       "    <tr>\n",
       "      <th>2</th>\n",
       "      <td>2523466</td>\n",
       "      <td>122040</td>\n",
       "      <td>Cash loans</td>\n",
       "      <td>15060.735</td>\n",
       "      <td>112500.0</td>\n",
       "      <td>136444.5</td>\n",
       "      <td>NaN</td>\n",
       "      <td>112500.0</td>\n",
       "      <td>TUESDAY</td>\n",
       "      <td>11</td>\n",
       "      <td>...</td>\n",
       "      <td>XNA</td>\n",
       "      <td>12.0</td>\n",
       "      <td>high</td>\n",
       "      <td>Cash X-Sell: high</td>\n",
       "      <td>365243.0</td>\n",
       "      <td>-271.0</td>\n",
       "      <td>59.0</td>\n",
       "      <td>365243.0</td>\n",
       "      <td>365243.0</td>\n",
       "      <td>1.0</td>\n",
       "    </tr>\n",
       "    <tr>\n",
       "      <th>3</th>\n",
       "      <td>2819243</td>\n",
       "      <td>176158</td>\n",
       "      <td>Cash loans</td>\n",
       "      <td>47041.335</td>\n",
       "      <td>450000.0</td>\n",
       "      <td>470790.0</td>\n",
       "      <td>NaN</td>\n",
       "      <td>450000.0</td>\n",
       "      <td>MONDAY</td>\n",
       "      <td>7</td>\n",
       "      <td>...</td>\n",
       "      <td>XNA</td>\n",
       "      <td>12.0</td>\n",
       "      <td>middle</td>\n",
       "      <td>Cash X-Sell: middle</td>\n",
       "      <td>365243.0</td>\n",
       "      <td>-482.0</td>\n",
       "      <td>-152.0</td>\n",
       "      <td>-182.0</td>\n",
       "      <td>-177.0</td>\n",
       "      <td>1.0</td>\n",
       "    </tr>\n",
       "    <tr>\n",
       "      <th>4</th>\n",
       "      <td>1784265</td>\n",
       "      <td>202054</td>\n",
       "      <td>Cash loans</td>\n",
       "      <td>31924.395</td>\n",
       "      <td>337500.0</td>\n",
       "      <td>404055.0</td>\n",
       "      <td>NaN</td>\n",
       "      <td>337500.0</td>\n",
       "      <td>THURSDAY</td>\n",
       "      <td>9</td>\n",
       "      <td>...</td>\n",
       "      <td>XNA</td>\n",
       "      <td>24.0</td>\n",
       "      <td>high</td>\n",
       "      <td>Cash Street: high</td>\n",
       "      <td>NaN</td>\n",
       "      <td>NaN</td>\n",
       "      <td>NaN</td>\n",
       "      <td>NaN</td>\n",
       "      <td>NaN</td>\n",
       "      <td>NaN</td>\n",
       "    </tr>\n",
       "  </tbody>\n",
       "</table>\n",
       "<p>5 rows × 37 columns</p>\n",
       "</div>"
      ],
      "text/plain": [
       "   SK_ID_PREV  SK_ID_CURR NAME_CONTRACT_TYPE  AMT_ANNUITY  AMT_APPLICATION  \\\n",
       "0     2030495      271877     Consumer loans     1730.430          17145.0   \n",
       "1     2802425      108129         Cash loans    25188.615         607500.0   \n",
       "2     2523466      122040         Cash loans    15060.735         112500.0   \n",
       "3     2819243      176158         Cash loans    47041.335         450000.0   \n",
       "4     1784265      202054         Cash loans    31924.395         337500.0   \n",
       "\n",
       "   AMT_CREDIT  AMT_DOWN_PAYMENT  AMT_GOODS_PRICE WEEKDAY_APPR_PROCESS_START  \\\n",
       "0     17145.0               0.0          17145.0                   SATURDAY   \n",
       "1    679671.0               NaN         607500.0                   THURSDAY   \n",
       "2    136444.5               NaN         112500.0                    TUESDAY   \n",
       "3    470790.0               NaN         450000.0                     MONDAY   \n",
       "4    404055.0               NaN         337500.0                   THURSDAY   \n",
       "\n",
       "   HOUR_APPR_PROCESS_START            ...            NAME_SELLER_INDUSTRY  \\\n",
       "0                       15            ...                    Connectivity   \n",
       "1                       11            ...                             XNA   \n",
       "2                       11            ...                             XNA   \n",
       "3                        7            ...                             XNA   \n",
       "4                        9            ...                             XNA   \n",
       "\n",
       "   CNT_PAYMENT  NAME_YIELD_GROUP       PRODUCT_COMBINATION  \\\n",
       "0         12.0            middle  POS mobile with interest   \n",
       "1         36.0        low_action          Cash X-Sell: low   \n",
       "2         12.0              high         Cash X-Sell: high   \n",
       "3         12.0            middle       Cash X-Sell: middle   \n",
       "4         24.0              high         Cash Street: high   \n",
       "\n",
       "   DAYS_FIRST_DRAWING DAYS_FIRST_DUE DAYS_LAST_DUE_1ST_VERSION  DAYS_LAST_DUE  \\\n",
       "0            365243.0          -42.0                     300.0          -42.0   \n",
       "1            365243.0         -134.0                     916.0       365243.0   \n",
       "2            365243.0         -271.0                      59.0       365243.0   \n",
       "3            365243.0         -482.0                    -152.0         -182.0   \n",
       "4                 NaN            NaN                       NaN            NaN   \n",
       "\n",
       "  DAYS_TERMINATION NFLAG_INSURED_ON_APPROVAL  \n",
       "0            -37.0                       0.0  \n",
       "1         365243.0                       1.0  \n",
       "2         365243.0                       1.0  \n",
       "3           -177.0                       1.0  \n",
       "4              NaN                       NaN  \n",
       "\n",
       "[5 rows x 37 columns]"
      ]
     },
     "execution_count": 28,
     "metadata": {},
     "output_type": "execute_result"
    }
   ],
   "source": [
    "previous_application = pd.read_csv(path + \"previous_application.csv\")\n",
    "previous_application.head()"
   ]
  },
  {
   "cell_type": "markdown",
   "metadata": {
    "_cell_guid": "4215674c-cf90-4a98-9628-5bc33f7b3d96",
    "_uuid": "5a97d1025d3151b74d5d9387d2523ff51b2d4049"
   },
   "source": [
    "### <a id=\"7.2\">7.2 Contract Status Distribution in Previously Filed Applications</a>"
   ]
  },
  {
   "cell_type": "code",
   "execution_count": 29,
   "metadata": {
    "_cell_guid": "b2ff9309-d467-4ff5-8226-9af7e713dc74",
    "_kg_hide-input": true,
    "_uuid": "972f2148294c720e5f06d25484895567e3bfc594"
   },
   "outputs": [
    {
     "data": {
      "application/vnd.plotly.v1+json": {
       "data": [
        {
         "labels": [
          "Approved",
          "Canceled",
          "Refused",
          "Unused offer"
         ],
         "marker": {
          "colors": [
           "#FEBFB3",
           "#E1396C",
           "#96D38C",
           "#D0F9B1"
          ],
          "line": {
           "color": "#fff",
           "width": 2
          }
         },
         "textfont": {
          "size": 12
         },
         "type": "pie",
         "uid": "3fb1eb2e-959c-11e8-891b-343dc4786be4",
         "values": [
          1036781,
          316319,
          290678,
          26436
         ]
        }
       ],
       "layout": {
        "height": 400,
        "title": "Name Contract Status in Previous Applications"
       }
      },
      "text/html": [
       "<div id=\"fac5144f-7564-4ad4-9ee2-15a9494ffd83\" style=\"height: 400px; width: 100%;\" class=\"plotly-graph-div\"></div><script type=\"text/javascript\">require([\"plotly\"], function(Plotly) { window.PLOTLYENV=window.PLOTLYENV || {};window.PLOTLYENV.BASE_URL=\"https://plot.ly\";\n",
       "        Plotly.plot(\n",
       "            'fac5144f-7564-4ad4-9ee2-15a9494ffd83',\n",
       "            [{\"labels\": [\"Approved\", \"Canceled\", \"Refused\", \"Unused offer\"], \"marker\": {\"colors\": [\"#FEBFB3\", \"#E1396C\", \"#96D38C\", \"#D0F9B1\"], \"line\": {\"color\": \"#fff\", \"width\": 2}}, \"textfont\": {\"size\": 12}, \"values\": [1036781.0, 316319.0, 290678.0, 26436.0], \"type\": \"pie\", \"uid\": \"3fb1eb2e-959c-11e8-891b-343dc4786be4\"}],\n",
       "            {\"height\": 400, \"title\": \"Name Contract Status in Previous Applications\"},\n",
       "            {\"showLink\": true, \"linkText\": \"Export to plot.ly\"}\n",
       "        ).then(function () {return Plotly.addFrames('fac5144f-7564-4ad4-9ee2-15a9494ffd83',{});}).then(function(){Plotly.animate('fac5144f-7564-4ad4-9ee2-15a9494ffd83');})\n",
       "        });</script>"
      ],
      "text/vnd.plotly.v1+html": [
       "<div id=\"fac5144f-7564-4ad4-9ee2-15a9494ffd83\" style=\"height: 400px; width: 100%;\" class=\"plotly-graph-div\"></div><script type=\"text/javascript\">require([\"plotly\"], function(Plotly) { window.PLOTLYENV=window.PLOTLYENV || {};window.PLOTLYENV.BASE_URL=\"https://plot.ly\";\n",
       "        Plotly.plot(\n",
       "            'fac5144f-7564-4ad4-9ee2-15a9494ffd83',\n",
       "            [{\"labels\": [\"Approved\", \"Canceled\", \"Refused\", \"Unused offer\"], \"marker\": {\"colors\": [\"#FEBFB3\", \"#E1396C\", \"#96D38C\", \"#D0F9B1\"], \"line\": {\"color\": \"#fff\", \"width\": 2}}, \"textfont\": {\"size\": 12}, \"values\": [1036781.0, 316319.0, 290678.0, 26436.0], \"type\": \"pie\", \"uid\": \"3fb1eb2e-959c-11e8-891b-343dc4786be4\"}],\n",
       "            {\"height\": 400, \"title\": \"Name Contract Status in Previous Applications\"},\n",
       "            {\"showLink\": true, \"linkText\": \"Export to plot.ly\"}\n",
       "        ).then(function () {return Plotly.addFrames('fac5144f-7564-4ad4-9ee2-15a9494ffd83',{});}).then(function(){Plotly.animate('fac5144f-7564-4ad4-9ee2-15a9494ffd83');})\n",
       "        });</script>"
      ]
     },
     "metadata": {},
     "output_type": "display_data"
    }
   ],
   "source": [
    "t = previous_application['NAME_CONTRACT_STATUS'].value_counts()\n",
    "labels = t.index\n",
    "values = t.values\n",
    "\n",
    "colors = ['#FEBFB3', '#E1396C', '#96D38C', '#D0F9B1']\n",
    "\n",
    "trace = go.Pie(labels=labels, values=values,\n",
    "##               hoverinfo='', textinfo='',\n",
    "               textfont=dict(size=12),\n",
    "               marker=dict(colors=colors,\n",
    "                           line=dict(color='#fff', width=2)))\n",
    "\n",
    "layout = go.Layout(title='Name Contract Status in Previous Applications', height=400)\n",
    "fig = go.Figure(data=[trace], layout=layout)\n",
    "iplot(fig)"
   ]
  },
  {
   "cell_type": "markdown",
   "metadata": {
    "_cell_guid": "b310cc84-4e47-490e-abda-326dd3ca50fb",
    "_uuid": "b1d764955f864244143a58a2f036945755d6ef8e"
   },
   "source": [
    "> - A large number of people (about 62%) had their previous applications approved, while about 19% of them had cancelled and other 17% were resued. \n",
    "\n",
    "### <a id=\"7.3\">7.3 Suite Type Distribution of Previous Applications</a>"
   ]
  },
  {
   "cell_type": "code",
   "execution_count": 30,
   "metadata": {
    "_cell_guid": "e9a278ed-0653-43ad-9df4-3daff8b9578c",
    "_kg_hide-input": true,
    "_uuid": "bd0009f9babfb6e399a105c4723f51faf98b7e31"
   },
   "outputs": [
    {
     "data": {
      "application/vnd.plotly.v1+json": {
       "data": [
        {
         "labels": [
          "Unaccompanied",
          "Family",
          "Spouse, partner",
          "Children",
          "Other_B",
          "Other_A",
          "Group of people"
         ],
         "marker": {
          "colors": [
           "#FEBFB3",
           "#E1396C",
           "#96D38C",
           "#D0F9B1"
          ],
          "line": {
           "color": "#fff",
           "width": 2
          }
         },
         "textfont": {
          "size": 12
         },
         "type": "pie",
         "uid": "3fd5ac40-959c-11e8-85dc-343dc4786be4",
         "values": [
          508970,
          213263,
          67069,
          31566,
          17624,
          9077,
          2240
         ]
        }
       ],
       "layout": {
        "height": 400,
        "title": "Suite Type in Previous Application Distribution"
       }
      },
      "text/html": [
       "<div id=\"59271442-6dd4-418e-9dcd-407110815ee1\" style=\"height: 400px; width: 100%;\" class=\"plotly-graph-div\"></div><script type=\"text/javascript\">require([\"plotly\"], function(Plotly) { window.PLOTLYENV=window.PLOTLYENV || {};window.PLOTLYENV.BASE_URL=\"https://plot.ly\";\n",
       "        Plotly.plot(\n",
       "            '59271442-6dd4-418e-9dcd-407110815ee1',\n",
       "            [{\"labels\": [\"Unaccompanied\", \"Family\", \"Spouse, partner\", \"Children\", \"Other_B\", \"Other_A\", \"Group of people\"], \"marker\": {\"colors\": [\"#FEBFB3\", \"#E1396C\", \"#96D38C\", \"#D0F9B1\"], \"line\": {\"color\": \"#fff\", \"width\": 2}}, \"textfont\": {\"size\": 12}, \"values\": [508970.0, 213263.0, 67069.0, 31566.0, 17624.0, 9077.0, 2240.0], \"type\": \"pie\", \"uid\": \"3fd5ac40-959c-11e8-85dc-343dc4786be4\"}],\n",
       "            {\"height\": 400, \"title\": \"Suite Type in Previous Application Distribution\"},\n",
       "            {\"showLink\": true, \"linkText\": \"Export to plot.ly\"}\n",
       "        ).then(function () {return Plotly.addFrames('59271442-6dd4-418e-9dcd-407110815ee1',{});}).then(function(){Plotly.animate('59271442-6dd4-418e-9dcd-407110815ee1');})\n",
       "        });</script>"
      ],
      "text/vnd.plotly.v1+html": [
       "<div id=\"59271442-6dd4-418e-9dcd-407110815ee1\" style=\"height: 400px; width: 100%;\" class=\"plotly-graph-div\"></div><script type=\"text/javascript\">require([\"plotly\"], function(Plotly) { window.PLOTLYENV=window.PLOTLYENV || {};window.PLOTLYENV.BASE_URL=\"https://plot.ly\";\n",
       "        Plotly.plot(\n",
       "            '59271442-6dd4-418e-9dcd-407110815ee1',\n",
       "            [{\"labels\": [\"Unaccompanied\", \"Family\", \"Spouse, partner\", \"Children\", \"Other_B\", \"Other_A\", \"Group of people\"], \"marker\": {\"colors\": [\"#FEBFB3\", \"#E1396C\", \"#96D38C\", \"#D0F9B1\"], \"line\": {\"color\": \"#fff\", \"width\": 2}}, \"textfont\": {\"size\": 12}, \"values\": [508970.0, 213263.0, 67069.0, 31566.0, 17624.0, 9077.0, 2240.0], \"type\": \"pie\", \"uid\": \"3fd5ac40-959c-11e8-85dc-343dc4786be4\"}],\n",
       "            {\"height\": 400, \"title\": \"Suite Type in Previous Application Distribution\"},\n",
       "            {\"showLink\": true, \"linkText\": \"Export to plot.ly\"}\n",
       "        ).then(function () {return Plotly.addFrames('59271442-6dd4-418e-9dcd-407110815ee1',{});}).then(function(){Plotly.animate('59271442-6dd4-418e-9dcd-407110815ee1');})\n",
       "        });</script>"
      ]
     },
     "metadata": {},
     "output_type": "display_data"
    }
   ],
   "source": [
    "t = previous_application['NAME_TYPE_SUITE'].value_counts()\n",
    "labels = t.index\n",
    "values = t.values\n",
    "\n",
    "colors = ['#FEBFB3', '#E1396C', '#96D38C', '#D0F9B1']\n",
    "\n",
    "trace = go.Pie(labels=labels, values=values,\n",
    "##               hoverinfo='', textinfo='',\n",
    "               textfont=dict(size=12),\n",
    "               marker=dict(colors=colors,\n",
    "                           line=dict(color='#fff', width=2)))\n",
    "\n",
    "layout = go.Layout(title='Suite Type in Previous Application Distribution', height=400)\n",
    "fig = go.Figure(data=[trace], layout=layout)\n",
    "iplot(fig)"
   ]
  },
  {
   "cell_type": "markdown",
   "metadata": {
    "_cell_guid": "7a01e53a-85fc-43a1-9c51-bd0c2f616d54",
    "_uuid": "3a73a8e16611a5061e96b43e1f06bcffe5570bad"
   },
   "source": [
    "> - A majority of applicants had previous applications having Unaccompanied Suite Type (about 60%) followed by Family related suite type (about 25%)\n",
    "\n",
    "### <a id=\"7.4\">7.4 Client Type of Previous Applications</a>"
   ]
  },
  {
   "cell_type": "code",
   "execution_count": 31,
   "metadata": {
    "_cell_guid": "5176fb10-38ce-4b5e-a22b-6526dee9e519",
    "_kg_hide-input": true,
    "_uuid": "3addc73066d5601a382390d05bd14f841db8f599"
   },
   "outputs": [
    {
     "data": {
      "application/vnd.plotly.v1+json": {
       "data": [
        {
         "labels": [
          "Repeater",
          "New",
          "Refreshed",
          "XNA"
         ],
         "marker": {
          "colors": [
           "#FEBFB3",
           "#E1396C",
           "#96D38C",
           "#D0F9B1"
          ],
          "line": {
           "color": "#fff",
           "width": 2
          }
         },
         "textfont": {
          "size": 12
         },
         "type": "pie",
         "uid": "3fefe48c-959c-11e8-868f-343dc4786be4",
         "values": [
          1231261,
          301363,
          135649,
          1941
         ]
        }
       ],
       "layout": {
        "height": 400,
        "title": "Client Type in Previous Applications"
       }
      },
      "text/html": [
       "<div id=\"7ee9bdca-568f-4a74-a6c8-63fb96e8b0f0\" style=\"height: 400px; width: 100%;\" class=\"plotly-graph-div\"></div><script type=\"text/javascript\">require([\"plotly\"], function(Plotly) { window.PLOTLYENV=window.PLOTLYENV || {};window.PLOTLYENV.BASE_URL=\"https://plot.ly\";\n",
       "        Plotly.plot(\n",
       "            '7ee9bdca-568f-4a74-a6c8-63fb96e8b0f0',\n",
       "            [{\"labels\": [\"Repeater\", \"New\", \"Refreshed\", \"XNA\"], \"marker\": {\"colors\": [\"#FEBFB3\", \"#E1396C\", \"#96D38C\", \"#D0F9B1\"], \"line\": {\"color\": \"#fff\", \"width\": 2}}, \"textfont\": {\"size\": 12}, \"values\": [1231261.0, 301363.0, 135649.0, 1941.0], \"type\": \"pie\", \"uid\": \"3fefe48c-959c-11e8-868f-343dc4786be4\"}],\n",
       "            {\"height\": 400, \"title\": \"Client Type in Previous Applications\"},\n",
       "            {\"showLink\": true, \"linkText\": \"Export to plot.ly\"}\n",
       "        ).then(function () {return Plotly.addFrames('7ee9bdca-568f-4a74-a6c8-63fb96e8b0f0',{});}).then(function(){Plotly.animate('7ee9bdca-568f-4a74-a6c8-63fb96e8b0f0');})\n",
       "        });</script>"
      ],
      "text/vnd.plotly.v1+html": [
       "<div id=\"7ee9bdca-568f-4a74-a6c8-63fb96e8b0f0\" style=\"height: 400px; width: 100%;\" class=\"plotly-graph-div\"></div><script type=\"text/javascript\">require([\"plotly\"], function(Plotly) { window.PLOTLYENV=window.PLOTLYENV || {};window.PLOTLYENV.BASE_URL=\"https://plot.ly\";\n",
       "        Plotly.plot(\n",
       "            '7ee9bdca-568f-4a74-a6c8-63fb96e8b0f0',\n",
       "            [{\"labels\": [\"Repeater\", \"New\", \"Refreshed\", \"XNA\"], \"marker\": {\"colors\": [\"#FEBFB3\", \"#E1396C\", \"#96D38C\", \"#D0F9B1\"], \"line\": {\"color\": \"#fff\", \"width\": 2}}, \"textfont\": {\"size\": 12}, \"values\": [1231261.0, 301363.0, 135649.0, 1941.0], \"type\": \"pie\", \"uid\": \"3fefe48c-959c-11e8-868f-343dc4786be4\"}],\n",
       "            {\"height\": 400, \"title\": \"Client Type in Previous Applications\"},\n",
       "            {\"showLink\": true, \"linkText\": \"Export to plot.ly\"}\n",
       "        ).then(function () {return Plotly.addFrames('7ee9bdca-568f-4a74-a6c8-63fb96e8b0f0',{});}).then(function(){Plotly.animate('7ee9bdca-568f-4a74-a6c8-63fb96e8b0f0');})\n",
       "        });</script>"
      ]
     },
     "metadata": {},
     "output_type": "display_data"
    }
   ],
   "source": [
    "t = previous_application['NAME_CLIENT_TYPE'].value_counts()\n",
    "labels = t.index\n",
    "values = t.values\n",
    "\n",
    "colors = ['#FEBFB3', '#E1396C', '#96D38C', '#D0F9B1']\n",
    "\n",
    "trace = go.Pie(labels=labels, values=values,\n",
    "##               hoverinfo='', textinfo='',\n",
    "               textfont=dict(size=12),\n",
    "               marker=dict(colors=colors,\n",
    "                           line=dict(color='#fff', width=2)))\n",
    "\n",
    "layout = go.Layout(title='Client Type in Previous Applications', height=400)\n",
    "fig = go.Figure(data=[trace], layout=layout)\n",
    "iplot(fig)"
   ]
  },
  {
   "cell_type": "markdown",
   "metadata": {
    "_cell_guid": "7816f904-97ab-4f9e-aa5a-454e4ef428d8",
    "_uuid": "36fb1d0c298781a6205a17865003d2ca0fa786f6",
    "collapsed": true
   },
   "source": [
    "> - About 74% of the previous applications were Repeater Clients, while only 18% are new. About 8% are refreshed. \n",
    "\n",
    "### <a id=\"7.5\">7.5 Channel Type - Previous Applications </a>"
   ]
  },
  {
   "cell_type": "code",
   "execution_count": 32,
   "metadata": {
    "_cell_guid": "d3d903f1-5dae-439f-ad54-f1e87fa7d569",
    "_kg_hide-input": true,
    "_uuid": "c8e0f239fd06aef97e10e51af1131945bc60a2c4"
   },
   "outputs": [
    {
     "data": {
      "application/vnd.plotly.v1+json": {
       "data": [
        {
         "labels": [
          "Credit and cash offices",
          "Country-wide",
          "Stone",
          "Regional / Local",
          "Contact center",
          "AP+ (Cash loan)",
          "Channel of corporate sales",
          "Car dealer"
         ],
         "marker": {
          "colors": [
           "#FEBFB3",
           "#E1396C",
           "#96D38C",
           "#D0F9B1"
          ],
          "line": {
           "color": "#fff",
           "width": 2
          }
         },
         "textfont": {
          "size": 12
         },
         "type": "pie",
         "uid": "400ee224-959c-11e8-a15c-343dc4786be4",
         "values": [
          719968,
          494690,
          212083,
          108528,
          71297,
          57046,
          6150,
          452
         ]
        }
       ],
       "layout": {
        "height": 400,
        "title": "Channel Type in Previous Applications"
       }
      },
      "text/html": [
       "<div id=\"885eb4c2-9894-4dfb-966e-ff71328ed730\" style=\"height: 400px; width: 100%;\" class=\"plotly-graph-div\"></div><script type=\"text/javascript\">require([\"plotly\"], function(Plotly) { window.PLOTLYENV=window.PLOTLYENV || {};window.PLOTLYENV.BASE_URL=\"https://plot.ly\";\n",
       "        Plotly.plot(\n",
       "            '885eb4c2-9894-4dfb-966e-ff71328ed730',\n",
       "            [{\"labels\": [\"Credit and cash offices\", \"Country-wide\", \"Stone\", \"Regional / Local\", \"Contact center\", \"AP+ (Cash loan)\", \"Channel of corporate sales\", \"Car dealer\"], \"marker\": {\"colors\": [\"#FEBFB3\", \"#E1396C\", \"#96D38C\", \"#D0F9B1\"], \"line\": {\"color\": \"#fff\", \"width\": 2}}, \"textfont\": {\"size\": 12}, \"values\": [719968.0, 494690.0, 212083.0, 108528.0, 71297.0, 57046.0, 6150.0, 452.0], \"type\": \"pie\", \"uid\": \"400ee224-959c-11e8-a15c-343dc4786be4\"}],\n",
       "            {\"height\": 400, \"title\": \"Channel Type in Previous Applications\"},\n",
       "            {\"showLink\": true, \"linkText\": \"Export to plot.ly\"}\n",
       "        ).then(function () {return Plotly.addFrames('885eb4c2-9894-4dfb-966e-ff71328ed730',{});}).then(function(){Plotly.animate('885eb4c2-9894-4dfb-966e-ff71328ed730');})\n",
       "        });</script>"
      ],
      "text/vnd.plotly.v1+html": [
       "<div id=\"885eb4c2-9894-4dfb-966e-ff71328ed730\" style=\"height: 400px; width: 100%;\" class=\"plotly-graph-div\"></div><script type=\"text/javascript\">require([\"plotly\"], function(Plotly) { window.PLOTLYENV=window.PLOTLYENV || {};window.PLOTLYENV.BASE_URL=\"https://plot.ly\";\n",
       "        Plotly.plot(\n",
       "            '885eb4c2-9894-4dfb-966e-ff71328ed730',\n",
       "            [{\"labels\": [\"Credit and cash offices\", \"Country-wide\", \"Stone\", \"Regional / Local\", \"Contact center\", \"AP+ (Cash loan)\", \"Channel of corporate sales\", \"Car dealer\"], \"marker\": {\"colors\": [\"#FEBFB3\", \"#E1396C\", \"#96D38C\", \"#D0F9B1\"], \"line\": {\"color\": \"#fff\", \"width\": 2}}, \"textfont\": {\"size\": 12}, \"values\": [719968.0, 494690.0, 212083.0, 108528.0, 71297.0, 57046.0, 6150.0, 452.0], \"type\": \"pie\", \"uid\": \"400ee224-959c-11e8-a15c-343dc4786be4\"}],\n",
       "            {\"height\": 400, \"title\": \"Channel Type in Previous Applications\"},\n",
       "            {\"showLink\": true, \"linkText\": \"Export to plot.ly\"}\n",
       "        ).then(function () {return Plotly.addFrames('885eb4c2-9894-4dfb-966e-ff71328ed730',{});}).then(function(){Plotly.animate('885eb4c2-9894-4dfb-966e-ff71328ed730');})\n",
       "        });</script>"
      ]
     },
     "metadata": {},
     "output_type": "display_data"
    }
   ],
   "source": [
    "t = previous_application['CHANNEL_TYPE'].value_counts()\n",
    "labels = t.index\n",
    "values = t.values\n",
    "\n",
    "colors = ['#FEBFB3', '#E1396C', '#96D38C', '#D0F9B1']\n",
    "\n",
    "trace = go.Pie(labels=labels, values=values,\n",
    "##               hoverinfo='', textinfo='',\n",
    "               textfont=dict(size=12),\n",
    "               marker=dict(colors=colors,\n",
    "                           line=dict(color='#fff', width=2)))\n",
    "\n",
    "layout = go.Layout(title='Channel Type in Previous Applications', height=400)\n",
    "fig = go.Figure(data=[trace], layout=layout)\n",
    "iplot(fig)"
   ]
  },
  {
   "cell_type": "markdown",
   "metadata": {
    "_cell_guid": "0e2f999c-0b11-4e4e-88ff-2f7717dca833",
    "_uuid": "3292c40aae11e71d2724862163132c86353d69d7"
   },
   "source": [
    "## <a id=\"8\">8. Exploration of Installation Payments </a>\n",
    "### <a id=\"8.1\">8.1 Snapshot of Installation Payments </a>"
   ]
  },
  {
   "cell_type": "code",
   "execution_count": 33,
   "metadata": {
    "_cell_guid": "e06752f4-1545-4afe-93e6-faaf6303ef80",
    "_kg_hide-input": true,
    "_uuid": "233a79452495afeccba562a2b7def7e64d0a41f0"
   },
   "outputs": [
    {
     "data": {
      "text/html": [
       "<div>\n",
       "<style scoped>\n",
       "    .dataframe tbody tr th:only-of-type {\n",
       "        vertical-align: middle;\n",
       "    }\n",
       "\n",
       "    .dataframe tbody tr th {\n",
       "        vertical-align: top;\n",
       "    }\n",
       "\n",
       "    .dataframe thead th {\n",
       "        text-align: right;\n",
       "    }\n",
       "</style>\n",
       "<table border=\"1\" class=\"dataframe\">\n",
       "  <thead>\n",
       "    <tr style=\"text-align: right;\">\n",
       "      <th></th>\n",
       "      <th>SK_ID_PREV</th>\n",
       "      <th>SK_ID_CURR</th>\n",
       "      <th>NUM_INSTALMENT_VERSION</th>\n",
       "      <th>NUM_INSTALMENT_NUMBER</th>\n",
       "      <th>DAYS_INSTALMENT</th>\n",
       "      <th>DAYS_ENTRY_PAYMENT</th>\n",
       "      <th>AMT_INSTALMENT</th>\n",
       "      <th>AMT_PAYMENT</th>\n",
       "    </tr>\n",
       "  </thead>\n",
       "  <tbody>\n",
       "    <tr>\n",
       "      <th>0</th>\n",
       "      <td>1054186</td>\n",
       "      <td>161674</td>\n",
       "      <td>1.0</td>\n",
       "      <td>6</td>\n",
       "      <td>-1180.0</td>\n",
       "      <td>-1187.0</td>\n",
       "      <td>6948.360</td>\n",
       "      <td>6948.360</td>\n",
       "    </tr>\n",
       "    <tr>\n",
       "      <th>1</th>\n",
       "      <td>1330831</td>\n",
       "      <td>151639</td>\n",
       "      <td>0.0</td>\n",
       "      <td>34</td>\n",
       "      <td>-2156.0</td>\n",
       "      <td>-2156.0</td>\n",
       "      <td>1716.525</td>\n",
       "      <td>1716.525</td>\n",
       "    </tr>\n",
       "    <tr>\n",
       "      <th>2</th>\n",
       "      <td>2085231</td>\n",
       "      <td>193053</td>\n",
       "      <td>2.0</td>\n",
       "      <td>1</td>\n",
       "      <td>-63.0</td>\n",
       "      <td>-63.0</td>\n",
       "      <td>25425.000</td>\n",
       "      <td>25425.000</td>\n",
       "    </tr>\n",
       "    <tr>\n",
       "      <th>3</th>\n",
       "      <td>2452527</td>\n",
       "      <td>199697</td>\n",
       "      <td>1.0</td>\n",
       "      <td>3</td>\n",
       "      <td>-2418.0</td>\n",
       "      <td>-2426.0</td>\n",
       "      <td>24350.130</td>\n",
       "      <td>24350.130</td>\n",
       "    </tr>\n",
       "    <tr>\n",
       "      <th>4</th>\n",
       "      <td>2714724</td>\n",
       "      <td>167756</td>\n",
       "      <td>1.0</td>\n",
       "      <td>2</td>\n",
       "      <td>-1383.0</td>\n",
       "      <td>-1366.0</td>\n",
       "      <td>2165.040</td>\n",
       "      <td>2160.585</td>\n",
       "    </tr>\n",
       "  </tbody>\n",
       "</table>\n",
       "</div>"
      ],
      "text/plain": [
       "   SK_ID_PREV  SK_ID_CURR  NUM_INSTALMENT_VERSION  NUM_INSTALMENT_NUMBER  \\\n",
       "0     1054186      161674                     1.0                      6   \n",
       "1     1330831      151639                     0.0                     34   \n",
       "2     2085231      193053                     2.0                      1   \n",
       "3     2452527      199697                     1.0                      3   \n",
       "4     2714724      167756                     1.0                      2   \n",
       "\n",
       "   DAYS_INSTALMENT  DAYS_ENTRY_PAYMENT  AMT_INSTALMENT  AMT_PAYMENT  \n",
       "0          -1180.0             -1187.0        6948.360     6948.360  \n",
       "1          -2156.0             -2156.0        1716.525     1716.525  \n",
       "2            -63.0               -63.0       25425.000    25425.000  \n",
       "3          -2418.0             -2426.0       24350.130    24350.130  \n",
       "4          -1383.0             -1366.0        2165.040     2160.585  "
      ]
     },
     "execution_count": 33,
     "metadata": {},
     "output_type": "execute_result"
    }
   ],
   "source": [
    "installments_payments = pd.read_csv(path + \"installments_payments.csv\")\n",
    "installments_payments.head()"
   ]
  },
  {
   "cell_type": "markdown",
   "metadata": {
    "_cell_guid": "2cfd03cc-f0bb-462a-a0d3-34158797cad7",
    "_uuid": "282f624b00c2a71fdb4164b6977d44a9d10124b2"
   },
   "source": [
    "## <a id=\"9\">9. Baseline Model </a>\n",
    "\n",
    "### <a id=\"9.1\">9.1 Dataset Preparation</a>"
   ]
  },
  {
   "cell_type": "code",
   "execution_count": 34,
   "metadata": {
    "_cell_guid": "4dcc95a1-8e83-4984-9546-0dbccab81810",
    "_kg_hide-input": false,
    "_uuid": "adf0822296c484e7ced0e6ec5dbb974e219c7d57"
   },
   "outputs": [],
   "source": [
    "from sklearn.model_selection import train_test_split \n",
    "import lightgbm as lgb\n",
    "\n",
    "# read the test files \n",
    "app_test = pd.read_csv('../input/application_test.csv')\n",
    "\n",
    "app_test['is_test'] = 1 \n",
    "app_test['is_train'] = 0\n",
    "app_train['is_test'] = 0\n",
    "app_train['is_train'] = 1\n",
    "\n",
    "# target variable\n",
    "Y = app_train['TARGET']\n",
    "train_X = app_train.drop(['TARGET'], axis = 1)\n",
    "\n",
    "# test ID\n",
    "test_id = app_test['SK_ID_CURR']\n",
    "test_X = app_test\n",
    "\n",
    "# merge train and test datasets for preprocessing\n",
    "data = pd.concat([train_X, test_X], axis=0)"
   ]
  },
  {
   "cell_type": "markdown",
   "metadata": {
    "_cell_guid": "30f83912-ecf4-49d9-bd27-ba9d2a3a4d0d",
    "_uuid": "9f906d1da1bccc7fafa88af8ec369a1c9f9d82ae"
   },
   "source": [
    "### <a id=\"9.2\">9.2 Handelling Categorical Features</a>"
   ]
  },
  {
   "cell_type": "code",
   "execution_count": 35,
   "metadata": {
    "_cell_guid": "bbbb40c8-b420-4472-b1cc-3d8e9199f736",
    "_kg_hide-input": false,
    "_uuid": "17438fe941c9d5c16ff99ea76abae92915baf42e"
   },
   "outputs": [],
   "source": [
    "# function to obtain Categorical Features\n",
    "def _get_categorical_features(df):\n",
    "    feats = [col for col in list(df.columns) if df[col].dtype == 'object']\n",
    "    return feats\n",
    "\n",
    "# function to factorize categorical features\n",
    "def _factorize_categoricals(df, cats):\n",
    "    for col in cats:\n",
    "        df[col], _ = pd.factorize(df[col])\n",
    "    return df \n",
    "\n",
    "# function to create dummy variables of categorical features\n",
    "def _get_dummies(df, cats):\n",
    "    for col in cats:\n",
    "        df = pd.concat([df, pd.get_dummies(df[col], prefix=col)], axis=1)\n",
    "    return df \n",
    "\n",
    "# get categorical features\n",
    "data_cats = _get_categorical_features(data)\n",
    "prev_app_cats = _get_categorical_features(previous_application)\n",
    "bureau_cats = _get_categorical_features(bureau)\n",
    "pcb_cats = _get_categorical_features(pcb)\n",
    "ccbal_cats = _get_categorical_features(credit_card_balance)\n",
    "\n",
    "# create additional dummy features - \n",
    "previous_application = _get_dummies(previous_application, prev_app_cats)\n",
    "bureau = _get_dummies(bureau, bureau_cats)\n",
    "pcb = _get_dummies(pcb, pcb_cats)\n",
    "credit_card_balance = _get_dummies(credit_card_balance, ccbal_cats)\n",
    "\n",
    "# factorize the categorical features from train and test data\n",
    "data = _factorize_categoricals(data, data_cats)"
   ]
  },
  {
   "cell_type": "markdown",
   "metadata": {
    "_cell_guid": "bb478ad4-70b7-43de-9043-4d162da1bcfb",
    "_uuid": "4c85c54935d70e7ae62705d7daec1913c1332941"
   },
   "source": [
    "### <a id=\"9.3\">9.3 Feature Engineering</a>"
   ]
  },
  {
   "cell_type": "markdown",
   "metadata": {
    "_cell_guid": "297608a9-e175-45df-9969-24f06103ac24",
    "_uuid": "5e4542f9d60ccf2f6075d8f8ce135c16d6f133f2"
   },
   "source": [
    "### <a id=\"9.3.1\">9.3.1 Feature Engineering - Previous Applications</a>\n",
    "\n",
    "Credits to excellent kernel shared by Olivier for more ideas: https://www.kaggle.com/ogrellier/good-fun-with-ligthgbm \n"
   ]
  },
  {
   "cell_type": "code",
   "execution_count": 36,
   "metadata": {
    "_cell_guid": "c580da5f-931b-40b8-8ab5-94191c17687d",
    "_uuid": "6f14a7ac451246b17e071bf7c090d4a3c94bd14d"
   },
   "outputs": [],
   "source": [
    "## More Feature Ideas Reference : https://www.kaggle.com/ogrellier/good-fun-with-ligthgbm \n",
    "\n",
    "## count the number of previous applications for a given ID\n",
    "prev_apps_count = previous_application[['SK_ID_CURR', 'SK_ID_PREV']].groupby('SK_ID_CURR').count()\n",
    "previous_application['SK_ID_PREV'] = previous_application['SK_ID_CURR'].map(prev_apps_count['SK_ID_PREV'])\n",
    "\n",
    "## Average values for all other features in previous applications\n",
    "prev_apps_avg = previous_application.groupby('SK_ID_CURR').mean()\n",
    "prev_apps_avg.columns = ['p_' + col for col in prev_apps_avg.columns]\n",
    "data = data.merge(right=prev_apps_avg.reset_index(), how='left', on='SK_ID_CURR')"
   ]
  },
  {
   "cell_type": "markdown",
   "metadata": {
    "_cell_guid": "17a0e75a-0cc2-4b57-b49f-9a7bb2de8ae8",
    "_uuid": "89a60099b3c00ea4a655b87faec58518da49ed4f"
   },
   "source": [
    "### <a id=\"9.3.2\">9.3.2 Feature Engineering - Bureau Data</a>"
   ]
  },
  {
   "cell_type": "code",
   "execution_count": 37,
   "metadata": {
    "_cell_guid": "34e4a082-8b0a-401b-a6f5-445a80ff914c",
    "_uuid": "a60c27e992209f896a8506c753541b230e8e059a"
   },
   "outputs": [],
   "source": [
    "# Average Values for all bureau features \n",
    "bureau_avg = bureau.groupby('SK_ID_CURR').mean()\n",
    "bureau_avg['buro_count'] = bureau[['SK_ID_BUREAU','SK_ID_CURR']].groupby('SK_ID_CURR').count()['SK_ID_BUREAU']\n",
    "bureau_avg.columns = ['b_' + f_ for f_ in bureau_avg.columns]\n",
    "data = data.merge(right=bureau_avg.reset_index(), how='left', on='SK_ID_CURR')\n"
   ]
  },
  {
   "cell_type": "markdown",
   "metadata": {
    "_cell_guid": "6fb9b781-ddd2-48b4-ab5d-329ad4b2c7c9",
    "_uuid": "3189330af669cbc014df9fd0184f40bb5b705c2a"
   },
   "source": [
    "### <a id=\"9.3.3\">9.3.3 Feature Engineering - Previous Installments</a>"
   ]
  },
  {
   "cell_type": "code",
   "execution_count": 38,
   "metadata": {
    "_cell_guid": "db1c8cae-fda4-4d8c-ad01-d9dafddcc5d0",
    "_uuid": "6225de449619e9caef0cfa377e5902bc23fc2efa"
   },
   "outputs": [],
   "source": [
    "## count the number of previous installments\n",
    "cnt_inst = installments_payments[['SK_ID_CURR', 'SK_ID_PREV']].groupby('SK_ID_CURR').count()\n",
    "installments_payments['SK_ID_PREV'] = installments_payments['SK_ID_CURR'].map(cnt_inst['SK_ID_PREV'])\n",
    "\n",
    "## Average values for all other variables in installments payments\n",
    "avg_inst = installments_payments.groupby('SK_ID_CURR').mean()\n",
    "avg_inst.columns = ['i_' + f_ for f_ in avg_inst.columns]\n",
    "data = data.merge(right=avg_inst.reset_index(), how='left', on='SK_ID_CURR')"
   ]
  },
  {
   "cell_type": "markdown",
   "metadata": {
    "_cell_guid": "60867702-d206-40f5-b7c9-2b16d43dde50",
    "_uuid": "e6ceb2f03c136ee5e87da21e7bedfbdf2894017f"
   },
   "source": [
    "### <a id=\"9.3.4\">9.3.4 Feature Engineering - Pos Cash Balance</a>"
   ]
  },
  {
   "cell_type": "code",
   "execution_count": 39,
   "metadata": {
    "_cell_guid": "d86090df-92a6-4e4b-ae54-7b9a672076ca",
    "_uuid": "c55e63ed63a14d5fa7a0ddda9c4e3df0f8e3fa5c"
   },
   "outputs": [],
   "source": [
    "### count the number of pos cash for a given ID\n",
    "pcb_count = pcb[['SK_ID_CURR', 'SK_ID_PREV']].groupby('SK_ID_CURR').count()\n",
    "pcb['SK_ID_PREV'] = pcb['SK_ID_CURR'].map(pcb_count['SK_ID_PREV'])\n",
    "\n",
    "## Average Values for all other variables in pos cash\n",
    "pcb_avg = pcb.groupby('SK_ID_CURR').mean()\n",
    "data = data.merge(right=pcb_avg.reset_index(), how='left', on='SK_ID_CURR')"
   ]
  },
  {
   "cell_type": "markdown",
   "metadata": {
    "_cell_guid": "992ee018-7b43-4e73-9c0d-326689406fc0",
    "_uuid": "7e9b9e71475186b2061c4d172cc74a17080f235f"
   },
   "source": [
    "### <a id=\"9.3.5\">9.3.5 Feature Engineering - Credit Card Balance </a>"
   ]
  },
  {
   "cell_type": "code",
   "execution_count": 40,
   "metadata": {
    "_cell_guid": "84f69895-b332-4bfc-a0e8-54f222f27508",
    "_uuid": "efe17c3db4d8b2899373d277dc31ea85d33628aa"
   },
   "outputs": [],
   "source": [
    "### count the number of previous applications for a given ID\n",
    "nb_prevs = credit_card_balance[['SK_ID_CURR', 'SK_ID_PREV']].groupby('SK_ID_CURR').count()\n",
    "credit_card_balance['SK_ID_PREV'] = credit_card_balance['SK_ID_CURR'].map(nb_prevs['SK_ID_PREV'])\n",
    "\n",
    "### average of all other columns \n",
    "avg_cc_bal = credit_card_balance.groupby('SK_ID_CURR').mean()\n",
    "avg_cc_bal.columns = ['cc_bal_' + f_ for f_ in avg_cc_bal.columns]\n",
    "data = data.merge(right=avg_cc_bal.reset_index(), how='left', on='SK_ID_CURR')"
   ]
  },
  {
   "cell_type": "markdown",
   "metadata": {
    "_cell_guid": "7f56b30f-086a-4499-917c-5aacd07a725b",
    "_uuid": "35923472110207bcc9aecbd4ff12796618f7e931"
   },
   "source": [
    "### <a id=\"9.3.6\">9.3.6 Prepare Final Train and Test data</a>"
   ]
  },
  {
   "cell_type": "code",
   "execution_count": 41,
   "metadata": {
    "_cell_guid": "bced14cf-71fc-4337-b145-1e10f85bb28f",
    "_uuid": "4f32b92d4c6369152af943ab22004b35715b86df"
   },
   "outputs": [],
   "source": [
    "#### prepare final Train X and Test X dataframes \n",
    "ignore_features = ['SK_ID_CURR', 'is_train', 'is_test']\n",
    "relevant_features = [col for col in data.columns if col not in ignore_features]\n",
    "trainX = data[data['is_train'] == 1][relevant_features]\n",
    "testX = data[data['is_test'] == 1][relevant_features]"
   ]
  },
  {
   "cell_type": "markdown",
   "metadata": {
    "_cell_guid": "b67627ef-250c-4571-a75f-e14f5289b076",
    "_uuid": "070e36e001dfc99b20059bf8fd328d2fcafbb2e3"
   },
   "source": [
    "### <a id=\"9.4\">9.4 Create Validation Sets</a>"
   ]
  },
  {
   "cell_type": "code",
   "execution_count": 42,
   "metadata": {
    "_cell_guid": "a55f5d67-fadc-4c7d-9e34-952ec96b42c7",
    "_uuid": "6b8584e37a3563f272abfba4e21f534240494b52"
   },
   "outputs": [],
   "source": [
    "x_train, x_val, y_train, y_val = train_test_split(trainX, Y, test_size=0.2, random_state=18)\n",
    "lgb_train = lgb.Dataset(data=x_train, label=y_train)\n",
    "lgb_eval = lgb.Dataset(data=x_val, label=y_val)"
   ]
  },
  {
   "cell_type": "markdown",
   "metadata": {
    "_cell_guid": "8cd7bbf8-0a9f-4d5d-a563-0fd85bd3244e",
    "_uuid": "d2788b8496e5210d3a2fcbd812d2a82a84934d6a"
   },
   "source": [
    "### <a id=\"9.5\">9.5 Fit the Model</a>"
   ]
  },
  {
   "cell_type": "code",
   "execution_count": null,
   "metadata": {
    "_cell_guid": "1447e73c-e7b1-4aac-a7a3-839b81b9cbae",
    "_kg_hide-input": false,
    "_uuid": "2fb7bc4662df2c07cfbfabe9860c79d0d4635553"
   },
   "outputs": [
    {
     "name": "stdout",
     "output_type": "stream",
     "text": [
      "Training until validation scores don't improve for 150 rounds.\n",
      "[200]\tvalid_0's auc: 0.75692\n",
      "[400]\tvalid_0's auc: 0.769593\n",
      "[600]\tvalid_0's auc: 0.77488\n",
      "[800]\tvalid_0's auc: 0.777473\n",
      "[1000]\tvalid_0's auc: 0.779251\n",
      "[1200]\tvalid_0's auc: 0.78013\n",
      "[1400]\tvalid_0's auc: 0.780527\n",
      "[1600]\tvalid_0's auc: 0.780906\n",
      "[1800]\tvalid_0's auc: 0.781052\n",
      "[2000]\tvalid_0's auc: 0.781377\n"
     ]
    }
   ],
   "source": [
    "params = {'task': 'train', 'boosting_type': 'gbdt', 'objective': 'binary', 'metric': 'auc', \n",
    "          'learning_rate': 0.01, 'num_leaves': 48, 'num_iteration': 5000, 'verbose': 0 ,\n",
    "          'colsample_bytree':.8, 'subsample':.9, 'max_depth':7, 'reg_alpha':.1, 'reg_lambda':.1, \n",
    "          'min_split_gain':.01, 'min_child_weight':1}\n",
    "model = lgb.train(params, lgb_train, valid_sets=lgb_eval, early_stopping_rounds=150, verbose_eval=200)"
   ]
  },
  {
   "cell_type": "markdown",
   "metadata": {
    "_cell_guid": "95e66f13-c1ba-46a3-9fca-53422cb5014f",
    "_uuid": "2e517e7014d049789c97b393a7ab8e72f9932672"
   },
   "source": [
    "### <a id=\"9.6\">9.6 Feature Importance </a>"
   ]
  },
  {
   "cell_type": "code",
   "execution_count": null,
   "metadata": {
    "_cell_guid": "d5acdc09-bf70-489e-a6f5-7db8f9a10b87",
    "_kg_hide-input": false,
    "_uuid": "74f91f79d44b44c46445c6ad7e248b5fd8bfe90e"
   },
   "outputs": [],
   "source": [
    "lgb.plot_importance(model, figsize=(12, 25), max_num_features=100);"
   ]
  },
  {
   "cell_type": "markdown",
   "metadata": {
    "_cell_guid": "f6454263-3924-45a8-bdeb-870d9ace4277",
    "_uuid": "dcc834ec4ff78a3529c4a8488534999a23ba040e"
   },
   "source": [
    "### <a id=\"9.7\">9.7 Predict</a>"
   ]
  },
  {
   "cell_type": "code",
   "execution_count": null,
   "metadata": {
    "_cell_guid": "d1513dd9-5e5f-4157-b7fe-dceb9db5483b",
    "_uuid": "7976790886f7d85428dbaf40703cdd6a93586ba7"
   },
   "outputs": [],
   "source": [
    "preds = model.predict(testX)\n",
    "sub_lgb = pd.DataFrame()\n",
    "sub_lgb['SK_ID_CURR'] = test_id\n",
    "sub_lgb['TARGET'] = preds\n",
    "sub_lgb.to_csv(\"lgb_baseline.csv\", index=False)\n",
    "sub_lgb.head()"
   ]
  },
  {
   "cell_type": "markdown",
   "metadata": {
    "_cell_guid": "0d33c52f-93c7-463f-8036-2c004b27ce3e",
    "_uuid": "b1536d6705f869b7f7f61f4fdad0ed911778d815"
   },
   "source": [
    "Thanks for viewing. "
   ]
  },
  {
   "cell_type": "code",
   "execution_count": null,
   "metadata": {
    "_uuid": "002f47c24377d8e3fb5abb1b9243d6224bf37017"
   },
   "outputs": [],
   "source": []
  },
  {
   "cell_type": "code",
   "execution_count": null,
   "metadata": {},
   "outputs": [],
   "source": []
  },
  {
   "cell_type": "code",
   "execution_count": null,
   "metadata": {},
   "outputs": [],
   "source": []
  },
  {
   "cell_type": "code",
   "execution_count": null,
   "metadata": {},
   "outputs": [],
   "source": []
  },
  {
   "cell_type": "code",
   "execution_count": null,
   "metadata": {},
   "outputs": [],
   "source": []
  },
  {
   "cell_type": "code",
   "execution_count": null,
   "metadata": {},
   "outputs": [],
   "source": []
  },
  {
   "cell_type": "code",
   "execution_count": null,
   "metadata": {},
   "outputs": [],
   "source": []
  },
  {
   "cell_type": "code",
   "execution_count": null,
   "metadata": {},
   "outputs": [],
   "source": []
  }
 ],
 "metadata": {
  "kernelspec": {
   "display_name": "Python 3",
   "language": "python",
   "name": "python3"
  },
  "language_info": {
   "codemirror_mode": {
    "name": "ipython",
    "version": 3
   },
   "file_extension": ".py",
   "mimetype": "text/x-python",
   "name": "python",
   "nbconvert_exporter": "python",
   "pygments_lexer": "ipython3",
   "version": "3.6.6"
  }
 },
 "nbformat": 4,
 "nbformat_minor": 1
}
