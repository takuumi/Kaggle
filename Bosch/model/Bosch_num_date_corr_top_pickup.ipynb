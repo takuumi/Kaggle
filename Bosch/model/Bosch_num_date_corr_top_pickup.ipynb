{
 "cells": [
  {
   "cell_type": "code",
   "execution_count": 1,
   "metadata": {},
   "outputs": [],
   "source": [
    "# 何も考えず相関とったらどうなるのだろう？\n",
    "# → 0.1 ちょい。 predict_proba 知らない状態"
   ]
  },
  {
   "cell_type": "code",
   "execution_count": 1,
   "metadata": {},
   "outputs": [
    {
     "name": "stdout",
     "output_type": "stream",
     "text": [
      "loop : 0 / Rows = 10000\n",
      "loop : 1 / Rows = 20000\n",
      "loop : 2 / Rows = 30000\n",
      "loop : 3 / Rows = 40000\n",
      "loop : 4 / Rows = 50000\n",
      "loop : 5 / Rows = 60000\n",
      "loop : 6 / Rows = 70000\n",
      "loop : 7 / Rows = 80000\n",
      "loop : 8 / Rows = 90000\n",
      "loop : 9 / Rows = 100000\n",
      "loop : 10 / Rows = 110000\n",
      "loop : 11 / Rows = 120000\n",
      "loop : 12 / Rows = 130000\n",
      "loop : 13 / Rows = 140000\n",
      "loop : 14 / Rows = 150000\n",
      "loop : 15 / Rows = 160000\n",
      "loop : 16 / Rows = 170000\n",
      "loop : 17 / Rows = 180000\n",
      "loop : 18 / Rows = 190000\n",
      "loop : 19 / Rows = 200000\n",
      "loop : 20 / Rows = 210000\n",
      "loop : 21 / Rows = 220000\n",
      "loop : 22 / Rows = 230000\n",
      "loop : 23 / Rows = 240000\n",
      "loop : 24 / Rows = 250000\n",
      "loop : 25 / Rows = 260000\n",
      "loop : 26 / Rows = 270000\n",
      "loop : 27 / Rows = 280000\n",
      "loop : 28 / Rows = 290000\n",
      "loop : 29 / Rows = 300000\n",
      "loop : 30 / Rows = 310000\n",
      "loop : 31 / Rows = 320000\n",
      "loop : 32 / Rows = 330000\n",
      "loop : 33 / Rows = 340000\n",
      "loop : 34 / Rows = 350000\n",
      "loop : 35 / Rows = 360000\n",
      "loop : 36 / Rows = 370000\n",
      "loop : 37 / Rows = 380000\n",
      "loop : 38 / Rows = 390000\n",
      "loop : 39 / Rows = 400000\n",
      "loop : 40 / Rows = 410000\n",
      "loop : 41 / Rows = 420000\n",
      "loop : 42 / Rows = 430000\n",
      "loop : 43 / Rows = 440000\n",
      "loop : 44 / Rows = 450000\n",
      "loop : 45 / Rows = 460000\n",
      "loop : 46 / Rows = 470000\n",
      "loop : 47 / Rows = 480000\n",
      "loop : 48 / Rows = 490000\n",
      "loop : 49 / Rows = 500000\n",
      "loop : 50 / Rows = 510000\n",
      "loop : 51 / Rows = 520000\n",
      "loop : 52 / Rows = 530000\n",
      "loop : 53 / Rows = 540000\n",
      "loop : 54 / Rows = 550000\n",
      "loop : 55 / Rows = 560000\n",
      "loop : 56 / Rows = 570000\n",
      "loop : 57 / Rows = 580000\n",
      "loop : 58 / Rows = 590000\n",
      "loop : 59 / Rows = 600000\n",
      "loop : 60 / Rows = 610000\n",
      "loop : 61 / Rows = 620000\n",
      "loop : 62 / Rows = 630000\n",
      "loop : 63 / Rows = 640000\n",
      "loop : 64 / Rows = 650000\n",
      "loop : 65 / Rows = 660000\n",
      "loop : 66 / Rows = 670000\n",
      "loop : 67 / Rows = 680000\n",
      "loop : 68 / Rows = 690000\n",
      "loop : 69 / Rows = 700000\n",
      "loop : 70 / Rows = 710000\n",
      "loop : 71 / Rows = 720000\n",
      "loop : 72 / Rows = 730000\n",
      "loop : 73 / Rows = 740000\n",
      "loop : 74 / Rows = 750000\n",
      "loop : 75 / Rows = 760000\n",
      "loop : 76 / Rows = 770000\n",
      "loop : 77 / Rows = 780000\n",
      "loop : 78 / Rows = 790000\n",
      "loop : 79 / Rows = 800000\n",
      "loop : 80 / Rows = 810000\n",
      "loop : 81 / Rows = 820000\n",
      "loop : 82 / Rows = 830000\n",
      "loop : 83 / Rows = 840000\n",
      "loop : 84 / Rows = 850000\n",
      "loop : 85 / Rows = 860000\n",
      "loop : 86 / Rows = 870000\n",
      "loop : 87 / Rows = 880000\n",
      "loop : 88 / Rows = 890000\n",
      "loop : 89 / Rows = 900000\n",
      "loop : 90 / Rows = 910000\n",
      "loop : 91 / Rows = 920000\n",
      "loop : 92 / Rows = 930000\n",
      "loop : 93 / Rows = 940000\n",
      "loop : 94 / Rows = 950000\n",
      "loop : 95 / Rows = 960000\n",
      "loop : 96 / Rows = 970000\n",
      "loop : 97 / Rows = 980000\n",
      "loop : 98 / Rows = 990000\n",
      "loop : 99 / Rows = 1000000\n",
      "loop : 100 / Rows = 1010000\n",
      "loop : 101 / Rows = 1020000\n",
      "loop : 102 / Rows = 1030000\n",
      "loop : 103 / Rows = 1040000\n",
      "loop : 104 / Rows = 1050000\n",
      "loop : 105 / Rows = 1060000\n",
      "loop : 106 / Rows = 1070000\n",
      "loop : 107 / Rows = 1080000\n",
      "loop : 108 / Rows = 1090000\n",
      "loop : 109 / Rows = 1100000\n",
      "loop : 110 / Rows = 1110000\n",
      "loop : 111 / Rows = 1120000\n",
      "loop : 112 / Rows = 1130000\n",
      "loop : 113 / Rows = 1140000\n",
      "loop : 114 / Rows = 1150000\n",
      "loop : 115 / Rows = 1160000\n",
      "loop : 116 / Rows = 1170000\n",
      "loop : 117 / Rows = 1180000\n",
      "loop : 118 / Rows = 1183747\n",
      "0:1176868, 1:6879\n",
      "2018-07-14 13:20:35.950055 -> 2018-07-14 13:27:31.227427\n",
      "Memory:10076054464\n"
     ]
    }
   ],
   "source": [
    "import pandas as pd\n",
    "import numpy as np\n",
    "import gc\n",
    "from datetime import datetime\n",
    "CHUNK_SIZE = 10000\n",
    "\n",
    "start = datetime.now()\n",
    "\n",
    "reader_date = pd.read_csv(\"train_date.csv\",chunksize=CHUNK_SIZE, dtype=np.float32)\n",
    "reader_num = pd.read_csv(\"train_numeric.csv\",chunksize=CHUNK_SIZE, dtype=np.float32)\n",
    "#reader_num = pd.read_csv(\"output/df_id_response.csv\",chunksize=CHUNK_SIZE, dtype=np.float32)\n",
    "\n",
    "#分割して読み込み\n",
    "loop = 0\n",
    "cnt_0 = 0\n",
    "cnt_1 = 0\n",
    "for df_chunk_date in reader_date:\n",
    "    df_chunk_num = reader_num.get_chunk(CHUNK_SIZE)\n",
    "    \n",
    "    df_chunk = pd.merge(on=\"Id\", left=df_chunk_date, right=df_chunk_num)\n",
    "    cnt_0 = cnt_0 + len(df_chunk[df_chunk['Response'] == 0].index)\n",
    "    cnt_1 = cnt_1 + len(df_chunk[df_chunk['Response'] == 1].index)\n",
    "\n",
    "    if loop == 0:\n",
    "        df = df_chunk\n",
    "    else:\n",
    "        df = pd.concat([df, df_chunk])\n",
    "    \n",
    "    print(\"loop : {} / Rows = {}\".format(loop, len(df.index)))\n",
    "\n",
    "    loop = loop + 1\n",
    "\n",
    "print(\"0:{}, 1:{}\".format(cnt_0, cnt_1))\n",
    "print(\"{} -> {}\".format(start, datetime.now()))\n",
    "print(\"Memory:{}\".format(df.memory_usage(index=True).sum()))"
   ]
  },
  {
   "cell_type": "code",
   "execution_count": 2,
   "metadata": {},
   "outputs": [
    {
     "name": "stdout",
     "output_type": "stream",
     "text": [
      "     Id     L0_S0_D1     L0_S0_D3     L0_S0_D5     L0_S0_D7     L0_S0_D9  \\\n",
      "0   4.0    82.239998    82.239998    82.239998    82.239998    82.239998   \n",
      "1   6.0          NaN          NaN          NaN          NaN          NaN   \n",
      "2   7.0  1618.699951  1618.699951  1618.699951  1618.699951  1618.699951   \n",
      "3   9.0  1149.199951  1149.199951  1149.199951  1149.199951  1149.199951   \n",
      "4  11.0   602.640015   602.640015   602.640015   602.640015   602.640015   \n",
      "\n",
      "     L0_S0_D11    L0_S0_D13    L0_S0_D15    L0_S0_D17    ...     L3_S50_F4245  \\\n",
      "0    82.239998    82.239998    82.239998    82.239998    ...              NaN   \n",
      "1          NaN          NaN          NaN          NaN    ...              NaN   \n",
      "2  1618.699951  1618.699951  1618.699951  1618.699951    ...              NaN   \n",
      "3  1149.199951  1149.199951  1149.199951  1149.199951    ...              NaN   \n",
      "4   602.640015   602.640015   602.640015   602.640015    ...              NaN   \n",
      "\n",
      "   L3_S50_F4247  L3_S50_F4249  L3_S50_F4251  L3_S50_F4253  L3_S51_F4256  \\\n",
      "0           NaN           NaN           NaN           NaN           NaN   \n",
      "1           NaN           NaN           NaN           NaN           NaN   \n",
      "2           NaN           NaN           NaN           NaN           NaN   \n",
      "3           NaN           NaN           NaN           NaN           NaN   \n",
      "4           NaN           NaN           NaN           NaN           NaN   \n",
      "\n",
      "   L3_S51_F4258  L3_S51_F4260  L3_S51_F4262  Response  \n",
      "0           NaN           NaN           NaN       0.0  \n",
      "1           NaN           NaN           NaN       0.0  \n",
      "2           NaN           NaN           NaN       0.0  \n",
      "3           NaN           NaN           NaN       0.0  \n",
      "4           NaN           NaN           NaN       0.0  \n",
      "\n",
      "[5 rows x 2126 columns]\n"
     ]
    }
   ],
   "source": [
    "print(df.head())"
   ]
  },
  {
   "cell_type": "markdown",
   "metadata": {},
   "source": [
    "#### date+num とresponse の相関"
   ]
  },
  {
   "cell_type": "code",
   "execution_count": null,
   "metadata": {},
   "outputs": [],
   "source": []
  },
  {
   "cell_type": "code",
   "execution_count": null,
   "metadata": {},
   "outputs": [],
   "source": [
    "# 相関算出 3h\n",
    "#df_all = df.fillna(10000)\n",
    "#df.info()\n",
    "#print(\"{} -> {}\".format(start, datetime.now()))\n",
    "#start = datetime.now()\n",
    "#C = df_all.corr().abs()\n",
    "#C.Response.sort_values(ascending=False)\n",
    "#print(\"{} -> {}\".format(start, datetime.now()))\n"
   ]
  },
  {
   "cell_type": "code",
   "execution_count": 15,
   "metadata": {},
   "outputs": [],
   "source": [
    "df_id_response = df[['Id','Response']]\n",
    "df_id_response.to_csv('output/df_id_response.csv')"
   ]
  },
  {
   "cell_type": "code",
   "execution_count": 34,
   "metadata": {},
   "outputs": [
    {
     "data": {
      "text/html": [
       "<div>\n",
       "<style scoped>\n",
       "    .dataframe tbody tr th:only-of-type {\n",
       "        vertical-align: middle;\n",
       "    }\n",
       "\n",
       "    .dataframe tbody tr th {\n",
       "        vertical-align: top;\n",
       "    }\n",
       "\n",
       "    .dataframe thead th {\n",
       "        text-align: right;\n",
       "    }\n",
       "</style>\n",
       "<table border=\"1\" class=\"dataframe\">\n",
       "  <thead>\n",
       "    <tr style=\"text-align: right;\">\n",
       "      <th></th>\n",
       "      <th>Id</th>\n",
       "      <th>L0_S0_D1</th>\n",
       "      <th>L0_S0_D3</th>\n",
       "      <th>L0_S0_D5</th>\n",
       "      <th>L0_S0_D7</th>\n",
       "      <th>L0_S0_D9</th>\n",
       "      <th>L0_S0_D11</th>\n",
       "      <th>L0_S0_D13</th>\n",
       "      <th>L0_S0_D15</th>\n",
       "      <th>L0_S0_D17</th>\n",
       "      <th>...</th>\n",
       "      <th>L3_S50_F4245</th>\n",
       "      <th>L3_S50_F4247</th>\n",
       "      <th>L3_S50_F4249</th>\n",
       "      <th>L3_S50_F4251</th>\n",
       "      <th>L3_S50_F4253</th>\n",
       "      <th>L3_S51_F4256</th>\n",
       "      <th>L3_S51_F4258</th>\n",
       "      <th>L3_S51_F4260</th>\n",
       "      <th>L3_S51_F4262</th>\n",
       "      <th>Response</th>\n",
       "    </tr>\n",
       "  </thead>\n",
       "  <tbody>\n",
       "    <tr>\n",
       "      <th>0</th>\n",
       "      <td>4.0</td>\n",
       "      <td>82.239998</td>\n",
       "      <td>82.239998</td>\n",
       "      <td>82.239998</td>\n",
       "      <td>82.239998</td>\n",
       "      <td>82.239998</td>\n",
       "      <td>82.239998</td>\n",
       "      <td>82.239998</td>\n",
       "      <td>82.239998</td>\n",
       "      <td>82.239998</td>\n",
       "      <td>...</td>\n",
       "      <td>10000.0</td>\n",
       "      <td>10000.0</td>\n",
       "      <td>10000.0</td>\n",
       "      <td>10000.0</td>\n",
       "      <td>10000.0</td>\n",
       "      <td>10000.0</td>\n",
       "      <td>10000.0</td>\n",
       "      <td>10000.0</td>\n",
       "      <td>10000.0</td>\n",
       "      <td>0.0</td>\n",
       "    </tr>\n",
       "    <tr>\n",
       "      <th>1</th>\n",
       "      <td>6.0</td>\n",
       "      <td>10000.000000</td>\n",
       "      <td>10000.000000</td>\n",
       "      <td>10000.000000</td>\n",
       "      <td>10000.000000</td>\n",
       "      <td>10000.000000</td>\n",
       "      <td>10000.000000</td>\n",
       "      <td>10000.000000</td>\n",
       "      <td>10000.000000</td>\n",
       "      <td>10000.000000</td>\n",
       "      <td>...</td>\n",
       "      <td>10000.0</td>\n",
       "      <td>10000.0</td>\n",
       "      <td>10000.0</td>\n",
       "      <td>10000.0</td>\n",
       "      <td>10000.0</td>\n",
       "      <td>10000.0</td>\n",
       "      <td>10000.0</td>\n",
       "      <td>10000.0</td>\n",
       "      <td>10000.0</td>\n",
       "      <td>0.0</td>\n",
       "    </tr>\n",
       "    <tr>\n",
       "      <th>2</th>\n",
       "      <td>7.0</td>\n",
       "      <td>1618.699951</td>\n",
       "      <td>1618.699951</td>\n",
       "      <td>1618.699951</td>\n",
       "      <td>1618.699951</td>\n",
       "      <td>1618.699951</td>\n",
       "      <td>1618.699951</td>\n",
       "      <td>1618.699951</td>\n",
       "      <td>1618.699951</td>\n",
       "      <td>1618.699951</td>\n",
       "      <td>...</td>\n",
       "      <td>10000.0</td>\n",
       "      <td>10000.0</td>\n",
       "      <td>10000.0</td>\n",
       "      <td>10000.0</td>\n",
       "      <td>10000.0</td>\n",
       "      <td>10000.0</td>\n",
       "      <td>10000.0</td>\n",
       "      <td>10000.0</td>\n",
       "      <td>10000.0</td>\n",
       "      <td>0.0</td>\n",
       "    </tr>\n",
       "    <tr>\n",
       "      <th>3</th>\n",
       "      <td>9.0</td>\n",
       "      <td>1149.199951</td>\n",
       "      <td>1149.199951</td>\n",
       "      <td>1149.199951</td>\n",
       "      <td>1149.199951</td>\n",
       "      <td>1149.199951</td>\n",
       "      <td>1149.199951</td>\n",
       "      <td>1149.199951</td>\n",
       "      <td>1149.199951</td>\n",
       "      <td>1149.199951</td>\n",
       "      <td>...</td>\n",
       "      <td>10000.0</td>\n",
       "      <td>10000.0</td>\n",
       "      <td>10000.0</td>\n",
       "      <td>10000.0</td>\n",
       "      <td>10000.0</td>\n",
       "      <td>10000.0</td>\n",
       "      <td>10000.0</td>\n",
       "      <td>10000.0</td>\n",
       "      <td>10000.0</td>\n",
       "      <td>0.0</td>\n",
       "    </tr>\n",
       "    <tr>\n",
       "      <th>4</th>\n",
       "      <td>11.0</td>\n",
       "      <td>602.640015</td>\n",
       "      <td>602.640015</td>\n",
       "      <td>602.640015</td>\n",
       "      <td>602.640015</td>\n",
       "      <td>602.640015</td>\n",
       "      <td>602.640015</td>\n",
       "      <td>602.640015</td>\n",
       "      <td>602.640015</td>\n",
       "      <td>602.640015</td>\n",
       "      <td>...</td>\n",
       "      <td>10000.0</td>\n",
       "      <td>10000.0</td>\n",
       "      <td>10000.0</td>\n",
       "      <td>10000.0</td>\n",
       "      <td>10000.0</td>\n",
       "      <td>10000.0</td>\n",
       "      <td>10000.0</td>\n",
       "      <td>10000.0</td>\n",
       "      <td>10000.0</td>\n",
       "      <td>0.0</td>\n",
       "    </tr>\n",
       "  </tbody>\n",
       "</table>\n",
       "<p>5 rows × 2126 columns</p>\n",
       "</div>"
      ],
      "text/plain": [
       "     Id      L0_S0_D1      L0_S0_D3      L0_S0_D5      L0_S0_D7      L0_S0_D9  \\\n",
       "0   4.0     82.239998     82.239998     82.239998     82.239998     82.239998   \n",
       "1   6.0  10000.000000  10000.000000  10000.000000  10000.000000  10000.000000   \n",
       "2   7.0   1618.699951   1618.699951   1618.699951   1618.699951   1618.699951   \n",
       "3   9.0   1149.199951   1149.199951   1149.199951   1149.199951   1149.199951   \n",
       "4  11.0    602.640015    602.640015    602.640015    602.640015    602.640015   \n",
       "\n",
       "      L0_S0_D11     L0_S0_D13     L0_S0_D15     L0_S0_D17    ...     \\\n",
       "0     82.239998     82.239998     82.239998     82.239998    ...      \n",
       "1  10000.000000  10000.000000  10000.000000  10000.000000    ...      \n",
       "2   1618.699951   1618.699951   1618.699951   1618.699951    ...      \n",
       "3   1149.199951   1149.199951   1149.199951   1149.199951    ...      \n",
       "4    602.640015    602.640015    602.640015    602.640015    ...      \n",
       "\n",
       "   L3_S50_F4245  L3_S50_F4247  L3_S50_F4249  L3_S50_F4251  L3_S50_F4253  \\\n",
       "0       10000.0       10000.0       10000.0       10000.0       10000.0   \n",
       "1       10000.0       10000.0       10000.0       10000.0       10000.0   \n",
       "2       10000.0       10000.0       10000.0       10000.0       10000.0   \n",
       "3       10000.0       10000.0       10000.0       10000.0       10000.0   \n",
       "4       10000.0       10000.0       10000.0       10000.0       10000.0   \n",
       "\n",
       "   L3_S51_F4256  L3_S51_F4258  L3_S51_F4260  L3_S51_F4262  Response  \n",
       "0       10000.0       10000.0       10000.0       10000.0       0.0  \n",
       "1       10000.0       10000.0       10000.0       10000.0       0.0  \n",
       "2       10000.0       10000.0       10000.0       10000.0       0.0  \n",
       "3       10000.0       10000.0       10000.0       10000.0       0.0  \n",
       "4       10000.0       10000.0       10000.0       10000.0       0.0  \n",
       "\n",
       "[5 rows x 2126 columns]"
      ]
     },
     "execution_count": 34,
     "metadata": {},
     "output_type": "execute_result"
    }
   ],
   "source": []
  },
  {
   "cell_type": "code",
   "execution_count": 31,
   "metadata": {},
   "outputs": [],
   "source": [
    "#C.to_csv('output/c_isna_output.csv')\n",
    "#C.to_csv('output/c_num_date.csv')"
   ]
  },
  {
   "cell_type": "markdown",
   "metadata": {},
   "source": [
    "# 全相関データ"
   ]
  },
  {
   "cell_type": "code",
   "execution_count": 3,
   "metadata": {},
   "outputs": [],
   "source": [
    "c_in =  pd.read_csv('output/c_num_date.csv', index_col=0)"
   ]
  },
  {
   "cell_type": "code",
   "execution_count": 4,
   "metadata": {},
   "outputs": [
    {
     "name": "stdout",
     "output_type": "stream",
     "text": [
      "L3_S32_D3852    0.075995\n",
      "L3_S32_F3850    0.075142\n",
      "L3_S33_F3859    0.044183\n",
      "L3_S33_F3873    0.044183\n",
      "L3_S33_F3867    0.044183\n",
      "L3_S33_F3871    0.044183\n",
      "L3_S33_F3869    0.044183\n",
      "L3_S33_F3857    0.044183\n",
      "L3_S33_F3863    0.044183\n",
      "L3_S33_F3861    0.044183\n",
      "L3_S33_F3855    0.044183\n",
      "L3_S33_F3865    0.044183\n",
      "L3_S33_D3874    0.040897\n",
      "L3_S33_D3868    0.040897\n",
      "L3_S33_D3860    0.040897\n",
      "L3_S33_D3862    0.040897\n",
      "L3_S33_D3864    0.040897\n",
      "L3_S33_D3866    0.040897\n",
      "L3_S33_D3858    0.040897\n",
      "L3_S33_D3856    0.040897\n",
      "L3_S33_D3870    0.040897\n",
      "L3_S33_D3872    0.040897\n",
      "L3_S34_F3882    0.036247\n",
      "L3_S34_F3878    0.036247\n",
      "L3_S34_F3880    0.036247\n",
      "L3_S34_F3876    0.036247\n",
      "L3_S34_D3883    0.033068\n",
      "L3_S34_D3881    0.033068\n",
      "L3_S34_D3879    0.033068\n",
      "L3_S34_D3877    0.033068\n",
      "                  ...   \n",
      "L1_S24_F1578    0.014774\n",
      "L1_S24_F1575    0.014774\n",
      "L1_S24_F1573    0.014773\n",
      "L1_S24_F1571    0.014773\n",
      "L1_S24_F1569    0.014773\n",
      "L1_S24_F1518    0.014773\n",
      "L1_S24_F1512    0.014773\n",
      "L1_S24_F1516    0.014773\n",
      "L1_S24_F1514    0.014773\n",
      "L1_S24_F1565    0.014773\n",
      "L1_S24_F1567    0.014773\n",
      "L1_S24_F1846    0.014770\n",
      "L1_S24_F1844    0.014770\n",
      "L1_S24_F1842    0.014770\n",
      "L1_S24_F1829    0.014770\n",
      "L1_S24_F1848    0.014770\n",
      "L1_S24_F1834    0.014770\n",
      "L1_S24_F1836    0.014770\n",
      "L1_S24_F1850    0.014770\n",
      "L1_S24_F1840    0.014769\n",
      "L1_S24_F1831    0.014769\n",
      "L1_S24_F1838    0.014769\n",
      "L1_S24_D1770    0.011588\n",
      "L1_S24_D1800    0.011583\n",
      "L1_S24_D1805    0.011583\n",
      "L1_S24_D1790    0.011583\n",
      "L1_S24_D1795    0.011583\n",
      "L1_S24_D1785    0.011583\n",
      "L1_S24_D1780    0.011583\n",
      "L1_S24_D1775    0.011583\n",
      "Name: Response, Length: 99, dtype: float64\n"
     ]
    }
   ],
   "source": [
    "date_c_list = c_in.Response.sort_values(ascending=False)[0:100]\n",
    "date_c_list = date_c_list.drop(['Response'])\n",
    "print(date_c_list)\n"
   ]
  },
  {
   "cell_type": "code",
   "execution_count": 18,
   "metadata": {},
   "outputs": [],
   "source": [
    "#C.Response.sort_values(ascending=False)\n",
    "#date_c_list = C.Response.sort_values(ascending=False)[0:100]\n",
    "#date_c_list = date_c_list.drop(['Response'])\n",
    "#print(date_c_list)\n"
   ]
  },
  {
   "cell_type": "code",
   "execution_count": 5,
   "metadata": {},
   "outputs": [
    {
     "data": {
      "text/plain": [
       "numpy.ndarray"
      ]
     },
     "execution_count": 5,
     "metadata": {},
     "output_type": "execute_result"
    }
   ],
   "source": [
    "\n",
    "type(date_c_list)\n",
    "date_c_colsnames = date_c_list.index\n",
    "type(date_c_colsnames.values)\n",
    "\n",
    "#aaa = ['Id', 'L1_S24_D1775']\n",
    "#df_test = df.loc[:, aaa]\n",
    "#type(list)\n"
   ]
  },
  {
   "cell_type": "code",
   "execution_count": 6,
   "metadata": {},
   "outputs": [
    {
     "name": "stdout",
     "output_type": "stream",
     "text": [
      "      L3_S32_D3852  L3_S32_F3850  L3_S33_F3859  L3_S33_F3873  L3_S33_F3867  \\\n",
      "7472           NaN           NaN        -0.080           0.0           0.0   \n",
      "7884           NaN           NaN        -0.098           0.0           0.0   \n",
      "9721           NaN           NaN        -0.071           0.0           0.0   \n",
      "55             NaN           NaN         0.045           0.0           0.0   \n",
      "7330           NaN           NaN         0.065           0.0           0.0   \n",
      "\n",
      "      L3_S33_F3871  L3_S33_F3869  L3_S33_F3857  L3_S33_F3863  L3_S33_F3861  \\\n",
      "7472           0.0           0.0        -0.135        -0.165        -0.165   \n",
      "7884           0.0           0.0        -0.087        -0.074        -0.074   \n",
      "9721           0.0           0.0        -0.057        -0.074        -0.074   \n",
      "55             0.0           0.0        -0.031        -0.029        -0.029   \n",
      "7330           0.0           0.0        -0.024        -0.029        -0.029   \n",
      "\n",
      "          ...       L1_S24_F1831  L1_S24_F1838  L1_S24_D1770  L1_S24_D1800  \\\n",
      "7472      ...                NaN           NaN           NaN           NaN   \n",
      "7884      ...              0.072        -0.042           NaN           NaN   \n",
      "9721      ...                NaN           NaN           NaN           NaN   \n",
      "55        ...                NaN           NaN           NaN           NaN   \n",
      "7330      ...                NaN           NaN           NaN           NaN   \n",
      "\n",
      "      L1_S24_D1805  L1_S24_D1790  L1_S24_D1795  L1_S24_D1785  L1_S24_D1780  \\\n",
      "7472           NaN           NaN           NaN           NaN           NaN   \n",
      "7884           NaN           NaN           NaN           NaN           NaN   \n",
      "9721           NaN           NaN           NaN           NaN           NaN   \n",
      "55             NaN           NaN           NaN           NaN           NaN   \n",
      "7330           NaN           NaN           NaN           NaN           NaN   \n",
      "\n",
      "      L1_S24_D1775  \n",
      "7472           NaN  \n",
      "7884           NaN  \n",
      "9721           NaN  \n",
      "55             NaN  \n",
      "7330           NaN  \n",
      "\n",
      "[5 rows x 99 columns]\n",
      "7472    0.0\n",
      "7884    0.0\n",
      "9721    0.0\n",
      "55      0.0\n",
      "7330    0.0\n",
      "Name: Response, dtype: float32\n",
      "      L3_S32_D3852  L3_S32_F3850  L3_S33_F3859  L3_S33_F3873  L3_S33_F3867  \\\n",
      "9214           NaN           NaN         0.179           0.0           0.0   \n",
      "4500           NaN           NaN         0.024           0.0           0.0   \n",
      "448            NaN           NaN         0.252           0.0           0.0   \n",
      "441            NaN           NaN        -0.019           0.0           0.0   \n",
      "2956           NaN           NaN        -0.071           0.0           0.0   \n",
      "\n",
      "      L3_S33_F3871  L3_S33_F3869  L3_S33_F3857  L3_S33_F3863  L3_S33_F3861  \\\n",
      "9214           0.0           0.0        -0.073        -0.074        -0.074   \n",
      "4500           0.0           0.0        -0.033        -0.029        -0.029   \n",
      "448            0.0           0.0        -0.052        -0.074        -0.074   \n",
      "441            0.0           0.0        -0.028        -0.029        -0.029   \n",
      "2956           0.0           0.0         0.000         0.017         0.017   \n",
      "\n",
      "          ...       L1_S24_F1831  L1_S24_F1838  L1_S24_D1770  L1_S24_D1800  \\\n",
      "9214      ...                NaN           NaN           NaN           NaN   \n",
      "4500      ...                NaN           NaN           NaN           NaN   \n",
      "448       ...                NaN           NaN           NaN           NaN   \n",
      "441       ...                NaN           NaN           NaN           NaN   \n",
      "2956      ...                NaN           NaN           NaN           NaN   \n",
      "\n",
      "      L1_S24_D1805  L1_S24_D1790  L1_S24_D1795  L1_S24_D1785  L1_S24_D1780  \\\n",
      "9214           NaN           NaN           NaN           NaN           NaN   \n",
      "4500           NaN           NaN           NaN           NaN           NaN   \n",
      "448            NaN           NaN           NaN           NaN           NaN   \n",
      "441            NaN           NaN           NaN           NaN           NaN   \n",
      "2956           NaN           NaN           NaN           NaN           NaN   \n",
      "\n",
      "      L1_S24_D1775  \n",
      "9214           NaN  \n",
      "4500           NaN  \n",
      "448            NaN  \n",
      "441            NaN  \n",
      "2956           NaN  \n",
      "\n",
      "[5 rows x 99 columns]\n",
      "9214    0.0\n",
      "4500    0.0\n",
      "448     0.0\n",
      "441     0.0\n",
      "2956    0.0\n",
      "Name: Response, dtype: float32\n",
      "2018-07-14 13:27:34.247316 -> 2018-07-14 13:27:34.997569\n"
     ]
    }
   ],
   "source": [
    "from sklearn.model_selection import train_test_split\n",
    "\n",
    "start = datetime.now()\n",
    "\n",
    "## 教師データと訓練データに分離\n",
    "y = df['Response']\n",
    "X = df.loc[:, date_c_list.index.values]\n",
    "\n",
    "## テストセットと訓練セットに分離\n",
    "X_train, X_test, y_train, y_test = train_test_split(X, y, test_size=0.33, random_state=1)\n",
    "print(X_train.head())\n",
    "print(y_train.head())\n",
    "\n",
    "print(X_test.head())\n",
    "print(y_test.head())\n",
    "\n",
    "print(\"{} -> {}\".format(start, datetime.now()))"
   ]
  },
  {
   "cell_type": "code",
   "execution_count": null,
   "metadata": {},
   "outputs": [],
   "source": []
  },
  {
   "cell_type": "code",
   "execution_count": null,
   "metadata": {},
   "outputs": [],
   "source": []
  },
  {
   "cell_type": "code",
   "execution_count": 7,
   "metadata": {},
   "outputs": [
    {
     "name": "stdout",
     "output_type": "stream",
     "text": [
      "(793110, 99)\n",
      "2018-07-14 13:27:35.061557 -> 2018-07-14 13:27:40.838339\n"
     ]
    }
   ],
   "source": [
    "## 学習\n",
    "import lightgbm as lgb\n",
    "\n",
    "start = datetime.now()\n",
    "\n",
    "clf = lgb.LGBMClassifier(max_depth=2, random_state=0)\n",
    "clf.fit(X_train, y_train)\n",
    "print(X_train.shape)\n",
    "print(\"{} -> {}\".format(start, datetime.now()))"
   ]
  },
  {
   "cell_type": "code",
   "execution_count": 9,
   "metadata": {},
   "outputs": [
    {
     "name": "stderr",
     "output_type": "stream",
     "text": [
      "C:\\Users\\Takumi\\Anaconda3\\envs\\Kaggle\\lib\\site-packages\\sklearn\\metrics\\classification.py:538: RuntimeWarning: invalid value encountered in double_scalars\n",
      "  mcc = cov_ytyp / np.sqrt(cov_ytyt * cov_ypyp)\n"
     ]
    },
    {
     "name": "stdout",
     "output_type": "stream",
     "text": [
      "[0. 0. 0. ... 0. 0. 0.]\n",
      "[0.00681446 0.00302164 0.00571222 ... 0.00678057 0.00627255 0.00566073]\n",
      "matthews_corrcoef = [0.10379387 0.17907856 0.18027407 0.17709633 0.17559416 0.17358796\n",
      " 0.16705014 0.15989062 0.16598809 0.16425881 0.15974137 0.14107815\n",
      " 0.14213748 0.13782126 0.13056249 0.13050885 0.12703928 0.12535566\n",
      " 0.12535566 0.11756092 0.11471567 0.11480606 0.11387311 0.10800179\n",
      " 0.09970433 0.09696842 0.09870447 0.09651761 0.09904844 0.09864693\n",
      " 0.09467682 0.09427475 0.09201688 0.08530724 0.07894476 0.06998929\n",
      " 0.07326156 0.05293989 0.04385169 0.03308279 0.0414664  0.0414664\n",
      " 0.0253174  0.0253174  0.02778884 0.02394045 0.         0.\n",
      " 0.         0.        ]\n",
      "best threshold = 0.05\n"
     ]
    },
    {
     "data": {
      "image/png": "[encoded data removed]",
      "text/plain": [
       "<Figure size 432x288 with 1 Axes>"
      ]
     },
     "metadata": {},
     "output_type": "display_data"
    }
   ],
   "source": [
    "from sklearn import metrics\n",
    "import matplotlib.pyplot as plt\n",
    "\n",
    "start = datetime.now()\n",
    "\n",
    "thresholds = np.linspace(0.01,0.99,50)\n",
    "y_pred = clf.predict_proba(X_test.values)[:,1]\n",
    "mcc = np.array([metrics.matthews_corrcoef(y_test.values, y_pred>thr) for thr in thresholds])\n",
    "plt.plot(thresholds, mcc)\n",
    "print(y_test.values)\n",
    "print(y_pred)\n",
    "print(\"matthews_corrcoef = {}\".format(mcc))\n",
    "df_pred = pd.DataFrame({'Response':y_pred})\n",
    "best_thr = thresholds[mcc.argmax()]\n",
    "print(\"best threshold = {}\".format(best_thr))"
   ]
  },
  {
   "cell_type": "code",
   "execution_count": 10,
   "metadata": {},
   "outputs": [
    {
     "name": "stdout",
     "output_type": "stream",
     "text": [
      "L3_S32_D3852:21\n",
      "L3_S32_F3850:3\n",
      "L3_S33_F3859:1\n",
      "L3_S33_F3873:4\n",
      "L3_S33_F3867:4\n",
      "L3_S33_F3857:9\n",
      "L3_S33_F3863:1\n",
      "L3_S33_F3865:14\n",
      "L3_S33_D3874:39\n",
      "L3_S34_F3882:3\n",
      "L3_S34_D3883:37\n",
      "L1_S24_D1826:3\n",
      "L1_S24_D1558:7\n",
      "L1_S24_F1520:3\n",
      "L1_S24_F1578:2\n",
      "L1_S24_F1575:2\n",
      "L1_S24_F1573:2\n",
      "L1_S24_F1571:5\n",
      "L1_S24_F1569:1\n",
      "L1_S24_F1518:4\n",
      "L1_S24_F1514:2\n",
      "L1_S24_F1565:3\n",
      "L1_S24_F1567:1\n",
      "L1_S24_F1846:54\n",
      "L1_S24_F1844:46\n",
      "L1_S24_F1842:24\n",
      "L1_S24_F1848:1\n",
      "L1_S24_F1850:2\n",
      "L1_S24_D1770:2\n",
      "2018-07-14 13:28:07.474132 -> 2018-07-14 13:28:07.474132\n"
     ]
    }
   ],
   "source": [
    "start = datetime.now()\n",
    "\n",
    "#特徴量重要度を表示\n",
    "for i in range(0, X_train.shape[1]):\n",
    "    if 0 < clf.feature_importances_[i]:\n",
    "        print(\"{}:{}\".format(X_train.columns[i], clf.feature_importances_[i]))\n",
    "print(\"{} -> {}\".format(start, datetime.now()))"
   ]
  },
  {
   "cell_type": "code",
   "execution_count": null,
   "metadata": {},
   "outputs": [],
   "source": []
  },
  {
   "cell_type": "code",
   "execution_count": 36,
   "metadata": {},
   "outputs": [
    {
     "name": "stderr",
     "output_type": "stream",
     "text": [
      "C:\\Users\\Takumi\\Anaconda3\\envs\\Kaggle\\lib\\site-packages\\sklearn\\preprocessing\\label.py:151: DeprecationWarning: The truth value of an empty array is ambiguous. Returning False, but in future this will result in an error. Use `array.size > 0` to check that an array is not empty.\n",
      "  if diff:\n"
     ]
    },
    {
     "name": "stdout",
     "output_type": "stream",
     "text": [
      "loop : 0 / Rows = 10000\n"
     ]
    },
    {
     "name": "stderr",
     "output_type": "stream",
     "text": [
      "C:\\Users\\Takumi\\Anaconda3\\envs\\Kaggle\\lib\\site-packages\\sklearn\\preprocessing\\label.py:151: DeprecationWarning: The truth value of an empty array is ambiguous. Returning False, but in future this will result in an error. Use `array.size > 0` to check that an array is not empty.\n",
      "  if diff:\n"
     ]
    },
    {
     "name": "stdout",
     "output_type": "stream",
     "text": [
      "loop : 1 / Rows = 20000\n"
     ]
    },
    {
     "name": "stderr",
     "output_type": "stream",
     "text": [
      "C:\\Users\\Takumi\\Anaconda3\\envs\\Kaggle\\lib\\site-packages\\sklearn\\preprocessing\\label.py:151: DeprecationWarning: The truth value of an empty array is ambiguous. Returning False, but in future this will result in an error. Use `array.size > 0` to check that an array is not empty.\n",
      "  if diff:\n"
     ]
    },
    {
     "name": "stdout",
     "output_type": "stream",
     "text": [
      "loop : 2 / Rows = 30000\n"
     ]
    },
    {
     "name": "stderr",
     "output_type": "stream",
     "text": [
      "C:\\Users\\Takumi\\Anaconda3\\envs\\Kaggle\\lib\\site-packages\\sklearn\\preprocessing\\label.py:151: DeprecationWarning: The truth value of an empty array is ambiguous. Returning False, but in future this will result in an error. Use `array.size > 0` to check that an array is not empty.\n",
      "  if diff:\n"
     ]
    },
    {
     "name": "stdout",
     "output_type": "stream",
     "text": [
      "loop : 3 / Rows = 40000\n"
     ]
    },
    {
     "name": "stderr",
     "output_type": "stream",
     "text": [
      "C:\\Users\\Takumi\\Anaconda3\\envs\\Kaggle\\lib\\site-packages\\sklearn\\preprocessing\\label.py:151: DeprecationWarning: The truth value of an empty array is ambiguous. Returning False, but in future this will result in an error. Use `array.size > 0` to check that an array is not empty.\n",
      "  if diff:\n"
     ]
    },
    {
     "name": "stdout",
     "output_type": "stream",
     "text": [
      "loop : 4 / Rows = 50000\n"
     ]
    },
    {
     "name": "stderr",
     "output_type": "stream",
     "text": [
      "C:\\Users\\Takumi\\Anaconda3\\envs\\Kaggle\\lib\\site-packages\\sklearn\\preprocessing\\label.py:151: DeprecationWarning: The truth value of an empty array is ambiguous. Returning False, but in future this will result in an error. Use `array.size > 0` to check that an array is not empty.\n",
      "  if diff:\n"
     ]
    },
    {
     "name": "stdout",
     "output_type": "stream",
     "text": [
      "loop : 5 / Rows = 60000\n"
     ]
    },
    {
     "name": "stderr",
     "output_type": "stream",
     "text": [
      "C:\\Users\\Takumi\\Anaconda3\\envs\\Kaggle\\lib\\site-packages\\sklearn\\preprocessing\\label.py:151: DeprecationWarning: The truth value of an empty array is ambiguous. Returning False, but in future this will result in an error. Use `array.size > 0` to check that an array is not empty.\n",
      "  if diff:\n"
     ]
    },
    {
     "name": "stdout",
     "output_type": "stream",
     "text": [
      "loop : 6 / Rows = 70000\n"
     ]
    },
    {
     "name": "stderr",
     "output_type": "stream",
     "text": [
      "C:\\Users\\Takumi\\Anaconda3\\envs\\Kaggle\\lib\\site-packages\\sklearn\\preprocessing\\label.py:151: DeprecationWarning: The truth value of an empty array is ambiguous. Returning False, but in future this will result in an error. Use `array.size > 0` to check that an array is not empty.\n",
      "  if diff:\n"
     ]
    },
    {
     "name": "stdout",
     "output_type": "stream",
     "text": [
      "loop : 7 / Rows = 80000\n"
     ]
    },
    {
     "name": "stderr",
     "output_type": "stream",
     "text": [
      "C:\\Users\\Takumi\\Anaconda3\\envs\\Kaggle\\lib\\site-packages\\sklearn\\preprocessing\\label.py:151: DeprecationWarning: The truth value of an empty array is ambiguous. Returning False, but in future this will result in an error. Use `array.size > 0` to check that an array is not empty.\n",
      "  if diff:\n"
     ]
    },
    {
     "name": "stdout",
     "output_type": "stream",
     "text": [
      "loop : 8 / Rows = 90000\n"
     ]
    },
    {
     "name": "stderr",
     "output_type": "stream",
     "text": [
      "C:\\Users\\Takumi\\Anaconda3\\envs\\Kaggle\\lib\\site-packages\\sklearn\\preprocessing\\label.py:151: DeprecationWarning: The truth value of an empty array is ambiguous. Returning False, but in future this will result in an error. Use `array.size > 0` to check that an array is not empty.\n",
      "  if diff:\n"
     ]
    },
    {
     "name": "stdout",
     "output_type": "stream",
     "text": [
      "loop : 9 / Rows = 100000\n"
     ]
    },
    {
     "name": "stderr",
     "output_type": "stream",
     "text": [
      "C:\\Users\\Takumi\\Anaconda3\\envs\\Kaggle\\lib\\site-packages\\sklearn\\preprocessing\\label.py:151: DeprecationWarning: The truth value of an empty array is ambiguous. Returning False, but in future this will result in an error. Use `array.size > 0` to check that an array is not empty.\n",
      "  if diff:\n"
     ]
    },
    {
     "name": "stdout",
     "output_type": "stream",
     "text": [
      "loop : 10 / Rows = 110000\n"
     ]
    },
    {
     "name": "stderr",
     "output_type": "stream",
     "text": [
      "C:\\Users\\Takumi\\Anaconda3\\envs\\Kaggle\\lib\\site-packages\\sklearn\\preprocessing\\label.py:151: DeprecationWarning: The truth value of an empty array is ambiguous. Returning False, but in future this will result in an error. Use `array.size > 0` to check that an array is not empty.\n",
      "  if diff:\n"
     ]
    },
    {
     "name": "stdout",
     "output_type": "stream",
     "text": [
      "loop : 11 / Rows = 120000\n"
     ]
    },
    {
     "name": "stderr",
     "output_type": "stream",
     "text": [
      "C:\\Users\\Takumi\\Anaconda3\\envs\\Kaggle\\lib\\site-packages\\sklearn\\preprocessing\\label.py:151: DeprecationWarning: The truth value of an empty array is ambiguous. Returning False, but in future this will result in an error. Use `array.size > 0` to check that an array is not empty.\n",
      "  if diff:\n"
     ]
    },
    {
     "name": "stdout",
     "output_type": "stream",
     "text": [
      "loop : 12 / Rows = 130000\n"
     ]
    },
    {
     "name": "stderr",
     "output_type": "stream",
     "text": [
      "C:\\Users\\Takumi\\Anaconda3\\envs\\Kaggle\\lib\\site-packages\\sklearn\\preprocessing\\label.py:151: DeprecationWarning: The truth value of an empty array is ambiguous. Returning False, but in future this will result in an error. Use `array.size > 0` to check that an array is not empty.\n",
      "  if diff:\n"
     ]
    },
    {
     "name": "stdout",
     "output_type": "stream",
     "text": [
      "loop : 13 / Rows = 140000\n"
     ]
    },
    {
     "name": "stderr",
     "output_type": "stream",
     "text": [
      "C:\\Users\\Takumi\\Anaconda3\\envs\\Kaggle\\lib\\site-packages\\sklearn\\preprocessing\\label.py:151: DeprecationWarning: The truth value of an empty array is ambiguous. Returning False, but in future this will result in an error. Use `array.size > 0` to check that an array is not empty.\n",
      "  if diff:\n"
     ]
    },
    {
     "name": "stdout",
     "output_type": "stream",
     "text": [
      "loop : 14 / Rows = 150000\n"
     ]
    },
    {
     "name": "stderr",
     "output_type": "stream",
     "text": [
      "C:\\Users\\Takumi\\Anaconda3\\envs\\Kaggle\\lib\\site-packages\\sklearn\\preprocessing\\label.py:151: DeprecationWarning: The truth value of an empty array is ambiguous. Returning False, but in future this will result in an error. Use `array.size > 0` to check that an array is not empty.\n",
      "  if diff:\n"
     ]
    },
    {
     "name": "stdout",
     "output_type": "stream",
     "text": [
      "loop : 15 / Rows = 160000\n"
     ]
    },
    {
     "name": "stderr",
     "output_type": "stream",
     "text": [
      "C:\\Users\\Takumi\\Anaconda3\\envs\\Kaggle\\lib\\site-packages\\sklearn\\preprocessing\\label.py:151: DeprecationWarning: The truth value of an empty array is ambiguous. Returning False, but in future this will result in an error. Use `array.size > 0` to check that an array is not empty.\n",
      "  if diff:\n"
     ]
    },
    {
     "name": "stdout",
     "output_type": "stream",
     "text": [
      "loop : 16 / Rows = 170000\n"
     ]
    },
    {
     "name": "stderr",
     "output_type": "stream",
     "text": [
      "C:\\Users\\Takumi\\Anaconda3\\envs\\Kaggle\\lib\\site-packages\\sklearn\\preprocessing\\label.py:151: DeprecationWarning: The truth value of an empty array is ambiguous. Returning False, but in future this will result in an error. Use `array.size > 0` to check that an array is not empty.\n",
      "  if diff:\n"
     ]
    },
    {
     "name": "stdout",
     "output_type": "stream",
     "text": [
      "loop : 17 / Rows = 180000\n"
     ]
    },
    {
     "name": "stderr",
     "output_type": "stream",
     "text": [
      "C:\\Users\\Takumi\\Anaconda3\\envs\\Kaggle\\lib\\site-packages\\sklearn\\preprocessing\\label.py:151: DeprecationWarning: The truth value of an empty array is ambiguous. Returning False, but in future this will result in an error. Use `array.size > 0` to check that an array is not empty.\n",
      "  if diff:\n"
     ]
    },
    {
     "name": "stdout",
     "output_type": "stream",
     "text": [
      "loop : 18 / Rows = 190000\n"
     ]
    },
    {
     "name": "stderr",
     "output_type": "stream",
     "text": [
      "C:\\Users\\Takumi\\Anaconda3\\envs\\Kaggle\\lib\\site-packages\\sklearn\\preprocessing\\label.py:151: DeprecationWarning: The truth value of an empty array is ambiguous. Returning False, but in future this will result in an error. Use `array.size > 0` to check that an array is not empty.\n",
      "  if diff:\n"
     ]
    },
    {
     "name": "stdout",
     "output_type": "stream",
     "text": [
      "loop : 19 / Rows = 200000\n"
     ]
    },
    {
     "name": "stderr",
     "output_type": "stream",
     "text": [
      "C:\\Users\\Takumi\\Anaconda3\\envs\\Kaggle\\lib\\site-packages\\sklearn\\preprocessing\\label.py:151: DeprecationWarning: The truth value of an empty array is ambiguous. Returning False, but in future this will result in an error. Use `array.size > 0` to check that an array is not empty.\n",
      "  if diff:\n"
     ]
    },
    {
     "name": "stdout",
     "output_type": "stream",
     "text": [
      "loop : 20 / Rows = 210000\n"
     ]
    },
    {
     "name": "stderr",
     "output_type": "stream",
     "text": [
      "C:\\Users\\Takumi\\Anaconda3\\envs\\Kaggle\\lib\\site-packages\\sklearn\\preprocessing\\label.py:151: DeprecationWarning: The truth value of an empty array is ambiguous. Returning False, but in future this will result in an error. Use `array.size > 0` to check that an array is not empty.\n",
      "  if diff:\n"
     ]
    },
    {
     "name": "stdout",
     "output_type": "stream",
     "text": [
      "loop : 21 / Rows = 220000\n"
     ]
    },
    {
     "name": "stderr",
     "output_type": "stream",
     "text": [
      "C:\\Users\\Takumi\\Anaconda3\\envs\\Kaggle\\lib\\site-packages\\sklearn\\preprocessing\\label.py:151: DeprecationWarning: The truth value of an empty array is ambiguous. Returning False, but in future this will result in an error. Use `array.size > 0` to check that an array is not empty.\n",
      "  if diff:\n"
     ]
    },
    {
     "name": "stdout",
     "output_type": "stream",
     "text": [
      "loop : 22 / Rows = 230000\n"
     ]
    },
    {
     "name": "stderr",
     "output_type": "stream",
     "text": [
      "C:\\Users\\Takumi\\Anaconda3\\envs\\Kaggle\\lib\\site-packages\\sklearn\\preprocessing\\label.py:151: DeprecationWarning: The truth value of an empty array is ambiguous. Returning False, but in future this will result in an error. Use `array.size > 0` to check that an array is not empty.\n",
      "  if diff:\n"
     ]
    },
    {
     "name": "stdout",
     "output_type": "stream",
     "text": [
      "loop : 23 / Rows = 240000\n"
     ]
    },
    {
     "name": "stderr",
     "output_type": "stream",
     "text": [
      "C:\\Users\\Takumi\\Anaconda3\\envs\\Kaggle\\lib\\site-packages\\sklearn\\preprocessing\\label.py:151: DeprecationWarning: The truth value of an empty array is ambiguous. Returning False, but in future this will result in an error. Use `array.size > 0` to check that an array is not empty.\n",
      "  if diff:\n"
     ]
    },
    {
     "name": "stdout",
     "output_type": "stream",
     "text": [
      "loop : 24 / Rows = 250000\n"
     ]
    },
    {
     "name": "stderr",
     "output_type": "stream",
     "text": [
      "C:\\Users\\Takumi\\Anaconda3\\envs\\Kaggle\\lib\\site-packages\\sklearn\\preprocessing\\label.py:151: DeprecationWarning: The truth value of an empty array is ambiguous. Returning False, but in future this will result in an error. Use `array.size > 0` to check that an array is not empty.\n",
      "  if diff:\n"
     ]
    },
    {
     "name": "stdout",
     "output_type": "stream",
     "text": [
      "loop : 25 / Rows = 260000\n"
     ]
    },
    {
     "name": "stderr",
     "output_type": "stream",
     "text": [
      "C:\\Users\\Takumi\\Anaconda3\\envs\\Kaggle\\lib\\site-packages\\sklearn\\preprocessing\\label.py:151: DeprecationWarning: The truth value of an empty array is ambiguous. Returning False, but in future this will result in an error. Use `array.size > 0` to check that an array is not empty.\n",
      "  if diff:\n"
     ]
    },
    {
     "name": "stdout",
     "output_type": "stream",
     "text": [
      "loop : 26 / Rows = 270000\n"
     ]
    },
    {
     "name": "stderr",
     "output_type": "stream",
     "text": [
      "C:\\Users\\Takumi\\Anaconda3\\envs\\Kaggle\\lib\\site-packages\\sklearn\\preprocessing\\label.py:151: DeprecationWarning: The truth value of an empty array is ambiguous. Returning False, but in future this will result in an error. Use `array.size > 0` to check that an array is not empty.\n",
      "  if diff:\n"
     ]
    },
    {
     "name": "stdout",
     "output_type": "stream",
     "text": [
      "loop : 27 / Rows = 280000\n"
     ]
    },
    {
     "name": "stderr",
     "output_type": "stream",
     "text": [
      "C:\\Users\\Takumi\\Anaconda3\\envs\\Kaggle\\lib\\site-packages\\sklearn\\preprocessing\\label.py:151: DeprecationWarning: The truth value of an empty array is ambiguous. Returning False, but in future this will result in an error. Use `array.size > 0` to check that an array is not empty.\n",
      "  if diff:\n"
     ]
    },
    {
     "name": "stdout",
     "output_type": "stream",
     "text": [
      "loop : 28 / Rows = 290000\n"
     ]
    },
    {
     "name": "stderr",
     "output_type": "stream",
     "text": [
      "C:\\Users\\Takumi\\Anaconda3\\envs\\Kaggle\\lib\\site-packages\\sklearn\\preprocessing\\label.py:151: DeprecationWarning: The truth value of an empty array is ambiguous. Returning False, but in future this will result in an error. Use `array.size > 0` to check that an array is not empty.\n",
      "  if diff:\n"
     ]
    },
    {
     "name": "stdout",
     "output_type": "stream",
     "text": [
      "loop : 29 / Rows = 300000\n"
     ]
    },
    {
     "name": "stderr",
     "output_type": "stream",
     "text": [
      "C:\\Users\\Takumi\\Anaconda3\\envs\\Kaggle\\lib\\site-packages\\sklearn\\preprocessing\\label.py:151: DeprecationWarning: The truth value of an empty array is ambiguous. Returning False, but in future this will result in an error. Use `array.size > 0` to check that an array is not empty.\n",
      "  if diff:\n"
     ]
    },
    {
     "name": "stdout",
     "output_type": "stream",
     "text": [
      "loop : 30 / Rows = 310000\n"
     ]
    },
    {
     "name": "stderr",
     "output_type": "stream",
     "text": [
      "C:\\Users\\Takumi\\Anaconda3\\envs\\Kaggle\\lib\\site-packages\\sklearn\\preprocessing\\label.py:151: DeprecationWarning: The truth value of an empty array is ambiguous. Returning False, but in future this will result in an error. Use `array.size > 0` to check that an array is not empty.\n",
      "  if diff:\n"
     ]
    },
    {
     "name": "stdout",
     "output_type": "stream",
     "text": [
      "loop : 31 / Rows = 320000\n"
     ]
    },
    {
     "name": "stderr",
     "output_type": "stream",
     "text": [
      "C:\\Users\\Takumi\\Anaconda3\\envs\\Kaggle\\lib\\site-packages\\sklearn\\preprocessing\\label.py:151: DeprecationWarning: The truth value of an empty array is ambiguous. Returning False, but in future this will result in an error. Use `array.size > 0` to check that an array is not empty.\n",
      "  if diff:\n"
     ]
    },
    {
     "name": "stdout",
     "output_type": "stream",
     "text": [
      "loop : 32 / Rows = 330000\n"
     ]
    },
    {
     "name": "stderr",
     "output_type": "stream",
     "text": [
      "C:\\Users\\Takumi\\Anaconda3\\envs\\Kaggle\\lib\\site-packages\\sklearn\\preprocessing\\label.py:151: DeprecationWarning: The truth value of an empty array is ambiguous. Returning False, but in future this will result in an error. Use `array.size > 0` to check that an array is not empty.\n",
      "  if diff:\n"
     ]
    },
    {
     "name": "stdout",
     "output_type": "stream",
     "text": [
      "loop : 33 / Rows = 340000\n"
     ]
    },
    {
     "name": "stderr",
     "output_type": "stream",
     "text": [
      "C:\\Users\\Takumi\\Anaconda3\\envs\\Kaggle\\lib\\site-packages\\sklearn\\preprocessing\\label.py:151: DeprecationWarning: The truth value of an empty array is ambiguous. Returning False, but in future this will result in an error. Use `array.size > 0` to check that an array is not empty.\n",
      "  if diff:\n"
     ]
    },
    {
     "name": "stdout",
     "output_type": "stream",
     "text": [
      "loop : 34 / Rows = 350000\n"
     ]
    },
    {
     "name": "stderr",
     "output_type": "stream",
     "text": [
      "C:\\Users\\Takumi\\Anaconda3\\envs\\Kaggle\\lib\\site-packages\\sklearn\\preprocessing\\label.py:151: DeprecationWarning: The truth value of an empty array is ambiguous. Returning False, but in future this will result in an error. Use `array.size > 0` to check that an array is not empty.\n",
      "  if diff:\n"
     ]
    },
    {
     "name": "stdout",
     "output_type": "stream",
     "text": [
      "loop : 35 / Rows = 360000\n"
     ]
    },
    {
     "name": "stderr",
     "output_type": "stream",
     "text": [
      "C:\\Users\\Takumi\\Anaconda3\\envs\\Kaggle\\lib\\site-packages\\sklearn\\preprocessing\\label.py:151: DeprecationWarning: The truth value of an empty array is ambiguous. Returning False, but in future this will result in an error. Use `array.size > 0` to check that an array is not empty.\n",
      "  if diff:\n"
     ]
    },
    {
     "name": "stdout",
     "output_type": "stream",
     "text": [
      "loop : 36 / Rows = 370000\n"
     ]
    },
    {
     "name": "stderr",
     "output_type": "stream",
     "text": [
      "C:\\Users\\Takumi\\Anaconda3\\envs\\Kaggle\\lib\\site-packages\\sklearn\\preprocessing\\label.py:151: DeprecationWarning: The truth value of an empty array is ambiguous. Returning False, but in future this will result in an error. Use `array.size > 0` to check that an array is not empty.\n",
      "  if diff:\n"
     ]
    },
    {
     "name": "stdout",
     "output_type": "stream",
     "text": [
      "loop : 37 / Rows = 380000\n"
     ]
    },
    {
     "name": "stderr",
     "output_type": "stream",
     "text": [
      "C:\\Users\\Takumi\\Anaconda3\\envs\\Kaggle\\lib\\site-packages\\sklearn\\preprocessing\\label.py:151: DeprecationWarning: The truth value of an empty array is ambiguous. Returning False, but in future this will result in an error. Use `array.size > 0` to check that an array is not empty.\n",
      "  if diff:\n"
     ]
    },
    {
     "name": "stdout",
     "output_type": "stream",
     "text": [
      "loop : 38 / Rows = 390000\n"
     ]
    },
    {
     "name": "stderr",
     "output_type": "stream",
     "text": [
      "C:\\Users\\Takumi\\Anaconda3\\envs\\Kaggle\\lib\\site-packages\\sklearn\\preprocessing\\label.py:151: DeprecationWarning: The truth value of an empty array is ambiguous. Returning False, but in future this will result in an error. Use `array.size > 0` to check that an array is not empty.\n",
      "  if diff:\n"
     ]
    },
    {
     "name": "stdout",
     "output_type": "stream",
     "text": [
      "loop : 39 / Rows = 400000\n"
     ]
    },
    {
     "name": "stderr",
     "output_type": "stream",
     "text": [
      "C:\\Users\\Takumi\\Anaconda3\\envs\\Kaggle\\lib\\site-packages\\sklearn\\preprocessing\\label.py:151: DeprecationWarning: The truth value of an empty array is ambiguous. Returning False, but in future this will result in an error. Use `array.size > 0` to check that an array is not empty.\n",
      "  if diff:\n"
     ]
    },
    {
     "name": "stdout",
     "output_type": "stream",
     "text": [
      "loop : 40 / Rows = 410000\n"
     ]
    },
    {
     "name": "stderr",
     "output_type": "stream",
     "text": [
      "C:\\Users\\Takumi\\Anaconda3\\envs\\Kaggle\\lib\\site-packages\\sklearn\\preprocessing\\label.py:151: DeprecationWarning: The truth value of an empty array is ambiguous. Returning False, but in future this will result in an error. Use `array.size > 0` to check that an array is not empty.\n",
      "  if diff:\n"
     ]
    },
    {
     "name": "stdout",
     "output_type": "stream",
     "text": [
      "loop : 41 / Rows = 420000\n"
     ]
    },
    {
     "name": "stderr",
     "output_type": "stream",
     "text": [
      "C:\\Users\\Takumi\\Anaconda3\\envs\\Kaggle\\lib\\site-packages\\sklearn\\preprocessing\\label.py:151: DeprecationWarning: The truth value of an empty array is ambiguous. Returning False, but in future this will result in an error. Use `array.size > 0` to check that an array is not empty.\n",
      "  if diff:\n"
     ]
    },
    {
     "name": "stdout",
     "output_type": "stream",
     "text": [
      "loop : 42 / Rows = 430000\n"
     ]
    },
    {
     "name": "stderr",
     "output_type": "stream",
     "text": [
      "C:\\Users\\Takumi\\Anaconda3\\envs\\Kaggle\\lib\\site-packages\\sklearn\\preprocessing\\label.py:151: DeprecationWarning: The truth value of an empty array is ambiguous. Returning False, but in future this will result in an error. Use `array.size > 0` to check that an array is not empty.\n",
      "  if diff:\n"
     ]
    },
    {
     "name": "stdout",
     "output_type": "stream",
     "text": [
      "loop : 43 / Rows = 440000\n"
     ]
    },
    {
     "name": "stderr",
     "output_type": "stream",
     "text": [
      "C:\\Users\\Takumi\\Anaconda3\\envs\\Kaggle\\lib\\site-packages\\sklearn\\preprocessing\\label.py:151: DeprecationWarning: The truth value of an empty array is ambiguous. Returning False, but in future this will result in an error. Use `array.size > 0` to check that an array is not empty.\n",
      "  if diff:\n"
     ]
    },
    {
     "name": "stdout",
     "output_type": "stream",
     "text": [
      "loop : 44 / Rows = 450000\n"
     ]
    },
    {
     "name": "stderr",
     "output_type": "stream",
     "text": [
      "C:\\Users\\Takumi\\Anaconda3\\envs\\Kaggle\\lib\\site-packages\\sklearn\\preprocessing\\label.py:151: DeprecationWarning: The truth value of an empty array is ambiguous. Returning False, but in future this will result in an error. Use `array.size > 0` to check that an array is not empty.\n",
      "  if diff:\n"
     ]
    },
    {
     "name": "stdout",
     "output_type": "stream",
     "text": [
      "loop : 45 / Rows = 460000\n"
     ]
    },
    {
     "name": "stderr",
     "output_type": "stream",
     "text": [
      "C:\\Users\\Takumi\\Anaconda3\\envs\\Kaggle\\lib\\site-packages\\sklearn\\preprocessing\\label.py:151: DeprecationWarning: The truth value of an empty array is ambiguous. Returning False, but in future this will result in an error. Use `array.size > 0` to check that an array is not empty.\n",
      "  if diff:\n"
     ]
    },
    {
     "name": "stdout",
     "output_type": "stream",
     "text": [
      "loop : 46 / Rows = 470000\n"
     ]
    },
    {
     "name": "stderr",
     "output_type": "stream",
     "text": [
      "C:\\Users\\Takumi\\Anaconda3\\envs\\Kaggle\\lib\\site-packages\\sklearn\\preprocessing\\label.py:151: DeprecationWarning: The truth value of an empty array is ambiguous. Returning False, but in future this will result in an error. Use `array.size > 0` to check that an array is not empty.\n",
      "  if diff:\n"
     ]
    },
    {
     "name": "stdout",
     "output_type": "stream",
     "text": [
      "loop : 47 / Rows = 480000\n"
     ]
    },
    {
     "name": "stderr",
     "output_type": "stream",
     "text": [
      "C:\\Users\\Takumi\\Anaconda3\\envs\\Kaggle\\lib\\site-packages\\sklearn\\preprocessing\\label.py:151: DeprecationWarning: The truth value of an empty array is ambiguous. Returning False, but in future this will result in an error. Use `array.size > 0` to check that an array is not empty.\n",
      "  if diff:\n"
     ]
    },
    {
     "name": "stdout",
     "output_type": "stream",
     "text": [
      "loop : 48 / Rows = 490000\n"
     ]
    },
    {
     "name": "stderr",
     "output_type": "stream",
     "text": [
      "C:\\Users\\Takumi\\Anaconda3\\envs\\Kaggle\\lib\\site-packages\\sklearn\\preprocessing\\label.py:151: DeprecationWarning: The truth value of an empty array is ambiguous. Returning False, but in future this will result in an error. Use `array.size > 0` to check that an array is not empty.\n",
      "  if diff:\n"
     ]
    },
    {
     "name": "stdout",
     "output_type": "stream",
     "text": [
      "loop : 49 / Rows = 500000\n"
     ]
    },
    {
     "name": "stderr",
     "output_type": "stream",
     "text": [
      "C:\\Users\\Takumi\\Anaconda3\\envs\\Kaggle\\lib\\site-packages\\sklearn\\preprocessing\\label.py:151: DeprecationWarning: The truth value of an empty array is ambiguous. Returning False, but in future this will result in an error. Use `array.size > 0` to check that an array is not empty.\n",
      "  if diff:\n"
     ]
    },
    {
     "name": "stdout",
     "output_type": "stream",
     "text": [
      "loop : 50 / Rows = 510000\n"
     ]
    },
    {
     "name": "stderr",
     "output_type": "stream",
     "text": [
      "C:\\Users\\Takumi\\Anaconda3\\envs\\Kaggle\\lib\\site-packages\\sklearn\\preprocessing\\label.py:151: DeprecationWarning: The truth value of an empty array is ambiguous. Returning False, but in future this will result in an error. Use `array.size > 0` to check that an array is not empty.\n",
      "  if diff:\n"
     ]
    },
    {
     "name": "stdout",
     "output_type": "stream",
     "text": [
      "loop : 51 / Rows = 520000\n"
     ]
    },
    {
     "name": "stderr",
     "output_type": "stream",
     "text": [
      "C:\\Users\\Takumi\\Anaconda3\\envs\\Kaggle\\lib\\site-packages\\sklearn\\preprocessing\\label.py:151: DeprecationWarning: The truth value of an empty array is ambiguous. Returning False, but in future this will result in an error. Use `array.size > 0` to check that an array is not empty.\n",
      "  if diff:\n"
     ]
    },
    {
     "name": "stdout",
     "output_type": "stream",
     "text": [
      "loop : 52 / Rows = 530000\n"
     ]
    },
    {
     "name": "stderr",
     "output_type": "stream",
     "text": [
      "C:\\Users\\Takumi\\Anaconda3\\envs\\Kaggle\\lib\\site-packages\\sklearn\\preprocessing\\label.py:151: DeprecationWarning: The truth value of an empty array is ambiguous. Returning False, but in future this will result in an error. Use `array.size > 0` to check that an array is not empty.\n",
      "  if diff:\n"
     ]
    },
    {
     "name": "stdout",
     "output_type": "stream",
     "text": [
      "loop : 53 / Rows = 540000\n"
     ]
    },
    {
     "name": "stderr",
     "output_type": "stream",
     "text": [
      "C:\\Users\\Takumi\\Anaconda3\\envs\\Kaggle\\lib\\site-packages\\sklearn\\preprocessing\\label.py:151: DeprecationWarning: The truth value of an empty array is ambiguous. Returning False, but in future this will result in an error. Use `array.size > 0` to check that an array is not empty.\n",
      "  if diff:\n"
     ]
    },
    {
     "name": "stdout",
     "output_type": "stream",
     "text": [
      "loop : 54 / Rows = 550000\n"
     ]
    },
    {
     "name": "stderr",
     "output_type": "stream",
     "text": [
      "C:\\Users\\Takumi\\Anaconda3\\envs\\Kaggle\\lib\\site-packages\\sklearn\\preprocessing\\label.py:151: DeprecationWarning: The truth value of an empty array is ambiguous. Returning False, but in future this will result in an error. Use `array.size > 0` to check that an array is not empty.\n",
      "  if diff:\n"
     ]
    },
    {
     "name": "stdout",
     "output_type": "stream",
     "text": [
      "loop : 55 / Rows = 560000\n"
     ]
    },
    {
     "name": "stderr",
     "output_type": "stream",
     "text": [
      "C:\\Users\\Takumi\\Anaconda3\\envs\\Kaggle\\lib\\site-packages\\sklearn\\preprocessing\\label.py:151: DeprecationWarning: The truth value of an empty array is ambiguous. Returning False, but in future this will result in an error. Use `array.size > 0` to check that an array is not empty.\n",
      "  if diff:\n"
     ]
    },
    {
     "name": "stdout",
     "output_type": "stream",
     "text": [
      "loop : 56 / Rows = 570000\n"
     ]
    },
    {
     "name": "stderr",
     "output_type": "stream",
     "text": [
      "C:\\Users\\Takumi\\Anaconda3\\envs\\Kaggle\\lib\\site-packages\\sklearn\\preprocessing\\label.py:151: DeprecationWarning: The truth value of an empty array is ambiguous. Returning False, but in future this will result in an error. Use `array.size > 0` to check that an array is not empty.\n",
      "  if diff:\n"
     ]
    },
    {
     "name": "stdout",
     "output_type": "stream",
     "text": [
      "loop : 57 / Rows = 580000\n"
     ]
    },
    {
     "name": "stderr",
     "output_type": "stream",
     "text": [
      "C:\\Users\\Takumi\\Anaconda3\\envs\\Kaggle\\lib\\site-packages\\sklearn\\preprocessing\\label.py:151: DeprecationWarning: The truth value of an empty array is ambiguous. Returning False, but in future this will result in an error. Use `array.size > 0` to check that an array is not empty.\n",
      "  if diff:\n"
     ]
    },
    {
     "name": "stdout",
     "output_type": "stream",
     "text": [
      "loop : 58 / Rows = 590000\n"
     ]
    },
    {
     "name": "stderr",
     "output_type": "stream",
     "text": [
      "C:\\Users\\Takumi\\Anaconda3\\envs\\Kaggle\\lib\\site-packages\\sklearn\\preprocessing\\label.py:151: DeprecationWarning: The truth value of an empty array is ambiguous. Returning False, but in future this will result in an error. Use `array.size > 0` to check that an array is not empty.\n",
      "  if diff:\n"
     ]
    },
    {
     "name": "stdout",
     "output_type": "stream",
     "text": [
      "loop : 59 / Rows = 600000\n"
     ]
    },
    {
     "name": "stderr",
     "output_type": "stream",
     "text": [
      "C:\\Users\\Takumi\\Anaconda3\\envs\\Kaggle\\lib\\site-packages\\sklearn\\preprocessing\\label.py:151: DeprecationWarning: The truth value of an empty array is ambiguous. Returning False, but in future this will result in an error. Use `array.size > 0` to check that an array is not empty.\n",
      "  if diff:\n"
     ]
    },
    {
     "name": "stdout",
     "output_type": "stream",
     "text": [
      "loop : 60 / Rows = 610000\n"
     ]
    },
    {
     "name": "stderr",
     "output_type": "stream",
     "text": [
      "C:\\Users\\Takumi\\Anaconda3\\envs\\Kaggle\\lib\\site-packages\\sklearn\\preprocessing\\label.py:151: DeprecationWarning: The truth value of an empty array is ambiguous. Returning False, but in future this will result in an error. Use `array.size > 0` to check that an array is not empty.\n",
      "  if diff:\n"
     ]
    },
    {
     "name": "stdout",
     "output_type": "stream",
     "text": [
      "loop : 61 / Rows = 620000\n"
     ]
    },
    {
     "name": "stderr",
     "output_type": "stream",
     "text": [
      "C:\\Users\\Takumi\\Anaconda3\\envs\\Kaggle\\lib\\site-packages\\sklearn\\preprocessing\\label.py:151: DeprecationWarning: The truth value of an empty array is ambiguous. Returning False, but in future this will result in an error. Use `array.size > 0` to check that an array is not empty.\n",
      "  if diff:\n"
     ]
    },
    {
     "name": "stdout",
     "output_type": "stream",
     "text": [
      "loop : 62 / Rows = 630000\n"
     ]
    },
    {
     "name": "stderr",
     "output_type": "stream",
     "text": [
      "C:\\Users\\Takumi\\Anaconda3\\envs\\Kaggle\\lib\\site-packages\\sklearn\\preprocessing\\label.py:151: DeprecationWarning: The truth value of an empty array is ambiguous. Returning False, but in future this will result in an error. Use `array.size > 0` to check that an array is not empty.\n",
      "  if diff:\n"
     ]
    },
    {
     "name": "stdout",
     "output_type": "stream",
     "text": [
      "loop : 63 / Rows = 640000\n"
     ]
    },
    {
     "name": "stderr",
     "output_type": "stream",
     "text": [
      "C:\\Users\\Takumi\\Anaconda3\\envs\\Kaggle\\lib\\site-packages\\sklearn\\preprocessing\\label.py:151: DeprecationWarning: The truth value of an empty array is ambiguous. Returning False, but in future this will result in an error. Use `array.size > 0` to check that an array is not empty.\n",
      "  if diff:\n"
     ]
    },
    {
     "name": "stdout",
     "output_type": "stream",
     "text": [
      "loop : 64 / Rows = 650000\n"
     ]
    },
    {
     "name": "stderr",
     "output_type": "stream",
     "text": [
      "C:\\Users\\Takumi\\Anaconda3\\envs\\Kaggle\\lib\\site-packages\\sklearn\\preprocessing\\label.py:151: DeprecationWarning: The truth value of an empty array is ambiguous. Returning False, but in future this will result in an error. Use `array.size > 0` to check that an array is not empty.\n",
      "  if diff:\n"
     ]
    },
    {
     "name": "stdout",
     "output_type": "stream",
     "text": [
      "loop : 65 / Rows = 660000\n"
     ]
    },
    {
     "name": "stderr",
     "output_type": "stream",
     "text": [
      "C:\\Users\\Takumi\\Anaconda3\\envs\\Kaggle\\lib\\site-packages\\sklearn\\preprocessing\\label.py:151: DeprecationWarning: The truth value of an empty array is ambiguous. Returning False, but in future this will result in an error. Use `array.size > 0` to check that an array is not empty.\n",
      "  if diff:\n"
     ]
    },
    {
     "name": "stdout",
     "output_type": "stream",
     "text": [
      "loop : 66 / Rows = 670000\n"
     ]
    },
    {
     "name": "stderr",
     "output_type": "stream",
     "text": [
      "C:\\Users\\Takumi\\Anaconda3\\envs\\Kaggle\\lib\\site-packages\\sklearn\\preprocessing\\label.py:151: DeprecationWarning: The truth value of an empty array is ambiguous. Returning False, but in future this will result in an error. Use `array.size > 0` to check that an array is not empty.\n",
      "  if diff:\n"
     ]
    },
    {
     "name": "stdout",
     "output_type": "stream",
     "text": [
      "loop : 67 / Rows = 680000\n"
     ]
    },
    {
     "name": "stderr",
     "output_type": "stream",
     "text": [
      "C:\\Users\\Takumi\\Anaconda3\\envs\\Kaggle\\lib\\site-packages\\sklearn\\preprocessing\\label.py:151: DeprecationWarning: The truth value of an empty array is ambiguous. Returning False, but in future this will result in an error. Use `array.size > 0` to check that an array is not empty.\n",
      "  if diff:\n"
     ]
    },
    {
     "name": "stdout",
     "output_type": "stream",
     "text": [
      "loop : 68 / Rows = 690000\n"
     ]
    },
    {
     "name": "stderr",
     "output_type": "stream",
     "text": [
      "C:\\Users\\Takumi\\Anaconda3\\envs\\Kaggle\\lib\\site-packages\\sklearn\\preprocessing\\label.py:151: DeprecationWarning: The truth value of an empty array is ambiguous. Returning False, but in future this will result in an error. Use `array.size > 0` to check that an array is not empty.\n",
      "  if diff:\n"
     ]
    },
    {
     "name": "stdout",
     "output_type": "stream",
     "text": [
      "loop : 69 / Rows = 700000\n"
     ]
    },
    {
     "name": "stderr",
     "output_type": "stream",
     "text": [
      "C:\\Users\\Takumi\\Anaconda3\\envs\\Kaggle\\lib\\site-packages\\sklearn\\preprocessing\\label.py:151: DeprecationWarning: The truth value of an empty array is ambiguous. Returning False, but in future this will result in an error. Use `array.size > 0` to check that an array is not empty.\n",
      "  if diff:\n"
     ]
    },
    {
     "name": "stdout",
     "output_type": "stream",
     "text": [
      "loop : 70 / Rows = 710000\n"
     ]
    },
    {
     "name": "stderr",
     "output_type": "stream",
     "text": [
      "C:\\Users\\Takumi\\Anaconda3\\envs\\Kaggle\\lib\\site-packages\\sklearn\\preprocessing\\label.py:151: DeprecationWarning: The truth value of an empty array is ambiguous. Returning False, but in future this will result in an error. Use `array.size > 0` to check that an array is not empty.\n",
      "  if diff:\n"
     ]
    },
    {
     "name": "stdout",
     "output_type": "stream",
     "text": [
      "loop : 71 / Rows = 720000\n"
     ]
    },
    {
     "name": "stderr",
     "output_type": "stream",
     "text": [
      "C:\\Users\\Takumi\\Anaconda3\\envs\\Kaggle\\lib\\site-packages\\sklearn\\preprocessing\\label.py:151: DeprecationWarning: The truth value of an empty array is ambiguous. Returning False, but in future this will result in an error. Use `array.size > 0` to check that an array is not empty.\n",
      "  if diff:\n"
     ]
    },
    {
     "name": "stdout",
     "output_type": "stream",
     "text": [
      "loop : 72 / Rows = 730000\n"
     ]
    },
    {
     "name": "stderr",
     "output_type": "stream",
     "text": [
      "C:\\Users\\Takumi\\Anaconda3\\envs\\Kaggle\\lib\\site-packages\\sklearn\\preprocessing\\label.py:151: DeprecationWarning: The truth value of an empty array is ambiguous. Returning False, but in future this will result in an error. Use `array.size > 0` to check that an array is not empty.\n",
      "  if diff:\n"
     ]
    },
    {
     "name": "stdout",
     "output_type": "stream",
     "text": [
      "loop : 73 / Rows = 740000\n"
     ]
    },
    {
     "name": "stderr",
     "output_type": "stream",
     "text": [
      "C:\\Users\\Takumi\\Anaconda3\\envs\\Kaggle\\lib\\site-packages\\sklearn\\preprocessing\\label.py:151: DeprecationWarning: The truth value of an empty array is ambiguous. Returning False, but in future this will result in an error. Use `array.size > 0` to check that an array is not empty.\n",
      "  if diff:\n"
     ]
    },
    {
     "name": "stdout",
     "output_type": "stream",
     "text": [
      "loop : 74 / Rows = 750000\n"
     ]
    },
    {
     "name": "stderr",
     "output_type": "stream",
     "text": [
      "C:\\Users\\Takumi\\Anaconda3\\envs\\Kaggle\\lib\\site-packages\\sklearn\\preprocessing\\label.py:151: DeprecationWarning: The truth value of an empty array is ambiguous. Returning False, but in future this will result in an error. Use `array.size > 0` to check that an array is not empty.\n",
      "  if diff:\n"
     ]
    },
    {
     "name": "stdout",
     "output_type": "stream",
     "text": [
      "loop : 75 / Rows = 760000\n"
     ]
    },
    {
     "name": "stderr",
     "output_type": "stream",
     "text": [
      "C:\\Users\\Takumi\\Anaconda3\\envs\\Kaggle\\lib\\site-packages\\sklearn\\preprocessing\\label.py:151: DeprecationWarning: The truth value of an empty array is ambiguous. Returning False, but in future this will result in an error. Use `array.size > 0` to check that an array is not empty.\n",
      "  if diff:\n"
     ]
    },
    {
     "name": "stdout",
     "output_type": "stream",
     "text": [
      "loop : 76 / Rows = 770000\n"
     ]
    },
    {
     "name": "stderr",
     "output_type": "stream",
     "text": [
      "C:\\Users\\Takumi\\Anaconda3\\envs\\Kaggle\\lib\\site-packages\\sklearn\\preprocessing\\label.py:151: DeprecationWarning: The truth value of an empty array is ambiguous. Returning False, but in future this will result in an error. Use `array.size > 0` to check that an array is not empty.\n",
      "  if diff:\n"
     ]
    },
    {
     "name": "stdout",
     "output_type": "stream",
     "text": [
      "loop : 77 / Rows = 780000\n"
     ]
    },
    {
     "name": "stderr",
     "output_type": "stream",
     "text": [
      "C:\\Users\\Takumi\\Anaconda3\\envs\\Kaggle\\lib\\site-packages\\sklearn\\preprocessing\\label.py:151: DeprecationWarning: The truth value of an empty array is ambiguous. Returning False, but in future this will result in an error. Use `array.size > 0` to check that an array is not empty.\n",
      "  if diff:\n"
     ]
    },
    {
     "name": "stdout",
     "output_type": "stream",
     "text": [
      "loop : 78 / Rows = 790000\n"
     ]
    },
    {
     "name": "stderr",
     "output_type": "stream",
     "text": [
      "C:\\Users\\Takumi\\Anaconda3\\envs\\Kaggle\\lib\\site-packages\\sklearn\\preprocessing\\label.py:151: DeprecationWarning: The truth value of an empty array is ambiguous. Returning False, but in future this will result in an error. Use `array.size > 0` to check that an array is not empty.\n",
      "  if diff:\n"
     ]
    },
    {
     "name": "stdout",
     "output_type": "stream",
     "text": [
      "loop : 79 / Rows = 800000\n"
     ]
    },
    {
     "name": "stderr",
     "output_type": "stream",
     "text": [
      "C:\\Users\\Takumi\\Anaconda3\\envs\\Kaggle\\lib\\site-packages\\sklearn\\preprocessing\\label.py:151: DeprecationWarning: The truth value of an empty array is ambiguous. Returning False, but in future this will result in an error. Use `array.size > 0` to check that an array is not empty.\n",
      "  if diff:\n"
     ]
    },
    {
     "name": "stdout",
     "output_type": "stream",
     "text": [
      "loop : 80 / Rows = 810000\n"
     ]
    },
    {
     "name": "stderr",
     "output_type": "stream",
     "text": [
      "C:\\Users\\Takumi\\Anaconda3\\envs\\Kaggle\\lib\\site-packages\\sklearn\\preprocessing\\label.py:151: DeprecationWarning: The truth value of an empty array is ambiguous. Returning False, but in future this will result in an error. Use `array.size > 0` to check that an array is not empty.\n",
      "  if diff:\n"
     ]
    },
    {
     "name": "stdout",
     "output_type": "stream",
     "text": [
      "loop : 81 / Rows = 820000\n"
     ]
    },
    {
     "name": "stderr",
     "output_type": "stream",
     "text": [
      "C:\\Users\\Takumi\\Anaconda3\\envs\\Kaggle\\lib\\site-packages\\sklearn\\preprocessing\\label.py:151: DeprecationWarning: The truth value of an empty array is ambiguous. Returning False, but in future this will result in an error. Use `array.size > 0` to check that an array is not empty.\n",
      "  if diff:\n"
     ]
    },
    {
     "name": "stdout",
     "output_type": "stream",
     "text": [
      "loop : 82 / Rows = 830000\n"
     ]
    },
    {
     "name": "stderr",
     "output_type": "stream",
     "text": [
      "C:\\Users\\Takumi\\Anaconda3\\envs\\Kaggle\\lib\\site-packages\\sklearn\\preprocessing\\label.py:151: DeprecationWarning: The truth value of an empty array is ambiguous. Returning False, but in future this will result in an error. Use `array.size > 0` to check that an array is not empty.\n",
      "  if diff:\n"
     ]
    },
    {
     "name": "stdout",
     "output_type": "stream",
     "text": [
      "loop : 83 / Rows = 840000\n"
     ]
    },
    {
     "name": "stderr",
     "output_type": "stream",
     "text": [
      "C:\\Users\\Takumi\\Anaconda3\\envs\\Kaggle\\lib\\site-packages\\sklearn\\preprocessing\\label.py:151: DeprecationWarning: The truth value of an empty array is ambiguous. Returning False, but in future this will result in an error. Use `array.size > 0` to check that an array is not empty.\n",
      "  if diff:\n"
     ]
    },
    {
     "name": "stdout",
     "output_type": "stream",
     "text": [
      "loop : 84 / Rows = 850000\n"
     ]
    },
    {
     "name": "stderr",
     "output_type": "stream",
     "text": [
      "C:\\Users\\Takumi\\Anaconda3\\envs\\Kaggle\\lib\\site-packages\\sklearn\\preprocessing\\label.py:151: DeprecationWarning: The truth value of an empty array is ambiguous. Returning False, but in future this will result in an error. Use `array.size > 0` to check that an array is not empty.\n",
      "  if diff:\n"
     ]
    },
    {
     "name": "stdout",
     "output_type": "stream",
     "text": [
      "loop : 85 / Rows = 860000\n"
     ]
    },
    {
     "name": "stderr",
     "output_type": "stream",
     "text": [
      "C:\\Users\\Takumi\\Anaconda3\\envs\\Kaggle\\lib\\site-packages\\sklearn\\preprocessing\\label.py:151: DeprecationWarning: The truth value of an empty array is ambiguous. Returning False, but in future this will result in an error. Use `array.size > 0` to check that an array is not empty.\n",
      "  if diff:\n"
     ]
    },
    {
     "name": "stdout",
     "output_type": "stream",
     "text": [
      "loop : 86 / Rows = 870000\n"
     ]
    },
    {
     "name": "stderr",
     "output_type": "stream",
     "text": [
      "C:\\Users\\Takumi\\Anaconda3\\envs\\Kaggle\\lib\\site-packages\\sklearn\\preprocessing\\label.py:151: DeprecationWarning: The truth value of an empty array is ambiguous. Returning False, but in future this will result in an error. Use `array.size > 0` to check that an array is not empty.\n",
      "  if diff:\n"
     ]
    },
    {
     "name": "stdout",
     "output_type": "stream",
     "text": [
      "loop : 87 / Rows = 880000\n"
     ]
    },
    {
     "name": "stderr",
     "output_type": "stream",
     "text": [
      "C:\\Users\\Takumi\\Anaconda3\\envs\\Kaggle\\lib\\site-packages\\sklearn\\preprocessing\\label.py:151: DeprecationWarning: The truth value of an empty array is ambiguous. Returning False, but in future this will result in an error. Use `array.size > 0` to check that an array is not empty.\n",
      "  if diff:\n"
     ]
    },
    {
     "name": "stdout",
     "output_type": "stream",
     "text": [
      "loop : 88 / Rows = 890000\n"
     ]
    },
    {
     "name": "stderr",
     "output_type": "stream",
     "text": [
      "C:\\Users\\Takumi\\Anaconda3\\envs\\Kaggle\\lib\\site-packages\\sklearn\\preprocessing\\label.py:151: DeprecationWarning: The truth value of an empty array is ambiguous. Returning False, but in future this will result in an error. Use `array.size > 0` to check that an array is not empty.\n",
      "  if diff:\n"
     ]
    },
    {
     "name": "stdout",
     "output_type": "stream",
     "text": [
      "loop : 89 / Rows = 900000\n"
     ]
    },
    {
     "name": "stderr",
     "output_type": "stream",
     "text": [
      "C:\\Users\\Takumi\\Anaconda3\\envs\\Kaggle\\lib\\site-packages\\sklearn\\preprocessing\\label.py:151: DeprecationWarning: The truth value of an empty array is ambiguous. Returning False, but in future this will result in an error. Use `array.size > 0` to check that an array is not empty.\n",
      "  if diff:\n"
     ]
    },
    {
     "name": "stdout",
     "output_type": "stream",
     "text": [
      "loop : 90 / Rows = 910000\n"
     ]
    },
    {
     "name": "stderr",
     "output_type": "stream",
     "text": [
      "C:\\Users\\Takumi\\Anaconda3\\envs\\Kaggle\\lib\\site-packages\\sklearn\\preprocessing\\label.py:151: DeprecationWarning: The truth value of an empty array is ambiguous. Returning False, but in future this will result in an error. Use `array.size > 0` to check that an array is not empty.\n",
      "  if diff:\n"
     ]
    },
    {
     "name": "stdout",
     "output_type": "stream",
     "text": [
      "loop : 91 / Rows = 920000\n"
     ]
    },
    {
     "name": "stderr",
     "output_type": "stream",
     "text": [
      "C:\\Users\\Takumi\\Anaconda3\\envs\\Kaggle\\lib\\site-packages\\sklearn\\preprocessing\\label.py:151: DeprecationWarning: The truth value of an empty array is ambiguous. Returning False, but in future this will result in an error. Use `array.size > 0` to check that an array is not empty.\n",
      "  if diff:\n"
     ]
    },
    {
     "name": "stdout",
     "output_type": "stream",
     "text": [
      "loop : 92 / Rows = 930000\n"
     ]
    },
    {
     "name": "stderr",
     "output_type": "stream",
     "text": [
      "C:\\Users\\Takumi\\Anaconda3\\envs\\Kaggle\\lib\\site-packages\\sklearn\\preprocessing\\label.py:151: DeprecationWarning: The truth value of an empty array is ambiguous. Returning False, but in future this will result in an error. Use `array.size > 0` to check that an array is not empty.\n",
      "  if diff:\n"
     ]
    },
    {
     "name": "stdout",
     "output_type": "stream",
     "text": [
      "loop : 93 / Rows = 940000\n"
     ]
    },
    {
     "name": "stderr",
     "output_type": "stream",
     "text": [
      "C:\\Users\\Takumi\\Anaconda3\\envs\\Kaggle\\lib\\site-packages\\sklearn\\preprocessing\\label.py:151: DeprecationWarning: The truth value of an empty array is ambiguous. Returning False, but in future this will result in an error. Use `array.size > 0` to check that an array is not empty.\n",
      "  if diff:\n"
     ]
    },
    {
     "name": "stdout",
     "output_type": "stream",
     "text": [
      "loop : 94 / Rows = 950000\n"
     ]
    },
    {
     "name": "stderr",
     "output_type": "stream",
     "text": [
      "C:\\Users\\Takumi\\Anaconda3\\envs\\Kaggle\\lib\\site-packages\\sklearn\\preprocessing\\label.py:151: DeprecationWarning: The truth value of an empty array is ambiguous. Returning False, but in future this will result in an error. Use `array.size > 0` to check that an array is not empty.\n",
      "  if diff:\n"
     ]
    },
    {
     "name": "stdout",
     "output_type": "stream",
     "text": [
      "loop : 95 / Rows = 960000\n"
     ]
    },
    {
     "name": "stderr",
     "output_type": "stream",
     "text": [
      "C:\\Users\\Takumi\\Anaconda3\\envs\\Kaggle\\lib\\site-packages\\sklearn\\preprocessing\\label.py:151: DeprecationWarning: The truth value of an empty array is ambiguous. Returning False, but in future this will result in an error. Use `array.size > 0` to check that an array is not empty.\n",
      "  if diff:\n"
     ]
    },
    {
     "name": "stdout",
     "output_type": "stream",
     "text": [
      "loop : 96 / Rows = 970000\n"
     ]
    },
    {
     "name": "stderr",
     "output_type": "stream",
     "text": [
      "C:\\Users\\Takumi\\Anaconda3\\envs\\Kaggle\\lib\\site-packages\\sklearn\\preprocessing\\label.py:151: DeprecationWarning: The truth value of an empty array is ambiguous. Returning False, but in future this will result in an error. Use `array.size > 0` to check that an array is not empty.\n",
      "  if diff:\n"
     ]
    },
    {
     "name": "stdout",
     "output_type": "stream",
     "text": [
      "loop : 97 / Rows = 980000\n"
     ]
    },
    {
     "name": "stderr",
     "output_type": "stream",
     "text": [
      "C:\\Users\\Takumi\\Anaconda3\\envs\\Kaggle\\lib\\site-packages\\sklearn\\preprocessing\\label.py:151: DeprecationWarning: The truth value of an empty array is ambiguous. Returning False, but in future this will result in an error. Use `array.size > 0` to check that an array is not empty.\n",
      "  if diff:\n"
     ]
    },
    {
     "name": "stdout",
     "output_type": "stream",
     "text": [
      "loop : 98 / Rows = 990000\n"
     ]
    },
    {
     "name": "stderr",
     "output_type": "stream",
     "text": [
      "C:\\Users\\Takumi\\Anaconda3\\envs\\Kaggle\\lib\\site-packages\\sklearn\\preprocessing\\label.py:151: DeprecationWarning: The truth value of an empty array is ambiguous. Returning False, but in future this will result in an error. Use `array.size > 0` to check that an array is not empty.\n",
      "  if diff:\n"
     ]
    },
    {
     "name": "stdout",
     "output_type": "stream",
     "text": [
      "loop : 99 / Rows = 1000000\n"
     ]
    },
    {
     "name": "stderr",
     "output_type": "stream",
     "text": [
      "C:\\Users\\Takumi\\Anaconda3\\envs\\Kaggle\\lib\\site-packages\\sklearn\\preprocessing\\label.py:151: DeprecationWarning: The truth value of an empty array is ambiguous. Returning False, but in future this will result in an error. Use `array.size > 0` to check that an array is not empty.\n",
      "  if diff:\n"
     ]
    },
    {
     "name": "stdout",
     "output_type": "stream",
     "text": [
      "loop : 100 / Rows = 1010000\n"
     ]
    },
    {
     "name": "stderr",
     "output_type": "stream",
     "text": [
      "C:\\Users\\Takumi\\Anaconda3\\envs\\Kaggle\\lib\\site-packages\\sklearn\\preprocessing\\label.py:151: DeprecationWarning: The truth value of an empty array is ambiguous. Returning False, but in future this will result in an error. Use `array.size > 0` to check that an array is not empty.\n",
      "  if diff:\n"
     ]
    },
    {
     "name": "stdout",
     "output_type": "stream",
     "text": [
      "loop : 101 / Rows = 1020000\n"
     ]
    },
    {
     "name": "stderr",
     "output_type": "stream",
     "text": [
      "C:\\Users\\Takumi\\Anaconda3\\envs\\Kaggle\\lib\\site-packages\\sklearn\\preprocessing\\label.py:151: DeprecationWarning: The truth value of an empty array is ambiguous. Returning False, but in future this will result in an error. Use `array.size > 0` to check that an array is not empty.\n",
      "  if diff:\n"
     ]
    },
    {
     "name": "stdout",
     "output_type": "stream",
     "text": [
      "loop : 102 / Rows = 1030000\n"
     ]
    },
    {
     "name": "stderr",
     "output_type": "stream",
     "text": [
      "C:\\Users\\Takumi\\Anaconda3\\envs\\Kaggle\\lib\\site-packages\\sklearn\\preprocessing\\label.py:151: DeprecationWarning: The truth value of an empty array is ambiguous. Returning False, but in future this will result in an error. Use `array.size > 0` to check that an array is not empty.\n",
      "  if diff:\n"
     ]
    },
    {
     "name": "stdout",
     "output_type": "stream",
     "text": [
      "loop : 103 / Rows = 1040000\n"
     ]
    },
    {
     "name": "stderr",
     "output_type": "stream",
     "text": [
      "C:\\Users\\Takumi\\Anaconda3\\envs\\Kaggle\\lib\\site-packages\\sklearn\\preprocessing\\label.py:151: DeprecationWarning: The truth value of an empty array is ambiguous. Returning False, but in future this will result in an error. Use `array.size > 0` to check that an array is not empty.\n",
      "  if diff:\n"
     ]
    },
    {
     "name": "stdout",
     "output_type": "stream",
     "text": [
      "loop : 104 / Rows = 1050000\n"
     ]
    },
    {
     "name": "stderr",
     "output_type": "stream",
     "text": [
      "C:\\Users\\Takumi\\Anaconda3\\envs\\Kaggle\\lib\\site-packages\\sklearn\\preprocessing\\label.py:151: DeprecationWarning: The truth value of an empty array is ambiguous. Returning False, but in future this will result in an error. Use `array.size > 0` to check that an array is not empty.\n",
      "  if diff:\n"
     ]
    },
    {
     "name": "stdout",
     "output_type": "stream",
     "text": [
      "loop : 105 / Rows = 1060000\n"
     ]
    },
    {
     "name": "stderr",
     "output_type": "stream",
     "text": [
      "C:\\Users\\Takumi\\Anaconda3\\envs\\Kaggle\\lib\\site-packages\\sklearn\\preprocessing\\label.py:151: DeprecationWarning: The truth value of an empty array is ambiguous. Returning False, but in future this will result in an error. Use `array.size > 0` to check that an array is not empty.\n",
      "  if diff:\n"
     ]
    },
    {
     "name": "stdout",
     "output_type": "stream",
     "text": [
      "loop : 106 / Rows = 1070000\n"
     ]
    },
    {
     "name": "stderr",
     "output_type": "stream",
     "text": [
      "C:\\Users\\Takumi\\Anaconda3\\envs\\Kaggle\\lib\\site-packages\\sklearn\\preprocessing\\label.py:151: DeprecationWarning: The truth value of an empty array is ambiguous. Returning False, but in future this will result in an error. Use `array.size > 0` to check that an array is not empty.\n",
      "  if diff:\n"
     ]
    },
    {
     "name": "stdout",
     "output_type": "stream",
     "text": [
      "loop : 107 / Rows = 1080000\n"
     ]
    },
    {
     "name": "stderr",
     "output_type": "stream",
     "text": [
      "C:\\Users\\Takumi\\Anaconda3\\envs\\Kaggle\\lib\\site-packages\\sklearn\\preprocessing\\label.py:151: DeprecationWarning: The truth value of an empty array is ambiguous. Returning False, but in future this will result in an error. Use `array.size > 0` to check that an array is not empty.\n",
      "  if diff:\n"
     ]
    },
    {
     "name": "stdout",
     "output_type": "stream",
     "text": [
      "loop : 108 / Rows = 1090000\n"
     ]
    },
    {
     "name": "stderr",
     "output_type": "stream",
     "text": [
      "C:\\Users\\Takumi\\Anaconda3\\envs\\Kaggle\\lib\\site-packages\\sklearn\\preprocessing\\label.py:151: DeprecationWarning: The truth value of an empty array is ambiguous. Returning False, but in future this will result in an error. Use `array.size > 0` to check that an array is not empty.\n",
      "  if diff:\n"
     ]
    },
    {
     "name": "stdout",
     "output_type": "stream",
     "text": [
      "loop : 109 / Rows = 1100000\n"
     ]
    },
    {
     "name": "stderr",
     "output_type": "stream",
     "text": [
      "C:\\Users\\Takumi\\Anaconda3\\envs\\Kaggle\\lib\\site-packages\\sklearn\\preprocessing\\label.py:151: DeprecationWarning: The truth value of an empty array is ambiguous. Returning False, but in future this will result in an error. Use `array.size > 0` to check that an array is not empty.\n",
      "  if diff:\n"
     ]
    },
    {
     "name": "stdout",
     "output_type": "stream",
     "text": [
      "loop : 110 / Rows = 1110000\n"
     ]
    },
    {
     "name": "stderr",
     "output_type": "stream",
     "text": [
      "C:\\Users\\Takumi\\Anaconda3\\envs\\Kaggle\\lib\\site-packages\\sklearn\\preprocessing\\label.py:151: DeprecationWarning: The truth value of an empty array is ambiguous. Returning False, but in future this will result in an error. Use `array.size > 0` to check that an array is not empty.\n",
      "  if diff:\n"
     ]
    },
    {
     "name": "stdout",
     "output_type": "stream",
     "text": [
      "loop : 111 / Rows = 1120000\n"
     ]
    },
    {
     "name": "stderr",
     "output_type": "stream",
     "text": [
      "C:\\Users\\Takumi\\Anaconda3\\envs\\Kaggle\\lib\\site-packages\\sklearn\\preprocessing\\label.py:151: DeprecationWarning: The truth value of an empty array is ambiguous. Returning False, but in future this will result in an error. Use `array.size > 0` to check that an array is not empty.\n",
      "  if diff:\n"
     ]
    },
    {
     "name": "stdout",
     "output_type": "stream",
     "text": [
      "loop : 112 / Rows = 1130000\n"
     ]
    },
    {
     "name": "stderr",
     "output_type": "stream",
     "text": [
      "C:\\Users\\Takumi\\Anaconda3\\envs\\Kaggle\\lib\\site-packages\\sklearn\\preprocessing\\label.py:151: DeprecationWarning: The truth value of an empty array is ambiguous. Returning False, but in future this will result in an error. Use `array.size > 0` to check that an array is not empty.\n",
      "  if diff:\n"
     ]
    },
    {
     "name": "stdout",
     "output_type": "stream",
     "text": [
      "loop : 113 / Rows = 1140000\n"
     ]
    },
    {
     "name": "stderr",
     "output_type": "stream",
     "text": [
      "C:\\Users\\Takumi\\Anaconda3\\envs\\Kaggle\\lib\\site-packages\\sklearn\\preprocessing\\label.py:151: DeprecationWarning: The truth value of an empty array is ambiguous. Returning False, but in future this will result in an error. Use `array.size > 0` to check that an array is not empty.\n",
      "  if diff:\n"
     ]
    },
    {
     "name": "stdout",
     "output_type": "stream",
     "text": [
      "loop : 114 / Rows = 1150000\n"
     ]
    },
    {
     "name": "stderr",
     "output_type": "stream",
     "text": [
      "C:\\Users\\Takumi\\Anaconda3\\envs\\Kaggle\\lib\\site-packages\\sklearn\\preprocessing\\label.py:151: DeprecationWarning: The truth value of an empty array is ambiguous. Returning False, but in future this will result in an error. Use `array.size > 0` to check that an array is not empty.\n",
      "  if diff:\n"
     ]
    },
    {
     "name": "stdout",
     "output_type": "stream",
     "text": [
      "loop : 115 / Rows = 1160000\n"
     ]
    },
    {
     "name": "stderr",
     "output_type": "stream",
     "text": [
      "C:\\Users\\Takumi\\Anaconda3\\envs\\Kaggle\\lib\\site-packages\\sklearn\\preprocessing\\label.py:151: DeprecationWarning: The truth value of an empty array is ambiguous. Returning False, but in future this will result in an error. Use `array.size > 0` to check that an array is not empty.\n",
      "  if diff:\n"
     ]
    },
    {
     "name": "stdout",
     "output_type": "stream",
     "text": [
      "loop : 116 / Rows = 1170000\n"
     ]
    },
    {
     "name": "stderr",
     "output_type": "stream",
     "text": [
      "C:\\Users\\Takumi\\Anaconda3\\envs\\Kaggle\\lib\\site-packages\\sklearn\\preprocessing\\label.py:151: DeprecationWarning: The truth value of an empty array is ambiguous. Returning False, but in future this will result in an error. Use `array.size > 0` to check that an array is not empty.\n",
      "  if diff:\n"
     ]
    },
    {
     "name": "stdout",
     "output_type": "stream",
     "text": [
      "loop : 117 / Rows = 1180000\n",
      "loop : 118 / Rows = 1183748\n"
     ]
    },
    {
     "name": "stderr",
     "output_type": "stream",
     "text": [
      "C:\\Users\\Takumi\\Anaconda3\\envs\\Kaggle\\lib\\site-packages\\sklearn\\preprocessing\\label.py:151: DeprecationWarning: The truth value of an empty array is ambiguous. Returning False, but in future this will result in an error. Use `array.size > 0` to check that an array is not empty.\n",
      "  if diff:\n"
     ]
    }
   ],
   "source": [
    "start = datetime.now()\n",
    "reader_test_date = pd.read_csv(\"test_date.csv\",chunksize=CHUNK_SIZE)\n",
    "reader_test_num = pd.read_csv(\"test_numeric.csv\",chunksize=CHUNK_SIZE)\n",
    "\n",
    "#分割して読み込み\n",
    "loop = 0\n",
    "for df_chunk_test_date in reader_test_date:\n",
    "    df_chunk_test_num = reader_test_num.get_chunk(CHUNK_SIZE)\n",
    "    \n",
    "    df_test_chunk = pd.merge(on=\"Id\", left=df_chunk_test_date, right=df_chunk_test_num)\n",
    "    df_test_id_chunk = df_test_chunk['Id']\n",
    "    df_test_chunk = df_test_chunk.drop('Id',axis=1)\n",
    "    \n",
    "    df_test_chunk = df_test_chunk.loc[:, date_c_list.index.values]\n",
    "\n",
    "    \n",
    "    ##予測\n",
    "    ary_test_chunk_pred = clf.predict(df_test_chunk.values)\n",
    "    df_test_chunk_pred = pd.DataFrame({'Id':df_test_id_chunk.values, 'Response':ary_test_chunk_pred})\n",
    "    if loop == 0:\n",
    "        df_test_pred = df_test_chunk_pred\n",
    "    else:\n",
    "        df_test_pred = pd.concat([df_test_pred, df_test_chunk_pred])\n",
    "    \n",
    "    print(\"loop : {} / Rows = {}\".format(loop, len(df_test_pred.index)))\n",
    "    \n",
    "    loop = loop + 1\n",
    "\n"
   ]
  },
  {
   "cell_type": "code",
   "execution_count": 48,
   "metadata": {},
   "outputs": [
    {
     "data": {
      "text/html": [
       "<div>\n",
       "<style scoped>\n",
       "    .dataframe tbody tr th:only-of-type {\n",
       "        vertical-align: middle;\n",
       "    }\n",
       "\n",
       "    .dataframe tbody tr th {\n",
       "        vertical-align: top;\n",
       "    }\n",
       "\n",
       "    .dataframe thead th {\n",
       "        text-align: right;\n",
       "    }\n",
       "</style>\n",
       "<table border=\"1\" class=\"dataframe\">\n",
       "  <thead>\n",
       "    <tr style=\"text-align: right;\">\n",
       "      <th></th>\n",
       "      <th>Id</th>\n",
       "      <th>0</th>\n",
       "    </tr>\n",
       "  </thead>\n",
       "  <tbody>\n",
       "    <tr>\n",
       "      <th>0</th>\n",
       "      <td>1.0</td>\n",
       "      <td>NaN</td>\n",
       "    </tr>\n",
       "    <tr>\n",
       "      <th>1</th>\n",
       "      <td>2.0</td>\n",
       "      <td>NaN</td>\n",
       "    </tr>\n",
       "    <tr>\n",
       "      <th>2</th>\n",
       "      <td>3.0</td>\n",
       "      <td>NaN</td>\n",
       "    </tr>\n",
       "    <tr>\n",
       "      <th>3</th>\n",
       "      <td>5.0</td>\n",
       "      <td>NaN</td>\n",
       "    </tr>\n",
       "    <tr>\n",
       "      <th>4</th>\n",
       "      <td>8.0</td>\n",
       "      <td>NaN</td>\n",
       "    </tr>\n",
       "  </tbody>\n",
       "</table>\n",
       "</div>"
      ],
      "text/plain": [
       "    Id    0\n",
       "0  1.0  NaN\n",
       "1  2.0  NaN\n",
       "2  3.0  NaN\n",
       "3  5.0  NaN\n",
       "4  8.0  NaN"
      ]
     },
     "execution_count": 48,
     "metadata": {},
     "output_type": "execute_result"
    }
   ],
   "source": [
    "df_test_pred['Response'] = df_test_pred.Response.astype('bool')\n",
    "df_test_pred.head()"
   ]
  },
  {
   "cell_type": "code",
   "execution_count": 49,
   "metadata": {},
   "outputs": [],
   "source": [
    "##CSV出力\n",
    "y_submit = df_test_pred\n",
    "type(y_submit)\n",
    "y_submit.to_csv(\"submit.csv\", columns=['Id', 'Response'], index=False)\n",
    "#y_submit = df_test_pred_cast\n",
    "#print(y_submit)\n",
    "#print(\"y_submit : {}\".format(y_submit.shape))\n",
    "#y_submit.to_csv(\"submit_chunk.csv\", columns=['Id', 'Response'], index=False)\n",
    "#print(\"'submit_chunk.csv' is saved.\")\n",
    "#print(\"{} : {}\".format(len(y_submit[y_submit['Response'] == 0].index), len(y_submit[y_submit['Response'] == 1].index)))\n",
    "#print(\"{} -> {}\".format(start, datetime.now()))"
   ]
  }
 ],
 "metadata": {
  "kernelspec": {
   "display_name": "Python 3",
   "language": "python",
   "name": "python3"
  },
  "language_info": {
   "codemirror_mode": {
    "name": "ipython",
    "version": 3
   },
   "file_extension": ".py",
   "mimetype": "text/x-python",
   "name": "python",
   "nbconvert_exporter": "python",
   "pygments_lexer": "ipython3",
   "version": "3.6.6"
  }
 },
 "nbformat": 4,
 "nbformat_minor": 2
}
