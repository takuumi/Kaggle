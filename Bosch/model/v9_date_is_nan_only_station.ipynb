{
 "cells": [
  {
   "cell_type": "code",
   "execution_count": 6,
   "metadata": {},
   "outputs": [],
   "source": [
    "import os\n",
    "import pandas as pd\n",
    "import numpy as np\n",
    "import math\n",
    "from matplotlib.pyplot import *\n",
    "import matplotlib.pyplot as plt\n",
    "from matplotlib import animation\n",
    "from matplotlib import cm\n",
    "from parse import *\n",
    "import seaborn as sns\n",
    "from sklearn.ensemble import RandomForestClassifier as RandomForest\n",
    "import random\n",
    "from sklearn import linear_model\n",
    "from datetime import datetime\n",
    "import gc\n",
    "\n",
    "pd.set_option(\"display.max_columns\", 2000)\n"
   ]
  },
  {
   "cell_type": "code",
   "execution_count": 2,
   "metadata": {},
   "outputs": [
    {
     "name": "stdout",
     "output_type": "stream",
     "text": [
      "loop : 0 / Rows = 10000\n",
      "loop : 1 / Rows = 20000\n",
      "loop : 2 / Rows = 30000\n",
      "loop : 3 / Rows = 40000\n",
      "loop : 4 / Rows = 50000\n",
      "loop : 5 / Rows = 60000\n",
      "loop : 6 / Rows = 70000\n",
      "loop : 7 / Rows = 80000\n",
      "loop : 8 / Rows = 90000\n",
      "loop : 9 / Rows = 100000\n",
      "loop : 10 / Rows = 110000\n",
      "loop : 11 / Rows = 120000\n",
      "loop : 12 / Rows = 130000\n",
      "loop : 13 / Rows = 140000\n",
      "loop : 14 / Rows = 150000\n",
      "loop : 15 / Rows = 160000\n",
      "loop : 16 / Rows = 170000\n",
      "loop : 17 / Rows = 180000\n",
      "loop : 18 / Rows = 190000\n",
      "loop : 19 / Rows = 200000\n",
      "loop : 20 / Rows = 210000\n",
      "loop : 21 / Rows = 220000\n",
      "loop : 22 / Rows = 230000\n",
      "loop : 23 / Rows = 240000\n",
      "loop : 24 / Rows = 250000\n",
      "loop : 25 / Rows = 260000\n",
      "loop : 26 / Rows = 270000\n",
      "loop : 27 / Rows = 280000\n",
      "loop : 28 / Rows = 290000\n",
      "loop : 29 / Rows = 300000\n",
      "loop : 30 / Rows = 310000\n",
      "loop : 31 / Rows = 320000\n",
      "loop : 32 / Rows = 330000\n",
      "loop : 33 / Rows = 340000\n",
      "loop : 34 / Rows = 350000\n",
      "loop : 35 / Rows = 360000\n",
      "loop : 36 / Rows = 370000\n",
      "loop : 37 / Rows = 380000\n",
      "loop : 38 / Rows = 390000\n",
      "loop : 39 / Rows = 400000\n",
      "loop : 40 / Rows = 410000\n",
      "loop : 41 / Rows = 420000\n",
      "loop : 42 / Rows = 430000\n",
      "loop : 43 / Rows = 440000\n",
      "loop : 44 / Rows = 450000\n",
      "loop : 45 / Rows = 460000\n",
      "loop : 46 / Rows = 470000\n",
      "loop : 47 / Rows = 480000\n",
      "loop : 48 / Rows = 490000\n",
      "loop : 49 / Rows = 500000\n",
      "loop : 50 / Rows = 510000\n",
      "loop : 51 / Rows = 520000\n",
      "loop : 52 / Rows = 530000\n",
      "loop : 53 / Rows = 540000\n",
      "loop : 54 / Rows = 550000\n",
      "loop : 55 / Rows = 560000\n",
      "loop : 56 / Rows = 570000\n",
      "loop : 57 / Rows = 580000\n",
      "loop : 58 / Rows = 590000\n",
      "loop : 59 / Rows = 600000\n",
      "loop : 60 / Rows = 610000\n",
      "loop : 61 / Rows = 620000\n",
      "loop : 62 / Rows = 630000\n",
      "loop : 63 / Rows = 640000\n",
      "loop : 64 / Rows = 650000\n",
      "loop : 65 / Rows = 660000\n",
      "loop : 66 / Rows = 670000\n",
      "loop : 67 / Rows = 680000\n",
      "loop : 68 / Rows = 690000\n",
      "loop : 69 / Rows = 700000\n",
      "loop : 70 / Rows = 710000\n",
      "loop : 71 / Rows = 720000\n",
      "loop : 72 / Rows = 730000\n",
      "loop : 73 / Rows = 740000\n",
      "loop : 74 / Rows = 750000\n",
      "loop : 75 / Rows = 760000\n",
      "loop : 76 / Rows = 770000\n",
      "loop : 77 / Rows = 780000\n",
      "loop : 78 / Rows = 790000\n",
      "loop : 79 / Rows = 800000\n",
      "loop : 80 / Rows = 810000\n",
      "loop : 81 / Rows = 820000\n",
      "loop : 82 / Rows = 830000\n",
      "loop : 83 / Rows = 840000\n",
      "loop : 84 / Rows = 850000\n",
      "loop : 85 / Rows = 860000\n",
      "loop : 86 / Rows = 870000\n",
      "loop : 87 / Rows = 880000\n",
      "loop : 88 / Rows = 890000\n",
      "loop : 89 / Rows = 900000\n",
      "loop : 90 / Rows = 910000\n",
      "loop : 91 / Rows = 920000\n",
      "loop : 92 / Rows = 930000\n",
      "loop : 93 / Rows = 940000\n",
      "loop : 94 / Rows = 950000\n",
      "loop : 95 / Rows = 960000\n",
      "loop : 96 / Rows = 970000\n",
      "loop : 97 / Rows = 980000\n",
      "loop : 98 / Rows = 990000\n",
      "loop : 99 / Rows = 1000000\n",
      "loop : 100 / Rows = 1010000\n",
      "loop : 101 / Rows = 1020000\n",
      "loop : 102 / Rows = 1030000\n",
      "loop : 103 / Rows = 1040000\n",
      "loop : 104 / Rows = 1050000\n",
      "loop : 105 / Rows = 1060000\n",
      "loop : 106 / Rows = 1070000\n",
      "loop : 107 / Rows = 1080000\n",
      "loop : 108 / Rows = 1090000\n",
      "loop : 109 / Rows = 1100000\n",
      "loop : 110 / Rows = 1110000\n",
      "loop : 111 / Rows = 1120000\n",
      "loop : 112 / Rows = 1130000\n",
      "loop : 113 / Rows = 1140000\n",
      "loop : 114 / Rows = 1150000\n",
      "loop : 115 / Rows = 1160000\n",
      "loop : 116 / Rows = 1170000\n",
      "loop : 117 / Rows = 1180000\n",
      "loop : 118 / Rows = 1183747\n",
      "0:1176868, 1:6879\n",
      "2018-07-16 23:24:14.566595 -> 2018-07-16 23:28:03.314134\n",
      "Memory:5492586080\n"
     ]
    }
   ],
   "source": [
    "CHUNK_SIZE = 10000\n",
    "\n",
    "start = datetime.now()\n",
    "\n",
    "reader_date = pd.read_csv(\"../train_date.csv\",chunksize=CHUNK_SIZE, dtype=np.float32)\n",
    "reader_num = pd.read_csv(\"../output/df_id_response.csv\",chunksize=CHUNK_SIZE, dtype=np.float32)\n",
    "\n",
    "#分割して読み込み\n",
    "loop = 0\n",
    "cnt_0 = 0\n",
    "cnt_1 = 0\n",
    "for df_chunk_date in reader_date:\n",
    "    df_chunk_num = reader_num.get_chunk(CHUNK_SIZE)\n",
    "    \n",
    "    df_chunk = pd.merge(on=\"Id\", left=df_chunk_date, right=df_chunk_num)\n",
    "    cnt_0 = cnt_0 + len(df_chunk[df_chunk['Response'] == 0].index)\n",
    "    cnt_1 = cnt_1 + len(df_chunk[df_chunk['Response'] == 1].index)\n",
    "\n",
    "    if loop == 0:\n",
    "        df = df_chunk\n",
    "    else:\n",
    "        df = pd.concat([df, df_chunk])\n",
    "    \n",
    "    print(\"loop : {} / Rows = {}\".format(loop, len(df.index)))\n",
    "\n",
    "    loop = loop + 1\n",
    "\n",
    "print(\"0:{}, 1:{}\".format(cnt_0, cnt_1))\n",
    "print(\"{} -> {}\".format(start, datetime.now()))\n",
    "print(\"Memory:{}\".format(df.memory_usage(index=True).sum()))"
   ]
  },
  {
   "cell_type": "markdown",
   "metadata": {},
   "source": [
    "# station 切り出し"
   ]
  },
  {
   "cell_type": "code",
   "execution_count": 7,
   "metadata": {},
   "outputs": [
    {
     "data": {
      "text/plain": [
       "['L0_S0_D1',\n",
       " 'L0_S1_D26',\n",
       " 'L0_S2_D34',\n",
       " 'L0_S3_D70',\n",
       " 'L0_S4_D106',\n",
       " 'L0_S5_D115',\n",
       " 'L0_S6_D120',\n",
       " 'L0_S7_D137',\n",
       " 'L0_S8_D145',\n",
       " 'L0_S9_D152',\n",
       " 'L0_S10_D216',\n",
       " 'L0_S11_D280',\n",
       " 'L0_S12_D331',\n",
       " 'L0_S13_D355',\n",
       " 'L0_S14_D360',\n",
       " 'L0_S15_D395',\n",
       " 'L0_S16_D423',\n",
       " 'L0_S17_D432',\n",
       " 'L0_S18_D437',\n",
       " 'L0_S19_D454',\n",
       " 'L0_S20_D462',\n",
       " 'L0_S21_D469',\n",
       " 'L0_S22_D543',\n",
       " 'L0_S23_D617',\n",
       " 'L1_S24_D677',\n",
       " 'L1_S25_D1854',\n",
       " 'L2_S26_D3037',\n",
       " 'L2_S27_D3130',\n",
       " 'L2_S28_D3223',\n",
       " 'L3_S29_D3316',\n",
       " 'L3_S30_D3496',\n",
       " 'L3_S31_D3836',\n",
       " 'L3_S32_D3852',\n",
       " 'L3_S33_D3856',\n",
       " 'L3_S34_D3875',\n",
       " 'L3_S35_D3886',\n",
       " 'L3_S36_D3919',\n",
       " 'L3_S37_D3942',\n",
       " 'L3_S38_D3953',\n",
       " 'L3_S39_D3966',\n",
       " 'L3_S40_D3981',\n",
       " 'L3_S41_D3997',\n",
       " 'L3_S42_D4029',\n",
       " 'L3_S43_D4062',\n",
       " 'L3_S44_D4101',\n",
       " 'L3_S45_D4125',\n",
       " 'L3_S46_D4135',\n",
       " 'L3_S47_D4140',\n",
       " 'L3_S48_D4194',\n",
       " 'L3_S49_D4208',\n",
       " 'L3_S50_D4242',\n",
       " 'L3_S51_D4255']"
      ]
     },
     "execution_count": 7,
     "metadata": {},
     "output_type": "execute_result"
    }
   ],
   "source": [
    "STATION_NUM = 52\n",
    "\n",
    "date_cols = df.columns\n",
    "\n",
    "date_feature_list = []\n",
    "\n",
    "for cur_station_id in range(STATION_NUM):\n",
    "    date_feature_list_one = []\n",
    "    for column_name in date_cols:\n",
    "        if column_name != 'Id':\n",
    "            r = parse(\"L{}_S{}_D{}\", column_name)\n",
    "            if r is not None:\n",
    "                col_line_id    = int(r[0])\n",
    "                col_station_id = int(r[1])\n",
    "                \n",
    "                if cur_station_id == col_station_id:\n",
    "                    date_feature_list_one.append(column_name)\n",
    "\n",
    "    date_feature_list.append(date_feature_list_one)\n",
    "\n",
    "stations_top = []\n",
    "for st in date_feature_list:\n",
    "    stations_top.append(st[0])\n",
    "\n",
    "stations_top"
   ]
  },
  {
   "cell_type": "markdown",
   "metadata": {},
   "source": [
    "# データのあるなし・Max,min を特徴量に追加"
   ]
  },
  {
   "cell_type": "code",
   "execution_count": 19,
   "metadata": {},
   "outputs": [
    {
     "data": {
      "text/html": [
       "<div>\n",
       "<style scoped>\n",
       "    .dataframe tbody tr th:only-of-type {\n",
       "        vertical-align: middle;\n",
       "    }\n",
       "\n",
       "    .dataframe tbody tr th {\n",
       "        vertical-align: top;\n",
       "    }\n",
       "\n",
       "    .dataframe thead th {\n",
       "        text-align: right;\n",
       "    }\n",
       "</style>\n",
       "<table border=\"1\" class=\"dataframe\">\n",
       "  <thead>\n",
       "    <tr style=\"text-align: right;\">\n",
       "      <th></th>\n",
       "      <th>L0_S0_D1</th>\n",
       "      <th>L0_S1_D26</th>\n",
       "      <th>L0_S2_D34</th>\n",
       "      <th>L0_S3_D70</th>\n",
       "      <th>L0_S4_D106</th>\n",
       "      <th>L0_S5_D115</th>\n",
       "      <th>L0_S6_D120</th>\n",
       "      <th>L0_S7_D137</th>\n",
       "      <th>L0_S8_D145</th>\n",
       "      <th>L0_S9_D152</th>\n",
       "      <th>L0_S10_D216</th>\n",
       "      <th>L0_S11_D280</th>\n",
       "      <th>L0_S12_D331</th>\n",
       "      <th>L0_S13_D355</th>\n",
       "      <th>L0_S14_D360</th>\n",
       "      <th>L0_S15_D395</th>\n",
       "      <th>L0_S16_D423</th>\n",
       "      <th>L0_S17_D432</th>\n",
       "      <th>L0_S18_D437</th>\n",
       "      <th>L0_S19_D454</th>\n",
       "      <th>L0_S20_D462</th>\n",
       "      <th>L0_S21_D469</th>\n",
       "      <th>L0_S22_D543</th>\n",
       "      <th>L0_S23_D617</th>\n",
       "      <th>L1_S24_D677</th>\n",
       "      <th>L1_S25_D1854</th>\n",
       "      <th>L2_S26_D3037</th>\n",
       "      <th>L2_S27_D3130</th>\n",
       "      <th>L2_S28_D3223</th>\n",
       "      <th>L3_S29_D3316</th>\n",
       "      <th>L3_S30_D3496</th>\n",
       "      <th>L3_S31_D3836</th>\n",
       "      <th>L3_S32_D3852</th>\n",
       "      <th>L3_S33_D3856</th>\n",
       "      <th>L3_S34_D3875</th>\n",
       "      <th>L3_S35_D3886</th>\n",
       "      <th>L3_S36_D3919</th>\n",
       "      <th>L3_S37_D3942</th>\n",
       "      <th>L3_S38_D3953</th>\n",
       "      <th>L3_S39_D3966</th>\n",
       "      <th>L3_S40_D3981</th>\n",
       "      <th>L3_S41_D3997</th>\n",
       "      <th>L3_S42_D4029</th>\n",
       "      <th>L3_S43_D4062</th>\n",
       "      <th>L3_S44_D4101</th>\n",
       "      <th>L3_S45_D4125</th>\n",
       "      <th>L3_S46_D4135</th>\n",
       "      <th>L3_S47_D4140</th>\n",
       "      <th>L3_S48_D4194</th>\n",
       "      <th>L3_S49_D4208</th>\n",
       "      <th>L3_S50_D4242</th>\n",
       "      <th>L3_S51_D4255</th>\n",
       "    </tr>\n",
       "  </thead>\n",
       "  <tbody>\n",
       "    <tr>\n",
       "      <th>0</th>\n",
       "      <td>False</td>\n",
       "      <td>False</td>\n",
       "      <td>False</td>\n",
       "      <td>True</td>\n",
       "      <td>False</td>\n",
       "      <td>True</td>\n",
       "      <td>True</td>\n",
       "      <td>False</td>\n",
       "      <td>False</td>\n",
       "      <td>True</td>\n",
       "      <td>True</td>\n",
       "      <td>False</td>\n",
       "      <td>True</td>\n",
       "      <td>True</td>\n",
       "      <td>True</td>\n",
       "      <td>True</td>\n",
       "      <td>True</td>\n",
       "      <td>True</td>\n",
       "      <td>True</td>\n",
       "      <td>True</td>\n",
       "      <td>True</td>\n",
       "      <td>True</td>\n",
       "      <td>True</td>\n",
       "      <td>True</td>\n",
       "      <td>True</td>\n",
       "      <td>True</td>\n",
       "      <td>True</td>\n",
       "      <td>True</td>\n",
       "      <td>True</td>\n",
       "      <td>False</td>\n",
       "      <td>False</td>\n",
       "      <td>False</td>\n",
       "      <td>True</td>\n",
       "      <td>False</td>\n",
       "      <td>False</td>\n",
       "      <td>False</td>\n",
       "      <td>True</td>\n",
       "      <td>False</td>\n",
       "      <td>True</td>\n",
       "      <td>True</td>\n",
       "      <td>True</td>\n",
       "      <td>True</td>\n",
       "      <td>True</td>\n",
       "      <td>True</td>\n",
       "      <td>True</td>\n",
       "      <td>True</td>\n",
       "      <td>True</td>\n",
       "      <td>True</td>\n",
       "      <td>True</td>\n",
       "      <td>True</td>\n",
       "      <td>True</td>\n",
       "      <td>True</td>\n",
       "    </tr>\n",
       "    <tr>\n",
       "      <th>1</th>\n",
       "      <td>True</td>\n",
       "      <td>True</td>\n",
       "      <td>True</td>\n",
       "      <td>True</td>\n",
       "      <td>True</td>\n",
       "      <td>True</td>\n",
       "      <td>True</td>\n",
       "      <td>True</td>\n",
       "      <td>True</td>\n",
       "      <td>True</td>\n",
       "      <td>True</td>\n",
       "      <td>True</td>\n",
       "      <td>False</td>\n",
       "      <td>False</td>\n",
       "      <td>False</td>\n",
       "      <td>True</td>\n",
       "      <td>False</td>\n",
       "      <td>True</td>\n",
       "      <td>False</td>\n",
       "      <td>True</td>\n",
       "      <td>False</td>\n",
       "      <td>False</td>\n",
       "      <td>True</td>\n",
       "      <td>True</td>\n",
       "      <td>True</td>\n",
       "      <td>True</td>\n",
       "      <td>True</td>\n",
       "      <td>True</td>\n",
       "      <td>True</td>\n",
       "      <td>False</td>\n",
       "      <td>False</td>\n",
       "      <td>True</td>\n",
       "      <td>True</td>\n",
       "      <td>False</td>\n",
       "      <td>False</td>\n",
       "      <td>False</td>\n",
       "      <td>True</td>\n",
       "      <td>False</td>\n",
       "      <td>True</td>\n",
       "      <td>True</td>\n",
       "      <td>True</td>\n",
       "      <td>True</td>\n",
       "      <td>True</td>\n",
       "      <td>True</td>\n",
       "      <td>True</td>\n",
       "      <td>True</td>\n",
       "      <td>True</td>\n",
       "      <td>True</td>\n",
       "      <td>True</td>\n",
       "      <td>True</td>\n",
       "      <td>True</td>\n",
       "      <td>True</td>\n",
       "    </tr>\n",
       "    <tr>\n",
       "      <th>2</th>\n",
       "      <td>False</td>\n",
       "      <td>False</td>\n",
       "      <td>False</td>\n",
       "      <td>True</td>\n",
       "      <td>True</td>\n",
       "      <td>False</td>\n",
       "      <td>False</td>\n",
       "      <td>True</td>\n",
       "      <td>False</td>\n",
       "      <td>True</td>\n",
       "      <td>False</td>\n",
       "      <td>True</td>\n",
       "      <td>True</td>\n",
       "      <td>True</td>\n",
       "      <td>True</td>\n",
       "      <td>True</td>\n",
       "      <td>True</td>\n",
       "      <td>True</td>\n",
       "      <td>True</td>\n",
       "      <td>True</td>\n",
       "      <td>True</td>\n",
       "      <td>True</td>\n",
       "      <td>True</td>\n",
       "      <td>True</td>\n",
       "      <td>True</td>\n",
       "      <td>True</td>\n",
       "      <td>True</td>\n",
       "      <td>True</td>\n",
       "      <td>True</td>\n",
       "      <td>False</td>\n",
       "      <td>False</td>\n",
       "      <td>True</td>\n",
       "      <td>True</td>\n",
       "      <td>False</td>\n",
       "      <td>False</td>\n",
       "      <td>False</td>\n",
       "      <td>True</td>\n",
       "      <td>False</td>\n",
       "      <td>True</td>\n",
       "      <td>True</td>\n",
       "      <td>True</td>\n",
       "      <td>True</td>\n",
       "      <td>True</td>\n",
       "      <td>True</td>\n",
       "      <td>True</td>\n",
       "      <td>True</td>\n",
       "      <td>True</td>\n",
       "      <td>True</td>\n",
       "      <td>True</td>\n",
       "      <td>True</td>\n",
       "      <td>True</td>\n",
       "      <td>True</td>\n",
       "    </tr>\n",
       "    <tr>\n",
       "      <th>3</th>\n",
       "      <td>False</td>\n",
       "      <td>False</td>\n",
       "      <td>False</td>\n",
       "      <td>True</td>\n",
       "      <td>False</td>\n",
       "      <td>True</td>\n",
       "      <td>True</td>\n",
       "      <td>False</td>\n",
       "      <td>False</td>\n",
       "      <td>True</td>\n",
       "      <td>False</td>\n",
       "      <td>True</td>\n",
       "      <td>True</td>\n",
       "      <td>True</td>\n",
       "      <td>True</td>\n",
       "      <td>True</td>\n",
       "      <td>True</td>\n",
       "      <td>True</td>\n",
       "      <td>True</td>\n",
       "      <td>True</td>\n",
       "      <td>True</td>\n",
       "      <td>True</td>\n",
       "      <td>True</td>\n",
       "      <td>True</td>\n",
       "      <td>True</td>\n",
       "      <td>True</td>\n",
       "      <td>True</td>\n",
       "      <td>True</td>\n",
       "      <td>True</td>\n",
       "      <td>False</td>\n",
       "      <td>False</td>\n",
       "      <td>True</td>\n",
       "      <td>True</td>\n",
       "      <td>False</td>\n",
       "      <td>False</td>\n",
       "      <td>True</td>\n",
       "      <td>False</td>\n",
       "      <td>False</td>\n",
       "      <td>True</td>\n",
       "      <td>True</td>\n",
       "      <td>True</td>\n",
       "      <td>True</td>\n",
       "      <td>True</td>\n",
       "      <td>True</td>\n",
       "      <td>True</td>\n",
       "      <td>True</td>\n",
       "      <td>True</td>\n",
       "      <td>True</td>\n",
       "      <td>True</td>\n",
       "      <td>True</td>\n",
       "      <td>True</td>\n",
       "      <td>True</td>\n",
       "    </tr>\n",
       "    <tr>\n",
       "      <th>4</th>\n",
       "      <td>False</td>\n",
       "      <td>False</td>\n",
       "      <td>True</td>\n",
       "      <td>False</td>\n",
       "      <td>False</td>\n",
       "      <td>True</td>\n",
       "      <td>True</td>\n",
       "      <td>False</td>\n",
       "      <td>False</td>\n",
       "      <td>True</td>\n",
       "      <td>True</td>\n",
       "      <td>False</td>\n",
       "      <td>True</td>\n",
       "      <td>True</td>\n",
       "      <td>True</td>\n",
       "      <td>True</td>\n",
       "      <td>True</td>\n",
       "      <td>True</td>\n",
       "      <td>True</td>\n",
       "      <td>True</td>\n",
       "      <td>True</td>\n",
       "      <td>True</td>\n",
       "      <td>True</td>\n",
       "      <td>True</td>\n",
       "      <td>True</td>\n",
       "      <td>True</td>\n",
       "      <td>True</td>\n",
       "      <td>True</td>\n",
       "      <td>True</td>\n",
       "      <td>False</td>\n",
       "      <td>False</td>\n",
       "      <td>True</td>\n",
       "      <td>True</td>\n",
       "      <td>False</td>\n",
       "      <td>False</td>\n",
       "      <td>True</td>\n",
       "      <td>False</td>\n",
       "      <td>False</td>\n",
       "      <td>True</td>\n",
       "      <td>True</td>\n",
       "      <td>True</td>\n",
       "      <td>True</td>\n",
       "      <td>True</td>\n",
       "      <td>True</td>\n",
       "      <td>True</td>\n",
       "      <td>True</td>\n",
       "      <td>True</td>\n",
       "      <td>True</td>\n",
       "      <td>True</td>\n",
       "      <td>True</td>\n",
       "      <td>True</td>\n",
       "      <td>True</td>\n",
       "    </tr>\n",
       "  </tbody>\n",
       "</table>\n",
       "</div>"
      ],
      "text/plain": [
       "   L0_S0_D1  L0_S1_D26  L0_S2_D34  L0_S3_D70  L0_S4_D106  L0_S5_D115  \\\n",
       "0     False      False      False       True       False        True   \n",
       "1      True       True       True       True        True        True   \n",
       "2     False      False      False       True        True       False   \n",
       "3     False      False      False       True       False        True   \n",
       "4     False      False       True      False       False        True   \n",
       "\n",
       "   L0_S6_D120  L0_S7_D137  L0_S8_D145  L0_S9_D152  L0_S10_D216  L0_S11_D280  \\\n",
       "0        True       False       False        True         True        False   \n",
       "1        True        True        True        True         True         True   \n",
       "2       False        True       False        True        False         True   \n",
       "3        True       False       False        True        False         True   \n",
       "4        True       False       False        True         True        False   \n",
       "\n",
       "   L0_S12_D331  L0_S13_D355  L0_S14_D360  L0_S15_D395  L0_S16_D423  \\\n",
       "0         True         True         True         True         True   \n",
       "1        False        False        False         True        False   \n",
       "2         True         True         True         True         True   \n",
       "3         True         True         True         True         True   \n",
       "4         True         True         True         True         True   \n",
       "\n",
       "   L0_S17_D432  L0_S18_D437  L0_S19_D454  L0_S20_D462  L0_S21_D469  \\\n",
       "0         True         True         True         True         True   \n",
       "1         True        False         True        False        False   \n",
       "2         True         True         True         True         True   \n",
       "3         True         True         True         True         True   \n",
       "4         True         True         True         True         True   \n",
       "\n",
       "   L0_S22_D543  L0_S23_D617  L1_S24_D677  L1_S25_D1854  L2_S26_D3037  \\\n",
       "0         True         True         True          True          True   \n",
       "1         True         True         True          True          True   \n",
       "2         True         True         True          True          True   \n",
       "3         True         True         True          True          True   \n",
       "4         True         True         True          True          True   \n",
       "\n",
       "   L2_S27_D3130  L2_S28_D3223  L3_S29_D3316  L3_S30_D3496  L3_S31_D3836  \\\n",
       "0          True          True         False         False         False   \n",
       "1          True          True         False         False          True   \n",
       "2          True          True         False         False          True   \n",
       "3          True          True         False         False          True   \n",
       "4          True          True         False         False          True   \n",
       "\n",
       "   L3_S32_D3852  L3_S33_D3856  L3_S34_D3875  L3_S35_D3886  L3_S36_D3919  \\\n",
       "0          True         False         False         False          True   \n",
       "1          True         False         False         False          True   \n",
       "2          True         False         False         False          True   \n",
       "3          True         False         False          True         False   \n",
       "4          True         False         False          True         False   \n",
       "\n",
       "   L3_S37_D3942  L3_S38_D3953  L3_S39_D3966  L3_S40_D3981  L3_S41_D3997  \\\n",
       "0         False          True          True          True          True   \n",
       "1         False          True          True          True          True   \n",
       "2         False          True          True          True          True   \n",
       "3         False          True          True          True          True   \n",
       "4         False          True          True          True          True   \n",
       "\n",
       "   L3_S42_D4029  L3_S43_D4062  L3_S44_D4101  L3_S45_D4125  L3_S46_D4135  \\\n",
       "0          True          True          True          True          True   \n",
       "1          True          True          True          True          True   \n",
       "2          True          True          True          True          True   \n",
       "3          True          True          True          True          True   \n",
       "4          True          True          True          True          True   \n",
       "\n",
       "   L3_S47_D4140  L3_S48_D4194  L3_S49_D4208  L3_S50_D4242  L3_S51_D4255  \n",
       "0          True          True          True          True          True  \n",
       "1          True          True          True          True          True  \n",
       "2          True          True          True          True          True  \n",
       "3          True          True          True          True          True  \n",
       "4          True          True          True          True          True  "
      ]
     },
     "execution_count": 19,
     "metadata": {},
     "output_type": "execute_result"
    }
   ],
   "source": [
    "df_date_stations = df.loc[:, stations_top]\n",
    "df_date_max = np.max(df_date_stations, axis=1)\n",
    "df_date_min = np.min(df_date_stations, axis=1)\n",
    "df_date_isna = df_date_stations.isna()\n",
    "\n",
    "#df_date_isna['max'] = df_date_max\n",
    "#df_date_isna['min'] = df_date_min\n",
    "\n",
    "df_date_isna.head()"
   ]
  },
  {
   "cell_type": "markdown",
   "metadata": {},
   "source": [
    "# テストデータ作成"
   ]
  },
  {
   "cell_type": "code",
   "execution_count": 20,
   "metadata": {},
   "outputs": [
    {
     "name": "stdout",
     "output_type": "stream",
     "text": [
      "      L0_S0_D1  L0_S1_D26  L0_S2_D34  L0_S3_D70  L0_S4_D106  L0_S5_D115  \\\n",
      "7472      True       True       True       True        True        True   \n",
      "7884      True       True       True       True        True        True   \n",
      "9721     False      False       True      False       False        True   \n",
      "55       False      False      False       True       False        True   \n",
      "7330      True       True       True       True        True        True   \n",
      "\n",
      "      L0_S6_D120  L0_S7_D137  L0_S8_D145  L0_S9_D152  L0_S10_D216  \\\n",
      "7472        True        True        True        True         True   \n",
      "7884        True        True        True        True         True   \n",
      "9721       False        True       False        True        False   \n",
      "55         False        True       False        True         True   \n",
      "7330        True        True        True        True         True   \n",
      "\n",
      "      L0_S11_D280  L0_S12_D331  L0_S13_D355  L0_S14_D360  L0_S15_D395  \\\n",
      "7472         True         True         True         True         True   \n",
      "7884         True         True         True         True         True   \n",
      "9721         True         True         True         True         True   \n",
      "55          False         True         True         True         True   \n",
      "7330         True        False        False         True        False   \n",
      "\n",
      "      L0_S16_D423  L0_S17_D432  L0_S18_D437  L0_S19_D454  L0_S20_D462  \\\n",
      "7472         True         True         True         True         True   \n",
      "7884         True         True         True         True         True   \n",
      "9721         True         True         True         True         True   \n",
      "55           True         True         True         True         True   \n",
      "7330         True        False         True        False        False   \n",
      "\n",
      "      L0_S21_D469  L0_S22_D543  L0_S23_D617  L1_S24_D677  L1_S25_D1854  \\\n",
      "7472         True         True         True         True          True   \n",
      "7884         True         True         True         True          True   \n",
      "9721         True         True         True         True          True   \n",
      "55           True         True         True         True          True   \n",
      "7330        False         True         True         True          True   \n",
      "\n",
      "      L2_S26_D3037  L2_S27_D3130  L2_S28_D3223  L3_S29_D3316  L3_S30_D3496  \\\n",
      "7472          True         False          True         False         False   \n",
      "7884          True         False          True         False         False   \n",
      "9721          True          True          True         False         False   \n",
      "55            True          True          True         False         False   \n",
      "7330          True          True          True         False         False   \n",
      "\n",
      "      L3_S31_D3836  L3_S32_D3852  L3_S33_D3856  L3_S34_D3875  L3_S35_D3886  \\\n",
      "7472          True          True         False         False          True   \n",
      "7884          True          True         False         False         False   \n",
      "9721          True          True         False         False          True   \n",
      "55            True          True         False         False          True   \n",
      "7330          True          True         False         False          True   \n",
      "\n",
      "      L3_S36_D3919  L3_S37_D3942  L3_S38_D3953  L3_S39_D3966  L3_S40_D3981  \\\n",
      "7472         False         False          True          True          True   \n",
      "7884          True         False          True          True          True   \n",
      "9721         False         False          True          True          True   \n",
      "55           False         False          True          True          True   \n",
      "7330         False         False          True          True          True   \n",
      "\n",
      "      L3_S41_D3997  L3_S42_D4029  L3_S43_D4062  L3_S44_D4101  L3_S45_D4125  \\\n",
      "7472          True          True          True          True          True   \n",
      "7884          True          True          True          True          True   \n",
      "9721          True          True          True          True          True   \n",
      "55            True          True          True          True          True   \n",
      "7330          True          True          True          True          True   \n",
      "\n",
      "      L3_S46_D4135  L3_S47_D4140  L3_S48_D4194  L3_S49_D4208  L3_S50_D4242  \\\n",
      "7472          True          True          True          True          True   \n",
      "7884          True          True          True          True          True   \n",
      "9721          True          True          True          True          True   \n",
      "55            True          True          True          True          True   \n",
      "7330          True          True          True          True          True   \n",
      "\n",
      "      L3_S51_D4255  \n",
      "7472          True  \n",
      "7884          True  \n",
      "9721          True  \n",
      "55            True  \n",
      "7330          True  \n",
      "7472    0.0\n",
      "7884    0.0\n",
      "9721    0.0\n",
      "55      0.0\n",
      "7330    0.0\n",
      "Name: Response, dtype: float32\n",
      "      L0_S0_D1  L0_S1_D26  L0_S2_D34  L0_S3_D70  L0_S4_D106  L0_S5_D115  \\\n",
      "9214     False      False       True      False       False        True   \n",
      "4500     False      False       True      False        True       False   \n",
      "448      False      False       True      False        True       False   \n",
      "441       True       True       True       True        True        True   \n",
      "2956     False      False      False       True       False        True   \n",
      "\n",
      "      L0_S6_D120  L0_S7_D137  L0_S8_D145  L0_S9_D152  L0_S10_D216  \\\n",
      "9214        True       False       False       False         True   \n",
      "4500        True       False       False        True        False   \n",
      "448         True       False       False        True         True   \n",
      "441         True        True        True        True         True   \n",
      "2956       False        True       False        True        False   \n",
      "\n",
      "      L0_S11_D280  L0_S12_D331  L0_S13_D355  L0_S14_D360  L0_S15_D395  \\\n",
      "9214         True         True         True         True         True   \n",
      "4500         True         True         True         True         True   \n",
      "448         False         True         True         True         True   \n",
      "441          True        False        False        False         True   \n",
      "2956         True         True         True         True         True   \n",
      "\n",
      "      L0_S16_D423  L0_S17_D432  L0_S18_D437  L0_S19_D454  L0_S20_D462  \\\n",
      "9214         True         True         True         True         True   \n",
      "4500         True         True         True         True         True   \n",
      "448          True         True         True         True         True   \n",
      "441          True        False        False         True        False   \n",
      "2956         True         True         True         True         True   \n",
      "\n",
      "      L0_S21_D469  L0_S22_D543  L0_S23_D617  L1_S24_D677  L1_S25_D1854  \\\n",
      "9214         True         True         True         True          True   \n",
      "4500         True         True         True         True          True   \n",
      "448          True         True         True         True          True   \n",
      "441          True         True        False         True          True   \n",
      "2956         True         True         True         True          True   \n",
      "\n",
      "      L2_S26_D3037  L2_S27_D3130  L2_S28_D3223  L3_S29_D3316  L3_S30_D3496  \\\n",
      "9214          True         False          True         False         False   \n",
      "4500          True          True          True         False         False   \n",
      "448           True          True          True         False         False   \n",
      "441           True          True          True         False         False   \n",
      "2956          True         False          True         False         False   \n",
      "\n",
      "      L3_S31_D3836  L3_S32_D3852  L3_S33_D3856  L3_S34_D3875  L3_S35_D3886  \\\n",
      "9214          True          True         False         False          True   \n",
      "4500          True          True         False         False         False   \n",
      "448           True          True         False         False         False   \n",
      "441           True          True         False         False          True   \n",
      "2956          True          True         False         False          True   \n",
      "\n",
      "      L3_S36_D3919  L3_S37_D3942  L3_S38_D3953  L3_S39_D3966  L3_S40_D3981  \\\n",
      "9214         False         False          True          True          True   \n",
      "4500          True         False          True          True          True   \n",
      "448           True         False          True          True          True   \n",
      "441          False         False          True          True          True   \n",
      "2956         False         False          True          True          True   \n",
      "\n",
      "      L3_S41_D3997  L3_S42_D4029  L3_S43_D4062  L3_S44_D4101  L3_S45_D4125  \\\n",
      "9214          True          True          True          True          True   \n",
      "4500          True          True          True          True          True   \n",
      "448           True          True          True          True          True   \n",
      "441           True          True          True          True          True   \n",
      "2956          True          True          True          True          True   \n",
      "\n",
      "      L3_S46_D4135  L3_S47_D4140  L3_S48_D4194  L3_S49_D4208  L3_S50_D4242  \\\n",
      "9214          True          True          True          True          True   \n",
      "4500          True          True          True          True          True   \n",
      "448           True          True          True          True          True   \n",
      "441           True          True          True          True          True   \n",
      "2956          True          True          True          True          True   \n",
      "\n",
      "      L3_S51_D4255  \n",
      "9214          True  \n",
      "4500          True  \n",
      "448           True  \n",
      "441           True  \n",
      "2956          True  \n",
      "9214    0.0\n",
      "4500    0.0\n",
      "448     0.0\n",
      "441     0.0\n",
      "2956    0.0\n",
      "Name: Response, dtype: float32\n",
      "2018-07-16 23:48:03.899725 -> 2018-07-16 23:48:04.165216\n"
     ]
    }
   ],
   "source": [
    "from sklearn.model_selection import train_test_split\n",
    "\n",
    "start = datetime.now()\n",
    "\n",
    "## 教師データと訓練データに分離\n",
    "y = df['Response']\n",
    "X = df_date_isna\n",
    "\n",
    "## テストセットと訓練セットに分離\n",
    "X_train, X_test, y_train, y_test = train_test_split(X, y, test_size=0.33, random_state=1)\n",
    "print(X_train.head())\n",
    "print(y_train.head())\n",
    "\n",
    "print(X_test.head())\n",
    "print(y_test.head())\n",
    "\n",
    "print(\"{} -> {}\".format(start, datetime.now()))"
   ]
  },
  {
   "cell_type": "markdown",
   "metadata": {},
   "source": [
    " # 学習"
   ]
  },
  {
   "cell_type": "code",
   "execution_count": 21,
   "metadata": {},
   "outputs": [
    {
     "name": "stdout",
     "output_type": "stream",
     "text": [
      "Fitting 3 folds for each of 16 candidates, totalling 48 fits\n",
      "[CV] max_depth=3, num_leaves=8 .......................................\n"
     ]
    },
    {
     "name": "stderr",
     "output_type": "stream",
     "text": [
      "C:\\Users\\Takumi\\Anaconda3\\envs\\Kaggle\\lib\\site-packages\\sklearn\\preprocessing\\label.py:151: DeprecationWarning: The truth value of an empty array is ambiguous. Returning False, but in future this will result in an error. Use `array.size > 0` to check that an array is not empty.\n",
      "  if diff:\n",
      "C:\\Users\\Takumi\\Anaconda3\\envs\\Kaggle\\lib\\site-packages\\sklearn\\metrics\\classification.py:538: RuntimeWarning: invalid value encountered in double_scalars\n",
      "  mcc = cov_ytyp / np.sqrt(cov_ytyt * cov_ypyp)\n",
      "C:\\Users\\Takumi\\Anaconda3\\envs\\Kaggle\\lib\\site-packages\\sklearn\\preprocessing\\label.py:151: DeprecationWarning: The truth value of an empty array is ambiguous. Returning False, but in future this will result in an error. Use `array.size > 0` to check that an array is not empty.\n",
      "  if diff:\n"
     ]
    },
    {
     "name": "stdout",
     "output_type": "stream",
     "text": [
      "[CV] ........................ max_depth=3, num_leaves=8, total=   2.8s\n",
      "[CV] max_depth=3, num_leaves=8 .......................................\n"
     ]
    },
    {
     "name": "stderr",
     "output_type": "stream",
     "text": [
      "[Parallel(n_jobs=1)]: Done   1 out of   1 | elapsed:    3.8s remaining:    0.0s\n",
      "C:\\Users\\Takumi\\Anaconda3\\envs\\Kaggle\\lib\\site-packages\\sklearn\\preprocessing\\label.py:151: DeprecationWarning: The truth value of an empty array is ambiguous. Returning False, but in future this will result in an error. Use `array.size > 0` to check that an array is not empty.\n",
      "  if diff:\n",
      "C:\\Users\\Takumi\\Anaconda3\\envs\\Kaggle\\lib\\site-packages\\sklearn\\preprocessing\\label.py:151: DeprecationWarning: The truth value of an empty array is ambiguous. Returning False, but in future this will result in an error. Use `array.size > 0` to check that an array is not empty.\n",
      "  if diff:\n",
      "C:\\Users\\Takumi\\Anaconda3\\envs\\Kaggle\\lib\\site-packages\\sklearn\\metrics\\classification.py:538: RuntimeWarning: invalid value encountered in double_scalars\n",
      "  mcc = cov_ytyp / np.sqrt(cov_ytyt * cov_ypyp)\n"
     ]
    },
    {
     "name": "stdout",
     "output_type": "stream",
     "text": [
      "[CV] ........................ max_depth=3, num_leaves=8, total=   2.7s\n",
      "[CV] max_depth=3, num_leaves=8 .......................................\n"
     ]
    },
    {
     "name": "stderr",
     "output_type": "stream",
     "text": [
      "C:\\Users\\Takumi\\Anaconda3\\envs\\Kaggle\\lib\\site-packages\\sklearn\\preprocessing\\label.py:151: DeprecationWarning: The truth value of an empty array is ambiguous. Returning False, but in future this will result in an error. Use `array.size > 0` to check that an array is not empty.\n",
      "  if diff:\n",
      "C:\\Users\\Takumi\\Anaconda3\\envs\\Kaggle\\lib\\site-packages\\sklearn\\preprocessing\\label.py:151: DeprecationWarning: The truth value of an empty array is ambiguous. Returning False, but in future this will result in an error. Use `array.size > 0` to check that an array is not empty.\n",
      "  if diff:\n"
     ]
    },
    {
     "name": "stdout",
     "output_type": "stream",
     "text": [
      "[CV] ........................ max_depth=3, num_leaves=8, total=   2.7s\n",
      "[CV] max_depth=3, num_leaves=16 ......................................\n"
     ]
    },
    {
     "name": "stderr",
     "output_type": "stream",
     "text": [
      "C:\\Users\\Takumi\\Anaconda3\\envs\\Kaggle\\lib\\site-packages\\sklearn\\preprocessing\\label.py:151: DeprecationWarning: The truth value of an empty array is ambiguous. Returning False, but in future this will result in an error. Use `array.size > 0` to check that an array is not empty.\n",
      "  if diff:\n",
      "C:\\Users\\Takumi\\Anaconda3\\envs\\Kaggle\\lib\\site-packages\\sklearn\\metrics\\classification.py:538: RuntimeWarning: invalid value encountered in double_scalars\n",
      "  mcc = cov_ytyp / np.sqrt(cov_ytyt * cov_ypyp)\n",
      "C:\\Users\\Takumi\\Anaconda3\\envs\\Kaggle\\lib\\site-packages\\sklearn\\preprocessing\\label.py:151: DeprecationWarning: The truth value of an empty array is ambiguous. Returning False, but in future this will result in an error. Use `array.size > 0` to check that an array is not empty.\n",
      "  if diff:\n"
     ]
    },
    {
     "name": "stdout",
     "output_type": "stream",
     "text": [
      "[CV] ....................... max_depth=3, num_leaves=16, total=   2.9s\n",
      "[CV] max_depth=3, num_leaves=16 ......................................\n"
     ]
    },
    {
     "name": "stderr",
     "output_type": "stream",
     "text": [
      "C:\\Users\\Takumi\\Anaconda3\\envs\\Kaggle\\lib\\site-packages\\sklearn\\preprocessing\\label.py:151: DeprecationWarning: The truth value of an empty array is ambiguous. Returning False, but in future this will result in an error. Use `array.size > 0` to check that an array is not empty.\n",
      "  if diff:\n",
      "C:\\Users\\Takumi\\Anaconda3\\envs\\Kaggle\\lib\\site-packages\\sklearn\\preprocessing\\label.py:151: DeprecationWarning: The truth value of an empty array is ambiguous. Returning False, but in future this will result in an error. Use `array.size > 0` to check that an array is not empty.\n",
      "  if diff:\n",
      "C:\\Users\\Takumi\\Anaconda3\\envs\\Kaggle\\lib\\site-packages\\sklearn\\metrics\\classification.py:538: RuntimeWarning: invalid value encountered in double_scalars\n",
      "  mcc = cov_ytyp / np.sqrt(cov_ytyt * cov_ypyp)\n"
     ]
    },
    {
     "name": "stdout",
     "output_type": "stream",
     "text": [
      "[CV] ....................... max_depth=3, num_leaves=16, total=   2.7s\n",
      "[CV] max_depth=3, num_leaves=16 ......................................\n"
     ]
    },
    {
     "name": "stderr",
     "output_type": "stream",
     "text": [
      "C:\\Users\\Takumi\\Anaconda3\\envs\\Kaggle\\lib\\site-packages\\sklearn\\preprocessing\\label.py:151: DeprecationWarning: The truth value of an empty array is ambiguous. Returning False, but in future this will result in an error. Use `array.size > 0` to check that an array is not empty.\n",
      "  if diff:\n",
      "C:\\Users\\Takumi\\Anaconda3\\envs\\Kaggle\\lib\\site-packages\\sklearn\\preprocessing\\label.py:151: DeprecationWarning: The truth value of an empty array is ambiguous. Returning False, but in future this will result in an error. Use `array.size > 0` to check that an array is not empty.\n",
      "  if diff:\n"
     ]
    },
    {
     "name": "stdout",
     "output_type": "stream",
     "text": [
      "[CV] ....................... max_depth=3, num_leaves=16, total=   2.8s\n",
      "[CV] max_depth=3, num_leaves=32 ......................................\n"
     ]
    },
    {
     "name": "stderr",
     "output_type": "stream",
     "text": [
      "C:\\Users\\Takumi\\Anaconda3\\envs\\Kaggle\\lib\\site-packages\\sklearn\\preprocessing\\label.py:151: DeprecationWarning: The truth value of an empty array is ambiguous. Returning False, but in future this will result in an error. Use `array.size > 0` to check that an array is not empty.\n",
      "  if diff:\n",
      "C:\\Users\\Takumi\\Anaconda3\\envs\\Kaggle\\lib\\site-packages\\sklearn\\metrics\\classification.py:538: RuntimeWarning: invalid value encountered in double_scalars\n",
      "  mcc = cov_ytyp / np.sqrt(cov_ytyt * cov_ypyp)\n",
      "C:\\Users\\Takumi\\Anaconda3\\envs\\Kaggle\\lib\\site-packages\\sklearn\\preprocessing\\label.py:151: DeprecationWarning: The truth value of an empty array is ambiguous. Returning False, but in future this will result in an error. Use `array.size > 0` to check that an array is not empty.\n",
      "  if diff:\n"
     ]
    },
    {
     "name": "stdout",
     "output_type": "stream",
     "text": [
      "[CV] ....................... max_depth=3, num_leaves=32, total=   2.9s\n",
      "[CV] max_depth=3, num_leaves=32 ......................................\n"
     ]
    },
    {
     "name": "stderr",
     "output_type": "stream",
     "text": [
      "C:\\Users\\Takumi\\Anaconda3\\envs\\Kaggle\\lib\\site-packages\\sklearn\\preprocessing\\label.py:151: DeprecationWarning: The truth value of an empty array is ambiguous. Returning False, but in future this will result in an error. Use `array.size > 0` to check that an array is not empty.\n",
      "  if diff:\n",
      "C:\\Users\\Takumi\\Anaconda3\\envs\\Kaggle\\lib\\site-packages\\sklearn\\preprocessing\\label.py:151: DeprecationWarning: The truth value of an empty array is ambiguous. Returning False, but in future this will result in an error. Use `array.size > 0` to check that an array is not empty.\n",
      "  if diff:\n",
      "C:\\Users\\Takumi\\Anaconda3\\envs\\Kaggle\\lib\\site-packages\\sklearn\\metrics\\classification.py:538: RuntimeWarning: invalid value encountered in double_scalars\n",
      "  mcc = cov_ytyp / np.sqrt(cov_ytyt * cov_ypyp)\n"
     ]
    },
    {
     "name": "stdout",
     "output_type": "stream",
     "text": [
      "[CV] ....................... max_depth=3, num_leaves=32, total=   2.7s\n",
      "[CV] max_depth=3, num_leaves=32 ......................................\n"
     ]
    },
    {
     "name": "stderr",
     "output_type": "stream",
     "text": [
      "C:\\Users\\Takumi\\Anaconda3\\envs\\Kaggle\\lib\\site-packages\\sklearn\\preprocessing\\label.py:151: DeprecationWarning: The truth value of an empty array is ambiguous. Returning False, but in future this will result in an error. Use `array.size > 0` to check that an array is not empty.\n",
      "  if diff:\n",
      "C:\\Users\\Takumi\\Anaconda3\\envs\\Kaggle\\lib\\site-packages\\sklearn\\preprocessing\\label.py:151: DeprecationWarning: The truth value of an empty array is ambiguous. Returning False, but in future this will result in an error. Use `array.size > 0` to check that an array is not empty.\n",
      "  if diff:\n"
     ]
    },
    {
     "name": "stdout",
     "output_type": "stream",
     "text": [
      "[CV] ....................... max_depth=3, num_leaves=32, total=   2.7s\n",
      "[CV] max_depth=3, num_leaves=64 ......................................\n"
     ]
    },
    {
     "name": "stderr",
     "output_type": "stream",
     "text": [
      "C:\\Users\\Takumi\\Anaconda3\\envs\\Kaggle\\lib\\site-packages\\sklearn\\preprocessing\\label.py:151: DeprecationWarning: The truth value of an empty array is ambiguous. Returning False, but in future this will result in an error. Use `array.size > 0` to check that an array is not empty.\n",
      "  if diff:\n",
      "C:\\Users\\Takumi\\Anaconda3\\envs\\Kaggle\\lib\\site-packages\\sklearn\\metrics\\classification.py:538: RuntimeWarning: invalid value encountered in double_scalars\n",
      "  mcc = cov_ytyp / np.sqrt(cov_ytyt * cov_ypyp)\n",
      "C:\\Users\\Takumi\\Anaconda3\\envs\\Kaggle\\lib\\site-packages\\sklearn\\preprocessing\\label.py:151: DeprecationWarning: The truth value of an empty array is ambiguous. Returning False, but in future this will result in an error. Use `array.size > 0` to check that an array is not empty.\n",
      "  if diff:\n"
     ]
    },
    {
     "name": "stdout",
     "output_type": "stream",
     "text": [
      "[CV] ....................... max_depth=3, num_leaves=64, total=   2.8s\n",
      "[CV] max_depth=3, num_leaves=64 ......................................\n"
     ]
    },
    {
     "name": "stderr",
     "output_type": "stream",
     "text": [
      "C:\\Users\\Takumi\\Anaconda3\\envs\\Kaggle\\lib\\site-packages\\sklearn\\preprocessing\\label.py:151: DeprecationWarning: The truth value of an empty array is ambiguous. Returning False, but in future this will result in an error. Use `array.size > 0` to check that an array is not empty.\n",
      "  if diff:\n",
      "C:\\Users\\Takumi\\Anaconda3\\envs\\Kaggle\\lib\\site-packages\\sklearn\\preprocessing\\label.py:151: DeprecationWarning: The truth value of an empty array is ambiguous. Returning False, but in future this will result in an error. Use `array.size > 0` to check that an array is not empty.\n",
      "  if diff:\n",
      "C:\\Users\\Takumi\\Anaconda3\\envs\\Kaggle\\lib\\site-packages\\sklearn\\metrics\\classification.py:538: RuntimeWarning: invalid value encountered in double_scalars\n",
      "  mcc = cov_ytyp / np.sqrt(cov_ytyt * cov_ypyp)\n"
     ]
    },
    {
     "name": "stdout",
     "output_type": "stream",
     "text": [
      "[CV] ....................... max_depth=3, num_leaves=64, total=   2.6s\n",
      "[CV] max_depth=3, num_leaves=64 ......................................\n"
     ]
    },
    {
     "name": "stderr",
     "output_type": "stream",
     "text": [
      "C:\\Users\\Takumi\\Anaconda3\\envs\\Kaggle\\lib\\site-packages\\sklearn\\preprocessing\\label.py:151: DeprecationWarning: The truth value of an empty array is ambiguous. Returning False, but in future this will result in an error. Use `array.size > 0` to check that an array is not empty.\n",
      "  if diff:\n",
      "C:\\Users\\Takumi\\Anaconda3\\envs\\Kaggle\\lib\\site-packages\\sklearn\\preprocessing\\label.py:151: DeprecationWarning: The truth value of an empty array is ambiguous. Returning False, but in future this will result in an error. Use `array.size > 0` to check that an array is not empty.\n",
      "  if diff:\n"
     ]
    },
    {
     "name": "stdout",
     "output_type": "stream",
     "text": [
      "[CV] ....................... max_depth=3, num_leaves=64, total=   2.7s\n",
      "[CV] max_depth=4, num_leaves=8 .......................................\n"
     ]
    },
    {
     "name": "stderr",
     "output_type": "stream",
     "text": [
      "C:\\Users\\Takumi\\Anaconda3\\envs\\Kaggle\\lib\\site-packages\\sklearn\\preprocessing\\label.py:151: DeprecationWarning: The truth value of an empty array is ambiguous. Returning False, but in future this will result in an error. Use `array.size > 0` to check that an array is not empty.\n",
      "  if diff:\n",
      "C:\\Users\\Takumi\\Anaconda3\\envs\\Kaggle\\lib\\site-packages\\sklearn\\preprocessing\\label.py:151: DeprecationWarning: The truth value of an empty array is ambiguous. Returning False, but in future this will result in an error. Use `array.size > 0` to check that an array is not empty.\n",
      "  if diff:\n"
     ]
    },
    {
     "name": "stdout",
     "output_type": "stream",
     "text": [
      "[CV] ........................ max_depth=4, num_leaves=8, total=   2.8s\n",
      "[CV] max_depth=4, num_leaves=8 .......................................\n"
     ]
    },
    {
     "name": "stderr",
     "output_type": "stream",
     "text": [
      "C:\\Users\\Takumi\\Anaconda3\\envs\\Kaggle\\lib\\site-packages\\sklearn\\preprocessing\\label.py:151: DeprecationWarning: The truth value of an empty array is ambiguous. Returning False, but in future this will result in an error. Use `array.size > 0` to check that an array is not empty.\n",
      "  if diff:\n",
      "C:\\Users\\Takumi\\Anaconda3\\envs\\Kaggle\\lib\\site-packages\\sklearn\\preprocessing\\label.py:151: DeprecationWarning: The truth value of an empty array is ambiguous. Returning False, but in future this will result in an error. Use `array.size > 0` to check that an array is not empty.\n",
      "  if diff:\n"
     ]
    },
    {
     "name": "stdout",
     "output_type": "stream",
     "text": [
      "[CV] ........................ max_depth=4, num_leaves=8, total=   2.6s\n",
      "[CV] max_depth=4, num_leaves=8 .......................................\n"
     ]
    },
    {
     "name": "stderr",
     "output_type": "stream",
     "text": [
      "C:\\Users\\Takumi\\Anaconda3\\envs\\Kaggle\\lib\\site-packages\\sklearn\\preprocessing\\label.py:151: DeprecationWarning: The truth value of an empty array is ambiguous. Returning False, but in future this will result in an error. Use `array.size > 0` to check that an array is not empty.\n",
      "  if diff:\n",
      "C:\\Users\\Takumi\\Anaconda3\\envs\\Kaggle\\lib\\site-packages\\sklearn\\preprocessing\\label.py:151: DeprecationWarning: The truth value of an empty array is ambiguous. Returning False, but in future this will result in an error. Use `array.size > 0` to check that an array is not empty.\n",
      "  if diff:\n"
     ]
    },
    {
     "name": "stdout",
     "output_type": "stream",
     "text": [
      "[CV] ........................ max_depth=4, num_leaves=8, total=   2.7s\n",
      "[CV] max_depth=4, num_leaves=16 ......................................\n"
     ]
    },
    {
     "name": "stderr",
     "output_type": "stream",
     "text": [
      "C:\\Users\\Takumi\\Anaconda3\\envs\\Kaggle\\lib\\site-packages\\sklearn\\preprocessing\\label.py:151: DeprecationWarning: The truth value of an empty array is ambiguous. Returning False, but in future this will result in an error. Use `array.size > 0` to check that an array is not empty.\n",
      "  if diff:\n",
      "C:\\Users\\Takumi\\Anaconda3\\envs\\Kaggle\\lib\\site-packages\\sklearn\\preprocessing\\label.py:151: DeprecationWarning: The truth value of an empty array is ambiguous. Returning False, but in future this will result in an error. Use `array.size > 0` to check that an array is not empty.\n",
      "  if diff:\n"
     ]
    },
    {
     "name": "stdout",
     "output_type": "stream",
     "text": [
      "[CV] ....................... max_depth=4, num_leaves=16, total=   3.0s\n",
      "[CV] max_depth=4, num_leaves=16 ......................................\n"
     ]
    },
    {
     "name": "stderr",
     "output_type": "stream",
     "text": [
      "C:\\Users\\Takumi\\Anaconda3\\envs\\Kaggle\\lib\\site-packages\\sklearn\\preprocessing\\label.py:151: DeprecationWarning: The truth value of an empty array is ambiguous. Returning False, but in future this will result in an error. Use `array.size > 0` to check that an array is not empty.\n",
      "  if diff:\n",
      "C:\\Users\\Takumi\\Anaconda3\\envs\\Kaggle\\lib\\site-packages\\sklearn\\preprocessing\\label.py:151: DeprecationWarning: The truth value of an empty array is ambiguous. Returning False, but in future this will result in an error. Use `array.size > 0` to check that an array is not empty.\n",
      "  if diff:\n"
     ]
    },
    {
     "name": "stdout",
     "output_type": "stream",
     "text": [
      "[CV] ....................... max_depth=4, num_leaves=16, total=   3.1s\n",
      "[CV] max_depth=4, num_leaves=16 ......................................\n"
     ]
    },
    {
     "name": "stderr",
     "output_type": "stream",
     "text": [
      "C:\\Users\\Takumi\\Anaconda3\\envs\\Kaggle\\lib\\site-packages\\sklearn\\preprocessing\\label.py:151: DeprecationWarning: The truth value of an empty array is ambiguous. Returning False, but in future this will result in an error. Use `array.size > 0` to check that an array is not empty.\n",
      "  if diff:\n",
      "C:\\Users\\Takumi\\Anaconda3\\envs\\Kaggle\\lib\\site-packages\\sklearn\\preprocessing\\label.py:151: DeprecationWarning: The truth value of an empty array is ambiguous. Returning False, but in future this will result in an error. Use `array.size > 0` to check that an array is not empty.\n",
      "  if diff:\n"
     ]
    },
    {
     "name": "stdout",
     "output_type": "stream",
     "text": [
      "[CV] ....................... max_depth=4, num_leaves=16, total=   3.0s\n",
      "[CV] max_depth=4, num_leaves=32 ......................................\n"
     ]
    },
    {
     "name": "stderr",
     "output_type": "stream",
     "text": [
      "C:\\Users\\Takumi\\Anaconda3\\envs\\Kaggle\\lib\\site-packages\\sklearn\\preprocessing\\label.py:151: DeprecationWarning: The truth value of an empty array is ambiguous. Returning False, but in future this will result in an error. Use `array.size > 0` to check that an array is not empty.\n",
      "  if diff:\n",
      "C:\\Users\\Takumi\\Anaconda3\\envs\\Kaggle\\lib\\site-packages\\sklearn\\preprocessing\\label.py:151: DeprecationWarning: The truth value of an empty array is ambiguous. Returning False, but in future this will result in an error. Use `array.size > 0` to check that an array is not empty.\n",
      "  if diff:\n"
     ]
    },
    {
     "name": "stdout",
     "output_type": "stream",
     "text": [
      "[CV] ....................... max_depth=4, num_leaves=32, total=   3.2s\n",
      "[CV] max_depth=4, num_leaves=32 ......................................\n"
     ]
    },
    {
     "name": "stderr",
     "output_type": "stream",
     "text": [
      "C:\\Users\\Takumi\\Anaconda3\\envs\\Kaggle\\lib\\site-packages\\sklearn\\preprocessing\\label.py:151: DeprecationWarning: The truth value of an empty array is ambiguous. Returning False, but in future this will result in an error. Use `array.size > 0` to check that an array is not empty.\n",
      "  if diff:\n",
      "C:\\Users\\Takumi\\Anaconda3\\envs\\Kaggle\\lib\\site-packages\\sklearn\\preprocessing\\label.py:151: DeprecationWarning: The truth value of an empty array is ambiguous. Returning False, but in future this will result in an error. Use `array.size > 0` to check that an array is not empty.\n",
      "  if diff:\n"
     ]
    },
    {
     "name": "stdout",
     "output_type": "stream",
     "text": [
      "[CV] ....................... max_depth=4, num_leaves=32, total=   4.2s\n",
      "[CV] max_depth=4, num_leaves=32 ......................................\n"
     ]
    },
    {
     "name": "stderr",
     "output_type": "stream",
     "text": [
      "C:\\Users\\Takumi\\Anaconda3\\envs\\Kaggle\\lib\\site-packages\\sklearn\\preprocessing\\label.py:151: DeprecationWarning: The truth value of an empty array is ambiguous. Returning False, but in future this will result in an error. Use `array.size > 0` to check that an array is not empty.\n",
      "  if diff:\n",
      "C:\\Users\\Takumi\\Anaconda3\\envs\\Kaggle\\lib\\site-packages\\sklearn\\preprocessing\\label.py:151: DeprecationWarning: The truth value of an empty array is ambiguous. Returning False, but in future this will result in an error. Use `array.size > 0` to check that an array is not empty.\n",
      "  if diff:\n"
     ]
    },
    {
     "name": "stdout",
     "output_type": "stream",
     "text": [
      "[CV] ....................... max_depth=4, num_leaves=32, total=   3.0s\n",
      "[CV] max_depth=4, num_leaves=64 ......................................\n"
     ]
    },
    {
     "name": "stderr",
     "output_type": "stream",
     "text": [
      "C:\\Users\\Takumi\\Anaconda3\\envs\\Kaggle\\lib\\site-packages\\sklearn\\preprocessing\\label.py:151: DeprecationWarning: The truth value of an empty array is ambiguous. Returning False, but in future this will result in an error. Use `array.size > 0` to check that an array is not empty.\n",
      "  if diff:\n",
      "C:\\Users\\Takumi\\Anaconda3\\envs\\Kaggle\\lib\\site-packages\\sklearn\\preprocessing\\label.py:151: DeprecationWarning: The truth value of an empty array is ambiguous. Returning False, but in future this will result in an error. Use `array.size > 0` to check that an array is not empty.\n",
      "  if diff:\n"
     ]
    },
    {
     "name": "stdout",
     "output_type": "stream",
     "text": [
      "[CV] ....................... max_depth=4, num_leaves=64, total=   3.5s\n",
      "[CV] max_depth=4, num_leaves=64 ......................................\n"
     ]
    },
    {
     "name": "stderr",
     "output_type": "stream",
     "text": [
      "C:\\Users\\Takumi\\Anaconda3\\envs\\Kaggle\\lib\\site-packages\\sklearn\\preprocessing\\label.py:151: DeprecationWarning: The truth value of an empty array is ambiguous. Returning False, but in future this will result in an error. Use `array.size > 0` to check that an array is not empty.\n",
      "  if diff:\n",
      "C:\\Users\\Takumi\\Anaconda3\\envs\\Kaggle\\lib\\site-packages\\sklearn\\preprocessing\\label.py:151: DeprecationWarning: The truth value of an empty array is ambiguous. Returning False, but in future this will result in an error. Use `array.size > 0` to check that an array is not empty.\n",
      "  if diff:\n"
     ]
    },
    {
     "name": "stdout",
     "output_type": "stream",
     "text": [
      "[CV] ....................... max_depth=4, num_leaves=64, total=   3.4s\n",
      "[CV] max_depth=4, num_leaves=64 ......................................\n"
     ]
    },
    {
     "name": "stderr",
     "output_type": "stream",
     "text": [
      "C:\\Users\\Takumi\\Anaconda3\\envs\\Kaggle\\lib\\site-packages\\sklearn\\preprocessing\\label.py:151: DeprecationWarning: The truth value of an empty array is ambiguous. Returning False, but in future this will result in an error. Use `array.size > 0` to check that an array is not empty.\n",
      "  if diff:\n",
      "C:\\Users\\Takumi\\Anaconda3\\envs\\Kaggle\\lib\\site-packages\\sklearn\\preprocessing\\label.py:151: DeprecationWarning: The truth value of an empty array is ambiguous. Returning False, but in future this will result in an error. Use `array.size > 0` to check that an array is not empty.\n",
      "  if diff:\n"
     ]
    },
    {
     "name": "stdout",
     "output_type": "stream",
     "text": [
      "[CV] ....................... max_depth=4, num_leaves=64, total=   3.2s\n",
      "[CV] max_depth=5, num_leaves=8 .......................................\n"
     ]
    },
    {
     "name": "stderr",
     "output_type": "stream",
     "text": [
      "C:\\Users\\Takumi\\Anaconda3\\envs\\Kaggle\\lib\\site-packages\\sklearn\\preprocessing\\label.py:151: DeprecationWarning: The truth value of an empty array is ambiguous. Returning False, but in future this will result in an error. Use `array.size > 0` to check that an array is not empty.\n",
      "  if diff:\n",
      "C:\\Users\\Takumi\\Anaconda3\\envs\\Kaggle\\lib\\site-packages\\sklearn\\preprocessing\\label.py:151: DeprecationWarning: The truth value of an empty array is ambiguous. Returning False, but in future this will result in an error. Use `array.size > 0` to check that an array is not empty.\n",
      "  if diff:\n"
     ]
    },
    {
     "name": "stdout",
     "output_type": "stream",
     "text": [
      "[CV] ........................ max_depth=5, num_leaves=8, total=   2.8s\n",
      "[CV] max_depth=5, num_leaves=8 .......................................\n"
     ]
    },
    {
     "name": "stderr",
     "output_type": "stream",
     "text": [
      "C:\\Users\\Takumi\\Anaconda3\\envs\\Kaggle\\lib\\site-packages\\sklearn\\preprocessing\\label.py:151: DeprecationWarning: The truth value of an empty array is ambiguous. Returning False, but in future this will result in an error. Use `array.size > 0` to check that an array is not empty.\n",
      "  if diff:\n",
      "C:\\Users\\Takumi\\Anaconda3\\envs\\Kaggle\\lib\\site-packages\\sklearn\\preprocessing\\label.py:151: DeprecationWarning: The truth value of an empty array is ambiguous. Returning False, but in future this will result in an error. Use `array.size > 0` to check that an array is not empty.\n",
      "  if diff:\n"
     ]
    },
    {
     "name": "stdout",
     "output_type": "stream",
     "text": [
      "[CV] ........................ max_depth=5, num_leaves=8, total=   2.9s\n",
      "[CV] max_depth=5, num_leaves=8 .......................................\n"
     ]
    },
    {
     "name": "stderr",
     "output_type": "stream",
     "text": [
      "C:\\Users\\Takumi\\Anaconda3\\envs\\Kaggle\\lib\\site-packages\\sklearn\\preprocessing\\label.py:151: DeprecationWarning: The truth value of an empty array is ambiguous. Returning False, but in future this will result in an error. Use `array.size > 0` to check that an array is not empty.\n",
      "  if diff:\n",
      "C:\\Users\\Takumi\\Anaconda3\\envs\\Kaggle\\lib\\site-packages\\sklearn\\preprocessing\\label.py:151: DeprecationWarning: The truth value of an empty array is ambiguous. Returning False, but in future this will result in an error. Use `array.size > 0` to check that an array is not empty.\n",
      "  if diff:\n"
     ]
    },
    {
     "name": "stdout",
     "output_type": "stream",
     "text": [
      "[CV] ........................ max_depth=5, num_leaves=8, total=   2.6s\n",
      "[CV] max_depth=5, num_leaves=16 ......................................\n"
     ]
    },
    {
     "name": "stderr",
     "output_type": "stream",
     "text": [
      "C:\\Users\\Takumi\\Anaconda3\\envs\\Kaggle\\lib\\site-packages\\sklearn\\preprocessing\\label.py:151: DeprecationWarning: The truth value of an empty array is ambiguous. Returning False, but in future this will result in an error. Use `array.size > 0` to check that an array is not empty.\n",
      "  if diff:\n",
      "C:\\Users\\Takumi\\Anaconda3\\envs\\Kaggle\\lib\\site-packages\\sklearn\\preprocessing\\label.py:151: DeprecationWarning: The truth value of an empty array is ambiguous. Returning False, but in future this will result in an error. Use `array.size > 0` to check that an array is not empty.\n",
      "  if diff:\n"
     ]
    },
    {
     "name": "stdout",
     "output_type": "stream",
     "text": [
      "[CV] ....................... max_depth=5, num_leaves=16, total=   3.3s\n",
      "[CV] max_depth=5, num_leaves=16 ......................................\n"
     ]
    },
    {
     "name": "stderr",
     "output_type": "stream",
     "text": [
      "C:\\Users\\Takumi\\Anaconda3\\envs\\Kaggle\\lib\\site-packages\\sklearn\\preprocessing\\label.py:151: DeprecationWarning: The truth value of an empty array is ambiguous. Returning False, but in future this will result in an error. Use `array.size > 0` to check that an array is not empty.\n",
      "  if diff:\n",
      "C:\\Users\\Takumi\\Anaconda3\\envs\\Kaggle\\lib\\site-packages\\sklearn\\preprocessing\\label.py:151: DeprecationWarning: The truth value of an empty array is ambiguous. Returning False, but in future this will result in an error. Use `array.size > 0` to check that an array is not empty.\n",
      "  if diff:\n"
     ]
    },
    {
     "name": "stdout",
     "output_type": "stream",
     "text": [
      "[CV] ....................... max_depth=5, num_leaves=16, total=   2.8s\n",
      "[CV] max_depth=5, num_leaves=16 ......................................\n"
     ]
    },
    {
     "name": "stderr",
     "output_type": "stream",
     "text": [
      "C:\\Users\\Takumi\\Anaconda3\\envs\\Kaggle\\lib\\site-packages\\sklearn\\preprocessing\\label.py:151: DeprecationWarning: The truth value of an empty array is ambiguous. Returning False, but in future this will result in an error. Use `array.size > 0` to check that an array is not empty.\n",
      "  if diff:\n",
      "C:\\Users\\Takumi\\Anaconda3\\envs\\Kaggle\\lib\\site-packages\\sklearn\\preprocessing\\label.py:151: DeprecationWarning: The truth value of an empty array is ambiguous. Returning False, but in future this will result in an error. Use `array.size > 0` to check that an array is not empty.\n",
      "  if diff:\n"
     ]
    },
    {
     "name": "stdout",
     "output_type": "stream",
     "text": [
      "[CV] ....................... max_depth=5, num_leaves=16, total=   3.1s\n",
      "[CV] max_depth=5, num_leaves=32 ......................................\n"
     ]
    },
    {
     "name": "stderr",
     "output_type": "stream",
     "text": [
      "C:\\Users\\Takumi\\Anaconda3\\envs\\Kaggle\\lib\\site-packages\\sklearn\\preprocessing\\label.py:151: DeprecationWarning: The truth value of an empty array is ambiguous. Returning False, but in future this will result in an error. Use `array.size > 0` to check that an array is not empty.\n",
      "  if diff:\n",
      "C:\\Users\\Takumi\\Anaconda3\\envs\\Kaggle\\lib\\site-packages\\sklearn\\preprocessing\\label.py:151: DeprecationWarning: The truth value of an empty array is ambiguous. Returning False, but in future this will result in an error. Use `array.size > 0` to check that an array is not empty.\n",
      "  if diff:\n"
     ]
    },
    {
     "name": "stdout",
     "output_type": "stream",
     "text": [
      "[CV] ....................... max_depth=5, num_leaves=32, total=   3.5s\n",
      "[CV] max_depth=5, num_leaves=32 ......................................\n"
     ]
    },
    {
     "name": "stderr",
     "output_type": "stream",
     "text": [
      "C:\\Users\\Takumi\\Anaconda3\\envs\\Kaggle\\lib\\site-packages\\sklearn\\preprocessing\\label.py:151: DeprecationWarning: The truth value of an empty array is ambiguous. Returning False, but in future this will result in an error. Use `array.size > 0` to check that an array is not empty.\n",
      "  if diff:\n",
      "C:\\Users\\Takumi\\Anaconda3\\envs\\Kaggle\\lib\\site-packages\\sklearn\\preprocessing\\label.py:151: DeprecationWarning: The truth value of an empty array is ambiguous. Returning False, but in future this will result in an error. Use `array.size > 0` to check that an array is not empty.\n",
      "  if diff:\n"
     ]
    },
    {
     "name": "stdout",
     "output_type": "stream",
     "text": [
      "[CV] ....................... max_depth=5, num_leaves=32, total=   3.3s\n",
      "[CV] max_depth=5, num_leaves=32 ......................................\n"
     ]
    },
    {
     "name": "stderr",
     "output_type": "stream",
     "text": [
      "C:\\Users\\Takumi\\Anaconda3\\envs\\Kaggle\\lib\\site-packages\\sklearn\\preprocessing\\label.py:151: DeprecationWarning: The truth value of an empty array is ambiguous. Returning False, but in future this will result in an error. Use `array.size > 0` to check that an array is not empty.\n",
      "  if diff:\n",
      "C:\\Users\\Takumi\\Anaconda3\\envs\\Kaggle\\lib\\site-packages\\sklearn\\preprocessing\\label.py:151: DeprecationWarning: The truth value of an empty array is ambiguous. Returning False, but in future this will result in an error. Use `array.size > 0` to check that an array is not empty.\n",
      "  if diff:\n"
     ]
    },
    {
     "name": "stdout",
     "output_type": "stream",
     "text": [
      "[CV] ....................... max_depth=5, num_leaves=32, total=   3.5s\n",
      "[CV] max_depth=5, num_leaves=64 ......................................\n"
     ]
    },
    {
     "name": "stderr",
     "output_type": "stream",
     "text": [
      "C:\\Users\\Takumi\\Anaconda3\\envs\\Kaggle\\lib\\site-packages\\sklearn\\preprocessing\\label.py:151: DeprecationWarning: The truth value of an empty array is ambiguous. Returning False, but in future this will result in an error. Use `array.size > 0` to check that an array is not empty.\n",
      "  if diff:\n",
      "C:\\Users\\Takumi\\Anaconda3\\envs\\Kaggle\\lib\\site-packages\\sklearn\\preprocessing\\label.py:151: DeprecationWarning: The truth value of an empty array is ambiguous. Returning False, but in future this will result in an error. Use `array.size > 0` to check that an array is not empty.\n",
      "  if diff:\n"
     ]
    },
    {
     "name": "stdout",
     "output_type": "stream",
     "text": [
      "[CV] ....................... max_depth=5, num_leaves=64, total=   3.9s\n",
      "[CV] max_depth=5, num_leaves=64 ......................................\n"
     ]
    },
    {
     "name": "stderr",
     "output_type": "stream",
     "text": [
      "C:\\Users\\Takumi\\Anaconda3\\envs\\Kaggle\\lib\\site-packages\\sklearn\\preprocessing\\label.py:151: DeprecationWarning: The truth value of an empty array is ambiguous. Returning False, but in future this will result in an error. Use `array.size > 0` to check that an array is not empty.\n",
      "  if diff:\n",
      "C:\\Users\\Takumi\\Anaconda3\\envs\\Kaggle\\lib\\site-packages\\sklearn\\preprocessing\\label.py:151: DeprecationWarning: The truth value of an empty array is ambiguous. Returning False, but in future this will result in an error. Use `array.size > 0` to check that an array is not empty.\n",
      "  if diff:\n"
     ]
    },
    {
     "name": "stdout",
     "output_type": "stream",
     "text": [
      "[CV] ....................... max_depth=5, num_leaves=64, total=   3.8s\n",
      "[CV] max_depth=5, num_leaves=64 ......................................\n"
     ]
    },
    {
     "name": "stderr",
     "output_type": "stream",
     "text": [
      "C:\\Users\\Takumi\\Anaconda3\\envs\\Kaggle\\lib\\site-packages\\sklearn\\preprocessing\\label.py:151: DeprecationWarning: The truth value of an empty array is ambiguous. Returning False, but in future this will result in an error. Use `array.size > 0` to check that an array is not empty.\n",
      "  if diff:\n",
      "C:\\Users\\Takumi\\Anaconda3\\envs\\Kaggle\\lib\\site-packages\\sklearn\\preprocessing\\label.py:151: DeprecationWarning: The truth value of an empty array is ambiguous. Returning False, but in future this will result in an error. Use `array.size > 0` to check that an array is not empty.\n",
      "  if diff:\n"
     ]
    },
    {
     "name": "stdout",
     "output_type": "stream",
     "text": [
      "[CV] ....................... max_depth=5, num_leaves=64, total=   3.4s\n",
      "[CV] max_depth=6, num_leaves=8 .......................................\n"
     ]
    },
    {
     "name": "stderr",
     "output_type": "stream",
     "text": [
      "C:\\Users\\Takumi\\Anaconda3\\envs\\Kaggle\\lib\\site-packages\\sklearn\\preprocessing\\label.py:151: DeprecationWarning: The truth value of an empty array is ambiguous. Returning False, but in future this will result in an error. Use `array.size > 0` to check that an array is not empty.\n",
      "  if diff:\n",
      "C:\\Users\\Takumi\\Anaconda3\\envs\\Kaggle\\lib\\site-packages\\sklearn\\preprocessing\\label.py:151: DeprecationWarning: The truth value of an empty array is ambiguous. Returning False, but in future this will result in an error. Use `array.size > 0` to check that an array is not empty.\n",
      "  if diff:\n"
     ]
    },
    {
     "name": "stdout",
     "output_type": "stream",
     "text": [
      "[CV] ........................ max_depth=6, num_leaves=8, total=   2.7s\n",
      "[CV] max_depth=6, num_leaves=8 .......................................\n"
     ]
    },
    {
     "name": "stderr",
     "output_type": "stream",
     "text": [
      "C:\\Users\\Takumi\\Anaconda3\\envs\\Kaggle\\lib\\site-packages\\sklearn\\preprocessing\\label.py:151: DeprecationWarning: The truth value of an empty array is ambiguous. Returning False, but in future this will result in an error. Use `array.size > 0` to check that an array is not empty.\n",
      "  if diff:\n",
      "C:\\Users\\Takumi\\Anaconda3\\envs\\Kaggle\\lib\\site-packages\\sklearn\\preprocessing\\label.py:151: DeprecationWarning: The truth value of an empty array is ambiguous. Returning False, but in future this will result in an error. Use `array.size > 0` to check that an array is not empty.\n",
      "  if diff:\n"
     ]
    },
    {
     "name": "stdout",
     "output_type": "stream",
     "text": [
      "[CV] ........................ max_depth=6, num_leaves=8, total=   2.7s\n",
      "[CV] max_depth=6, num_leaves=8 .......................................\n"
     ]
    },
    {
     "name": "stderr",
     "output_type": "stream",
     "text": [
      "C:\\Users\\Takumi\\Anaconda3\\envs\\Kaggle\\lib\\site-packages\\sklearn\\preprocessing\\label.py:151: DeprecationWarning: The truth value of an empty array is ambiguous. Returning False, but in future this will result in an error. Use `array.size > 0` to check that an array is not empty.\n",
      "  if diff:\n",
      "C:\\Users\\Takumi\\Anaconda3\\envs\\Kaggle\\lib\\site-packages\\sklearn\\preprocessing\\label.py:151: DeprecationWarning: The truth value of an empty array is ambiguous. Returning False, but in future this will result in an error. Use `array.size > 0` to check that an array is not empty.\n",
      "  if diff:\n"
     ]
    },
    {
     "name": "stdout",
     "output_type": "stream",
     "text": [
      "[CV] ........................ max_depth=6, num_leaves=8, total=   2.7s\n",
      "[CV] max_depth=6, num_leaves=16 ......................................\n"
     ]
    },
    {
     "name": "stderr",
     "output_type": "stream",
     "text": [
      "C:\\Users\\Takumi\\Anaconda3\\envs\\Kaggle\\lib\\site-packages\\sklearn\\preprocessing\\label.py:151: DeprecationWarning: The truth value of an empty array is ambiguous. Returning False, but in future this will result in an error. Use `array.size > 0` to check that an array is not empty.\n",
      "  if diff:\n",
      "C:\\Users\\Takumi\\Anaconda3\\envs\\Kaggle\\lib\\site-packages\\sklearn\\preprocessing\\label.py:151: DeprecationWarning: The truth value of an empty array is ambiguous. Returning False, but in future this will result in an error. Use `array.size > 0` to check that an array is not empty.\n",
      "  if diff:\n"
     ]
    },
    {
     "name": "stdout",
     "output_type": "stream",
     "text": [
      "[CV] ....................... max_depth=6, num_leaves=16, total=   3.0s\n",
      "[CV] max_depth=6, num_leaves=16 ......................................\n"
     ]
    },
    {
     "name": "stderr",
     "output_type": "stream",
     "text": [
      "C:\\Users\\Takumi\\Anaconda3\\envs\\Kaggle\\lib\\site-packages\\sklearn\\preprocessing\\label.py:151: DeprecationWarning: The truth value of an empty array is ambiguous. Returning False, but in future this will result in an error. Use `array.size > 0` to check that an array is not empty.\n",
      "  if diff:\n",
      "C:\\Users\\Takumi\\Anaconda3\\envs\\Kaggle\\lib\\site-packages\\sklearn\\preprocessing\\label.py:151: DeprecationWarning: The truth value of an empty array is ambiguous. Returning False, but in future this will result in an error. Use `array.size > 0` to check that an array is not empty.\n",
      "  if diff:\n"
     ]
    },
    {
     "name": "stdout",
     "output_type": "stream",
     "text": [
      "[CV] ....................... max_depth=6, num_leaves=16, total=   3.0s\n",
      "[CV] max_depth=6, num_leaves=16 ......................................\n"
     ]
    },
    {
     "name": "stderr",
     "output_type": "stream",
     "text": [
      "C:\\Users\\Takumi\\Anaconda3\\envs\\Kaggle\\lib\\site-packages\\sklearn\\preprocessing\\label.py:151: DeprecationWarning: The truth value of an empty array is ambiguous. Returning False, but in future this will result in an error. Use `array.size > 0` to check that an array is not empty.\n",
      "  if diff:\n",
      "C:\\Users\\Takumi\\Anaconda3\\envs\\Kaggle\\lib\\site-packages\\sklearn\\preprocessing\\label.py:151: DeprecationWarning: The truth value of an empty array is ambiguous. Returning False, but in future this will result in an error. Use `array.size > 0` to check that an array is not empty.\n",
      "  if diff:\n"
     ]
    },
    {
     "name": "stdout",
     "output_type": "stream",
     "text": [
      "[CV] ....................... max_depth=6, num_leaves=16, total=   2.9s\n",
      "[CV] max_depth=6, num_leaves=32 ......................................\n"
     ]
    },
    {
     "name": "stderr",
     "output_type": "stream",
     "text": [
      "C:\\Users\\Takumi\\Anaconda3\\envs\\Kaggle\\lib\\site-packages\\sklearn\\preprocessing\\label.py:151: DeprecationWarning: The truth value of an empty array is ambiguous. Returning False, but in future this will result in an error. Use `array.size > 0` to check that an array is not empty.\n",
      "  if diff:\n",
      "C:\\Users\\Takumi\\Anaconda3\\envs\\Kaggle\\lib\\site-packages\\sklearn\\preprocessing\\label.py:151: DeprecationWarning: The truth value of an empty array is ambiguous. Returning False, but in future this will result in an error. Use `array.size > 0` to check that an array is not empty.\n",
      "  if diff:\n"
     ]
    },
    {
     "name": "stdout",
     "output_type": "stream",
     "text": [
      "[CV] ....................... max_depth=6, num_leaves=32, total=   3.5s\n",
      "[CV] max_depth=6, num_leaves=32 ......................................\n"
     ]
    },
    {
     "name": "stderr",
     "output_type": "stream",
     "text": [
      "C:\\Users\\Takumi\\Anaconda3\\envs\\Kaggle\\lib\\site-packages\\sklearn\\preprocessing\\label.py:151: DeprecationWarning: The truth value of an empty array is ambiguous. Returning False, but in future this will result in an error. Use `array.size > 0` to check that an array is not empty.\n",
      "  if diff:\n",
      "C:\\Users\\Takumi\\Anaconda3\\envs\\Kaggle\\lib\\site-packages\\sklearn\\preprocessing\\label.py:151: DeprecationWarning: The truth value of an empty array is ambiguous. Returning False, but in future this will result in an error. Use `array.size > 0` to check that an array is not empty.\n",
      "  if diff:\n"
     ]
    },
    {
     "name": "stdout",
     "output_type": "stream",
     "text": [
      "[CV] ....................... max_depth=6, num_leaves=32, total=   3.6s\n",
      "[CV] max_depth=6, num_leaves=32 ......................................\n"
     ]
    },
    {
     "name": "stderr",
     "output_type": "stream",
     "text": [
      "C:\\Users\\Takumi\\Anaconda3\\envs\\Kaggle\\lib\\site-packages\\sklearn\\preprocessing\\label.py:151: DeprecationWarning: The truth value of an empty array is ambiguous. Returning False, but in future this will result in an error. Use `array.size > 0` to check that an array is not empty.\n",
      "  if diff:\n",
      "C:\\Users\\Takumi\\Anaconda3\\envs\\Kaggle\\lib\\site-packages\\sklearn\\preprocessing\\label.py:151: DeprecationWarning: The truth value of an empty array is ambiguous. Returning False, but in future this will result in an error. Use `array.size > 0` to check that an array is not empty.\n",
      "  if diff:\n"
     ]
    },
    {
     "name": "stdout",
     "output_type": "stream",
     "text": [
      "[CV] ....................... max_depth=6, num_leaves=32, total=   3.5s\n",
      "[CV] max_depth=6, num_leaves=64 ......................................\n"
     ]
    },
    {
     "name": "stderr",
     "output_type": "stream",
     "text": [
      "C:\\Users\\Takumi\\Anaconda3\\envs\\Kaggle\\lib\\site-packages\\sklearn\\preprocessing\\label.py:151: DeprecationWarning: The truth value of an empty array is ambiguous. Returning False, but in future this will result in an error. Use `array.size > 0` to check that an array is not empty.\n",
      "  if diff:\n",
      "C:\\Users\\Takumi\\Anaconda3\\envs\\Kaggle\\lib\\site-packages\\sklearn\\preprocessing\\label.py:151: DeprecationWarning: The truth value of an empty array is ambiguous. Returning False, but in future this will result in an error. Use `array.size > 0` to check that an array is not empty.\n",
      "  if diff:\n"
     ]
    },
    {
     "name": "stdout",
     "output_type": "stream",
     "text": [
      "[CV] ....................... max_depth=6, num_leaves=64, total=   3.8s\n",
      "[CV] max_depth=6, num_leaves=64 ......................................\n"
     ]
    },
    {
     "name": "stderr",
     "output_type": "stream",
     "text": [
      "C:\\Users\\Takumi\\Anaconda3\\envs\\Kaggle\\lib\\site-packages\\sklearn\\preprocessing\\label.py:151: DeprecationWarning: The truth value of an empty array is ambiguous. Returning False, but in future this will result in an error. Use `array.size > 0` to check that an array is not empty.\n",
      "  if diff:\n",
      "C:\\Users\\Takumi\\Anaconda3\\envs\\Kaggle\\lib\\site-packages\\sklearn\\preprocessing\\label.py:151: DeprecationWarning: The truth value of an empty array is ambiguous. Returning False, but in future this will result in an error. Use `array.size > 0` to check that an array is not empty.\n",
      "  if diff:\n"
     ]
    },
    {
     "name": "stdout",
     "output_type": "stream",
     "text": [
      "[CV] ....................... max_depth=6, num_leaves=64, total=   3.7s\n",
      "[CV] max_depth=6, num_leaves=64 ......................................\n"
     ]
    },
    {
     "name": "stderr",
     "output_type": "stream",
     "text": [
      "C:\\Users\\Takumi\\Anaconda3\\envs\\Kaggle\\lib\\site-packages\\sklearn\\preprocessing\\label.py:151: DeprecationWarning: The truth value of an empty array is ambiguous. Returning False, but in future this will result in an error. Use `array.size > 0` to check that an array is not empty.\n",
      "  if diff:\n",
      "C:\\Users\\Takumi\\Anaconda3\\envs\\Kaggle\\lib\\site-packages\\sklearn\\preprocessing\\label.py:151: DeprecationWarning: The truth value of an empty array is ambiguous. Returning False, but in future this will result in an error. Use `array.size > 0` to check that an array is not empty.\n",
      "  if diff:\n"
     ]
    },
    {
     "name": "stdout",
     "output_type": "stream",
     "text": [
      "[CV] ....................... max_depth=6, num_leaves=64, total=   3.5s\n"
     ]
    },
    {
     "name": "stderr",
     "output_type": "stream",
     "text": [
      "[Parallel(n_jobs=1)]: Done  48 out of  48 | elapsed:  3.4min finished\n"
     ]
    },
    {
     "name": "stdout",
     "output_type": "stream",
     "text": [
      "0.08297998076813201\n",
      "{'max_depth': 6, 'num_leaves': 8}\n",
      ">>Execution Time -> 3:29\n"
     ]
    }
   ],
   "source": [
    "## 学習\n",
    "import lightgbm as lgb\n",
    "from sklearn.metrics import matthews_corrcoef, make_scorer\n",
    "from sklearn.model_selection import GridSearchCV\n",
    "\n",
    "start = datetime.now()\n",
    "\n",
    "lgbm = lgb.LGBMClassifier(random_state=1,n_jobs=-1,verbose=2)\n",
    "parameters = {'max_depth':[3,4,5,6], 'num_leaves':[8,16,32,64]}\n",
    "mcc_scorer = make_scorer(matthews_corrcoef)\n",
    "clf = GridSearchCV(lgbm, param_grid=parameters, scoring=mcc_scorer,verbose=2)\n",
    "clf.fit(X_train, y_train.values.ravel())\n",
    "\n",
    "print(clf.best_score_)\n",
    "print(clf.best_params_)\n",
    "\n",
    "delta = int((datetime.now() - start).total_seconds())\n",
    "print(\">>Execution Time -> {}:{:02}\".format(int(delta/60), int(delta % 60)))"
   ]
  },
  {
   "cell_type": "code",
   "execution_count": 22,
   "metadata": {},
   "outputs": [
    {
     "name": "stderr",
     "output_type": "stream",
     "text": [
      "C:\\Users\\Takumi\\Anaconda3\\envs\\Kaggle\\lib\\site-packages\\sklearn\\metrics\\classification.py:538: RuntimeWarning: invalid value encountered in double_scalars\n",
      "  mcc = cov_ytyp / np.sqrt(cov_ytyt * cov_ypyp)\n"
     ]
    },
    {
     "data": {
      "image/png": "[encoded data removed]",
      "text/plain": [
       "<Figure size 432x288 with 1 Axes>"
      ]
     },
     "metadata": {},
     "output_type": "display_data"
    },
    {
     "name": "stdout",
     "output_type": "stream",
     "text": [
      "best threshold = 0.11\n",
      "best mcc = 0.14978365468090066\n",
      ">>Execution Time -> 0:13\n"
     ]
    }
   ],
   "source": [
    "from sklearn import metrics\n",
    "import matplotlib.pyplot as plt\n",
    "%matplotlib inline\n",
    "\n",
    "start = datetime.now()\n",
    "\n",
    "thresholds = np.linspace(0.01,0.99,50)\n",
    "y_pred = clf.best_estimator_.predict_proba(X_test.values)[:,1]\n",
    "mcc = np.array([metrics.matthews_corrcoef(y_test.values, y_pred>thr) for thr in thresholds])\n",
    "plt.plot(thresholds, mcc)\n",
    "plt.show()\n",
    "\n",
    "best_thr = thresholds[mcc.argmax()]\n",
    "print(\"best threshold = {}\".format(best_thr))\n",
    "print(\"best mcc = {}\".format(mcc.max()))\n",
    "\n",
    "delta = int((datetime.now() - start).total_seconds())\n",
    "print(\">>Execution Time -> {}:{:02}\".format(int(delta/60), int(delta % 60)))"
   ]
  },
  {
   "cell_type": "markdown",
   "metadata": {},
   "source": [
    "# 全データを用いて再学習"
   ]
  },
  {
   "cell_type": "code",
   "execution_count": 24,
   "metadata": {},
   "outputs": [
    {
     "name": "stdout",
     "output_type": "stream",
     "text": [
      ">>Execution Time -> 0:13\n"
     ]
    }
   ],
   "source": [
    "start = datetime.now()\n",
    "clf_all = lgb.LGBMClassifier(random_state=1,n_jobs=-1,verbose=2, max_depth=clf.best_params_['max_depth'], num_leaves=clf.best_params_['num_leaves'])\n",
    "clf_all.fit(X, y.values.ravel())\n",
    "print(\">>Execution Time -> {}:{:02}\".format(int(delta/60), int(delta % 60)))"
   ]
  },
  {
   "cell_type": "markdown",
   "metadata": {},
   "source": [
    "# テストデータに対する予測"
   ]
  },
  {
   "cell_type": "code",
   "execution_count": 25,
   "metadata": {},
   "outputs": [
    {
     "name": "stdout",
     "output_type": "stream",
     "text": [
      "loop : 0 / Rows = 10000\n",
      "loop : 1 / Rows = 20000\n",
      "loop : 2 / Rows = 30000\n",
      "loop : 3 / Rows = 40000\n",
      "loop : 4 / Rows = 50000\n",
      "loop : 5 / Rows = 60000\n",
      "loop : 6 / Rows = 70000\n",
      "loop : 7 / Rows = 80000\n",
      "loop : 8 / Rows = 90000\n",
      "loop : 9 / Rows = 100000\n",
      "loop : 10 / Rows = 110000\n",
      "loop : 11 / Rows = 120000\n",
      "loop : 12 / Rows = 130000\n",
      "loop : 13 / Rows = 140000\n",
      "loop : 14 / Rows = 150000\n",
      "loop : 15 / Rows = 160000\n",
      "loop : 16 / Rows = 170000\n",
      "loop : 17 / Rows = 180000\n",
      "loop : 18 / Rows = 190000\n",
      "loop : 19 / Rows = 200000\n",
      "loop : 20 / Rows = 210000\n",
      "loop : 21 / Rows = 220000\n",
      "loop : 22 / Rows = 230000\n",
      "loop : 23 / Rows = 240000\n",
      "loop : 24 / Rows = 250000\n",
      "loop : 25 / Rows = 260000\n",
      "loop : 26 / Rows = 270000\n",
      "loop : 27 / Rows = 280000\n",
      "loop : 28 / Rows = 290000\n",
      "loop : 29 / Rows = 300000\n",
      "loop : 30 / Rows = 310000\n",
      "loop : 31 / Rows = 320000\n",
      "loop : 32 / Rows = 330000\n",
      "loop : 33 / Rows = 340000\n",
      "loop : 34 / Rows = 350000\n",
      "loop : 35 / Rows = 360000\n",
      "loop : 36 / Rows = 370000\n",
      "loop : 37 / Rows = 380000\n",
      "loop : 38 / Rows = 390000\n",
      "loop : 39 / Rows = 400000\n",
      "loop : 40 / Rows = 410000\n",
      "loop : 41 / Rows = 420000\n",
      "loop : 42 / Rows = 430000\n",
      "loop : 43 / Rows = 440000\n",
      "loop : 44 / Rows = 450000\n",
      "loop : 45 / Rows = 460000\n",
      "loop : 46 / Rows = 470000\n",
      "loop : 47 / Rows = 480000\n",
      "loop : 48 / Rows = 490000\n",
      "loop : 49 / Rows = 500000\n",
      "loop : 50 / Rows = 510000\n",
      "loop : 51 / Rows = 520000\n",
      "loop : 52 / Rows = 530000\n",
      "loop : 53 / Rows = 540000\n",
      "loop : 54 / Rows = 550000\n",
      "loop : 55 / Rows = 560000\n",
      "loop : 56 / Rows = 570000\n",
      "loop : 57 / Rows = 580000\n",
      "loop : 58 / Rows = 590000\n",
      "loop : 59 / Rows = 600000\n",
      "loop : 60 / Rows = 610000\n",
      "loop : 61 / Rows = 620000\n",
      "loop : 62 / Rows = 630000\n",
      "loop : 63 / Rows = 640000\n",
      "loop : 64 / Rows = 650000\n",
      "loop : 65 / Rows = 660000\n",
      "loop : 66 / Rows = 670000\n",
      "loop : 67 / Rows = 680000\n",
      "loop : 68 / Rows = 690000\n",
      "loop : 69 / Rows = 700000\n",
      "loop : 70 / Rows = 710000\n",
      "loop : 71 / Rows = 720000\n",
      "loop : 72 / Rows = 730000\n",
      "loop : 73 / Rows = 740000\n",
      "loop : 74 / Rows = 750000\n",
      "loop : 75 / Rows = 760000\n",
      "loop : 76 / Rows = 770000\n",
      "loop : 77 / Rows = 780000\n",
      "loop : 78 / Rows = 790000\n",
      "loop : 79 / Rows = 800000\n",
      "loop : 80 / Rows = 810000\n",
      "loop : 81 / Rows = 820000\n",
      "loop : 82 / Rows = 830000\n",
      "loop : 83 / Rows = 840000\n",
      "loop : 84 / Rows = 850000\n",
      "loop : 85 / Rows = 860000\n",
      "loop : 86 / Rows = 870000\n",
      "loop : 87 / Rows = 880000\n",
      "loop : 88 / Rows = 890000\n",
      "loop : 89 / Rows = 900000\n",
      "loop : 90 / Rows = 910000\n",
      "loop : 91 / Rows = 920000\n",
      "loop : 92 / Rows = 930000\n",
      "loop : 93 / Rows = 940000\n",
      "loop : 94 / Rows = 950000\n",
      "loop : 95 / Rows = 960000\n",
      "loop : 96 / Rows = 970000\n",
      "loop : 97 / Rows = 980000\n",
      "loop : 98 / Rows = 990000\n",
      "loop : 99 / Rows = 1000000\n",
      "loop : 100 / Rows = 1010000\n",
      "loop : 101 / Rows = 1020000\n",
      "loop : 102 / Rows = 1030000\n",
      "loop : 103 / Rows = 1040000\n",
      "loop : 104 / Rows = 1050000\n",
      "loop : 105 / Rows = 1060000\n",
      "loop : 106 / Rows = 1070000\n",
      "loop : 107 / Rows = 1080000\n",
      "loop : 108 / Rows = 1090000\n",
      "loop : 109 / Rows = 1100000\n",
      "loop : 110 / Rows = 1110000\n",
      "loop : 111 / Rows = 1120000\n",
      "loop : 112 / Rows = 1130000\n",
      "loop : 113 / Rows = 1140000\n",
      "loop : 114 / Rows = 1150000\n",
      "loop : 115 / Rows = 1160000\n",
      "loop : 116 / Rows = 1170000\n",
      "loop : 117 / Rows = 1180000\n",
      "loop : 118 / Rows = 1183748\n"
     ]
    },
    {
     "data": {
      "text/html": [
       "<div>\n",
       "<style scoped>\n",
       "    .dataframe tbody tr th:only-of-type {\n",
       "        vertical-align: middle;\n",
       "    }\n",
       "\n",
       "    .dataframe tbody tr th {\n",
       "        vertical-align: top;\n",
       "    }\n",
       "\n",
       "    .dataframe thead th {\n",
       "        text-align: right;\n",
       "    }\n",
       "</style>\n",
       "<table border=\"1\" class=\"dataframe\">\n",
       "  <thead>\n",
       "    <tr style=\"text-align: right;\">\n",
       "      <th></th>\n",
       "      <th>Id</th>\n",
       "      <th>Response</th>\n",
       "    </tr>\n",
       "  </thead>\n",
       "  <tbody>\n",
       "    <tr>\n",
       "      <th>0</th>\n",
       "      <td>1</td>\n",
       "      <td>False</td>\n",
       "    </tr>\n",
       "    <tr>\n",
       "      <th>1</th>\n",
       "      <td>2</td>\n",
       "      <td>False</td>\n",
       "    </tr>\n",
       "    <tr>\n",
       "      <th>2</th>\n",
       "      <td>3</td>\n",
       "      <td>False</td>\n",
       "    </tr>\n",
       "    <tr>\n",
       "      <th>3</th>\n",
       "      <td>5</td>\n",
       "      <td>False</td>\n",
       "    </tr>\n",
       "    <tr>\n",
       "      <th>4</th>\n",
       "      <td>8</td>\n",
       "      <td>False</td>\n",
       "    </tr>\n",
       "  </tbody>\n",
       "</table>\n",
       "</div>"
      ],
      "text/plain": [
       "   Id  Response\n",
       "0   1     False\n",
       "1   2     False\n",
       "2   3     False\n",
       "3   5     False\n",
       "4   8     False"
      ]
     },
     "execution_count": 25,
     "metadata": {},
     "output_type": "execute_result"
    }
   ],
   "source": [
    "start = datetime.now()\n",
    "reader_test_date = pd.read_csv(\"../test_date.csv\",chunksize=CHUNK_SIZE)\n",
    "reader_test_num = pd.read_csv(\"../test_numeric.csv\",chunksize=CHUNK_SIZE)\n",
    "\n",
    "#分割して読み込み\n",
    "loop = 0\n",
    "for df_chunk_test_date in reader_test_date:\n",
    "    df_chunk_test_num = reader_test_num.get_chunk(CHUNK_SIZE)\n",
    "    \n",
    "    df_test_chunk = pd.merge(on=\"Id\", left=df_chunk_test_date, right=df_chunk_test_num)\n",
    "\n",
    "    \n",
    "    df_date_stations_chunk = df_test_chunk.loc[:, stations_top]\n",
    "    df_date_max = np.max(df_date_stations_chunk, axis=1)\n",
    "    df_date_min = np.min(df_date_stations_chunk, axis=1)\n",
    "    df_date_isna_chunk = df_date_stations_chunk.isna()\n",
    "    df_test_id_chunk = df_test_chunk['Id']\n",
    "    \n",
    "#    df_date_isna_chunk['max'] = df_date_max\n",
    "#    df_date_isna_chunk['min'] = df_date_min\n",
    "    \n",
    "    ##予測\n",
    "    ary_test_chunk_pred = clf_all.predict_proba(df_date_isna_chunk.values)[:,1]\n",
    "    y_submit = ary_test_chunk_pred > best_thr\n",
    "\n",
    "    df_test_chunk_pred = pd.DataFrame({'Id':df_test_id_chunk.values, 'Response':y_submit})\n",
    "    \n",
    "    if loop == 0:\n",
    "        df_test_pred = df_test_chunk_pred\n",
    "    else:\n",
    "        df_test_pred = pd.concat([df_test_pred, df_test_chunk_pred])\n",
    "    \n",
    "    print(\"loop : {} / Rows = {}\".format(loop, len(df_test_pred.index)))\n",
    "    \n",
    "    loop = loop + 1\n",
    "\n",
    "df_test_pred['Response'] = df_test_pred.Response.astype('bool')\n",
    "df_test_pred.head()"
   ]
  },
  {
   "cell_type": "code",
   "execution_count": 17,
   "metadata": {},
   "outputs": [
    {
     "data": {
      "text/html": [
       "<div>\n",
       "<style scoped>\n",
       "    .dataframe tbody tr th:only-of-type {\n",
       "        vertical-align: middle;\n",
       "    }\n",
       "\n",
       "    .dataframe tbody tr th {\n",
       "        vertical-align: top;\n",
       "    }\n",
       "\n",
       "    .dataframe thead th {\n",
       "        text-align: right;\n",
       "    }\n",
       "</style>\n",
       "<table border=\"1\" class=\"dataframe\">\n",
       "  <thead>\n",
       "    <tr style=\"text-align: right;\">\n",
       "      <th></th>\n",
       "      <th>Id</th>\n",
       "      <th>Response</th>\n",
       "    </tr>\n",
       "  </thead>\n",
       "  <tbody>\n",
       "    <tr>\n",
       "      <th>0</th>\n",
       "      <td>1</td>\n",
       "      <td>False</td>\n",
       "    </tr>\n",
       "    <tr>\n",
       "      <th>1</th>\n",
       "      <td>2</td>\n",
       "      <td>False</td>\n",
       "    </tr>\n",
       "    <tr>\n",
       "      <th>2</th>\n",
       "      <td>3</td>\n",
       "      <td>False</td>\n",
       "    </tr>\n",
       "    <tr>\n",
       "      <th>3</th>\n",
       "      <td>5</td>\n",
       "      <td>False</td>\n",
       "    </tr>\n",
       "    <tr>\n",
       "      <th>4</th>\n",
       "      <td>8</td>\n",
       "      <td>False</td>\n",
       "    </tr>\n",
       "  </tbody>\n",
       "</table>\n",
       "</div>"
      ],
      "text/plain": [
       "   Id  Response\n",
       "0   1     False\n",
       "1   2     False\n",
       "2   3     False\n",
       "3   5     False\n",
       "4   8     False"
      ]
     },
     "execution_count": 17,
     "metadata": {},
     "output_type": "execute_result"
    }
   ],
   "source": [
    "df_test_pred['Response'] = df_test_pred.Response.astype('bool')\n",
    "df_test_pred.head()"
   ]
  },
  {
   "cell_type": "markdown",
   "metadata": {},
   "source": [
    "# 結果"
   ]
  },
  {
   "cell_type": "code",
   "execution_count": 27,
   "metadata": {},
   "outputs": [
    {
     "name": "stdout",
     "output_type": "stream",
     "text": [
      "4090\n"
     ]
    }
   ],
   "source": [
    "##CSV出力\n",
    "y_submit = df_test_pred\n",
    "y_submit.to_csv(\"submit_date_is_nan.csv\", columns=['Id', 'Response'], index=False)\n",
    "print(y_submit.Response.sum())"
   ]
  },
  {
   "cell_type": "markdown",
   "metadata": {},
   "source": [
    "# 0.1479"
   ]
  }
 ],
 "metadata": {
  "kernelspec": {
   "display_name": "Python 3",
   "language": "python",
   "name": "python3"
  },
  "language_info": {
   "codemirror_mode": {
    "name": "ipython",
    "version": 3
   },
   "file_extension": ".py",
   "mimetype": "text/x-python",
   "name": "python",
   "nbconvert_exporter": "python",
   "pygments_lexer": "ipython3",
   "version": "3.6.6"
  }
 },
 "nbformat": 4,
 "nbformat_minor": 2
}
