{
 "cells": [
  {
   "cell_type": "code",
   "execution_count": null,
   "metadata": {},
   "outputs": [],
   "source": [
    "import os\n",
    "import pandas as pd\n",
    "import numpy as np\n",
    "import math\n",
    "from matplotlib.pyplot import *\n",
    "import matplotlib.pyplot as plt\n",
    "from matplotlib import animation\n",
    "from matplotlib import cm\n",
    "from parse import *\n",
    "import seaborn as sns\n",
    "from sklearn.ensemble import RandomForestClassifier as RandomForest\n",
    "import random\n",
    "from sklearn import linear_model\n",
    "from datetime import datetime\n",
    "import gc\n",
    "\n",
    "pd.set_option(\"display.max_columns\", 2000)\n"
   ]
  },
  {
   "cell_type": "code",
   "execution_count": null,
   "metadata": {},
   "outputs": [],
   "source": [
    "CHUNK_SIZE = 10000\n",
    "\n",
    "start = datetime.now()\n",
    "\n",
    "reader_date = pd.read_csv(\"train_date.csv\",chunksize=CHUNK_SIZE, dtype=np.float32)\n",
    "reader_num = pd.read_csv(\"train_numeric.csv\",chunksize=CHUNK_SIZE, dtype=np.float32)\n",
    "\n",
    "#分割して読み込み\n",
    "loop = 0\n",
    "cnt_0 = 0\n",
    "cnt_1 = 0\n",
    "for df_chunk_date in reader_date:\n",
    "    df_chunk_num = reader_num.get_chunk(CHUNK_SIZE)\n",
    "    \n",
    "    df_chunk = pd.merge(on=\"Id\", left=df_chunk_date, right=df_chunk_num)\n",
    "    cnt_0 = cnt_0 + len(df_chunk[df_chunk['Response'] == 0].index)\n",
    "    cnt_1 = cnt_1 + len(df_chunk[df_chunk['Response'] == 1].index)\n",
    "\n",
    "    if loop == 0:\n",
    "        df = df_chunk\n",
    "    else:\n",
    "        df = pd.concat([df, df_chunk])\n",
    "    \n",
    "    print(\"loop : {} / Rows = {}\".format(loop, len(df.index)))\n",
    "\n",
    "    loop = loop + 1\n",
    "\n",
    "print(\"0:{}, 1:{}\".format(cnt_0, cnt_1))\n",
    "print(\"{} -> {}\".format(start, datetime.now()))\n",
    "print(\"Memory:{}\".format(df.memory_usage(index=True).sum()))"
   ]
  },
  {
   "cell_type": "code",
   "execution_count": null,
   "metadata": {
    "scrolled": true
   },
   "outputs": [],
   "source": [
    "df.head()"
   ]
  },
  {
   "cell_type": "code",
   "execution_count": null,
   "metadata": {},
   "outputs": [],
   "source": [
    "### dateに関して。 Responseが1,0の違いを比較してみる。"
   ]
  },
  {
   "cell_type": "code",
   "execution_count": null,
   "metadata": {},
   "outputs": [],
   "source": [
    "df_date_ok = df.loc[df['Response'] == 0]\n",
    "df_date_ng = df.loc[df['Response'] == 1]"
   ]
  },
  {
   "cell_type": "code",
   "execution_count": null,
   "metadata": {},
   "outputs": [],
   "source": [
    "df_date_ok.head()"
   ]
  },
  {
   "cell_type": "code",
   "execution_count": null,
   "metadata": {
    "scrolled": true
   },
   "outputs": [],
   "source": [
    "# OK情報"
   ]
  },
  {
   "cell_type": "code",
   "execution_count": null,
   "metadata": {},
   "outputs": [],
   "source": [
    "print (df_date_ok.info())\n",
    "print (df_date_ok.count())"
   ]
  },
  {
   "cell_type": "code",
   "execution_count": null,
   "metadata": {},
   "outputs": [],
   "source": [
    "df_date_ok.head()"
   ]
  },
  {
   "cell_type": "code",
   "execution_count": null,
   "metadata": {},
   "outputs": [],
   "source": [
    "CHUNKSIZE = 100000\n",
    "\n",
    "TRAIN_DATE        = \"train_date.csv\"\n",
    "TRAIN_NUMERIC     = \"train_numeric.csv\"\n",
    "TRAIN_CATEGORICAL = \"train_categorical.csv\"\n",
    "TEST_DATE         = \"test_date.csv\"\n",
    "TEST_NUMERIC      = \"test_numeric.csv\"\n",
    "TEST_CATEGORICAL  = \"test_categorical.csv\"\n",
    "\n",
    "SEED = 0\n",
    "CHUNKSIZE = 50000\n",
    "NROWS = 1200000\n",
    "\n",
    "ID_COLUMN = 'Id'\n",
    "TARGET_COLUMN = 'Response'\n",
    " "
   ]
  },
  {
   "cell_type": "code",
   "execution_count": null,
   "metadata": {},
   "outputs": [],
   "source": [
    "chunk_train_date = pd.read_csv(TRAIN_DATE, nrows=NROWS, chunksize=CHUNKSIZE)\n",
    "\n",
    "df_train_date = chunk_train_date.get_chunk(10)\n",
    "\n",
    "df_train_date.head()"
   ]
  },
  {
   "cell_type": "code",
   "execution_count": null,
   "metadata": {},
   "outputs": [],
   "source": [
    "STATION_NUM = 52\n",
    "\n",
    "date_cols = df_train_date.columns\n",
    "\n",
    "date_feature_list = []\n",
    "\n",
    "for cur_station_id in range(STATION_NUM):\n",
    "    date_feature_list_one = []\n",
    "    for column_name in date_cols:\n",
    "        if column_name != 'Id':\n",
    "            r = parse(\"L{}_S{}_D{}\", column_name)\n",
    "            if r is not None:\n",
    "                col_line_id    = int(r[0])\n",
    "                col_station_id = int(r[1])\n",
    "                \n",
    "                if cur_station_id == col_station_id:\n",
    "                    date_feature_list_one.append(column_name)\n",
    "\n",
    "    date_feature_list.append(date_feature_list_one)\n",
    "\n"
   ]
  },
  {
   "cell_type": "code",
   "execution_count": null,
   "metadata": {},
   "outputs": [],
   "source": [
    "date_feature_list[0]"
   ]
  },
  {
   "cell_type": "code",
   "execution_count": null,
   "metadata": {},
   "outputs": [],
   "source": [
    "stationFeatureNumList = []\n",
    "#stationFeatureNumList.append(len(date_feature_list[]))\n",
    "for station in range(STATION_NUM):\n",
    "    stationFeatureNumList.append(len(date_feature_list[station]))\n",
    "    \n",
    "        "
   ]
  },
  {
   "cell_type": "code",
   "execution_count": null,
   "metadata": {},
   "outputs": [],
   "source": [
    "sStation = pd.Series(stationFeatureNumList)\n",
    "print(sStation.head())\n",
    "plt.plot(sStation )\n"
   ]
  },
  {
   "cell_type": "code",
   "execution_count": null,
   "metadata": {},
   "outputs": [],
   "source": [
    "# featureの数に偏りがありそう。-> Station26, 25, 28, 29, 30　 難易度高いのか、何か情報いっぱい出してる。\n",
    "print(sStation[27])"
   ]
  },
  {
   "cell_type": "code",
   "execution_count": null,
   "metadata": {},
   "outputs": [],
   "source": [
    "df_id  = df_date_ok.loc[:, 'Id']\n",
    "df_id.head()"
   ]
  },
  {
   "cell_type": "code",
   "execution_count": null,
   "metadata": {},
   "outputs": [],
   "source": [
    "date_feature_list[0]"
   ]
  },
  {
   "cell_type": "code",
   "execution_count": null,
   "metadata": {},
   "outputs": [],
   "source": [
    "print(df_date_ng.columns)\n",
    "\n",
    "\n",
    "df_date_ng_stations_list = []\n",
    "df_date_ok_stations_list = []\n",
    "for i in range(STATION_NUM):\n",
    "    tmp_list = date_feature_list[i];\n",
    "    tmp_list.insert(0, ID_COLUMN)\n",
    "\n",
    "    df_date_ng_stations_list.append(df_date_ng.loc[:, tmp_list])\n",
    "    df_date_ok_stations_list.append(df_date_ok.loc[:, tmp_list])\n",
    "\n",
    "\n",
    "    "
   ]
  },
  {
   "cell_type": "code",
   "execution_count": null,
   "metadata": {},
   "outputs": [],
   "source": [
    "df_date_ng_stations_list[0].head()"
   ]
  },
  {
   "cell_type": "code",
   "execution_count": null,
   "metadata": {},
   "outputs": [],
   "source": [
    "df_date_ok_stations_list[3].head()"
   ]
  },
  {
   "cell_type": "code",
   "execution_count": null,
   "metadata": {},
   "outputs": [],
   "source": [
    "station_Used_in_ng = []\n",
    "for ng in df_date_ng_stations_list:\n",
    "    station_Used_in_ng.append(ng.drop('Id', axis=1).iloc[:,0])   \n",
    "\n",
    "plt.scatter(station_Used_in_ng[0].index ,station_Used_in_ng[0], s=1)"
   ]
  },
  {
   "cell_type": "code",
   "execution_count": null,
   "metadata": {},
   "outputs": [],
   "source": [
    "print('station_Used_in_ng[0].fillna(0).values.max()')\n",
    "print(len(station_Used_in_ng[0]))"
   ]
  },
  {
   "cell_type": "code",
   "execution_count": null,
   "metadata": {},
   "outputs": [],
   "source": [
    "station_Used_in_ok = []\n",
    "for ok in df_date_ok_stations_list:\n",
    "    station_Used_in_ok.append(ok.drop('Id', axis=1).iloc[:,0])\n",
    "\n",
    "plt.scatter(station_Used_in_ok[0].index ,station_Used_in_ok[0], s=1)"
   ]
  },
  {
   "cell_type": "code",
   "execution_count": null,
   "metadata": {},
   "outputs": [],
   "source": []
  },
  {
   "cell_type": "code",
   "execution_count": null,
   "metadata": {},
   "outputs": [],
   "source": []
  },
  {
   "cell_type": "code",
   "execution_count": null,
   "metadata": {},
   "outputs": [],
   "source": []
  },
  {
   "cell_type": "code",
   "execution_count": null,
   "metadata": {},
   "outputs": [],
   "source": [
    "stations_top = []\n",
    "for st in date_feature_list:\n",
    "    stations_top.append(st[0])\n",
    "\n",
    "stations_top"
   ]
  },
  {
   "cell_type": "code",
   "execution_count": null,
   "metadata": {},
   "outputs": [],
   "source": [
    "df_station_top = df.loc[:, stations_top]\n",
    "df_station_top.head()"
   ]
  },
  {
   "cell_type": "code",
   "execution_count": null,
   "metadata": {},
   "outputs": [],
   "source": [
    "df_station_top_isna = df_station_top.isna()\n",
    "df_station_top_isna['Response'] = df.Response\n",
    "df_station_top_isna.head()"
   ]
  },
  {
   "cell_type": "code",
   "execution_count": null,
   "metadata": {},
   "outputs": [],
   "source": []
  },
  {
   "cell_type": "code",
   "execution_count": null,
   "metadata": {},
   "outputs": [],
   "source": []
  },
  {
   "cell_type": "code",
   "execution_count": null,
   "metadata": {},
   "outputs": [],
   "source": [
    "start = datetime.now()\n",
    "C = df_station_top_isna.corr().abs()\n",
    "print (C.Response.sort_values(ascending=False))\n",
    "\n",
    "print(\"{} -> {}\".format(start, datetime.now()))\n"
   ]
  },
  {
   "cell_type": "code",
   "execution_count": null,
   "metadata": {},
   "outputs": [],
   "source": [
    "## 32,33,34,26 怪しい。数が多いのが原因かもしれないが、ここの通過点や数字には意味がありそう。"
   ]
  },
  {
   "cell_type": "code",
   "execution_count": null,
   "metadata": {},
   "outputs": [],
   "source": [
    "print (date_feature_list[26][0])\n",
    "print (date_feature_list[32][0])\n",
    "print (date_feature_list[33][0])\n",
    "print (date_feature_list[34][0])\n"
   ]
  },
  {
   "cell_type": "code",
   "execution_count": null,
   "metadata": {},
   "outputs": [],
   "source": []
  },
  {
   "cell_type": "code",
   "execution_count": null,
   "metadata": {},
   "outputs": [],
   "source": [
    "print (df_date_ng.info())\n",
    "print (df_date_ng.count())"
   ]
  },
  {
   "cell_type": "code",
   "execution_count": null,
   "metadata": {},
   "outputs": [],
   "source": [
    "plt.scatter(station_Used_in_ng[33].index ,station_Used_in_ng[33], s=1)"
   ]
  },
  {
   "cell_type": "code",
   "execution_count": null,
   "metadata": {},
   "outputs": [],
   "source": [
    "plt.scatter(station_Used_in_ok[33].index ,station_Used_in_ok[33], s=1)"
   ]
  },
  {
   "cell_type": "code",
   "execution_count": null,
   "metadata": {},
   "outputs": [],
   "source": []
  },
  {
   "cell_type": "code",
   "execution_count": null,
   "metadata": {},
   "outputs": [],
   "source": []
  },
  {
   "cell_type": "code",
   "execution_count": null,
   "metadata": {},
   "outputs": [],
   "source": []
  },
  {
   "cell_type": "code",
   "execution_count": null,
   "metadata": {},
   "outputs": [],
   "source": []
  },
  {
   "cell_type": "code",
   "execution_count": null,
   "metadata": {},
   "outputs": [],
   "source": []
  },
  {
   "cell_type": "code",
   "execution_count": null,
   "metadata": {},
   "outputs": [],
   "source": []
  },
  {
   "cell_type": "code",
   "execution_count": null,
   "metadata": {},
   "outputs": [],
   "source": []
  },
  {
   "cell_type": "code",
   "execution_count": null,
   "metadata": {},
   "outputs": [],
   "source": []
  },
  {
   "cell_type": "code",
   "execution_count": null,
   "metadata": {},
   "outputs": [],
   "source": []
  },
  {
   "cell_type": "code",
   "execution_count": null,
   "metadata": {},
   "outputs": [],
   "source": []
  },
  {
   "cell_type": "markdown",
   "metadata": {},
   "source": [
    "#### date_Is_Naの可視化"
   ]
  },
  {
   "cell_type": "code",
   "execution_count": 38,
   "metadata": {},
   "outputs": [
    {
     "name": "stdout",
     "output_type": "stream",
     "text": [
      "<class 'pandas.core.frame.DataFrame'>\n",
      "Int64Index: 1183747 entries, 0 to 3746\n",
      "Columns: 1158 entries, Id to Response\n",
      "dtypes: float32(1158)\n",
      "memory usage: 5.1 GB\n",
      "None\n",
      "2018-07-14 12:01:02.572409 -> 2018-07-14 12:01:06.729331\n"
     ]
    }
   ],
   "source": [
    "start = datetime.now()\n",
    "df_all = df.fillna(10000)\n",
    "print(df.info())\n",
    "print(\"{} -> {}\".format(start, datetime.now()))"
   ]
  },
  {
   "cell_type": "code",
   "execution_count": 39,
   "metadata": {},
   "outputs": [
    {
     "name": "stdout",
     "output_type": "stream",
     "text": [
      "2018-07-14 12:01:06.744924 -> 2018-07-14 12:48:07.263837\n"
     ]
    }
   ],
   "source": [
    "start = datetime.now()\n",
    "C = df_all.corr().abs()\n",
    "C.Response.sort_values(ascending=False)\n",
    "\n",
    "print(\"{} -> {}\".format(start, datetime.now()))\n"
   ]
  },
  {
   "cell_type": "code",
   "execution_count": null,
   "metadata": {},
   "outputs": [],
   "source": []
  },
  {
   "cell_type": "code",
   "execution_count": 40,
   "metadata": {},
   "outputs": [],
   "source": [
    "#C.to_csv('output/c_isna_output.csv')\n",
    "C.to_csv('output/c_date_isna_output.csv')"
   ]
  },
  {
   "cell_type": "code",
   "execution_count": 41,
   "metadata": {},
   "outputs": [
    {
     "data": {
      "text/plain": [
       "Response        1.000000\n",
       "L3_S32_D3852    0.075995\n",
       "L3_S33_D3874    0.040897\n",
       "L3_S33_D3872    0.040897\n",
       "L3_S33_D3870    0.040897\n",
       "L3_S33_D3868    0.040897\n",
       "L3_S33_D3866    0.040897\n",
       "L3_S33_D3864    0.040897\n",
       "L3_S33_D3862    0.040897\n",
       "L3_S33_D3858    0.040897\n",
       "L3_S33_D3856    0.040897\n",
       "L3_S33_D3860    0.040897\n",
       "L3_S34_D3883    0.033068\n",
       "L3_S34_D3881    0.033068\n",
       "L3_S34_D3879    0.033068\n",
       "L3_S34_D3877    0.033068\n",
       "L3_S34_D3875    0.033068\n",
       "L1_S24_D1536    0.015204\n",
       "L1_S24_D1522    0.015203\n",
       "L1_S24_D1527    0.015203\n",
       "L1_S24_D1550    0.015203\n",
       "L1_S24_D1532    0.015203\n",
       "L1_S24_D1541    0.015203\n",
       "L1_S24_D1546    0.015203\n",
       "L1_S24_D1554    0.015203\n",
       "L1_S24_D1579    0.015187\n",
       "L1_S24_D1576    0.015187\n",
       "L1_S24_D1570    0.015187\n",
       "L1_S24_D1572    0.015187\n",
       "L1_S24_D1574    0.015187\n",
       "                  ...   \n",
       "L3_S35_D3895    0.000270\n",
       "L3_S35_D3897    0.000270\n",
       "L1_S24_D999     0.000270\n",
       "L1_S24_D1001    0.000270\n",
       "L1_S24_D1013    0.000270\n",
       "L1_S24_D1011    0.000270\n",
       "L1_S24_D1009    0.000270\n",
       "L1_S24_D1007    0.000270\n",
       "L1_S24_D1005    0.000270\n",
       "L1_S24_D1003    0.000270\n",
       "L1_S24_D1015    0.000270\n",
       "Id              0.000263\n",
       "L1_S25_D3006    0.000248\n",
       "L1_S25_D2996    0.000248\n",
       "L1_S25_D2998    0.000248\n",
       "L1_S25_D3000    0.000248\n",
       "L1_S25_D3002    0.000248\n",
       "L1_S25_D3004    0.000248\n",
       "L1_S25_D3010    0.000248\n",
       "L1_S25_D3008    0.000248\n",
       "L3_S42_D4057    0.000199\n",
       "L3_S42_D4053    0.000199\n",
       "L3_S42_D4049    0.000199\n",
       "L3_S42_D4045    0.000199\n",
       "L1_S24_D1158    0.000070\n",
       "L3_S46_D4135    0.000070\n",
       "L3_S35_D3900    0.000054\n",
       "L3_S35_D3905    0.000054\n",
       "L3_S35_D3910    0.000054\n",
       "L3_S35_D3915    0.000054\n",
       "Name: Response, Length: 1158, dtype: float64"
      ]
     },
     "execution_count": 41,
     "metadata": {},
     "output_type": "execute_result"
    }
   ],
   "source": [
    "C.Response.sort_values(ascending=False)\n",
    "# X = df.loc[C.columns[0:20]]"
   ]
  },
  {
   "cell_type": "code",
   "execution_count": null,
   "metadata": {},
   "outputs": [],
   "source": []
  },
  {
   "cell_type": "code",
   "execution_count": null,
   "metadata": {},
   "outputs": [],
   "source": []
  },
  {
   "cell_type": "code",
   "execution_count": null,
   "metadata": {},
   "outputs": [],
   "source": []
  },
  {
   "cell_type": "code",
   "execution_count": null,
   "metadata": {},
   "outputs": [],
   "source": [
    "\n"
   ]
  },
  {
   "cell_type": "code",
   "execution_count": null,
   "metadata": {},
   "outputs": [],
   "source": []
  },
  {
   "cell_type": "code",
   "execution_count": null,
   "metadata": {},
   "outputs": [],
   "source": []
  },
  {
   "cell_type": "code",
   "execution_count": null,
   "metadata": {},
   "outputs": [],
   "source": []
  }
 ],
 "metadata": {
  "kernelspec": {
   "display_name": "Python 3",
   "language": "python",
   "name": "python3"
  },
  "language_info": {
   "codemirror_mode": {
    "name": "ipython",
    "version": 3
   },
   "file_extension": ".py",
   "mimetype": "text/x-python",
   "name": "python",
   "nbconvert_exporter": "python",
   "pygments_lexer": "ipython3",
   "version": "3.6.6"
  }
 },
 "nbformat": 4,
 "nbformat_minor": 2
}
