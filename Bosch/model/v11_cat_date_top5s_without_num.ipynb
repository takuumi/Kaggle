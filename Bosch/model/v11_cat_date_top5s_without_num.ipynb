{
 "cells": [
  {
   "cell_type": "code",
   "execution_count": 2,
   "metadata": {},
   "outputs": [],
   "source": [
    "import os\n",
    "import pandas as pd\n",
    "import numpy as np\n",
    "import math\n",
    "from matplotlib.pyplot import *\n",
    "import matplotlib.pyplot as plt\n",
    "from matplotlib import animation\n",
    "from matplotlib import cm\n",
    "from parse import *\n",
    "import seaborn as sns\n",
    "from sklearn.ensemble import RandomForestClassifier as RandomForest\n",
    "import random\n",
    "from sklearn import linear_model\n",
    "from datetime import datetime\n",
    "import gc\n",
    "\n",
    "pd.set_option(\"display.max_columns\", 2000)\n"
   ]
  },
  {
   "cell_type": "code",
   "execution_count": 3,
   "metadata": {},
   "outputs": [],
   "source": [
    "CHUNKSIZE = 100000\n",
    "\n",
    "TRAIN_DATE        = \"train_date.csv\"\n",
    "TRAIN_NUMERIC     = \"train_numeric.csv\"\n",
    "TRAIN_CATEGORICAL = \"train_categorical.csv\"\n",
    "TEST_DATE         = \"test_date.csv\"\n",
    "TEST_NUMERIC      = \"test_numeric.csv\"\n",
    "TEST_CATEGORICAL  = \"test_categorical.csv\"\n",
    "\n",
    "SEED = 0\n",
    "CHUNKSIZE = 50000\n",
    "NROWS = 1200000\n",
    "\n",
    "ID_COLUMN = 'Id'\n",
    "TARGET_COLUMN = 'Response'\n",
    " "
   ]
  },
  {
   "cell_type": "code",
   "execution_count": 6,
   "metadata": {},
   "outputs": [
    {
     "name": "stdout",
     "output_type": "stream",
     "text": [
      "loop : 0 / Rows = 10000\n",
      "loop : 1 / Rows = 20000\n",
      "loop : 2 / Rows = 30000\n",
      "loop : 3 / Rows = 40000\n",
      "loop : 4 / Rows = 50000\n",
      "loop : 5 / Rows = 60000\n",
      "loop : 6 / Rows = 70000\n",
      "loop : 7 / Rows = 80000\n",
      "loop : 8 / Rows = 90000\n",
      "loop : 9 / Rows = 100000\n",
      "loop : 10 / Rows = 110000\n",
      "loop : 11 / Rows = 120000\n",
      "loop : 12 / Rows = 130000\n",
      "loop : 13 / Rows = 140000\n",
      "loop : 14 / Rows = 150000\n",
      "loop : 15 / Rows = 160000\n",
      "loop : 16 / Rows = 170000\n",
      "loop : 17 / Rows = 180000\n",
      "loop : 18 / Rows = 190000\n",
      "loop : 19 / Rows = 200000\n",
      "loop : 20 / Rows = 210000\n",
      "loop : 21 / Rows = 220000\n",
      "loop : 22 / Rows = 230000\n",
      "loop : 23 / Rows = 240000\n",
      "loop : 24 / Rows = 250000\n",
      "loop : 25 / Rows = 260000\n",
      "loop : 26 / Rows = 270000\n",
      "loop : 27 / Rows = 280000\n",
      "loop : 28 / Rows = 290000\n",
      "loop : 29 / Rows = 300000\n",
      "loop : 30 / Rows = 310000\n",
      "loop : 31 / Rows = 320000\n",
      "loop : 32 / Rows = 330000\n",
      "loop : 33 / Rows = 340000\n",
      "loop : 34 / Rows = 350000\n",
      "loop : 35 / Rows = 360000\n",
      "loop : 36 / Rows = 370000\n",
      "loop : 37 / Rows = 380000\n",
      "loop : 38 / Rows = 390000\n",
      "loop : 39 / Rows = 400000\n",
      "loop : 40 / Rows = 410000\n",
      "loop : 41 / Rows = 420000\n",
      "loop : 42 / Rows = 430000\n",
      "loop : 43 / Rows = 440000\n",
      "loop : 44 / Rows = 450000\n",
      "loop : 45 / Rows = 460000\n",
      "loop : 46 / Rows = 470000\n",
      "loop : 47 / Rows = 480000\n",
      "loop : 48 / Rows = 490000\n",
      "loop : 49 / Rows = 500000\n",
      "loop : 50 / Rows = 510000\n",
      "loop : 51 / Rows = 520000\n",
      "loop : 52 / Rows = 530000\n",
      "loop : 53 / Rows = 540000\n",
      "loop : 54 / Rows = 550000\n",
      "loop : 55 / Rows = 560000\n",
      "loop : 56 / Rows = 570000\n",
      "loop : 57 / Rows = 580000\n",
      "loop : 58 / Rows = 590000\n",
      "loop : 59 / Rows = 600000\n",
      "loop : 60 / Rows = 610000\n",
      "loop : 61 / Rows = 620000\n",
      "loop : 62 / Rows = 630000\n",
      "loop : 63 / Rows = 640000\n",
      "loop : 64 / Rows = 650000\n",
      "loop : 65 / Rows = 660000\n",
      "loop : 66 / Rows = 670000\n",
      "loop : 67 / Rows = 680000\n",
      "loop : 68 / Rows = 690000\n",
      "loop : 69 / Rows = 700000\n",
      "loop : 70 / Rows = 710000\n",
      "loop : 71 / Rows = 720000\n",
      "loop : 72 / Rows = 730000\n",
      "loop : 73 / Rows = 740000\n",
      "loop : 74 / Rows = 750000\n",
      "loop : 75 / Rows = 760000\n",
      "loop : 76 / Rows = 770000\n",
      "loop : 77 / Rows = 780000\n",
      "loop : 78 / Rows = 790000\n",
      "loop : 79 / Rows = 800000\n",
      "loop : 80 / Rows = 810000\n",
      "loop : 81 / Rows = 820000\n",
      "loop : 82 / Rows = 830000\n",
      "loop : 83 / Rows = 840000\n",
      "loop : 84 / Rows = 850000\n",
      "loop : 85 / Rows = 860000\n",
      "loop : 86 / Rows = 870000\n",
      "loop : 87 / Rows = 880000\n",
      "loop : 88 / Rows = 890000\n",
      "loop : 89 / Rows = 900000\n",
      "loop : 90 / Rows = 910000\n",
      "loop : 91 / Rows = 920000\n",
      "loop : 92 / Rows = 930000\n",
      "loop : 93 / Rows = 940000\n",
      "loop : 94 / Rows = 950000\n",
      "loop : 95 / Rows = 960000\n",
      "loop : 96 / Rows = 970000\n",
      "loop : 97 / Rows = 980000\n",
      "loop : 98 / Rows = 990000\n",
      "loop : 99 / Rows = 1000000\n",
      "loop : 100 / Rows = 1010000\n",
      "loop : 101 / Rows = 1020000\n",
      "loop : 102 / Rows = 1030000\n",
      "loop : 103 / Rows = 1040000\n",
      "loop : 104 / Rows = 1050000\n",
      "loop : 105 / Rows = 1060000\n",
      "loop : 106 / Rows = 1070000\n",
      "loop : 107 / Rows = 1080000\n",
      "loop : 108 / Rows = 1090000\n",
      "loop : 109 / Rows = 1100000\n",
      "loop : 110 / Rows = 1110000\n",
      "loop : 111 / Rows = 1120000\n",
      "loop : 112 / Rows = 1130000\n",
      "loop : 113 / Rows = 1140000\n",
      "loop : 114 / Rows = 1150000\n",
      "loop : 115 / Rows = 1160000\n",
      "loop : 116 / Rows = 1170000\n",
      "loop : 117 / Rows = 1180000\n",
      "loop : 118 / Rows = 1183747\n",
      "0:0, 1:0\n",
      "2018-07-18 23:57:58.798975 -> 2018-07-18 23:58:04.799445\n",
      "Memory:61554844\n"
     ]
    }
   ],
   "source": [
    "CHUNK_SIZE = 10000\n",
    "\n",
    "start = datetime.now()\n",
    "\n",
    "reader_num = pd.read_csv(\"../output/df_id_response.csv\",chunksize=CHUNK_SIZE, dtype=np.float32, index_col='Id')\n",
    "reader_cat = pd.read_csv(\"../output/train_cat_top5.csv\",chunksize=CHUNK_SIZE, dtype=np.float32, index_col='Id')\n",
    "reader_date = pd.read_csv(\"../output/train_date_top5.csv\",chunksize=CHUNK_SIZE, dtype=np.float32, index_col='Id')\n",
    "\n",
    "#分割して読み込み\n",
    "loop = 0\n",
    "cnt_0 = 0\n",
    "cnt_1 = 0\n",
    "for df_chunk_date in reader_date:\n",
    "    df_chunk_cat = reader_cat.get_chunk(CHUNK_SIZE)\n",
    "    df_chunk_num = reader_num.get_chunk(CHUNK_SIZE)\n",
    "    \n",
    "    df_chunk = pd.merge(on=\"Id\", left=df_chunk_date, right=df_chunk_cat)\n",
    "    df_chunk = pd.merge(on=\"Id\", left=df_chunk, right=df_chunk_num)\n",
    "    \n",
    "    df_0 = df_chunk[df_chunk['Response'] == 0]\n",
    "    df_1 = df_chunk[df_chunk['Response'] == 1]\n",
    "    \n",
    "    if loop == 0:\n",
    "        df = pd.concat([df_0, df_1])\n",
    "    else:\n",
    "        df = pd.concat([df, df_0, df_1])\n",
    "    \n",
    "    print(\"loop : {} / Rows = {}\".format(loop, len(df.index)))\n",
    "\n",
    "    loop = loop + 1\n",
    "    \n",
    "print(\"0:{}, 1:{}\".format(cnt_0, cnt_1))\n",
    "print(\"{} -> {}\".format(start, datetime.now()))\n",
    "print(\"Memory:{}\".format(df.memory_usage(index=True).sum()))"
   ]
  },
  {
   "cell_type": "code",
   "execution_count": 7,
   "metadata": {},
   "outputs": [
    {
     "data": {
      "text/html": [
       "<div>\n",
       "<style scoped>\n",
       "    .dataframe tbody tr th:only-of-type {\n",
       "        vertical-align: middle;\n",
       "    }\n",
       "\n",
       "    .dataframe tbody tr th {\n",
       "        vertical-align: top;\n",
       "    }\n",
       "\n",
       "    .dataframe thead th {\n",
       "        text-align: right;\n",
       "    }\n",
       "</style>\n",
       "<table border=\"1\" class=\"dataframe\">\n",
       "  <thead>\n",
       "    <tr style=\"text-align: right;\">\n",
       "      <th></th>\n",
       "      <th>L1_S25_D2713</th>\n",
       "      <th>L1_S25_D2518</th>\n",
       "      <th>L1_S25_D2505</th>\n",
       "      <th>L1_S25_D2497</th>\n",
       "      <th>L1_S24_D1368</th>\n",
       "      <th>L1_S24_F1525</th>\n",
       "      <th>L1_S25_F1852</th>\n",
       "      <th>L1_S25_F2779</th>\n",
       "      <th>L3_S32_F3851</th>\n",
       "      <th>L3_S32_F3854</th>\n",
       "      <th>Response</th>\n",
       "    </tr>\n",
       "    <tr>\n",
       "      <th>Id</th>\n",
       "      <th></th>\n",
       "      <th></th>\n",
       "      <th></th>\n",
       "      <th></th>\n",
       "      <th></th>\n",
       "      <th></th>\n",
       "      <th></th>\n",
       "      <th></th>\n",
       "      <th></th>\n",
       "      <th></th>\n",
       "      <th></th>\n",
       "    </tr>\n",
       "  </thead>\n",
       "  <tbody>\n",
       "    <tr>\n",
       "      <th>4.0</th>\n",
       "      <td>NaN</td>\n",
       "      <td>NaN</td>\n",
       "      <td>NaN</td>\n",
       "      <td>NaN</td>\n",
       "      <td>NaN</td>\n",
       "      <td>0.0</td>\n",
       "      <td>0.0</td>\n",
       "      <td>0.0</td>\n",
       "      <td>0.0</td>\n",
       "      <td>0.0</td>\n",
       "      <td>0.0</td>\n",
       "    </tr>\n",
       "    <tr>\n",
       "      <th>6.0</th>\n",
       "      <td>NaN</td>\n",
       "      <td>NaN</td>\n",
       "      <td>NaN</td>\n",
       "      <td>NaN</td>\n",
       "      <td>NaN</td>\n",
       "      <td>0.0</td>\n",
       "      <td>0.0</td>\n",
       "      <td>0.0</td>\n",
       "      <td>0.0</td>\n",
       "      <td>0.0</td>\n",
       "      <td>0.0</td>\n",
       "    </tr>\n",
       "    <tr>\n",
       "      <th>7.0</th>\n",
       "      <td>NaN</td>\n",
       "      <td>NaN</td>\n",
       "      <td>NaN</td>\n",
       "      <td>NaN</td>\n",
       "      <td>NaN</td>\n",
       "      <td>0.0</td>\n",
       "      <td>0.0</td>\n",
       "      <td>0.0</td>\n",
       "      <td>0.0</td>\n",
       "      <td>0.0</td>\n",
       "      <td>0.0</td>\n",
       "    </tr>\n",
       "    <tr>\n",
       "      <th>9.0</th>\n",
       "      <td>NaN</td>\n",
       "      <td>NaN</td>\n",
       "      <td>NaN</td>\n",
       "      <td>NaN</td>\n",
       "      <td>NaN</td>\n",
       "      <td>0.0</td>\n",
       "      <td>0.0</td>\n",
       "      <td>0.0</td>\n",
       "      <td>0.0</td>\n",
       "      <td>0.0</td>\n",
       "      <td>0.0</td>\n",
       "    </tr>\n",
       "    <tr>\n",
       "      <th>11.0</th>\n",
       "      <td>NaN</td>\n",
       "      <td>NaN</td>\n",
       "      <td>NaN</td>\n",
       "      <td>NaN</td>\n",
       "      <td>NaN</td>\n",
       "      <td>0.0</td>\n",
       "      <td>0.0</td>\n",
       "      <td>0.0</td>\n",
       "      <td>0.0</td>\n",
       "      <td>0.0</td>\n",
       "      <td>0.0</td>\n",
       "    </tr>\n",
       "  </tbody>\n",
       "</table>\n",
       "</div>"
      ],
      "text/plain": [
       "      L1_S25_D2713  L1_S25_D2518  L1_S25_D2505  L1_S25_D2497  L1_S24_D1368  \\\n",
       "Id                                                                           \n",
       "4.0            NaN           NaN           NaN           NaN           NaN   \n",
       "6.0            NaN           NaN           NaN           NaN           NaN   \n",
       "7.0            NaN           NaN           NaN           NaN           NaN   \n",
       "9.0            NaN           NaN           NaN           NaN           NaN   \n",
       "11.0           NaN           NaN           NaN           NaN           NaN   \n",
       "\n",
       "      L1_S24_F1525  L1_S25_F1852  L1_S25_F2779  L3_S32_F3851  L3_S32_F3854  \\\n",
       "Id                                                                           \n",
       "4.0            0.0           0.0           0.0           0.0           0.0   \n",
       "6.0            0.0           0.0           0.0           0.0           0.0   \n",
       "7.0            0.0           0.0           0.0           0.0           0.0   \n",
       "9.0            0.0           0.0           0.0           0.0           0.0   \n",
       "11.0           0.0           0.0           0.0           0.0           0.0   \n",
       "\n",
       "      Response  \n",
       "Id              \n",
       "4.0        0.0  \n",
       "6.0        0.0  \n",
       "7.0        0.0  \n",
       "9.0        0.0  \n",
       "11.0       0.0  "
      ]
     },
     "execution_count": 7,
     "metadata": {},
     "output_type": "execute_result"
    }
   ],
   "source": [
    "df.head()"
   ]
  },
  {
   "cell_type": "code",
   "execution_count": 27,
   "metadata": {},
   "outputs": [],
   "source": []
  },
  {
   "cell_type": "code",
   "execution_count": null,
   "metadata": {
    "scrolled": false
   },
   "outputs": [],
   "source": []
  },
  {
   "cell_type": "code",
   "execution_count": null,
   "metadata": {},
   "outputs": [],
   "source": []
  },
  {
   "cell_type": "code",
   "execution_count": null,
   "metadata": {},
   "outputs": [],
   "source": []
  },
  {
   "cell_type": "code",
   "execution_count": null,
   "metadata": {},
   "outputs": [],
   "source": []
  },
  {
   "cell_type": "code",
   "execution_count": 8,
   "metadata": {},
   "outputs": [
    {
     "name": "stdout",
     "output_type": "stream",
     "text": [
      "           L1_S25_D2713  L1_S25_D2518  L1_S25_D2505  L1_S25_D2497  \\\n",
      "Id                                                                  \n",
      "2335098.0           NaN           NaN           NaN           NaN   \n",
      "516059.0            NaN           NaN           NaN           NaN   \n",
      "1000204.0           NaN           NaN           NaN           NaN   \n",
      "400008.0            NaN           NaN           NaN           NaN   \n",
      "1555368.0           NaN           NaN           NaN           NaN   \n",
      "\n",
      "           L1_S24_D1368  L1_S24_F1525  L1_S25_F1852  L1_S25_F2779  \\\n",
      "Id                                                                  \n",
      "2335098.0           NaN           0.0           0.0           0.0   \n",
      "516059.0            0.0           0.0           0.0           0.0   \n",
      "1000204.0           NaN           0.0           0.0           0.0   \n",
      "400008.0            NaN           0.0           0.0           0.0   \n",
      "1555368.0           NaN           0.0           0.0           0.0   \n",
      "\n",
      "           L3_S32_F3851  L3_S32_F3854  \n",
      "Id                                     \n",
      "2335098.0           0.0           0.0  \n",
      "516059.0            0.0           0.0  \n",
      "1000204.0           0.0           0.0  \n",
      "400008.0            0.0           0.0  \n",
      "1555368.0           0.0           0.0  \n",
      "Id\n",
      "2335098.0    0.0\n",
      "516059.0     0.0\n",
      "1000204.0    0.0\n",
      "400008.0     0.0\n",
      "1555368.0    0.0\n",
      "Name: Response, dtype: float32\n",
      "           L1_S25_D2713  L1_S25_D2518  L1_S25_D2505  L1_S25_D2497  \\\n",
      "Id                                                                  \n",
      "278348.0            NaN           NaN           NaN           NaN   \n",
      "1329890.0           NaN           NaN           NaN           NaN   \n",
      "280724.0            NaN           NaN           NaN           NaN   \n",
      "501171.0            NaN           NaN           NaN           NaN   \n",
      "646335.0            NaN           NaN           NaN           NaN   \n",
      "\n",
      "           L1_S24_D1368  L1_S24_F1525  L1_S25_F1852  L1_S25_F2779  \\\n",
      "Id                                                                  \n",
      "278348.0            NaN           0.0           0.0           0.0   \n",
      "1329890.0           NaN           0.0           0.0           4.0   \n",
      "280724.0            NaN           0.0           0.0           0.0   \n",
      "501171.0            NaN           0.0           0.0           0.0   \n",
      "646335.0            NaN           0.0           0.0           0.0   \n",
      "\n",
      "           L3_S32_F3851  L3_S32_F3854  \n",
      "Id                                     \n",
      "278348.0            0.0           0.0  \n",
      "1329890.0           0.0           0.0  \n",
      "280724.0            0.0           0.0  \n",
      "501171.0            0.0           0.0  \n",
      "646335.0            0.0           0.0  \n",
      "Id\n",
      "278348.0     0.0\n",
      "1329890.0    0.0\n",
      "280724.0     0.0\n",
      "501171.0     0.0\n",
      "646335.0     0.0\n",
      "Name: Response, dtype: float32\n",
      "2018-07-18 23:58:18.825974 -> 2018-07-18 23:58:18.986122\n"
     ]
    }
   ],
   "source": [
    "from sklearn.model_selection import train_test_split\n",
    "\n",
    "start = datetime.now()\n",
    "\n",
    "## 教師データと訓練データに分離\n",
    "y = df['Response']\n",
    "X = df.drop('Response', axis=1)\n",
    "\n",
    "## テストセットと訓練セットに分離\n",
    "X_train, X_test, y_train, y_test = train_test_split(X, y, test_size=0.33, random_state=1)\n",
    "print(X_train.head())\n",
    "print(y_train.head())\n",
    "\n",
    "print(X_test.head())\n",
    "print(y_test.head())\n",
    "\n",
    "print(\"{} -> {}\".format(start, datetime.now()))"
   ]
  },
  {
   "cell_type": "code",
   "execution_count": null,
   "metadata": {},
   "outputs": [],
   "source": []
  },
  {
   "cell_type": "code",
   "execution_count": 9,
   "metadata": {},
   "outputs": [
    {
     "name": "stdout",
     "output_type": "stream",
     "text": [
      "Fitting 3 folds for each of 9 candidates, totalling 27 fits\n",
      "[CV] max_depth=3, num_leaves=8 .......................................\n"
     ]
    },
    {
     "name": "stderr",
     "output_type": "stream",
     "text": [
      "C:\\Users\\Takumi\\Anaconda3\\envs\\Kaggle\\lib\\site-packages\\sklearn\\preprocessing\\label.py:151: DeprecationWarning: The truth value of an empty array is ambiguous. Returning False, but in future this will result in an error. Use `array.size > 0` to check that an array is not empty.\n",
      "  if diff:\n",
      "C:\\Users\\Takumi\\Anaconda3\\envs\\Kaggle\\lib\\site-packages\\sklearn\\preprocessing\\label.py:151: DeprecationWarning: The truth value of an empty array is ambiguous. Returning False, but in future this will result in an error. Use `array.size > 0` to check that an array is not empty.\n",
      "  if diff:\n"
     ]
    },
    {
     "name": "stdout",
     "output_type": "stream",
     "text": [
      "[CV] ........................ max_depth=3, num_leaves=8, total=   1.1s\n",
      "[CV] max_depth=3, num_leaves=8 .......................................\n"
     ]
    },
    {
     "name": "stderr",
     "output_type": "stream",
     "text": [
      "[Parallel(n_jobs=1)]: Done   1 out of   1 | elapsed:    2.0s remaining:    0.0s\n",
      "C:\\Users\\Takumi\\Anaconda3\\envs\\Kaggle\\lib\\site-packages\\sklearn\\preprocessing\\label.py:151: DeprecationWarning: The truth value of an empty array is ambiguous. Returning False, but in future this will result in an error. Use `array.size > 0` to check that an array is not empty.\n",
      "  if diff:\n",
      "C:\\Users\\Takumi\\Anaconda3\\envs\\Kaggle\\lib\\site-packages\\sklearn\\metrics\\classification.py:538: RuntimeWarning: invalid value encountered in double_scalars\n",
      "  mcc = cov_ytyp / np.sqrt(cov_ytyt * cov_ypyp)\n",
      "C:\\Users\\Takumi\\Anaconda3\\envs\\Kaggle\\lib\\site-packages\\sklearn\\preprocessing\\label.py:151: DeprecationWarning: The truth value of an empty array is ambiguous. Returning False, but in future this will result in an error. Use `array.size > 0` to check that an array is not empty.\n",
      "  if diff:\n"
     ]
    },
    {
     "name": "stdout",
     "output_type": "stream",
     "text": [
      "[CV] ........................ max_depth=3, num_leaves=8, total=   1.1s\n",
      "[CV] max_depth=3, num_leaves=8 .......................................\n"
     ]
    },
    {
     "name": "stderr",
     "output_type": "stream",
     "text": [
      "C:\\Users\\Takumi\\Anaconda3\\envs\\Kaggle\\lib\\site-packages\\sklearn\\preprocessing\\label.py:151: DeprecationWarning: The truth value of an empty array is ambiguous. Returning False, but in future this will result in an error. Use `array.size > 0` to check that an array is not empty.\n",
      "  if diff:\n",
      "C:\\Users\\Takumi\\Anaconda3\\envs\\Kaggle\\lib\\site-packages\\sklearn\\preprocessing\\label.py:151: DeprecationWarning: The truth value of an empty array is ambiguous. Returning False, but in future this will result in an error. Use `array.size > 0` to check that an array is not empty.\n",
      "  if diff:\n"
     ]
    },
    {
     "name": "stdout",
     "output_type": "stream",
     "text": [
      "[CV] ........................ max_depth=3, num_leaves=8, total=   1.1s\n",
      "[CV] max_depth=3, num_leaves=16 ......................................\n"
     ]
    },
    {
     "name": "stderr",
     "output_type": "stream",
     "text": [
      "C:\\Users\\Takumi\\Anaconda3\\envs\\Kaggle\\lib\\site-packages\\sklearn\\preprocessing\\label.py:151: DeprecationWarning: The truth value of an empty array is ambiguous. Returning False, but in future this will result in an error. Use `array.size > 0` to check that an array is not empty.\n",
      "  if diff:\n",
      "C:\\Users\\Takumi\\Anaconda3\\envs\\Kaggle\\lib\\site-packages\\sklearn\\preprocessing\\label.py:151: DeprecationWarning: The truth value of an empty array is ambiguous. Returning False, but in future this will result in an error. Use `array.size > 0` to check that an array is not empty.\n",
      "  if diff:\n"
     ]
    },
    {
     "name": "stdout",
     "output_type": "stream",
     "text": [
      "[CV] ....................... max_depth=3, num_leaves=16, total=   1.1s\n",
      "[CV] max_depth=3, num_leaves=16 ......................................\n"
     ]
    },
    {
     "name": "stderr",
     "output_type": "stream",
     "text": [
      "C:\\Users\\Takumi\\Anaconda3\\envs\\Kaggle\\lib\\site-packages\\sklearn\\preprocessing\\label.py:151: DeprecationWarning: The truth value of an empty array is ambiguous. Returning False, but in future this will result in an error. Use `array.size > 0` to check that an array is not empty.\n",
      "  if diff:\n",
      "C:\\Users\\Takumi\\Anaconda3\\envs\\Kaggle\\lib\\site-packages\\sklearn\\metrics\\classification.py:538: RuntimeWarning: invalid value encountered in double_scalars\n",
      "  mcc = cov_ytyp / np.sqrt(cov_ytyt * cov_ypyp)\n",
      "C:\\Users\\Takumi\\Anaconda3\\envs\\Kaggle\\lib\\site-packages\\sklearn\\preprocessing\\label.py:151: DeprecationWarning: The truth value of an empty array is ambiguous. Returning False, but in future this will result in an error. Use `array.size > 0` to check that an array is not empty.\n",
      "  if diff:\n"
     ]
    },
    {
     "name": "stdout",
     "output_type": "stream",
     "text": [
      "[CV] ....................... max_depth=3, num_leaves=16, total=   1.1s\n",
      "[CV] max_depth=3, num_leaves=16 ......................................\n"
     ]
    },
    {
     "name": "stderr",
     "output_type": "stream",
     "text": [
      "C:\\Users\\Takumi\\Anaconda3\\envs\\Kaggle\\lib\\site-packages\\sklearn\\preprocessing\\label.py:151: DeprecationWarning: The truth value of an empty array is ambiguous. Returning False, but in future this will result in an error. Use `array.size > 0` to check that an array is not empty.\n",
      "  if diff:\n",
      "C:\\Users\\Takumi\\Anaconda3\\envs\\Kaggle\\lib\\site-packages\\sklearn\\preprocessing\\label.py:151: DeprecationWarning: The truth value of an empty array is ambiguous. Returning False, but in future this will result in an error. Use `array.size > 0` to check that an array is not empty.\n",
      "  if diff:\n"
     ]
    },
    {
     "name": "stdout",
     "output_type": "stream",
     "text": [
      "[CV] ....................... max_depth=3, num_leaves=16, total=   1.2s\n",
      "[CV] max_depth=3, num_leaves=32 ......................................\n"
     ]
    },
    {
     "name": "stderr",
     "output_type": "stream",
     "text": [
      "C:\\Users\\Takumi\\Anaconda3\\envs\\Kaggle\\lib\\site-packages\\sklearn\\preprocessing\\label.py:151: DeprecationWarning: The truth value of an empty array is ambiguous. Returning False, but in future this will result in an error. Use `array.size > 0` to check that an array is not empty.\n",
      "  if diff:\n",
      "C:\\Users\\Takumi\\Anaconda3\\envs\\Kaggle\\lib\\site-packages\\sklearn\\preprocessing\\label.py:151: DeprecationWarning: The truth value of an empty array is ambiguous. Returning False, but in future this will result in an error. Use `array.size > 0` to check that an array is not empty.\n",
      "  if diff:\n"
     ]
    },
    {
     "name": "stdout",
     "output_type": "stream",
     "text": [
      "[CV] ....................... max_depth=3, num_leaves=32, total=   1.1s\n",
      "[CV] max_depth=3, num_leaves=32 ......................................\n"
     ]
    },
    {
     "name": "stderr",
     "output_type": "stream",
     "text": [
      "C:\\Users\\Takumi\\Anaconda3\\envs\\Kaggle\\lib\\site-packages\\sklearn\\preprocessing\\label.py:151: DeprecationWarning: The truth value of an empty array is ambiguous. Returning False, but in future this will result in an error. Use `array.size > 0` to check that an array is not empty.\n",
      "  if diff:\n",
      "C:\\Users\\Takumi\\Anaconda3\\envs\\Kaggle\\lib\\site-packages\\sklearn\\metrics\\classification.py:538: RuntimeWarning: invalid value encountered in double_scalars\n",
      "  mcc = cov_ytyp / np.sqrt(cov_ytyt * cov_ypyp)\n",
      "C:\\Users\\Takumi\\Anaconda3\\envs\\Kaggle\\lib\\site-packages\\sklearn\\preprocessing\\label.py:151: DeprecationWarning: The truth value of an empty array is ambiguous. Returning False, but in future this will result in an error. Use `array.size > 0` to check that an array is not empty.\n",
      "  if diff:\n"
     ]
    },
    {
     "name": "stdout",
     "output_type": "stream",
     "text": [
      "[CV] ....................... max_depth=3, num_leaves=32, total=   1.3s\n",
      "[CV] max_depth=3, num_leaves=32 ......................................\n"
     ]
    },
    {
     "name": "stderr",
     "output_type": "stream",
     "text": [
      "C:\\Users\\Takumi\\Anaconda3\\envs\\Kaggle\\lib\\site-packages\\sklearn\\preprocessing\\label.py:151: DeprecationWarning: The truth value of an empty array is ambiguous. Returning False, but in future this will result in an error. Use `array.size > 0` to check that an array is not empty.\n",
      "  if diff:\n",
      "C:\\Users\\Takumi\\Anaconda3\\envs\\Kaggle\\lib\\site-packages\\sklearn\\preprocessing\\label.py:151: DeprecationWarning: The truth value of an empty array is ambiguous. Returning False, but in future this will result in an error. Use `array.size > 0` to check that an array is not empty.\n",
      "  if diff:\n"
     ]
    },
    {
     "name": "stdout",
     "output_type": "stream",
     "text": [
      "[CV] ....................... max_depth=3, num_leaves=32, total=   1.2s\n",
      "[CV] max_depth=4, num_leaves=8 .......................................\n"
     ]
    },
    {
     "name": "stderr",
     "output_type": "stream",
     "text": [
      "C:\\Users\\Takumi\\Anaconda3\\envs\\Kaggle\\lib\\site-packages\\sklearn\\preprocessing\\label.py:151: DeprecationWarning: The truth value of an empty array is ambiguous. Returning False, but in future this will result in an error. Use `array.size > 0` to check that an array is not empty.\n",
      "  if diff:\n",
      "C:\\Users\\Takumi\\Anaconda3\\envs\\Kaggle\\lib\\site-packages\\sklearn\\metrics\\classification.py:538: RuntimeWarning: invalid value encountered in double_scalars\n",
      "  mcc = cov_ytyp / np.sqrt(cov_ytyt * cov_ypyp)\n",
      "C:\\Users\\Takumi\\Anaconda3\\envs\\Kaggle\\lib\\site-packages\\sklearn\\preprocessing\\label.py:151: DeprecationWarning: The truth value of an empty array is ambiguous. Returning False, but in future this will result in an error. Use `array.size > 0` to check that an array is not empty.\n",
      "  if diff:\n"
     ]
    },
    {
     "name": "stdout",
     "output_type": "stream",
     "text": [
      "[CV] ........................ max_depth=4, num_leaves=8, total=   1.1s\n",
      "[CV] max_depth=4, num_leaves=8 .......................................\n"
     ]
    },
    {
     "name": "stderr",
     "output_type": "stream",
     "text": [
      "C:\\Users\\Takumi\\Anaconda3\\envs\\Kaggle\\lib\\site-packages\\sklearn\\preprocessing\\label.py:151: DeprecationWarning: The truth value of an empty array is ambiguous. Returning False, but in future this will result in an error. Use `array.size > 0` to check that an array is not empty.\n",
      "  if diff:\n",
      "C:\\Users\\Takumi\\Anaconda3\\envs\\Kaggle\\lib\\site-packages\\sklearn\\preprocessing\\label.py:151: DeprecationWarning: The truth value of an empty array is ambiguous. Returning False, but in future this will result in an error. Use `array.size > 0` to check that an array is not empty.\n",
      "  if diff:\n"
     ]
    },
    {
     "name": "stdout",
     "output_type": "stream",
     "text": [
      "[CV] ........................ max_depth=4, num_leaves=8, total=   1.2s\n",
      "[CV] max_depth=4, num_leaves=8 .......................................\n"
     ]
    },
    {
     "name": "stderr",
     "output_type": "stream",
     "text": [
      "C:\\Users\\Takumi\\Anaconda3\\envs\\Kaggle\\lib\\site-packages\\sklearn\\preprocessing\\label.py:151: DeprecationWarning: The truth value of an empty array is ambiguous. Returning False, but in future this will result in an error. Use `array.size > 0` to check that an array is not empty.\n",
      "  if diff:\n",
      "C:\\Users\\Takumi\\Anaconda3\\envs\\Kaggle\\lib\\site-packages\\sklearn\\metrics\\classification.py:538: RuntimeWarning: invalid value encountered in double_scalars\n",
      "  mcc = cov_ytyp / np.sqrt(cov_ytyt * cov_ypyp)\n",
      "C:\\Users\\Takumi\\Anaconda3\\envs\\Kaggle\\lib\\site-packages\\sklearn\\preprocessing\\label.py:151: DeprecationWarning: The truth value of an empty array is ambiguous. Returning False, but in future this will result in an error. Use `array.size > 0` to check that an array is not empty.\n",
      "  if diff:\n"
     ]
    },
    {
     "name": "stdout",
     "output_type": "stream",
     "text": [
      "[CV] ........................ max_depth=4, num_leaves=8, total=   1.2s\n",
      "[CV] max_depth=4, num_leaves=16 ......................................\n"
     ]
    },
    {
     "name": "stderr",
     "output_type": "stream",
     "text": [
      "C:\\Users\\Takumi\\Anaconda3\\envs\\Kaggle\\lib\\site-packages\\sklearn\\preprocessing\\label.py:151: DeprecationWarning: The truth value of an empty array is ambiguous. Returning False, but in future this will result in an error. Use `array.size > 0` to check that an array is not empty.\n",
      "  if diff:\n",
      "C:\\Users\\Takumi\\Anaconda3\\envs\\Kaggle\\lib\\site-packages\\sklearn\\preprocessing\\label.py:151: DeprecationWarning: The truth value of an empty array is ambiguous. Returning False, but in future this will result in an error. Use `array.size > 0` to check that an array is not empty.\n",
      "  if diff:\n"
     ]
    },
    {
     "name": "stdout",
     "output_type": "stream",
     "text": [
      "[CV] ....................... max_depth=4, num_leaves=16, total=   1.2s\n",
      "[CV] max_depth=4, num_leaves=16 ......................................\n"
     ]
    },
    {
     "name": "stderr",
     "output_type": "stream",
     "text": [
      "C:\\Users\\Takumi\\Anaconda3\\envs\\Kaggle\\lib\\site-packages\\sklearn\\preprocessing\\label.py:151: DeprecationWarning: The truth value of an empty array is ambiguous. Returning False, but in future this will result in an error. Use `array.size > 0` to check that an array is not empty.\n",
      "  if diff:\n",
      "C:\\Users\\Takumi\\Anaconda3\\envs\\Kaggle\\lib\\site-packages\\sklearn\\preprocessing\\label.py:151: DeprecationWarning: The truth value of an empty array is ambiguous. Returning False, but in future this will result in an error. Use `array.size > 0` to check that an array is not empty.\n",
      "  if diff:\n"
     ]
    },
    {
     "name": "stdout",
     "output_type": "stream",
     "text": [
      "[CV] ....................... max_depth=4, num_leaves=16, total=   1.3s\n",
      "[CV] max_depth=4, num_leaves=16 ......................................\n"
     ]
    },
    {
     "name": "stderr",
     "output_type": "stream",
     "text": [
      "C:\\Users\\Takumi\\Anaconda3\\envs\\Kaggle\\lib\\site-packages\\sklearn\\preprocessing\\label.py:151: DeprecationWarning: The truth value of an empty array is ambiguous. Returning False, but in future this will result in an error. Use `array.size > 0` to check that an array is not empty.\n",
      "  if diff:\n",
      "C:\\Users\\Takumi\\Anaconda3\\envs\\Kaggle\\lib\\site-packages\\sklearn\\preprocessing\\label.py:151: DeprecationWarning: The truth value of an empty array is ambiguous. Returning False, but in future this will result in an error. Use `array.size > 0` to check that an array is not empty.\n",
      "  if diff:\n"
     ]
    },
    {
     "name": "stdout",
     "output_type": "stream",
     "text": [
      "[CV] ....................... max_depth=4, num_leaves=16, total=   1.3s\n",
      "[CV] max_depth=4, num_leaves=32 ......................................\n"
     ]
    },
    {
     "name": "stderr",
     "output_type": "stream",
     "text": [
      "C:\\Users\\Takumi\\Anaconda3\\envs\\Kaggle\\lib\\site-packages\\sklearn\\preprocessing\\label.py:151: DeprecationWarning: The truth value of an empty array is ambiguous. Returning False, but in future this will result in an error. Use `array.size > 0` to check that an array is not empty.\n",
      "  if diff:\n",
      "C:\\Users\\Takumi\\Anaconda3\\envs\\Kaggle\\lib\\site-packages\\sklearn\\preprocessing\\label.py:151: DeprecationWarning: The truth value of an empty array is ambiguous. Returning False, but in future this will result in an error. Use `array.size > 0` to check that an array is not empty.\n",
      "  if diff:\n"
     ]
    },
    {
     "name": "stdout",
     "output_type": "stream",
     "text": [
      "[CV] ....................... max_depth=4, num_leaves=32, total=   1.2s\n",
      "[CV] max_depth=4, num_leaves=32 ......................................\n"
     ]
    },
    {
     "name": "stderr",
     "output_type": "stream",
     "text": [
      "C:\\Users\\Takumi\\Anaconda3\\envs\\Kaggle\\lib\\site-packages\\sklearn\\preprocessing\\label.py:151: DeprecationWarning: The truth value of an empty array is ambiguous. Returning False, but in future this will result in an error. Use `array.size > 0` to check that an array is not empty.\n",
      "  if diff:\n",
      "C:\\Users\\Takumi\\Anaconda3\\envs\\Kaggle\\lib\\site-packages\\sklearn\\preprocessing\\label.py:151: DeprecationWarning: The truth value of an empty array is ambiguous. Returning False, but in future this will result in an error. Use `array.size > 0` to check that an array is not empty.\n",
      "  if diff:\n"
     ]
    },
    {
     "name": "stdout",
     "output_type": "stream",
     "text": [
      "[CV] ....................... max_depth=4, num_leaves=32, total=   1.2s\n",
      "[CV] max_depth=4, num_leaves=32 ......................................\n"
     ]
    },
    {
     "name": "stderr",
     "output_type": "stream",
     "text": [
      "C:\\Users\\Takumi\\Anaconda3\\envs\\Kaggle\\lib\\site-packages\\sklearn\\preprocessing\\label.py:151: DeprecationWarning: The truth value of an empty array is ambiguous. Returning False, but in future this will result in an error. Use `array.size > 0` to check that an array is not empty.\n",
      "  if diff:\n",
      "C:\\Users\\Takumi\\Anaconda3\\envs\\Kaggle\\lib\\site-packages\\sklearn\\preprocessing\\label.py:151: DeprecationWarning: The truth value of an empty array is ambiguous. Returning False, but in future this will result in an error. Use `array.size > 0` to check that an array is not empty.\n",
      "  if diff:\n"
     ]
    },
    {
     "name": "stdout",
     "output_type": "stream",
     "text": [
      "[CV] ....................... max_depth=4, num_leaves=32, total=   1.2s\n",
      "[CV] max_depth=5, num_leaves=8 .......................................\n"
     ]
    },
    {
     "name": "stderr",
     "output_type": "stream",
     "text": [
      "C:\\Users\\Takumi\\Anaconda3\\envs\\Kaggle\\lib\\site-packages\\sklearn\\preprocessing\\label.py:151: DeprecationWarning: The truth value of an empty array is ambiguous. Returning False, but in future this will result in an error. Use `array.size > 0` to check that an array is not empty.\n",
      "  if diff:\n",
      "C:\\Users\\Takumi\\Anaconda3\\envs\\Kaggle\\lib\\site-packages\\sklearn\\metrics\\classification.py:538: RuntimeWarning: invalid value encountered in double_scalars\n",
      "  mcc = cov_ytyp / np.sqrt(cov_ytyt * cov_ypyp)\n",
      "C:\\Users\\Takumi\\Anaconda3\\envs\\Kaggle\\lib\\site-packages\\sklearn\\preprocessing\\label.py:151: DeprecationWarning: The truth value of an empty array is ambiguous. Returning False, but in future this will result in an error. Use `array.size > 0` to check that an array is not empty.\n",
      "  if diff:\n"
     ]
    },
    {
     "name": "stdout",
     "output_type": "stream",
     "text": [
      "[CV] ........................ max_depth=5, num_leaves=8, total=   1.2s\n",
      "[CV] max_depth=5, num_leaves=8 .......................................\n"
     ]
    },
    {
     "name": "stderr",
     "output_type": "stream",
     "text": [
      "C:\\Users\\Takumi\\Anaconda3\\envs\\Kaggle\\lib\\site-packages\\sklearn\\preprocessing\\label.py:151: DeprecationWarning: The truth value of an empty array is ambiguous. Returning False, but in future this will result in an error. Use `array.size > 0` to check that an array is not empty.\n",
      "  if diff:\n",
      "C:\\Users\\Takumi\\Anaconda3\\envs\\Kaggle\\lib\\site-packages\\sklearn\\preprocessing\\label.py:151: DeprecationWarning: The truth value of an empty array is ambiguous. Returning False, but in future this will result in an error. Use `array.size > 0` to check that an array is not empty.\n",
      "  if diff:\n"
     ]
    },
    {
     "name": "stdout",
     "output_type": "stream",
     "text": [
      "[CV] ........................ max_depth=5, num_leaves=8, total=   1.2s\n",
      "[CV] max_depth=5, num_leaves=8 .......................................\n"
     ]
    },
    {
     "name": "stderr",
     "output_type": "stream",
     "text": [
      "C:\\Users\\Takumi\\Anaconda3\\envs\\Kaggle\\lib\\site-packages\\sklearn\\preprocessing\\label.py:151: DeprecationWarning: The truth value of an empty array is ambiguous. Returning False, but in future this will result in an error. Use `array.size > 0` to check that an array is not empty.\n",
      "  if diff:\n",
      "C:\\Users\\Takumi\\Anaconda3\\envs\\Kaggle\\lib\\site-packages\\sklearn\\preprocessing\\label.py:151: DeprecationWarning: The truth value of an empty array is ambiguous. Returning False, but in future this will result in an error. Use `array.size > 0` to check that an array is not empty.\n",
      "  if diff:\n"
     ]
    },
    {
     "name": "stdout",
     "output_type": "stream",
     "text": [
      "[CV] ........................ max_depth=5, num_leaves=8, total=   1.3s\n",
      "[CV] max_depth=5, num_leaves=16 ......................................\n"
     ]
    },
    {
     "name": "stderr",
     "output_type": "stream",
     "text": [
      "C:\\Users\\Takumi\\Anaconda3\\envs\\Kaggle\\lib\\site-packages\\sklearn\\preprocessing\\label.py:151: DeprecationWarning: The truth value of an empty array is ambiguous. Returning False, but in future this will result in an error. Use `array.size > 0` to check that an array is not empty.\n",
      "  if diff:\n",
      "C:\\Users\\Takumi\\Anaconda3\\envs\\Kaggle\\lib\\site-packages\\sklearn\\metrics\\classification.py:538: RuntimeWarning: invalid value encountered in double_scalars\n",
      "  mcc = cov_ytyp / np.sqrt(cov_ytyt * cov_ypyp)\n",
      "C:\\Users\\Takumi\\Anaconda3\\envs\\Kaggle\\lib\\site-packages\\sklearn\\preprocessing\\label.py:151: DeprecationWarning: The truth value of an empty array is ambiguous. Returning False, but in future this will result in an error. Use `array.size > 0` to check that an array is not empty.\n",
      "  if diff:\n"
     ]
    },
    {
     "name": "stdout",
     "output_type": "stream",
     "text": [
      "[CV] ....................... max_depth=5, num_leaves=16, total=   1.3s\n",
      "[CV] max_depth=5, num_leaves=16 ......................................\n"
     ]
    },
    {
     "name": "stderr",
     "output_type": "stream",
     "text": [
      "C:\\Users\\Takumi\\Anaconda3\\envs\\Kaggle\\lib\\site-packages\\sklearn\\preprocessing\\label.py:151: DeprecationWarning: The truth value of an empty array is ambiguous. Returning False, but in future this will result in an error. Use `array.size > 0` to check that an array is not empty.\n",
      "  if diff:\n",
      "C:\\Users\\Takumi\\Anaconda3\\envs\\Kaggle\\lib\\site-packages\\sklearn\\preprocessing\\label.py:151: DeprecationWarning: The truth value of an empty array is ambiguous. Returning False, but in future this will result in an error. Use `array.size > 0` to check that an array is not empty.\n",
      "  if diff:\n"
     ]
    },
    {
     "name": "stdout",
     "output_type": "stream",
     "text": [
      "[CV] ....................... max_depth=5, num_leaves=16, total=   1.4s\n",
      "[CV] max_depth=5, num_leaves=16 ......................................\n"
     ]
    },
    {
     "name": "stderr",
     "output_type": "stream",
     "text": [
      "C:\\Users\\Takumi\\Anaconda3\\envs\\Kaggle\\lib\\site-packages\\sklearn\\preprocessing\\label.py:151: DeprecationWarning: The truth value of an empty array is ambiguous. Returning False, but in future this will result in an error. Use `array.size > 0` to check that an array is not empty.\n",
      "  if diff:\n",
      "C:\\Users\\Takumi\\Anaconda3\\envs\\Kaggle\\lib\\site-packages\\sklearn\\preprocessing\\label.py:151: DeprecationWarning: The truth value of an empty array is ambiguous. Returning False, but in future this will result in an error. Use `array.size > 0` to check that an array is not empty.\n",
      "  if diff:\n"
     ]
    },
    {
     "name": "stdout",
     "output_type": "stream",
     "text": [
      "[CV] ....................... max_depth=5, num_leaves=16, total=   1.3s\n",
      "[CV] max_depth=5, num_leaves=32 ......................................\n"
     ]
    },
    {
     "name": "stderr",
     "output_type": "stream",
     "text": [
      "C:\\Users\\Takumi\\Anaconda3\\envs\\Kaggle\\lib\\site-packages\\sklearn\\preprocessing\\label.py:151: DeprecationWarning: The truth value of an empty array is ambiguous. Returning False, but in future this will result in an error. Use `array.size > 0` to check that an array is not empty.\n",
      "  if diff:\n",
      "C:\\Users\\Takumi\\Anaconda3\\envs\\Kaggle\\lib\\site-packages\\sklearn\\metrics\\classification.py:538: RuntimeWarning: invalid value encountered in double_scalars\n",
      "  mcc = cov_ytyp / np.sqrt(cov_ytyt * cov_ypyp)\n",
      "C:\\Users\\Takumi\\Anaconda3\\envs\\Kaggle\\lib\\site-packages\\sklearn\\preprocessing\\label.py:151: DeprecationWarning: The truth value of an empty array is ambiguous. Returning False, but in future this will result in an error. Use `array.size > 0` to check that an array is not empty.\n",
      "  if diff:\n"
     ]
    },
    {
     "name": "stdout",
     "output_type": "stream",
     "text": [
      "[CV] ....................... max_depth=5, num_leaves=32, total=   1.3s\n",
      "[CV] max_depth=5, num_leaves=32 ......................................\n"
     ]
    },
    {
     "name": "stderr",
     "output_type": "stream",
     "text": [
      "C:\\Users\\Takumi\\Anaconda3\\envs\\Kaggle\\lib\\site-packages\\sklearn\\preprocessing\\label.py:151: DeprecationWarning: The truth value of an empty array is ambiguous. Returning False, but in future this will result in an error. Use `array.size > 0` to check that an array is not empty.\n",
      "  if diff:\n",
      "C:\\Users\\Takumi\\Anaconda3\\envs\\Kaggle\\lib\\site-packages\\sklearn\\preprocessing\\label.py:151: DeprecationWarning: The truth value of an empty array is ambiguous. Returning False, but in future this will result in an error. Use `array.size > 0` to check that an array is not empty.\n",
      "  if diff:\n"
     ]
    },
    {
     "name": "stdout",
     "output_type": "stream",
     "text": [
      "[CV] ....................... max_depth=5, num_leaves=32, total=   1.4s\n",
      "[CV] max_depth=5, num_leaves=32 ......................................\n"
     ]
    },
    {
     "name": "stderr",
     "output_type": "stream",
     "text": [
      "C:\\Users\\Takumi\\Anaconda3\\envs\\Kaggle\\lib\\site-packages\\sklearn\\preprocessing\\label.py:151: DeprecationWarning: The truth value of an empty array is ambiguous. Returning False, but in future this will result in an error. Use `array.size > 0` to check that an array is not empty.\n",
      "  if diff:\n",
      "C:\\Users\\Takumi\\Anaconda3\\envs\\Kaggle\\lib\\site-packages\\sklearn\\preprocessing\\label.py:151: DeprecationWarning: The truth value of an empty array is ambiguous. Returning False, but in future this will result in an error. Use `array.size > 0` to check that an array is not empty.\n",
      "  if diff:\n"
     ]
    },
    {
     "name": "stdout",
     "output_type": "stream",
     "text": [
      "[CV] ....................... max_depth=5, num_leaves=32, total=   1.4s\n"
     ]
    },
    {
     "name": "stderr",
     "output_type": "stream",
     "text": [
      "[Parallel(n_jobs=1)]: Done  27 out of  27 | elapsed:   59.7s finished\n"
     ]
    },
    {
     "name": "stdout",
     "output_type": "stream",
     "text": [
      "0.03634726099175962\n",
      "{'max_depth': 4, 'num_leaves': 16}\n",
      ">>Execution Time -> 1:01\n"
     ]
    }
   ],
   "source": [
    "## 学習\n",
    "import lightgbm as lgb\n",
    "from sklearn.metrics import matthews_corrcoef, make_scorer\n",
    "from sklearn.model_selection import GridSearchCV\n",
    "\n",
    "start = datetime.now()\n",
    "\n",
    "lgbm = lgb.LGBMClassifier(random_state=1,n_jobs=-1,verbose=2)\n",
    "parameters = {'max_depth':[3,4,5], 'num_leaves':[8,16,32]}\n",
    "mcc_scorer = make_scorer(matthews_corrcoef)\n",
    "clf = GridSearchCV(lgbm, param_grid=parameters, scoring=mcc_scorer,verbose=2)\n",
    "clf.fit(X_train, y_train.values.ravel())\n",
    "\n",
    "print(clf.best_score_)\n",
    "print(clf.best_params_)\n",
    "\n",
    "delta = int((datetime.now() - start).total_seconds())\n",
    "print(\">>Execution Time -> {}:{:02}\".format(int(delta/60), int(delta % 60)))"
   ]
  },
  {
   "cell_type": "code",
   "execution_count": 10,
   "metadata": {},
   "outputs": [
    {
     "name": "stderr",
     "output_type": "stream",
     "text": [
      "C:\\Users\\Takumi\\Anaconda3\\envs\\Kaggle\\lib\\site-packages\\sklearn\\metrics\\classification.py:538: RuntimeWarning: invalid value encountered in double_scalars\n",
      "  mcc = cov_ytyp / np.sqrt(cov_ytyt * cov_ypyp)\n"
     ]
    },
    {
     "data": {
      "image/png": "[encoded data removed]",
      "text/plain": [
       "<Figure size 432x288 with 1 Axes>"
      ]
     },
     "metadata": {},
     "output_type": "display_data"
    },
    {
     "name": "stdout",
     "output_type": "stream",
     "text": [
      "best threshold = 0.11\n",
      "best mcc = 0.1385178709307173\n",
      ">>Execution Time -> 0:13\n"
     ]
    }
   ],
   "source": [
    "from sklearn import metrics\n",
    "import matplotlib.pyplot as plt\n",
    "%matplotlib inline\n",
    "\n",
    "start = datetime.now()\n",
    "\n",
    "thresholds = np.linspace(0.01,0.99,50)\n",
    "y_pred = clf.best_estimator_.predict_proba(X_test.values)[:,1]\n",
    "mcc = np.array([metrics.matthews_corrcoef(y_test.values, y_pred>thr) for thr in thresholds])\n",
    "plt.plot(thresholds, mcc)\n",
    "plt.show()\n",
    "\n",
    "best_thr = thresholds[mcc.argmax()]\n",
    "print(\"best threshold = {}\".format(best_thr))\n",
    "print(\"best mcc = {}\".format(mcc.max()))\n",
    "\n",
    "delta = int((datetime.now() - start).total_seconds())\n",
    "print(\">>Execution Time -> {}:{:02}\".format(int(delta/60), int(delta % 60)))"
   ]
  },
  {
   "cell_type": "code",
   "execution_count": 12,
   "metadata": {},
   "outputs": [
    {
     "name": "stdout",
     "output_type": "stream",
     "text": [
      "L1_S25_D2713:116\n",
      "L1_S25_D2518:188\n",
      "L1_S25_D2505:131\n",
      "L1_S25_D2497:18\n",
      "L1_S24_D1368:69\n",
      "L1_S24_F1525:79\n",
      "L1_S25_F1852:179\n",
      "L1_S25_F2779:68\n",
      "L3_S32_F3851:47\n",
      "L3_S32_F3854:273\n"
     ]
    }
   ],
   "source": [
    "# 特徴量の表示\n",
    "for i in range(0, X_train.shape[1]):\n",
    "    print(\"{}:{}\".format(X_train.columns[i], clf.best_estimator_.feature_importances_[i]))\n"
   ]
  },
  {
   "cell_type": "markdown",
   "metadata": {},
   "source": [
    "# 全訓練データを用いて再学習"
   ]
  },
  {
   "cell_type": "code",
   "execution_count": 13,
   "metadata": {},
   "outputs": [
    {
     "name": "stdout",
     "output_type": "stream",
     "text": [
      ">>Execution Time -> 0:13\n"
     ]
    }
   ],
   "source": [
    "start = datetime.now()\n",
    "clf_all = lgb.LGBMClassifier(random_state=1,n_jobs=-1,verbose=2, max_depth=clf.best_params_['max_depth'], num_leaves=clf.best_params_['num_leaves'])\n",
    "clf_all.fit(X, y.values.ravel())\n",
    "print(\">>Execution Time -> {}:{:02}\".format(int(delta/60), int(delta % 60)))"
   ]
  },
  {
   "cell_type": "markdown",
   "metadata": {},
   "source": [
    "# テストデータを用いて予測"
   ]
  },
  {
   "cell_type": "code",
   "execution_count": 15,
   "metadata": {},
   "outputs": [
    {
     "name": "stdout",
     "output_type": "stream",
     "text": [
      "loop : 0 / Rows = 10000\n",
      "loop : 1 / Rows = 20000\n",
      "loop : 2 / Rows = 30000\n",
      "loop : 3 / Rows = 40000\n",
      "loop : 4 / Rows = 50000\n",
      "loop : 5 / Rows = 60000\n",
      "loop : 6 / Rows = 70000\n",
      "loop : 7 / Rows = 80000\n",
      "loop : 8 / Rows = 90000\n",
      "loop : 9 / Rows = 100000\n",
      "loop : 10 / Rows = 110000\n",
      "loop : 11 / Rows = 120000\n",
      "loop : 12 / Rows = 130000\n",
      "loop : 13 / Rows = 140000\n",
      "loop : 14 / Rows = 150000\n",
      "loop : 15 / Rows = 160000\n",
      "loop : 16 / Rows = 170000\n",
      "loop : 17 / Rows = 180000\n",
      "loop : 18 / Rows = 190000\n",
      "loop : 19 / Rows = 200000\n",
      "loop : 20 / Rows = 210000\n",
      "loop : 21 / Rows = 220000\n",
      "loop : 22 / Rows = 230000\n",
      "loop : 23 / Rows = 240000\n",
      "loop : 24 / Rows = 250000\n",
      "loop : 25 / Rows = 260000\n",
      "loop : 26 / Rows = 270000\n",
      "loop : 27 / Rows = 280000\n",
      "loop : 28 / Rows = 290000\n",
      "loop : 29 / Rows = 300000\n",
      "loop : 30 / Rows = 310000\n",
      "loop : 31 / Rows = 320000\n",
      "loop : 32 / Rows = 330000\n",
      "loop : 33 / Rows = 340000\n",
      "loop : 34 / Rows = 350000\n",
      "loop : 35 / Rows = 360000\n",
      "loop : 36 / Rows = 370000\n",
      "loop : 37 / Rows = 380000\n",
      "loop : 38 / Rows = 390000\n",
      "loop : 39 / Rows = 400000\n",
      "loop : 40 / Rows = 410000\n",
      "loop : 41 / Rows = 420000\n",
      "loop : 42 / Rows = 430000\n",
      "loop : 43 / Rows = 440000\n",
      "loop : 44 / Rows = 450000\n",
      "loop : 45 / Rows = 460000\n",
      "loop : 46 / Rows = 470000\n",
      "loop : 47 / Rows = 480000\n",
      "loop : 48 / Rows = 490000\n",
      "loop : 49 / Rows = 500000\n",
      "loop : 50 / Rows = 510000\n",
      "loop : 51 / Rows = 520000\n",
      "loop : 52 / Rows = 530000\n",
      "loop : 53 / Rows = 540000\n",
      "loop : 54 / Rows = 550000\n",
      "loop : 55 / Rows = 560000\n",
      "loop : 56 / Rows = 570000\n",
      "loop : 57 / Rows = 580000\n",
      "loop : 58 / Rows = 590000\n",
      "loop : 59 / Rows = 600000\n",
      "loop : 60 / Rows = 610000\n",
      "loop : 61 / Rows = 620000\n",
      "loop : 62 / Rows = 630000\n",
      "loop : 63 / Rows = 640000\n",
      "loop : 64 / Rows = 650000\n",
      "loop : 65 / Rows = 660000\n",
      "loop : 66 / Rows = 670000\n",
      "loop : 67 / Rows = 680000\n",
      "loop : 68 / Rows = 690000\n",
      "loop : 69 / Rows = 700000\n",
      "loop : 70 / Rows = 710000\n",
      "loop : 71 / Rows = 720000\n",
      "loop : 72 / Rows = 730000\n",
      "loop : 73 / Rows = 740000\n",
      "loop : 74 / Rows = 750000\n",
      "loop : 75 / Rows = 760000\n",
      "loop : 76 / Rows = 770000\n",
      "loop : 77 / Rows = 780000\n",
      "loop : 78 / Rows = 790000\n",
      "loop : 79 / Rows = 800000\n",
      "loop : 80 / Rows = 810000\n",
      "loop : 81 / Rows = 820000\n",
      "loop : 82 / Rows = 830000\n",
      "loop : 83 / Rows = 840000\n",
      "loop : 84 / Rows = 850000\n",
      "loop : 85 / Rows = 860000\n",
      "loop : 86 / Rows = 870000\n",
      "loop : 87 / Rows = 880000\n",
      "loop : 88 / Rows = 890000\n",
      "loop : 89 / Rows = 900000\n",
      "loop : 90 / Rows = 910000\n",
      "loop : 91 / Rows = 920000\n",
      "loop : 92 / Rows = 930000\n",
      "loop : 93 / Rows = 940000\n",
      "loop : 94 / Rows = 950000\n",
      "loop : 95 / Rows = 960000\n",
      "loop : 96 / Rows = 970000\n",
      "loop : 97 / Rows = 980000\n",
      "loop : 98 / Rows = 990000\n",
      "loop : 99 / Rows = 1000000\n",
      "loop : 100 / Rows = 1010000\n",
      "loop : 101 / Rows = 1020000\n",
      "loop : 102 / Rows = 1030000\n",
      "loop : 103 / Rows = 1040000\n",
      "loop : 104 / Rows = 1050000\n",
      "loop : 105 / Rows = 1060000\n",
      "loop : 106 / Rows = 1070000\n",
      "loop : 107 / Rows = 1080000\n",
      "loop : 108 / Rows = 1090000\n",
      "loop : 109 / Rows = 1100000\n",
      "loop : 110 / Rows = 1110000\n",
      "loop : 111 / Rows = 1120000\n",
      "loop : 112 / Rows = 1130000\n",
      "loop : 113 / Rows = 1140000\n",
      "loop : 114 / Rows = 1150000\n",
      "loop : 115 / Rows = 1160000\n",
      "loop : 116 / Rows = 1170000\n",
      "loop : 117 / Rows = 1180000\n",
      "loop : 118 / Rows = 1183748\n"
     ]
    }
   ],
   "source": [
    "start = datetime.now()\n",
    "\n",
    "reader_test_cat = pd.read_csv(\"../output/test_cat_top5.csv\",chunksize=CHUNK_SIZE, dtype=np.float32)\n",
    "reader_test_date = pd.read_csv(\"../output/test_date_top5.csv\",chunksize=CHUNK_SIZE, dtype=np.float32)\n",
    "\n",
    "\n",
    "#分割して読み込み\n",
    "loop = 0\n",
    "for df_chunk_test_date in reader_test_date:\n",
    "        \n",
    "    df_test_id_chunk = df_chunk_test_date['Id']\n",
    "\n",
    "    df_chunk_test_cat = reader_test_cat.get_chunk(CHUNK_SIZE)\n",
    "    \n",
    "    df_features_chunk = pd.merge(on=\"Id\", left=df_chunk_test_date, right=df_chunk_test_cat)\n",
    "    \n",
    "    df_features_chunk = df_features_chunk.drop('Id', axis=1)\n",
    "    \n",
    "    ##予測\n",
    "    ary_test_chunk_pred = clf.predict_proba(df_features_chunk.values)[:,1]\n",
    "    y_submit = ary_test_chunk_pred > best_thr\n",
    "\n",
    "    df_test_chunk_pred = pd.DataFrame({'Id':df_test_id_chunk.values, 'Response':y_submit})\n",
    "    \n",
    "    if loop == 0:\n",
    "        df_test_pred = df_test_chunk_pred\n",
    "    else:\n",
    "        df_test_pred = pd.concat([df_test_pred, df_test_chunk_pred])\n",
    "    \n",
    "    print(\"loop : {} / Rows = {}\".format(loop, len(df_test_pred.index)))\n",
    "    \n",
    "    loop = loop + 1\n",
    "\n"
   ]
  },
  {
   "cell_type": "code",
   "execution_count": 16,
   "metadata": {},
   "outputs": [
    {
     "data": {
      "text/html": [
       "<div>\n",
       "<style scoped>\n",
       "    .dataframe tbody tr th:only-of-type {\n",
       "        vertical-align: middle;\n",
       "    }\n",
       "\n",
       "    .dataframe tbody tr th {\n",
       "        vertical-align: top;\n",
       "    }\n",
       "\n",
       "    .dataframe thead th {\n",
       "        text-align: right;\n",
       "    }\n",
       "</style>\n",
       "<table border=\"1\" class=\"dataframe\">\n",
       "  <thead>\n",
       "    <tr style=\"text-align: right;\">\n",
       "      <th></th>\n",
       "      <th>Id</th>\n",
       "      <th>Response</th>\n",
       "    </tr>\n",
       "  </thead>\n",
       "  <tbody>\n",
       "    <tr>\n",
       "      <th>0</th>\n",
       "      <td>1</td>\n",
       "      <td>False</td>\n",
       "    </tr>\n",
       "    <tr>\n",
       "      <th>1</th>\n",
       "      <td>2</td>\n",
       "      <td>False</td>\n",
       "    </tr>\n",
       "    <tr>\n",
       "      <th>2</th>\n",
       "      <td>3</td>\n",
       "      <td>False</td>\n",
       "    </tr>\n",
       "    <tr>\n",
       "      <th>3</th>\n",
       "      <td>5</td>\n",
       "      <td>False</td>\n",
       "    </tr>\n",
       "    <tr>\n",
       "      <th>4</th>\n",
       "      <td>8</td>\n",
       "      <td>False</td>\n",
       "    </tr>\n",
       "  </tbody>\n",
       "</table>\n",
       "</div>"
      ],
      "text/plain": [
       "   Id  Response\n",
       "0   1     False\n",
       "1   2     False\n",
       "2   3     False\n",
       "3   5     False\n",
       "4   8     False"
      ]
     },
     "execution_count": 16,
     "metadata": {},
     "output_type": "execute_result"
    }
   ],
   "source": [
    "df_test_pred['Id'] = df_test_pred.Id.astype('int')    \n",
    "df_test_pred['Response'] = df_test_pred.Response.astype('bool')\n",
    "df_test_pred.head()"
   ]
  },
  {
   "cell_type": "code",
   "execution_count": 17,
   "metadata": {},
   "outputs": [],
   "source": [
    "##CSV出力\n",
    "y_submit = df_test_pred\n",
    "type(y_submit)\n",
    "y_submit.to_csv(\"submit_last_without_num.csv\", columns=['Id', 'Response'], index=False)"
   ]
  },
  {
   "cell_type": "code",
   "execution_count": 44,
   "metadata": {},
   "outputs": [
    {
     "data": {
      "text/plain": [
       "2780"
      ]
     },
     "execution_count": 44,
     "metadata": {},
     "output_type": "execute_result"
    }
   ],
   "source": [
    "y_submit.Response.sum()"
   ]
  },
  {
   "cell_type": "code",
   "execution_count": null,
   "metadata": {},
   "outputs": [],
   "source": []
  },
  {
   "cell_type": "code",
   "execution_count": 41,
   "metadata": {},
   "outputs": [
    {
     "data": {
      "text/html": [
       "<div>\n",
       "<style scoped>\n",
       "    .dataframe tbody tr th:only-of-type {\n",
       "        vertical-align: middle;\n",
       "    }\n",
       "\n",
       "    .dataframe tbody tr th {\n",
       "        vertical-align: top;\n",
       "    }\n",
       "\n",
       "    .dataframe thead th {\n",
       "        text-align: right;\n",
       "    }\n",
       "</style>\n",
       "<table border=\"1\" class=\"dataframe\">\n",
       "  <thead>\n",
       "    <tr style=\"text-align: right;\">\n",
       "      <th></th>\n",
       "      <th>Id</th>\n",
       "      <th>Response</th>\n",
       "    </tr>\n",
       "  </thead>\n",
       "  <tbody>\n",
       "    <tr>\n",
       "      <th>0</th>\n",
       "      <td>1.0</td>\n",
       "      <td>False</td>\n",
       "    </tr>\n",
       "    <tr>\n",
       "      <th>1</th>\n",
       "      <td>2.0</td>\n",
       "      <td>False</td>\n",
       "    </tr>\n",
       "    <tr>\n",
       "      <th>2</th>\n",
       "      <td>3.0</td>\n",
       "      <td>False</td>\n",
       "    </tr>\n",
       "    <tr>\n",
       "      <th>3</th>\n",
       "      <td>5.0</td>\n",
       "      <td>False</td>\n",
       "    </tr>\n",
       "    <tr>\n",
       "      <th>4</th>\n",
       "      <td>8.0</td>\n",
       "      <td>False</td>\n",
       "    </tr>\n",
       "  </tbody>\n",
       "</table>\n",
       "</div>"
      ],
      "text/plain": [
       "    Id  Response\n",
       "0  1.0     False\n",
       "1  2.0     False\n",
       "2  3.0     False\n",
       "3  5.0     False\n",
       "4  8.0     False"
      ]
     },
     "execution_count": 41,
     "metadata": {},
     "output_type": "execute_result"
    }
   ],
   "source": [
    "y_submit.head()"
   ]
  }
 ],
 "metadata": {
  "kernelspec": {
   "display_name": "Python 3",
   "language": "python",
   "name": "python3"
  },
  "language_info": {
   "codemirror_mode": {
    "name": "ipython",
    "version": 3
   },
   "file_extension": ".py",
   "mimetype": "text/x-python",
   "name": "python",
   "nbconvert_exporter": "python",
   "pygments_lexer": "ipython3",
   "version": "3.6.6"
  }
 },
 "nbformat": 4,
 "nbformat_minor": 2
}
