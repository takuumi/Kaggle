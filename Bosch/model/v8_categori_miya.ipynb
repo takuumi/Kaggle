{
 "cells": [
  {
   "cell_type": "code",
   "execution_count": 24,
   "metadata": {},
   "outputs": [],
   "source": [
    "import os\n",
    "import pandas as pd\n",
    "import numpy as np\n",
    "import math\n",
    "from matplotlib.pyplot import *\n",
    "import matplotlib.pyplot as plt\n",
    "from matplotlib import animation\n",
    "from matplotlib import cm\n",
    "from parse import *\n",
    "import seaborn as sns\n",
    "from sklearn.ensemble import RandomForestClassifier as RandomForest\n",
    "import random\n",
    "from sklearn import linear_model\n",
    "from datetime import datetime\n",
    "import gc\n",
    "\n",
    "pd.set_option(\"display.max_columns\", 2000)\n"
   ]
  },
  {
   "cell_type": "code",
   "execution_count": 25,
   "metadata": {},
   "outputs": [],
   "source": [
    "CHUNKSIZE = 100000\n",
    "\n",
    "TRAIN_DATE        = \"train_date.csv\"\n",
    "TRAIN_NUMERIC     = \"train_numeric.csv\"\n",
    "TRAIN_CATEGORICAL = \"train_categorical.csv\"\n",
    "TEST_DATE         = \"test_date.csv\"\n",
    "TEST_NUMERIC      = \"test_numeric.csv\"\n",
    "TEST_CATEGORICAL  = \"test_categorical.csv\"\n",
    "\n",
    "SEED = 0\n",
    "CHUNKSIZE = 50000\n",
    "NROWS = 1200000\n",
    "\n",
    "ID_COLUMN = 'Id'\n",
    "TARGET_COLUMN = 'Response'\n",
    " "
   ]
  },
  {
   "cell_type": "code",
   "execution_count": null,
   "metadata": {},
   "outputs": [],
   "source": []
  },
  {
   "cell_type": "code",
   "execution_count": 26,
   "metadata": {},
   "outputs": [],
   "source": [
    "df = pd.read_csv(\"../output/df_id_response.csv\")\n",
    "X_pre = pd.read_csv(\"../from/train_cat_int_sub_miya.csv\").drop('Id', axis=1)"
   ]
  },
  {
   "cell_type": "code",
   "execution_count": 27,
   "metadata": {},
   "outputs": [
    {
     "name": "stdout",
     "output_type": "stream",
     "text": [
      "     Id  Response\n",
      "0   4.0       0.0\n",
      "1   6.0       0.0\n",
      "2   7.0       0.0\n",
      "3   9.0       0.0\n",
      "4  11.0       0.0\n",
      "   L3_S32_F3854  L3_S35_F3899\n",
      "0             0             0\n",
      "1             0             0\n",
      "2             0             0\n",
      "3             0             0\n",
      "4             0             0\n"
     ]
    }
   ],
   "source": [
    "print (df.head())\n",
    "print (X_pre.head())"
   ]
  },
  {
   "cell_type": "code",
   "execution_count": 28,
   "metadata": {},
   "outputs": [
    {
     "name": "stdout",
     "output_type": "stream",
     "text": [
      "         L3_S32_F3854  L3_S35_F3899\n",
      "1167472             0             0\n",
      "257884              0             0\n",
      "499721              0             0\n",
      "200055              0             0\n",
      "777330              0             0\n",
      "1167472    0.0\n",
      "257884     0.0\n",
      "499721     0.0\n",
      "200055     0.0\n",
      "777330     0.0\n",
      "Name: Response, dtype: float64\n",
      "        L3_S32_F3854  L3_S35_F3899\n",
      "139214             0             0\n",
      "664500             0             0\n",
      "140448             0             0\n",
      "250441             0             0\n",
      "322956             0             0\n",
      "139214    0.0\n",
      "664500    0.0\n",
      "140448    0.0\n",
      "250441    0.0\n",
      "322956    0.0\n",
      "Name: Response, dtype: float64\n",
      "2018-07-15 16:20:39.330355 -> 2018-07-15 16:20:39.455299\n"
     ]
    }
   ],
   "source": [
    "from sklearn.model_selection import train_test_split\n",
    "\n",
    "start = datetime.now()\n",
    "\n",
    "## 教師データと訓練データに分離\n",
    "y = df['Response']\n",
    "X = X_pre\n",
    "\n",
    "## テストセットと訓練セットに分離\n",
    "X_train, X_test, y_train, y_test = train_test_split(X, y, test_size=0.33, random_state=1)\n",
    "print(X_train.head())\n",
    "print(y_train.head())\n",
    "\n",
    "print(X_test.head())\n",
    "print(y_test.head())\n",
    "\n",
    "print(\"{} -> {}\".format(start, datetime.now()))"
   ]
  },
  {
   "cell_type": "code",
   "execution_count": 29,
   "metadata": {},
   "outputs": [
    {
     "name": "stdout",
     "output_type": "stream",
     "text": [
      "(793110, 2)\n",
      "2018-07-15 16:20:45.768410 -> 2018-07-15 16:20:50.830694\n"
     ]
    }
   ],
   "source": [
    "## 学習\n",
    "import lightgbm as lgb\n",
    "\n",
    "start = datetime.now()\n",
    "\n",
    "clf = lgb.LGBMClassifier(metric='binary_log_loss', objective='binary', is_unbalanced=True, boosting_type='dart')\n",
    "clf.fit(X_train, y_train)\n",
    "print(X_train.shape)\n",
    "print(\"{} -> {}\".format(start, datetime.now()))"
   ]
  },
  {
   "cell_type": "code",
   "execution_count": 30,
   "metadata": {},
   "outputs": [
    {
     "name": "stderr",
     "output_type": "stream",
     "text": [
      "C:\\Users\\Takumi\\Anaconda3\\envs\\Kaggle\\lib\\site-packages\\sklearn\\metrics\\classification.py:538: RuntimeWarning: invalid value encountered in double_scalars\n",
      "  mcc = cov_ytyp / np.sqrt(cov_ytyt * cov_ypyp)\n"
     ]
    },
    {
     "name": "stdout",
     "output_type": "stream",
     "text": [
      "[0. 0. 0. ... 0. 0. 0.]\n",
      "[0.01177729 0.01177729 0.01177729 ... 0.01177729 0.01177729 0.01177729]\n",
      "matthews_corrcoef = [0.00053573 0.11974218 0.11974218 0.13388197 0.13613926 0.13613926\n",
      " 0.13613926 0.13613926 0.13613926 0.06495624 0.06350837 0.06350837\n",
      " 0.06350837 0.         0.         0.         0.         0.\n",
      " 0.         0.         0.         0.         0.         0.\n",
      " 0.         0.         0.         0.         0.         0.\n",
      " 0.         0.         0.         0.         0.         0.\n",
      " 0.         0.         0.         0.         0.         0.\n",
      " 0.         0.         0.         0.         0.         0.\n",
      " 0.         0.        ]\n",
      "best threshold = 0.09\n"
     ]
    },
    {
     "data": {
      "image/png": "[encoded data removed]",
      "text/plain": [
       "<Figure size 432x288 with 1 Axes>"
      ]
     },
     "metadata": {},
     "output_type": "display_data"
    }
   ],
   "source": [
    "from sklearn import metrics\n",
    "import matplotlib.pyplot as plt\n",
    "\n",
    "start = datetime.now()\n",
    "\n",
    "thresholds = np.linspace(0.01,0.99,50)\n",
    "y_pred = clf.predict_proba(X_test.values)[:,1]\n",
    "mcc = np.array([metrics.matthews_corrcoef(y_test.values, y_pred>thr) for thr in thresholds])\n",
    "plt.plot(thresholds, mcc)\n",
    "print(y_test.values)\n",
    "print(y_pred)\n",
    "print(\"matthews_corrcoef = {}\".format(mcc))\n",
    "df_pred = pd.DataFrame({'Response':y_pred})\n",
    "best_thr = thresholds[mcc.argmax()]\n",
    "print(\"best threshold = {}\".format(best_thr))"
   ]
  },
  {
   "cell_type": "code",
   "execution_count": 31,
   "metadata": {},
   "outputs": [
    {
     "name": "stdout",
     "output_type": "stream",
     "text": [
      "L3_S32_F3854:1559\n",
      "L3_S35_F3899:100\n",
      "2018-07-15 16:21:14.079109 -> 2018-07-15 16:21:14.079109\n"
     ]
    }
   ],
   "source": [
    "start = datetime.now()\n",
    "\n",
    "#特徴量重要度を表示\n",
    "for i in range(0, X_train.shape[1]):\n",
    "    if 0 < clf.feature_importances_[i]:\n",
    "        print(\"{}:{}\".format(X_train.columns[i], clf.feature_importances_[i]))\n",
    "print(\"{} -> {}\".format(start, datetime.now()))"
   ]
  },
  {
   "cell_type": "code",
   "execution_count": 32,
   "metadata": {},
   "outputs": [
    {
     "name": "stdout",
     "output_type": "stream",
     "text": [
      "2018-07-15 16:21:15.626293 -> 2018-07-15 16:21:23.205648\n"
     ]
    }
   ],
   "source": [
    "start = datetime.now()\n",
    "\n",
    "#全訓練データを用いて再学習\n",
    "clf.fit(X, y)\n",
    "print(\"{} -> {}\".format(start, datetime.now()))"
   ]
  },
  {
   "cell_type": "code",
   "execution_count": 33,
   "metadata": {},
   "outputs": [
    {
     "name": "stderr",
     "output_type": "stream",
     "text": [
      "C:\\Users\\Takumi\\Anaconda3\\envs\\Kaggle\\lib\\site-packages\\sklearn\\preprocessing\\label.py:151: DeprecationWarning: The truth value of an empty array is ambiguous. Returning False, but in future this will result in an error. Use `array.size > 0` to check that an array is not empty.\n",
      "  if diff:\n"
     ]
    },
    {
     "data": {
      "text/html": [
       "<div>\n",
       "<style scoped>\n",
       "    .dataframe tbody tr th:only-of-type {\n",
       "        vertical-align: middle;\n",
       "    }\n",
       "\n",
       "    .dataframe tbody tr th {\n",
       "        vertical-align: top;\n",
       "    }\n",
       "\n",
       "    .dataframe thead th {\n",
       "        text-align: right;\n",
       "    }\n",
       "</style>\n",
       "<table border=\"1\" class=\"dataframe\">\n",
       "  <thead>\n",
       "    <tr style=\"text-align: right;\">\n",
       "      <th></th>\n",
       "      <th>Id</th>\n",
       "      <th>Response</th>\n",
       "    </tr>\n",
       "  </thead>\n",
       "  <tbody>\n",
       "    <tr>\n",
       "      <th>0</th>\n",
       "      <td>1</td>\n",
       "      <td>False</td>\n",
       "    </tr>\n",
       "    <tr>\n",
       "      <th>1</th>\n",
       "      <td>2</td>\n",
       "      <td>False</td>\n",
       "    </tr>\n",
       "    <tr>\n",
       "      <th>2</th>\n",
       "      <td>3</td>\n",
       "      <td>False</td>\n",
       "    </tr>\n",
       "    <tr>\n",
       "      <th>3</th>\n",
       "      <td>5</td>\n",
       "      <td>False</td>\n",
       "    </tr>\n",
       "    <tr>\n",
       "      <th>4</th>\n",
       "      <td>8</td>\n",
       "      <td>False</td>\n",
       "    </tr>\n",
       "  </tbody>\n",
       "</table>\n",
       "</div>"
      ],
      "text/plain": [
       "   Id  Response\n",
       "0   1     False\n",
       "1   2     False\n",
       "2   3     False\n",
       "3   5     False\n",
       "4   8     False"
      ]
     },
     "execution_count": 33,
     "metadata": {},
     "output_type": "execute_result"
    }
   ],
   "source": [
    "start = datetime.now()\n",
    "#取得\n",
    "X_test = pd.read_csv(\"../from/test_cat_int_sub_miya.csv\")\n",
    "X_test_pre = X_test.drop('Id', axis=1)\n",
    "X_test_id = X_test.Id\n",
    "\n",
    "##予測\n",
    "ary_test_pred = clf.predict(X_test_pre.values)\n",
    "df_test_pred = pd.DataFrame({'Id':X_test_id.values, 'Response':ary_test_pred})\n",
    "\n",
    "df_test_pred['Response'] = df_test_pred.Response.astype('bool')\n",
    "df_test_pred.head()"
   ]
  },
  {
   "cell_type": "code",
   "execution_count": 34,
   "metadata": {},
   "outputs": [
    {
     "data": {
      "text/plain": [
       "array([0., 0., 0., ..., 0., 0., 0.])"
      ]
     },
     "execution_count": 34,
     "metadata": {},
     "output_type": "execute_result"
    }
   ],
   "source": [
    "ary_test_pred"
   ]
  },
  {
   "cell_type": "code",
   "execution_count": 35,
   "metadata": {},
   "outputs": [],
   "source": [
    "##CSV出力\n",
    "y_submit = df_test_pred\n",
    "type(y_submit)\n",
    "y_submit.to_csv(\"submit_cat_miya.csv\", columns=['Id', 'Response'], index=False)"
   ]
  },
  {
   "cell_type": "code",
   "execution_count": 36,
   "metadata": {},
   "outputs": [
    {
     "data": {
      "text/plain": [
       "0"
      ]
     },
     "execution_count": 36,
     "metadata": {},
     "output_type": "execute_result"
    }
   ],
   "source": [
    "y_submit.Response.sum()"
   ]
  },
  {
   "cell_type": "code",
   "execution_count": null,
   "metadata": {},
   "outputs": [],
   "source": []
  },
  {
   "cell_type": "code",
   "execution_count": null,
   "metadata": {},
   "outputs": [],
   "source": []
  },
  {
   "cell_type": "code",
   "execution_count": null,
   "metadata": {},
   "outputs": [],
   "source": []
  }
 ],
 "metadata": {
  "kernelspec": {
   "display_name": "Python 3",
   "language": "python",
   "name": "python3"
  },
  "language_info": {
   "codemirror_mode": {
    "name": "ipython",
    "version": 3
   },
   "file_extension": ".py",
   "mimetype": "text/x-python",
   "name": "python",
   "nbconvert_exporter": "python",
   "pygments_lexer": "ipython3",
   "version": "3.6.6"
  }
 },
 "nbformat": 4,
 "nbformat_minor": 2
}
